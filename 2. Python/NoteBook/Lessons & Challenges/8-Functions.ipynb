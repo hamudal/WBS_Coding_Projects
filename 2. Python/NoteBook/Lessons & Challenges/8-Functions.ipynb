{
 "cells": [
  {
   "cell_type": "markdown",
   "metadata": {
    "id": "m1F11KQNKhZk"
   },
   "source": [
    "## Functions"
   ]
  },
  {
   "cell_type": "markdown",
   "metadata": {
    "id": "KLzPMEttKhZn"
   },
   "source": [
    "Creating a function is super easy. Just follow these steps:\n",
    "\n",
    "- Start with the `def` statment.\n",
    "- Give your function a name and open parentheses.\n",
    "- Optional: write the names of your function's arguments between the parentheses.\n",
    "- Write the code that performs whatever you want to do between parentheses."
   ]
  },
  {
   "cell_type": "markdown",
   "metadata": {
    "id": "9uPHy4qZKhZo"
   },
   "source": [
    "#### Defining a function to divide 2 numbers:"
   ]
  },
  {
   "cell_type": "code",
   "execution_count": 2,
   "metadata": {
    "executionInfo": {
     "elapsed": 280,
     "status": "ok",
     "timestamp": 1670335381370,
     "user": {
      "displayName": "Hana Lacic",
      "userId": "03901848044717845615"
     },
     "user_tz": -60
    },
    "id": "wrZ5ejWoKhZo"
   },
   "outputs": [],
   "source": [
    "def division_func(numerator, denominator):\n",
    "  res = numerator / denominator\n",
    "  return res"
   ]
  },
  {
   "cell_type": "code",
   "execution_count": 20,
   "metadata": {
    "executionInfo": {
     "elapsed": 236,
     "status": "ok",
     "timestamp": 1670335872713,
     "user": {
      "displayName": "Hana Lacic",
      "userId": "03901848044717845615"
     },
     "user_tz": -60
    },
    "id": "MmbZ1W7hxnKf"
   },
   "outputs": [],
   "source": [
    "def division_func(numerator, denominator):\n",
    "  return numerator / denominator"
   ]
  },
  {
   "cell_type": "markdown",
   "metadata": {
    "id": "2Fcpl592KhZp"
   },
   "source": [
    "#### Calling the function\n",
    "\n",
    "Unless specified otherwise, arguments are passed in order"
   ]
  },
  {
   "cell_type": "code",
   "execution_count": 5,
   "metadata": {
    "colab": {
     "base_uri": "https://localhost:8080/"
    },
    "executionInfo": {
     "elapsed": 329,
     "status": "ok",
     "timestamp": 1670335434492,
     "user": {
      "displayName": "Hana Lacic",
      "userId": "03901848044717845615"
     },
     "user_tz": -60
    },
    "id": "qhAhmko3KhZq",
    "outputId": "9524c54d-9bc5-40cd-adfc-355a8d848045"
   },
   "outputs": [
    {
     "data": {
      "text/plain": [
       "0.5"
      ]
     },
     "execution_count": 5,
     "metadata": {},
     "output_type": "execute_result"
    }
   ],
   "source": [
    "division_func(2, 4)"
   ]
  },
  {
   "cell_type": "markdown",
   "metadata": {
    "id": "iIpAkjWjKhZr"
   },
   "source": [
    "You can switch the order of the arguments by being explicit with them:"
   ]
  },
  {
   "cell_type": "code",
   "execution_count": 6,
   "metadata": {
    "colab": {
     "base_uri": "https://localhost:8080/"
    },
    "executionInfo": {
     "elapsed": 18,
     "status": "ok",
     "timestamp": 1670335442423,
     "user": {
      "displayName": "Hana Lacic",
      "userId": "03901848044717845615"
     },
     "user_tz": -60
    },
    "id": "5ad_YFZqKhZr",
    "outputId": "788359ad-3fe5-4ab5-ebb0-bc604f94170a"
   },
   "outputs": [
    {
     "data": {
      "text/plain": [
       "2.0"
      ]
     },
     "execution_count": 6,
     "metadata": {},
     "output_type": "execute_result"
    }
   ],
   "source": [
    "division_func(numerator=4, \n",
    "              denominator=2)"
   ]
  },
  {
   "cell_type": "code",
   "execution_count": 7,
   "metadata": {
    "colab": {
     "base_uri": "https://localhost:8080/"
    },
    "executionInfo": {
     "elapsed": 24,
     "status": "ok",
     "timestamp": 1670335464285,
     "user": {
      "displayName": "Hana Lacic",
      "userId": "03901848044717845615"
     },
     "user_tz": -60
    },
    "id": "u_PVtIyTKhZs",
    "outputId": "30c9332b-08b5-4a6c-e3ec-cd25951e449d"
   },
   "outputs": [
    {
     "data": {
      "text/plain": [
       "2.0"
      ]
     },
     "execution_count": 7,
     "metadata": {},
     "output_type": "execute_result"
    }
   ],
   "source": [
    "division_func(denominator=2, \n",
    "              numerator=4)"
   ]
  },
  {
   "cell_type": "markdown",
   "metadata": {
    "id": "3OiLXfStKhZs"
   },
   "source": [
    "It might be ugly, but you can be explicit only with some of the arguments..."
   ]
  },
  {
   "cell_type": "code",
   "execution_count": 10,
   "metadata": {
    "colab": {
     "base_uri": "https://localhost:8080/"
    },
    "executionInfo": {
     "elapsed": 31,
     "status": "ok",
     "timestamp": 1670335534270,
     "user": {
      "displayName": "Hana Lacic",
      "userId": "03901848044717845615"
     },
     "user_tz": -60
    },
    "id": "3qa3Dw99KhZt",
    "outputId": "7fbc0836-058d-43e4-b121-1c443ed6b1f8"
   },
   "outputs": [
    {
     "data": {
      "text/plain": [
       "2.0"
      ]
     },
     "execution_count": 10,
     "metadata": {},
     "output_type": "execute_result"
    }
   ],
   "source": [
    "division_func(4, denominator=2)"
   ]
  },
  {
   "cell_type": "markdown",
   "metadata": {
    "id": "EXliPEymKhZt"
   },
   "source": [
    "Seting a default value for an argument is possible:"
   ]
  },
  {
   "cell_type": "code",
   "execution_count": 11,
   "metadata": {
    "executionInfo": {
     "elapsed": 273,
     "status": "ok",
     "timestamp": 1670335589516,
     "user": {
      "displayName": "Hana Lacic",
      "userId": "03901848044717845615"
     },
     "user_tz": -60
    },
    "id": "L_X5QkjTKhZt"
   },
   "outputs": [],
   "source": [
    "def division_func(numerator=4, denominator=2):\n",
    "    res = numerator / denominator\n",
    "    return res"
   ]
  },
  {
   "cell_type": "markdown",
   "metadata": {
    "id": "RtQqAP44KhZt"
   },
   "source": [
    "Whenever all arguments of a function have default values, you can call it without especifying them:"
   ]
  },
  {
   "cell_type": "code",
   "execution_count": 13,
   "metadata": {
    "colab": {
     "base_uri": "https://localhost:8080/"
    },
    "executionInfo": {
     "elapsed": 10,
     "status": "ok",
     "timestamp": 1670335614034,
     "user": {
      "displayName": "Hana Lacic",
      "userId": "03901848044717845615"
     },
     "user_tz": -60
    },
    "id": "6rvCcv1KKhZt",
    "outputId": "7c0e9a4e-95ce-4efb-d5d8-dd2ce8de18e5"
   },
   "outputs": [
    {
     "data": {
      "text/plain": [
       "1.0"
      ]
     },
     "execution_count": 13,
     "metadata": {},
     "output_type": "execute_result"
    }
   ],
   "source": [
    "division_func(2,2)"
   ]
  },
  {
   "cell_type": "markdown",
   "metadata": {
    "id": "EEXCDtiCKhZu"
   },
   "source": [
    "Arguments are not restricted to an object type (we never declare the types of variables, arguments or return values)"
   ]
  },
  {
   "cell_type": "code",
   "execution_count": 14,
   "metadata": {
    "executionInfo": {
     "elapsed": 7,
     "status": "ok",
     "timestamp": 1670335668290,
     "user": {
      "displayName": "Hana Lacic",
      "userId": "03901848044717845615"
     },
     "user_tz": -60
    },
    "id": "6haAmr_QKhZu"
   },
   "outputs": [],
   "source": [
    "def addition_func(element1=4, element2=2):\n",
    "    res = element1 + element2\n",
    "    return res"
   ]
  },
  {
   "cell_type": "code",
   "execution_count": 15,
   "metadata": {
    "colab": {
     "base_uri": "https://localhost:8080/"
    },
    "executionInfo": {
     "elapsed": 15,
     "status": "ok",
     "timestamp": 1670335670605,
     "user": {
      "displayName": "Hana Lacic",
      "userId": "03901848044717845615"
     },
     "user_tz": -60
    },
    "id": "NXQ_-qkvKhZu",
    "outputId": "8ca8d3d1-ce98-45b1-b925-2e094baf8ff4"
   },
   "outputs": [
    {
     "data": {
      "text/plain": [
       "6"
      ]
     },
     "execution_count": 15,
     "metadata": {},
     "output_type": "execute_result"
    }
   ],
   "source": [
    "addition_func(2, 4)"
   ]
  },
  {
   "cell_type": "code",
   "execution_count": 16,
   "metadata": {
    "colab": {
     "base_uri": "https://localhost:8080/",
     "height": 35
    },
    "executionInfo": {
     "elapsed": 524,
     "status": "ok",
     "timestamp": 1670335688190,
     "user": {
      "displayName": "Hana Lacic",
      "userId": "03901848044717845615"
     },
     "user_tz": -60
    },
    "id": "_p1kNUH8KhZu",
    "outputId": "40550dca-d18c-4f3d-9b1a-244f93a4baed"
   },
   "outputs": [
    {
     "data": {
      "application/vnd.google.colaboratory.intrinsic+json": {
       "type": "string"
      },
      "text/plain": [
       "'hellothere'"
      ]
     },
     "execution_count": 16,
     "metadata": {},
     "output_type": "execute_result"
    }
   ],
   "source": [
    "addition_func(\"hello\", \"there\")"
   ]
  },
  {
   "cell_type": "markdown",
   "metadata": {
    "id": "7Xemr03MKhZu"
   },
   "source": [
    "What if we really want to constrain this `addition_func` to only admit integers?"
   ]
  },
  {
   "cell_type": "markdown",
   "metadata": {
    "id": "Gbc_le89KhZv"
   },
   "source": [
    "Option 1: try to coerce inputs to integers:"
   ]
  },
  {
   "cell_type": "code",
   "execution_count": 17,
   "metadata": {
    "executionInfo": {
     "elapsed": 12,
     "status": "ok",
     "timestamp": 1670335752648,
     "user": {
      "displayName": "Hana Lacic",
      "userId": "03901848044717845615"
     },
     "user_tz": -60
    },
    "id": "nU0zcPrlKhZv"
   },
   "outputs": [],
   "source": [
    "def addition_func(element1=4, element2=2):\n",
    "    return int(element1)+int(element2)"
   ]
  },
  {
   "cell_type": "code",
   "execution_count": 18,
   "metadata": {
    "colab": {
     "base_uri": "https://localhost:8080/",
     "height": 235
    },
    "executionInfo": {
     "elapsed": 14,
     "status": "error",
     "timestamp": 1670335777790,
     "user": {
      "displayName": "Hana Lacic",
      "userId": "03901848044717845615"
     },
     "user_tz": -60
    },
    "id": "aAJGQ5iRxQMS",
    "outputId": "4a16de2c-a120-4828-924f-0cb687ff3705"
   },
   "outputs": [
    {
     "ename": "ValueError",
     "evalue": "ignored",
     "output_type": "error",
     "traceback": [
      "\u001b[0;31m---------------------------------------------------------------------------\u001b[0m",
      "\u001b[0;31mValueError\u001b[0m                                Traceback (most recent call last)",
      "\u001b[0;32m<ipython-input-18-8af6d906838d>\u001b[0m in \u001b[0;36m<module>\u001b[0;34m\u001b[0m\n\u001b[0;32m----> 1\u001b[0;31m \u001b[0maddition_func\u001b[0m\u001b[0;34m(\u001b[0m\u001b[0;34m'hello'\u001b[0m\u001b[0;34m,\u001b[0m\u001b[0;34m'world'\u001b[0m\u001b[0;34m)\u001b[0m\u001b[0;34m\u001b[0m\u001b[0;34m\u001b[0m\u001b[0m\n\u001b[0m",
      "\u001b[0;32m<ipython-input-17-fab27d04a214>\u001b[0m in \u001b[0;36maddition_func\u001b[0;34m(element1, element2)\u001b[0m\n\u001b[1;32m      1\u001b[0m \u001b[0;32mdef\u001b[0m \u001b[0maddition_func\u001b[0m\u001b[0;34m(\u001b[0m\u001b[0melement1\u001b[0m\u001b[0;34m=\u001b[0m\u001b[0;36m4\u001b[0m\u001b[0;34m,\u001b[0m \u001b[0melement2\u001b[0m\u001b[0;34m=\u001b[0m\u001b[0;36m2\u001b[0m\u001b[0;34m)\u001b[0m\u001b[0;34m:\u001b[0m\u001b[0;34m\u001b[0m\u001b[0;34m\u001b[0m\u001b[0m\n\u001b[0;32m----> 2\u001b[0;31m     \u001b[0;32mreturn\u001b[0m \u001b[0mint\u001b[0m\u001b[0;34m(\u001b[0m\u001b[0melement1\u001b[0m\u001b[0;34m)\u001b[0m\u001b[0;34m+\u001b[0m\u001b[0mint\u001b[0m\u001b[0;34m(\u001b[0m\u001b[0melement2\u001b[0m\u001b[0;34m)\u001b[0m\u001b[0;34m\u001b[0m\u001b[0;34m\u001b[0m\u001b[0m\n\u001b[0m",
      "\u001b[0;31mValueError\u001b[0m: invalid literal for int() with base 10: 'hello'"
     ]
    }
   ],
   "source": [
    "addition_func('hello','world')"
   ]
  },
  {
   "cell_type": "markdown",
   "metadata": {
    "id": "bPSv7X9VKhZv"
   },
   "source": [
    "Option 2: check for the `type` of the inputs:"
   ]
  },
  {
   "cell_type": "code",
   "execution_count": 19,
   "metadata": {
    "colab": {
     "base_uri": "https://localhost:8080/"
    },
    "executionInfo": {
     "elapsed": 262,
     "status": "ok",
     "timestamp": 1670335810701,
     "user": {
      "displayName": "Hana Lacic",
      "userId": "03901848044717845615"
     },
     "user_tz": -60
    },
    "id": "LSc8IBLrKhZv",
    "outputId": "c73989d8-ed26-413e-c763-73a69358e52e"
   },
   "outputs": [
    {
     "name": "stdout",
     "output_type": "stream",
     "text": [
      "16\n",
      "Are you out of your mind? Only integers allowed!\n"
     ]
    }
   ],
   "source": [
    "def product_integers(x, y):\n",
    "    if type(x) == int and type(y) == int:\n",
    "            return(x*y)\n",
    "    else:\n",
    "        return \"Are you out of your mind? Only integers allowed!\"\n",
    "\n",
    "print(product_integers(8, 2))\n",
    "print(product_integers(4, \"a\"))"
   ]
  },
  {
   "cell_type": "markdown",
   "metadata": {
    "id": "JxC_91r8KhZv"
   },
   "source": [
    "Testing for types is not a common practice. Embrace python's flexibility!"
   ]
  },
  {
   "cell_type": "markdown",
   "metadata": {
    "id": "LhCesmQtKhZv"
   },
   "source": [
    "The `return` statement allows us to store the output of the function in a variable:"
   ]
  },
  {
   "cell_type": "code",
   "execution_count": 26,
   "metadata": {
    "executionInfo": {
     "elapsed": 11,
     "status": "ok",
     "timestamp": 1670336091401,
     "user": {
      "displayName": "Hana Lacic",
      "userId": "03901848044717845615"
     },
     "user_tz": -60
    },
    "id": "YoMMy1k-KhZv"
   },
   "outputs": [],
   "source": [
    "def addition_func(element1=4, element2=2):\n",
    "    res = element1 + element2\n",
    "    return res"
   ]
  },
  {
   "cell_type": "code",
   "execution_count": 25,
   "metadata": {
    "executionInfo": {
     "elapsed": 7,
     "status": "ok",
     "timestamp": 1670336066748,
     "user": {
      "displayName": "Hana Lacic",
      "userId": "03901848044717845615"
     },
     "user_tz": -60
    },
    "id": "xmUa0ed_KhZw"
   },
   "outputs": [],
   "source": [
    "a = addition_func(2,3)"
   ]
  },
  {
   "cell_type": "code",
   "execution_count": 23,
   "metadata": {
    "colab": {
     "base_uri": "https://localhost:8080/"
    },
    "executionInfo": {
     "elapsed": 13,
     "status": "ok",
     "timestamp": 1670335915300,
     "user": {
      "displayName": "Hana Lacic",
      "userId": "03901848044717845615"
     },
     "user_tz": -60
    },
    "id": "joI6jYQNKhZw",
    "outputId": "e85ce1b4-2165-4a26-8019-6067bb5b3f78"
   },
   "outputs": [
    {
     "data": {
      "text/plain": [
       "5"
      ]
     },
     "execution_count": 23,
     "metadata": {},
     "output_type": "execute_result"
    }
   ],
   "source": [
    "a"
   ]
  },
  {
   "cell_type": "markdown",
   "metadata": {
    "id": "EUFzqfEFKhZw"
   },
   "source": [
    "What if we use print instead of return?\n",
    "\n",
    "> Indented block\n",
    "\n"
   ]
  },
  {
   "cell_type": "code",
   "execution_count": 36,
   "metadata": {
    "executionInfo": {
     "elapsed": 7,
     "status": "ok",
     "timestamp": 1670336280417,
     "user": {
      "displayName": "Hana Lacic",
      "userId": "03901848044717845615"
     },
     "user_tz": -60
    },
    "id": "Vr095lw4KhZw"
   },
   "outputs": [],
   "source": [
    "def addition_func(element1=4, element2=2):\n",
    "    res = element1 + element2"
   ]
  },
  {
   "cell_type": "code",
   "execution_count": 34,
   "metadata": {
    "colab": {
     "base_uri": "https://localhost:8080/"
    },
    "executionInfo": {
     "elapsed": 244,
     "status": "ok",
     "timestamp": 1670336253525,
     "user": {
      "displayName": "Hana Lacic",
      "userId": "03901848044717845615"
     },
     "user_tz": -60
    },
    "id": "JVHSfPMpylw0",
    "outputId": "2485de90-bf97-44fa-c44c-b38b64b4f34e"
   },
   "outputs": [
    {
     "name": "stdout",
     "output_type": "stream",
     "text": [
      "9\n",
      "None\n"
     ]
    }
   ],
   "source": [
    "print(addition_func(1,8))"
   ]
  },
  {
   "cell_type": "markdown",
   "metadata": {
    "id": "DQXcRO_-KhZw"
   },
   "source": [
    "It may look like the behaviour is the same... But the output gets printed when we are just trying to assign it to a variable:"
   ]
  },
  {
   "cell_type": "code",
   "execution_count": 37,
   "metadata": {
    "executionInfo": {
     "elapsed": 9,
     "status": "ok",
     "timestamp": 1670336280769,
     "user": {
      "displayName": "Hana Lacic",
      "userId": "03901848044717845615"
     },
     "user_tz": -60
    },
    "id": "KJvkF3iVKhZw"
   },
   "outputs": [],
   "source": [
    "b = addition_func(1,8)"
   ]
  },
  {
   "cell_type": "markdown",
   "metadata": {
    "id": "9V_3oOWwKhZw"
   },
   "source": [
    "And the variable has not actually stored the output:"
   ]
  },
  {
   "cell_type": "code",
   "execution_count": 38,
   "metadata": {
    "executionInfo": {
     "elapsed": 242,
     "status": "ok",
     "timestamp": 1670336285743,
     "user": {
      "displayName": "Hana Lacic",
      "userId": "03901848044717845615"
     },
     "user_tz": -60
    },
    "id": "yKvoNcd_KhZx"
   },
   "outputs": [],
   "source": [
    "b"
   ]
  },
  {
   "cell_type": "markdown",
   "metadata": {
    "id": "6j1pAfspKhZx"
   },
   "source": [
    "So, in general, use `return` in functions instead of `print()`!"
   ]
  },
  {
   "cell_type": "markdown",
   "metadata": {
    "id": "kQ-KBaxhKhZx"
   },
   "source": [
    "#### Exercises: "
   ]
  },
  {
   "cell_type": "markdown",
   "metadata": {
    "id": "Y6OVhUabKhZx"
   },
   "source": [
    "##### Build a function to filp coins. It should take as an argument how many coins to flip, and ouptut how many times the coin landed on heads.\n",
    "\n",
    "Hint: use the module `random` inside of your function!"
   ]
  },
  {
   "cell_type": "code",
   "execution_count": null,
   "metadata": {
    "id": "yOjFFzchKhZx"
   },
   "outputs": [],
   "source": [
    "# your code here"
   ]
  },
  {
   "cell_type": "markdown",
   "metadata": {
    "id": "JHbhGAAgKhZx"
   },
   "source": [
    "##### Build a function that takes as input a string and returns it reversed\n",
    "\n",
    "Extra challenge: try not to use any built in Python string method!"
   ]
  },
  {
   "cell_type": "code",
   "execution_count": null,
   "metadata": {
    "id": "CyVfhIvuKhZx"
   },
   "outputs": [],
   "source": [
    "# code here\n"
   ]
  },
  {
   "cell_type": "markdown",
   "metadata": {
    "id": "YBu20Uc5KhZx"
   },
   "source": [
    "Test your function:"
   ]
  },
  {
   "cell_type": "code",
   "execution_count": null,
   "metadata": {
    "id": "aCvx-pxxKhZx"
   },
   "outputs": [],
   "source": [
    "string_reverse(\"Abracadabra\")\n",
    "\n",
    "# expected output: 'arbadacarbA'"
   ]
  },
  {
   "cell_type": "markdown",
   "metadata": {
    "id": "58sWtafMKhZy"
   },
   "source": [
    "##### Build a function to return the intersection of two sets\n",
    "\n",
    "Find out more about Python sets here: https://www.w3schools.com/python/python_sets.asp "
   ]
  },
  {
   "cell_type": "code",
   "execution_count": null,
   "metadata": {
    "id": "nkopgxA4KhZy"
   },
   "outputs": [],
   "source": [
    "# Build a function to return the intersection of two sets\n",
    "# Code here:\n"
   ]
  },
  {
   "cell_type": "code",
   "execution_count": null,
   "metadata": {
    "id": "5nEi6xnNKhZy"
   },
   "outputs": [],
   "source": [
    "# test your function\n",
    "small_primes = (1, 2, 3, 5, 7, 11, 13)\n",
    "fibonacci = [0, 1, 1, 2, 3, 5, 8, 13]\n",
    "\n",
    "intersect(small_primes, fibonacci)\n",
    "\n",
    "# expected output: {1, 2, 3, 5, 13}"
   ]
  },
  {
   "cell_type": "code",
   "execution_count": null,
   "metadata": {
    "id": "6Ffq6J8uKhZy"
   },
   "outputs": [],
   "source": [
    "# Should work with strings as well\n",
    "plane = \"plane\"\n",
    "planet = \"planet\"\n",
    "\n",
    "intersect(plane, planet)\n",
    "# expected output: {\"a\", \"e\", \"l\", \"n\", \"p\"}"
   ]
  },
  {
   "cell_type": "markdown",
   "metadata": {
    "id": "liOTrexHKhZy"
   },
   "source": [
    "### Modules\n",
    "\n",
    "Convert this function into a module and import it from another notebook."
   ]
  },
  {
   "cell_type": "code",
   "execution_count": 40,
   "metadata": {
    "executionInfo": {
     "elapsed": 243,
     "status": "ok",
     "timestamp": 1670336529491,
     "user": {
      "displayName": "Hana Lacic",
      "userId": "03901848044717845615"
     },
     "user_tz": -60
    },
    "id": "vLtY5Q0dKhZy"
   },
   "outputs": [],
   "source": [
    "from data_12_function import minus"
   ]
  },
  {
   "cell_type": "code",
   "execution_count": 1,
   "metadata": {
    "executionInfo": {
     "elapsed": 4,
     "status": "ok",
     "timestamp": 1670336689295,
     "user": {
      "displayName": "Hana Lacic",
      "userId": "03901848044717845615"
     },
     "user_tz": -60
    },
    "id": "-xYW1MjP0QYW"
   },
   "outputs": [],
   "source": [
    "import data_12_function"
   ]
  },
  {
   "cell_type": "code",
   "execution_count": 43,
   "metadata": {
    "colab": {
     "base_uri": "https://localhost:8080/"
    },
    "executionInfo": {
     "elapsed": 18,
     "status": "ok",
     "timestamp": 1670336579958,
     "user": {
      "displayName": "Hana Lacic",
      "userId": "03901848044717845615"
     },
     "user_tz": -60
    },
    "id": "sFfY6Bpq0M-h",
    "outputId": "4f19711a-073d-4c38-daf2-8044a5b5ca12"
   },
   "outputs": [
    {
     "data": {
      "text/plain": [
       "2"
      ]
     },
     "execution_count": 43,
     "metadata": {},
     "output_type": "execute_result"
    }
   ],
   "source": [
    "data_12_function.minus(6,4)"
   ]
  },
  {
   "cell_type": "code",
   "execution_count": 2,
   "metadata": {
    "colab": {
     "base_uri": "https://localhost:8080/",
     "height": 35
    },
    "executionInfo": {
     "elapsed": 24,
     "status": "ok",
     "timestamp": 1670336689577,
     "user": {
      "displayName": "Hana Lacic",
      "userId": "03901848044717845615"
     },
     "user_tz": -60
    },
    "id": "Cx5zf4JL0nKl",
    "outputId": "a73a6d2d-5e3e-4188-c822-715a6753f83b"
   },
   "outputs": [
    {
     "data": {
      "application/vnd.google.colaboratory.intrinsic+json": {
       "type": "string"
      },
      "text/plain": [
       "'321fdg6546s5df4g5sfdghsdf654g6sfdg4fdghlfdg'"
      ]
     },
     "execution_count": 2,
     "metadata": {},
     "output_type": "execute_result"
    }
   ],
   "source": [
    "data_12_function.API_key"
   ]
  },
  {
   "cell_type": "markdown",
   "metadata": {
    "id": "AfD9in0JKhZy"
   },
   "source": [
    "### Bonus: Scopes\n",
    "\n",
    "Let's look again at the `addition function`:"
   ]
  },
  {
   "cell_type": "code",
   "execution_count": null,
   "metadata": {
    "id": "zEpiyQxKKhZy"
   },
   "outputs": [],
   "source": [
    "def addition_func(element1=4, element2=2):\n",
    "    res = element1 + element2\n",
    "    return res"
   ]
  },
  {
   "cell_type": "markdown",
   "metadata": {
    "id": "SUAowLTbKhZz"
   },
   "source": [
    "#### where's the variable `res`?\n",
    "\n",
    "It is a local variable: a name that is visible only to code inside the function def and that exists only while the function runs. \n",
    "\n",
    "When you use a name in a program, Python creates, changes, or looks up the name in what is known as a namespace —a place where names live. When we talk about the search for a name’s value in relation to code, the term scope refers to a namespace: that is, the location of a name’s assignment in your source code determines the scope of the name’s visibility to your code.\n",
    "\n",
    "The place where you assign a name in your source code determines the namespace it will live in, and hence its scope of visibility.\n",
    "\n",
    "- Names assigned inside a def can only be seen by the code within that def. You cannot even refer to such names from outside the function.\n",
    "\n",
    "- Names assigned inside a def do not clash with variables outside the def, even if the same names are used elsewhere. A name X assigned outside a given def (i.e., in a different def or at the top level of a module file) is a completely different variable from a name X assigned inside that def."
   ]
  },
  {
   "cell_type": "code",
   "execution_count": null,
   "metadata": {
    "id": "Uofb9BxuKhZz"
   },
   "outputs": [],
   "source": [
    "x = 1990\n",
    "\n",
    "def func():\n",
    "    x = 2020\n",
    "    print(x)"
   ]
  },
  {
   "cell_type": "code",
   "execution_count": null,
   "metadata": {
    "id": "8MWEcjOFKhZz"
   },
   "outputs": [],
   "source": [
    "func()"
   ]
  },
  {
   "cell_type": "code",
   "execution_count": null,
   "metadata": {
    "id": "oIGgQH4zKhZz"
   },
   "outputs": [],
   "source": [
    "x"
   ]
  },
  {
   "cell_type": "markdown",
   "metadata": {
    "id": "941hAmYzKhZ0"
   },
   "source": [
    "- If you need to assign a name that lives at the top level of the module enclosing the function, you can do so by declaring it in a global statement inside the function. \n",
    "\n",
    "- If you need to assign a name that lives in an enclosing def, as of Python 3.X you can do so by declaring it in a nonlocal statement."
   ]
  },
  {
   "cell_type": "markdown",
   "metadata": {
    "id": "D3x5_79tKhZ0"
   },
   "source": [
    "Type of assignment within a function classifies a name as local. This includes = statements, module names in import, function names in def, function argument names, and so on. If you assign a name in any way within a def, it will become a local to that function by default.\n",
    "\n",
    "In-place changes to objects do not classify names as locals; only actual name assignments do. \n",
    "\n",
    "For instance, if the name L is assigned to a list at the top level of a module, a statement L = X within a function will classify L as a local, but L.append(X) will not. In the latter case, we are changing the list object that L references, not L itself—L is found in the global scope as usual, and Python happily modifies it without requiring a global (or nonlocal) declaration. As usual, it helps to keep the distinction between names and objects clear: changing an object is not an assignment to a name."
   ]
  },
  {
   "cell_type": "code",
   "execution_count": null,
   "metadata": {
    "id": "tEjCdIPJKhZ0"
   },
   "outputs": [],
   "source": [
    "L = [1, 2, 3]\n",
    "\n",
    "def append4():\n",
    "    L.append(4)\n",
    "    return L\n",
    "\n",
    "append4()"
   ]
  },
  {
   "cell_type": "code",
   "execution_count": null,
   "metadata": {
    "id": "38i3oE9JKhZ1"
   },
   "outputs": [],
   "source": [
    "L"
   ]
  },
  {
   "cell_type": "code",
   "execution_count": null,
   "metadata": {
    "id": "V0STK6hgKhZ1"
   },
   "outputs": [],
   "source": [
    "L = [1, 2, 3]\n",
    "\n",
    "def transform_L_into_X():\n",
    "    X = \"This is X\"\n",
    "    L = X\n",
    "    return L\n",
    "\n",
    "transform_L_into_X()"
   ]
  },
  {
   "cell_type": "code",
   "execution_count": null,
   "metadata": {
    "id": "QpNyLq1sKhZ1"
   },
   "outputs": [],
   "source": [
    "L"
   ]
  },
  {
   "cell_type": "markdown",
   "metadata": {
    "id": "F2EgGqYwKhZ1"
   },
   "source": [
    "#### The global statement"
   ]
  },
  {
   "cell_type": "code",
   "execution_count": null,
   "metadata": {
    "id": "b0V8mYwbKhZ1"
   },
   "outputs": [],
   "source": [
    "X = 88                         # Global X\n",
    "\n",
    "def func():\n",
    "    global X\n",
    "    X = 99                     # Global X: outside def\n",
    "    print(X)\n",
    "\n",
    "func()"
   ]
  },
  {
   "cell_type": "code",
   "execution_count": null,
   "metadata": {
    "id": "uWB7RXzNKhZ1"
   },
   "outputs": [],
   "source": [
    "X"
   ]
  },
  {
   "cell_type": "markdown",
   "metadata": {
    "id": "dk4boxILKhZ2"
   },
   "source": [
    "Minimize globals! What is the value of x here? It depends on where you ask during running time, and that's confusing and prone to errors."
   ]
  },
  {
   "cell_type": "markdown",
   "metadata": {
    "id": "uC-rBzxKKhZ2"
   },
   "source": [
    "Some more tips for using functions:\n",
    "\n",
    "- each function should have a single, unified purpose.\n",
    "\n",
    "- each function should be relatively small"
   ]
  }
 ],
 "metadata": {
  "colab": {
   "collapsed_sections": [
    "kQ-KBaxhKhZx"
   ],
   "provenance": [
    {
     "file_id": "1IHbnHJzjieT-w8K9LGGCoAviayhRqV-v",
     "timestamp": 1669388236969
    }
   ]
  },
  "kernelspec": {
   "display_name": "Python 3 (ipykernel)",
   "language": "python",
   "name": "python3"
  },
  "language_info": {
   "codemirror_mode": {
    "name": "ipython",
    "version": 3
   },
   "file_extension": ".py",
   "mimetype": "text/x-python",
   "name": "python",
   "nbconvert_exporter": "python",
   "pygments_lexer": "ipython3",
   "version": "3.9.12"
  },
  "toc": {
   "base_numbering": 1,
   "nav_menu": {},
   "number_sections": true,
   "sideBar": true,
   "skip_h1_title": false,
   "title_cell": "Table of Contents",
   "title_sidebar": "Contents",
   "toc_cell": false,
   "toc_position": {},
   "toc_section_display": true,
   "toc_window_display": false
  },
  "varInspector": {
   "cols": {
    "lenName": 16,
    "lenType": 16,
    "lenVar": 40
   },
   "kernels_config": {
    "python": {
     "delete_cmd_postfix": "",
     "delete_cmd_prefix": "del ",
     "library": "var_list.py",
     "varRefreshCmd": "print(var_dic_list())"
    },
    "r": {
     "delete_cmd_postfix": ") ",
     "delete_cmd_prefix": "rm(",
     "library": "var_list.r",
     "varRefreshCmd": "cat(var_dic_list()) "
    }
   },
   "types_to_exclude": [
    "module",
    "function",
    "builtin_function_or_method",
    "instance",
    "_Feature"
   ],
   "window_display": false
  }
 },
 "nbformat": 4,
 "nbformat_minor": 4
}
