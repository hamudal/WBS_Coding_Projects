{
 "cells": [
  {
   "cell_type": "markdown",
   "metadata": {
    "id": "GG8cSDex9jqw"
   },
   "source": [
    "# Numbers and Strings\n",
    "\n",
    "In Python, like any other programming language and life in general, we _do things_ with _stuff_. Most of this course will focus on the things we do and how to do them. But today we will talk about the stuff.\n",
    "\n",
    "Almost everything in Python is an object. We will deal with numbers, text, lists, dictionaries... all of these things are different types of Python objects.\n",
    "\n",
    "The type of an object defines what can you do with it, and how will it behave. For example, you can add two numbers together, and as long as they are a type of python number, they will behave just as in maths: you will receive the product of the two numbers"
   ]
  },
  {
   "cell_type": "markdown",
   "metadata": {
    "id": "3sGGztmy9jqz"
   },
   "source": [
    "2 + 2"
   ]
  },
  {
   "cell_type": "code",
   "execution_count": null,
   "metadata": {
    "colab": {
     "base_uri": "https://localhost:8080/"
    },
    "executionInfo": {
     "elapsed": 1010,
     "status": "ok",
     "timestamp": 1669108009704,
     "user": {
      "displayName": "Hana Lacic",
      "userId": "03901848044717845615"
     },
     "user_tz": -60
    },
    "id": "dkBEuMtfc_Ix",
    "outputId": "db14c9a7-5640-43bf-d7aa-72e80dabc31a"
   },
   "outputs": [
    {
     "data": {
      "text/plain": [
       "4"
      ]
     },
     "execution_count": 4,
     "metadata": {},
     "output_type": "execute_result"
    }
   ],
   "source": [
    "2+2"
   ]
  },
  {
   "cell_type": "markdown",
   "metadata": {
    "id": "P--VHI4w9jq2"
   },
   "source": [
    "But if you try to sum two strings, the behaviour will be different:"
   ]
  },
  {
   "cell_type": "code",
   "execution_count": null,
   "metadata": {
    "colab": {
     "base_uri": "https://localhost:8080/",
     "height": 35
    },
    "executionInfo": {
     "elapsed": 771,
     "status": "ok",
     "timestamp": 1669108055116,
     "user": {
      "displayName": "Hana Lacic",
      "userId": "03901848044717845615"
     },
     "user_tz": -60
    },
    "id": "Vbnc7Kfh9jq3",
    "outputId": "6d424852-d0c7-4644-f1ef-b0745ab96586"
   },
   "outputs": [
    {
     "data": {
      "application/vnd.google.colaboratory.intrinsic+json": {
       "type": "string"
      },
      "text/plain": [
       "'22'"
      ]
     },
     "execution_count": 5,
     "metadata": {},
     "output_type": "execute_result"
    }
   ],
   "source": [
    "\"2\" + \"2\""
   ]
  },
  {
   "cell_type": "markdown",
   "metadata": {
    "id": "1vXMNDRA9jq3"
   },
   "source": [
    "Any object in Python can be assigned to a variable with the `=` operator. Variables are just names for objects - they're nicknames that allow us to identify or call our objects."
   ]
  },
  {
   "cell_type": "code",
   "execution_count": null,
   "metadata": {
    "colab": {
     "base_uri": "https://localhost:8080/"
    },
    "executionInfo": {
     "elapsed": 1055,
     "status": "ok",
     "timestamp": 1669108265248,
     "user": {
      "displayName": "Hana Lacic",
      "userId": "03901848044717845615"
     },
     "user_tz": -60
    },
    "id": "_580VfMW9jq4",
    "outputId": "7cff280f-a00f-4a24-e06b-1d864a442ff5"
   },
   "outputs": [
    {
     "data": {
      "text/plain": [
       "7"
      ]
     },
     "execution_count": 14,
     "metadata": {},
     "output_type": "execute_result"
    }
   ],
   "source": [
    "result = 4 + 3\n",
    "result"
   ]
  },
  {
   "cell_type": "markdown",
   "metadata": {
    "id": "gMrCtWGE9jq4"
   },
   "source": [
    "At any point, we can retrieve whatever we stored in a variable by using its name:"
   ]
  },
  {
   "cell_type": "code",
   "execution_count": null,
   "metadata": {
    "colab": {
     "base_uri": "https://localhost:8080/"
    },
    "executionInfo": {
     "elapsed": 8,
     "status": "ok",
     "timestamp": 1669108328109,
     "user": {
      "displayName": "Hana Lacic",
      "userId": "03901848044717845615"
     },
     "user_tz": -60
    },
    "id": "AaWJYeHW9jq5",
    "outputId": "82f0888d-c68d-4b24-d84f-71a2cf5f8434"
   },
   "outputs": [
    {
     "name": "stdout",
     "output_type": "stream",
     "text": [
      "7\n"
     ]
    }
   ],
   "source": [
    "# https://cs.stanford.edu/people/nick/py/python-print.html\n",
    "\n",
    "\n",
    "print(result)\n"
   ]
  },
  {
   "cell_type": "markdown",
   "metadata": {
    "id": "-xH_7viN9jq5"
   },
   "source": [
    "If we want to find out what type of object a variable is, we can ask it with the function `type()`, like this:"
   ]
  },
  {
   "cell_type": "code",
   "execution_count": null,
   "metadata": {
    "colab": {
     "base_uri": "https://localhost:8080/"
    },
    "executionInfo": {
     "elapsed": 517,
     "status": "ok",
     "timestamp": 1669108552606,
     "user": {
      "displayName": "Hana Lacic",
      "userId": "03901848044717845615"
     },
     "user_tz": -60
    },
    "id": "gU3ZbrAk9jq6",
    "outputId": "42d2df79-ce1d-4da2-e96a-f7548194aa24"
   },
   "outputs": [
    {
     "data": {
      "text/plain": [
       "int"
      ]
     },
     "execution_count": 22,
     "metadata": {},
     "output_type": "execute_result"
    }
   ],
   "source": [
    "# https://www.programiz.com/python-programming/methods/built-in/type\n",
    "\n",
    "type(result)"
   ]
  },
  {
   "cell_type": "markdown",
   "metadata": {
    "id": "e3r8xQc-9jq6"
   },
   "source": [
    "###### **Exercise 1:**\n",
    "add `100` and `3.4`. Assign it to the variable `addition`. Print the type of that variable."
   ]
  },
  {
   "cell_type": "code",
   "execution_count": 2,
   "metadata": {
    "colab": {
     "base_uri": "https://localhost:8080/"
    },
    "executionInfo": {
     "elapsed": 10,
     "status": "ok",
     "timestamp": 1669122476622,
     "user": {
      "displayName": "Hana Lacic",
      "userId": "03901848044717845615"
     },
     "user_tz": -60
    },
    "id": "MC6QjWi29jq6",
    "outputId": "5eed8a36-45f4-4318-9d44-39de26dff1be"
   },
   "outputs": [
    {
     "name": "stdout",
     "output_type": "stream",
     "text": [
      "<class 'float'>\n"
     ]
    }
   ],
   "source": [
    "addition = 100 + 3.4\n",
    "print(type(addition))"
   ]
  },
  {
   "cell_type": "markdown",
   "metadata": {
    "id": "uBveabbD9jq7"
   },
   "source": [
    "## Booleans\n",
    "\n",
    "The values `True` and `False` are special in Python. They are called \"booleans\"."
   ]
  },
  {
   "cell_type": "code",
   "execution_count": null,
   "metadata": {
    "colab": {
     "base_uri": "https://localhost:8080/"
    },
    "executionInfo": {
     "elapsed": 520,
     "status": "ok",
     "timestamp": 1669108587939,
     "user": {
      "displayName": "Hana Lacic",
      "userId": "03901848044717845615"
     },
     "user_tz": -60
    },
    "id": "cAlYm9kJ9jq7",
    "outputId": "ba6021a7-9120-468e-ce54-4d286b444ae7"
   },
   "outputs": [
    {
     "data": {
      "text/plain": [
       "bool"
      ]
     },
     "execution_count": 23,
     "metadata": {},
     "output_type": "execute_result"
    }
   ],
   "source": [
    "type(True)"
   ]
  },
  {
   "cell_type": "code",
   "execution_count": null,
   "metadata": {
    "colab": {
     "base_uri": "https://localhost:8080/"
    },
    "executionInfo": {
     "elapsed": 5,
     "status": "ok",
     "timestamp": 1669108590691,
     "user": {
      "displayName": "Hana Lacic",
      "userId": "03901848044717845615"
     },
     "user_tz": -60
    },
    "id": "AXToyxAt9jq7",
    "outputId": "4e0058ef-e7bf-4018-9982-6b38efa9fc08"
   },
   "outputs": [
    {
     "data": {
      "text/plain": [
       "bool"
      ]
     },
     "execution_count": 24,
     "metadata": {},
     "output_type": "execute_result"
    }
   ],
   "source": [
    "type(False)"
   ]
  },
  {
   "cell_type": "markdown",
   "metadata": {
    "id": "J1Ltqfls9jq7"
   },
   "source": [
    "If you try to use mathematical operations with booleans, will see how `True` equates to `1` and `False` equates to `0`\n"
   ]
  },
  {
   "cell_type": "code",
   "execution_count": null,
   "metadata": {
    "colab": {
     "base_uri": "https://localhost:8080/"
    },
    "executionInfo": {
     "elapsed": 903,
     "status": "ok",
     "timestamp": 1669108618889,
     "user": {
      "displayName": "Hana Lacic",
      "userId": "03901848044717845615"
     },
     "user_tz": -60
    },
    "id": "mwsFtaDZ9jq8",
    "outputId": "54efdf55-d40f-4077-e8c1-cecdddf34a59"
   },
   "outputs": [
    {
     "data": {
      "text/plain": [
       "2"
      ]
     },
     "execution_count": 25,
     "metadata": {},
     "output_type": "execute_result"
    }
   ],
   "source": [
    "True + True"
   ]
  },
  {
   "cell_type": "code",
   "execution_count": null,
   "metadata": {
    "colab": {
     "base_uri": "https://localhost:8080/"
    },
    "executionInfo": {
     "elapsed": 10,
     "status": "ok",
     "timestamp": 1669108621609,
     "user": {
      "displayName": "Hana Lacic",
      "userId": "03901848044717845615"
     },
     "user_tz": -60
    },
    "id": "HhT2fJJJ9jq8",
    "outputId": "a9604e98-4785-4233-9764-1c3b6204bfdb"
   },
   "outputs": [
    {
     "data": {
      "text/plain": [
       "0"
      ]
     },
     "execution_count": 26,
     "metadata": {},
     "output_type": "execute_result"
    }
   ],
   "source": [
    "False + False"
   ]
  },
  {
   "cell_type": "markdown",
   "metadata": {
    "id": "mIrc9DDk9jq8"
   },
   "source": [
    "## Integers\n",
    "\n",
    "Integers are whole numbers (without fractions or decimal points) that can be positive or negative."
   ]
  },
  {
   "cell_type": "code",
   "execution_count": null,
   "metadata": {
    "colab": {
     "base_uri": "https://localhost:8080/"
    },
    "executionInfo": {
     "elapsed": 765,
     "status": "ok",
     "timestamp": 1669108646149,
     "user": {
      "displayName": "Hana Lacic",
      "userId": "03901848044717845615"
     },
     "user_tz": -60
    },
    "id": "mLef5s7O9jq8",
    "outputId": "e4f2592c-e75f-4fd9-be35-d6592cfbaeea"
   },
   "outputs": [
    {
     "data": {
      "text/plain": [
       "int"
      ]
     },
     "execution_count": 27,
     "metadata": {},
     "output_type": "execute_result"
    }
   ],
   "source": [
    "type(-8)"
   ]
  },
  {
   "cell_type": "markdown",
   "metadata": {
    "id": "TGTFBWwS9jq9"
   },
   "source": [
    "You can use mathmatical operators with integers (and floats):\n",
    "\n",
    "- `+` Addition\n",
    "- `-` Substraction\n",
    "- `*` Multiplication\n",
    "- `/` Floating-point division\n",
    "- `//` Truncating division\n",
    "- `%` Modulus\n",
    "- `**` Exponentiation"
   ]
  },
  {
   "cell_type": "markdown",
   "metadata": {
    "id": "RdTqurnS9jq9"
   },
   "source": [
    "###### **Exercise 2:**\n",
    "assign the number corresponding to the present year to the variable `year` and your age to the variable `age`. Operate with both variables to create a new variable called `birth_year`."
   ]
  },
  {
   "cell_type": "code",
   "execution_count": 3,
   "metadata": {
    "colab": {
     "base_uri": "https://localhost:8080/"
    },
    "executionInfo": {
     "elapsed": 9,
     "status": "ok",
     "timestamp": 1669122561581,
     "user": {
      "displayName": "Hana Lacic",
      "userId": "03901848044717845615"
     },
     "user_tz": -60
    },
    "id": "LWxyFfCj9jq9",
    "outputId": "c8d74b1a-b49e-459a-bdd9-2e7e5ba02597"
   },
   "outputs": [
    {
     "name": "stdout",
     "output_type": "stream",
     "text": [
      "1986\n"
     ]
    }
   ],
   "source": [
    "year = 2022\n",
    "age = 36\n",
    "birth_year = year - age\n",
    "print(birth_year)"
   ]
  },
  {
   "cell_type": "markdown",
   "metadata": {
    "id": "9HB_1T5j9jq9"
   },
   "source": [
    "You can update the value of a variable like this:"
   ]
  },
  {
   "cell_type": "code",
   "execution_count": null,
   "metadata": {
    "colab": {
     "base_uri": "https://localhost:8080/"
    },
    "executionInfo": {
     "elapsed": 22,
     "status": "ok",
     "timestamp": 1656925033624,
     "user": {
      "displayName": "Ben Elvin",
      "userId": "09111547648527423041"
     },
     "user_tz": -120
    },
    "id": "hexmreCK9jq9",
    "outputId": "917f35a4-06ee-4495-c926-33a7a5956a91"
   },
   "outputs": [
    {
     "name": "stdout",
     "output_type": "stream",
     "text": [
      "31\n"
     ]
    }
   ],
   "source": [
    "age = 30\n",
    "age = age + 1\n",
    "print(age)"
   ]
  },
  {
   "cell_type": "markdown",
   "metadata": {
    "id": "fOg2IqIi9jq-"
   },
   "source": [
    "Or you can get the same output by combining both arithmetic operators like this:"
   ]
  },
  {
   "cell_type": "code",
   "execution_count": null,
   "metadata": {
    "colab": {
     "base_uri": "https://localhost:8080/"
    },
    "executionInfo": {
     "elapsed": 18,
     "status": "ok",
     "timestamp": 1656925033624,
     "user": {
      "displayName": "Ben Elvin",
      "userId": "09111547648527423041"
     },
     "user_tz": -120
    },
    "id": "sYAzFGxI9jq-",
    "outputId": "fa355bb9-996f-4ae8-8988-017cf06d483b"
   },
   "outputs": [
    {
     "name": "stdout",
     "output_type": "stream",
     "text": [
      "31\n"
     ]
    }
   ],
   "source": [
    "age = 30\n",
    "age += 20\n",
    "print(age)"
   ]
  },
  {
   "cell_type": "markdown",
   "metadata": {
    "id": "1jGUon5V9jq-"
   },
   "source": [
    "The same holds for other mathmatical operators\n",
    "\n",
    "###### **Exercise 3:**\n",
    "create a variable called `price` with the value `100`. Then update its value in a single line by multiplying it by `2`."
   ]
  },
  {
   "cell_type": "code",
   "execution_count": 4,
   "metadata": {
    "colab": {
     "base_uri": "https://localhost:8080/"
    },
    "executionInfo": {
     "elapsed": 7,
     "status": "ok",
     "timestamp": 1669122716089,
     "user": {
      "displayName": "Hana Lacic",
      "userId": "03901848044717845615"
     },
     "user_tz": -60
    },
    "id": "y18avwiY9jq-",
    "outputId": "946bdff5-a772-411c-903f-94cb032ba421"
   },
   "outputs": [
    {
     "name": "stdout",
     "output_type": "stream",
     "text": [
      "200\n"
     ]
    }
   ],
   "source": [
    "price = 100\n",
    "price *= 2\n",
    "print(price)"
   ]
  },
  {
   "cell_type": "markdown",
   "metadata": {
    "id": "2GvpaJ819jq_"
   },
   "source": [
    "You can convert stuff that's not an integer to an integer with the function `int`:"
   ]
  },
  {
   "cell_type": "code",
   "execution_count": null,
   "metadata": {
    "colab": {
     "base_uri": "https://localhost:8080/"
    },
    "executionInfo": {
     "elapsed": 14,
     "status": "ok",
     "timestamp": 1656925033625,
     "user": {
      "displayName": "Ben Elvin",
      "userId": "09111547648527423041"
     },
     "user_tz": -120
    },
    "id": "cwre3wND9jq_",
    "outputId": "b5a99390-1288-4476-cdb6-f915b92479a5"
   },
   "outputs": [
    {
     "data": {
      "text/plain": [
       "3"
      ]
     },
     "execution_count": 16,
     "metadata": {},
     "output_type": "execute_result"
    }
   ],
   "source": [
    "# https://www.w3schools.com/python/ref_func_int.asp\n",
    "\n",
    "int(3.14)"
   ]
  },
  {
   "cell_type": "code",
   "execution_count": null,
   "metadata": {
    "colab": {
     "base_uri": "https://localhost:8080/"
    },
    "executionInfo": {
     "elapsed": 435,
     "status": "ok",
     "timestamp": 1656925034048,
     "user": {
      "displayName": "Ben Elvin",
      "userId": "09111547648527423041"
     },
     "user_tz": -120
    },
    "id": "oZTt6ynH9jrA",
    "outputId": "f1bba3ec-386a-4774-ed7b-f52324f57ac9"
   },
   "outputs": [
    {
     "data": {
      "text/plain": [
       "4"
      ]
     },
     "execution_count": 17,
     "metadata": {},
     "output_type": "execute_result"
    }
   ],
   "source": [
    "int(\"4\")"
   ]
  },
  {
   "cell_type": "markdown",
   "metadata": {
    "id": "npt0J-8m9jrA"
   },
   "source": [
    "If you try to convert to an integer something that cannot be interpreted as such, you will get an *exception*:"
   ]
  },
  {
   "cell_type": "code",
   "execution_count": null,
   "metadata": {
    "colab": {
     "base_uri": "https://localhost:8080/",
     "height": 165
    },
    "executionInfo": {
     "elapsed": 39,
     "status": "error",
     "timestamp": 1656925034063,
     "user": {
      "displayName": "Ben Elvin",
      "userId": "09111547648527423041"
     },
     "user_tz": -120
    },
    "id": "uQ4cUvAu9jrA",
    "outputId": "301e1c66-f1f5-43c5-ccdc-772114bd35ae"
   },
   "outputs": [
    {
     "ename": "ValueError",
     "evalue": "ignored",
     "output_type": "error",
     "traceback": [
      "\u001b[0;31m---------------------------------------------------------------------------\u001b[0m",
      "\u001b[0;31mValueError\u001b[0m                                Traceback (most recent call last)",
      "\u001b[0;32m<ipython-input-18-159e72cb0883>\u001b[0m in \u001b[0;36m<module>\u001b[0;34m()\u001b[0m\n\u001b[0;32m----> 1\u001b[0;31m \u001b[0mint\u001b[0m\u001b[0;34m(\u001b[0m\u001b[0;34m\"Hey hey hey\"\u001b[0m\u001b[0;34m)\u001b[0m\u001b[0;34m\u001b[0m\u001b[0;34m\u001b[0m\u001b[0m\n\u001b[0m",
      "\u001b[0;31mValueError\u001b[0m: invalid literal for int() with base 10: 'Hey hey hey'"
     ]
    }
   ],
   "source": [
    "int(\"Hey hey hey\")"
   ]
  },
  {
   "cell_type": "markdown",
   "metadata": {
    "id": "79CbyD_G9jrA"
   },
   "source": [
    "## Floats\n",
    "\n",
    "Floats are numbers with decimal places"
   ]
  },
  {
   "cell_type": "code",
   "execution_count": null,
   "metadata": {
    "colab": {
     "base_uri": "https://localhost:8080/"
    },
    "executionInfo": {
     "elapsed": 7,
     "status": "ok",
     "timestamp": 1669108692816,
     "user": {
      "displayName": "Hana Lacic",
      "userId": "03901848044717845615"
     },
     "user_tz": -60
    },
    "id": "cprwKJOd9jrA",
    "outputId": "b7c7242c-2991-4b9c-8f67-7028f499c6f2"
   },
   "outputs": [
    {
     "data": {
      "text/plain": [
       "float"
      ]
     },
     "execution_count": 35,
     "metadata": {},
     "output_type": "execute_result"
    }
   ],
   "source": [
    "type(3.)"
   ]
  },
  {
   "cell_type": "markdown",
   "metadata": {
    "id": "n87g1nka9jrA"
   },
   "source": [
    "They can include the letter e for an exponent:"
   ]
  },
  {
   "cell_type": "code",
   "execution_count": null,
   "metadata": {
    "colab": {
     "base_uri": "https://localhost:8080/"
    },
    "executionInfo": {
     "elapsed": 27,
     "status": "ok",
     "timestamp": 1669108674560,
     "user": {
      "displayName": "Hana Lacic",
      "userId": "03901848044717845615"
     },
     "user_tz": -60
    },
    "id": "EVKKC8s_9jrA",
    "outputId": "d470b678-e8b3-460a-edd2-6275ec685540"
   },
   "outputs": [
    {
     "data": {
      "text/plain": [
       "300.0"
      ]
     },
     "execution_count": 29,
     "metadata": {},
     "output_type": "execute_result"
    }
   ],
   "source": [
    "3e2"
   ]
  },
  {
   "cell_type": "markdown",
   "metadata": {
    "id": "br3KdAjT9jrA"
   },
   "source": [
    "The function `float()` can be used to convert integers to floats:"
   ]
  },
  {
   "cell_type": "code",
   "execution_count": null,
   "metadata": {
    "colab": {
     "base_uri": "https://localhost:8080/"
    },
    "executionInfo": {
     "elapsed": 17,
     "status": "ok",
     "timestamp": 1669108759993,
     "user": {
      "displayName": "Hana Lacic",
      "userId": "03901848044717845615"
     },
     "user_tz": -60
    },
    "id": "ySxvm6mG9jrB",
    "outputId": "1012a00c-b744-498e-af2c-d2fdd6a4ae59"
   },
   "outputs": [
    {
     "data": {
      "text/plain": [
       "24.0"
      ]
     },
     "execution_count": 38,
     "metadata": {},
     "output_type": "execute_result"
    }
   ],
   "source": [
    "float(24)"
   ]
  },
  {
   "cell_type": "markdown",
   "metadata": {
    "id": "x3cL_XwlJtis"
   },
   "source": [
    "###### **Exercise 4:**\n",
    "calculate how many seconds are there in a year. Store that number in a variable called `year_seconds`."
   ]
  },
  {
   "cell_type": "code",
   "execution_count": 5,
   "metadata": {
    "colab": {
     "base_uri": "https://localhost:8080/"
    },
    "executionInfo": {
     "elapsed": 12,
     "status": "ok",
     "timestamp": 1669122840811,
     "user": {
      "displayName": "Hana Lacic",
      "userId": "03901848044717845615"
     },
     "user_tz": -60
    },
    "id": "QkoVq44S9jrB",
    "outputId": "079e9ab8-200a-442a-e29a-92b8b28921eb"
   },
   "outputs": [
    {
     "name": "stdout",
     "output_type": "stream",
     "text": [
      "31557600.0\n"
     ]
    }
   ],
   "source": [
    "year_seconds = 365.25 * 24 * 60 * 60\n",
    "print(year_seconds) "
   ]
  },
  {
   "cell_type": "markdown",
   "metadata": {
    "id": "v9Dlk7OdJ2Ba"
   },
   "source": [
    "###### **Exercise 5:**\n",
    "multiply your result of year_seconds by your age, and store it in a new variable called `life_seconds`."
   ]
  },
  {
   "cell_type": "code",
   "execution_count": 7,
   "metadata": {
    "colab": {
     "base_uri": "https://localhost:8080/"
    },
    "executionInfo": {
     "elapsed": 5,
     "status": "ok",
     "timestamp": 1669122879594,
     "user": {
      "displayName": "Hana Lacic",
      "userId": "03901848044717845615"
     },
     "user_tz": -60
    },
    "id": "AfdghPiM9jrB",
    "outputId": "e46c51dc-4bf8-4251-bbb8-88797ce31fa2"
   },
   "outputs": [
    {
     "name": "stdout",
     "output_type": "stream",
     "text": [
      "1072958400.0\n"
     ]
    }
   ],
   "source": [
    "life_seconds = year_seconds * 34\n",
    "print(life_seconds)"
   ]
  },
  {
   "cell_type": "markdown",
   "metadata": {
    "id": "nxQ4KIn9KGCC"
   },
   "source": [
    "###### **Exercise 6:**\n",
    "calculate how many seconds you'll spend in this bootcamp. Store it into a variable called `bootcamp`."
   ]
  },
  {
   "cell_type": "code",
   "execution_count": 8,
   "metadata": {
    "colab": {
     "base_uri": "https://localhost:8080/"
    },
    "executionInfo": {
     "elapsed": 535,
     "status": "ok",
     "timestamp": 1669122956217,
     "user": {
      "displayName": "Hana Lacic",
      "userId": "03901848044717845615"
     },
     "user_tz": -60
    },
    "id": "sXlpbvbD9jrB",
    "outputId": "35e6d3e3-4874-42f7-8e36-116b2d09b4a8"
   },
   "outputs": [
    {
     "name": "stdout",
     "output_type": "stream",
     "text": [
      "2160000\n"
     ]
    }
   ],
   "source": [
    "bootcamp = 60 * 60 * 40 * 15\n",
    "print(bootcamp) "
   ]
  },
  {
   "cell_type": "markdown",
   "metadata": {
    "id": "d_1eFshnKdXw"
   },
   "source": [
    "###### **Exercise 7:**\n",
    "calculate what percentage of your life you will spend on this bootcamp."
   ]
  },
  {
   "cell_type": "code",
   "execution_count": 11,
   "metadata": {
    "colab": {
     "base_uri": "https://localhost:8080/"
    },
    "executionInfo": {
     "elapsed": 22,
     "status": "ok",
     "timestamp": 1669123226822,
     "user": {
      "displayName": "Hana Lacic",
      "userId": "03901848044717845615"
     },
     "user_tz": -60
    },
    "id": "vkv5XOWp9jrB",
    "outputId": "e98f2840-8f13-4043-e7ed-7d9b737bc95c"
   },
   "outputs": [
    {
     "name": "stdout",
     "output_type": "stream",
     "text": [
      "We will spend 0.2% in this bootcamp\n"
     ]
    }
   ],
   "source": [
    "life_bootcamp_balance = (bootcamp/ life_seconds)* 100\n",
    "print(f'We will spend {round(life_bootcamp_balance,2)}% in this bootcamp')"
   ]
  },
  {
   "cell_type": "markdown",
   "metadata": {
    "id": "SJAbW5In9jrB"
   },
   "source": [
    "## Text Strings\n",
    "\n",
    "You will use text just as much as numbers when programming. Strings are created with either single quotes `'` or double quotes `\"`:"
   ]
  },
  {
   "cell_type": "code",
   "execution_count": null,
   "metadata": {
    "colab": {
     "base_uri": "https://localhost:8080/"
    },
    "executionInfo": {
     "elapsed": 7,
     "status": "ok",
     "timestamp": 1669108841141,
     "user": {
      "displayName": "Hana Lacic",
      "userId": "03901848044717845615"
     },
     "user_tz": -60
    },
    "id": "Rxgolhes9jrB",
    "outputId": "42474603-e420-4e1f-eae6-196761df8af8"
   },
   "outputs": [
    {
     "name": "stdout",
     "output_type": "stream",
     "text": [
      "<class 'str'>\n",
      "A string with single quotes\n"
     ]
    }
   ],
   "source": [
    "print(type(\"A string with double quotes\"))\n",
    "\n",
    "print('A string with single quotes')"
   ]
  },
  {
   "cell_type": "markdown",
   "metadata": {
    "id": "liAc8o259jrC"
   },
   "source": [
    "Having two possible quotation signs allows for having strings with quotes inside:"
   ]
  },
  {
   "cell_type": "code",
   "execution_count": null,
   "metadata": {
    "colab": {
     "base_uri": "https://localhost:8080/"
    },
    "executionInfo": {
     "elapsed": 942,
     "status": "ok",
     "timestamp": 1669108945907,
     "user": {
      "displayName": "Hana Lacic",
      "userId": "03901848044717845615"
     },
     "user_tz": -60
    },
    "id": "B9HZT5E99jrC",
    "outputId": "768f2184-6e16-4caf-a923-1a8dd02abd46"
   },
   "outputs": [
    {
     "name": "stdout",
     "output_type": "stream",
     "text": [
      "The name of our school is 'WBS CODING SCHOOL', which can be abbreviated to 'WBSCS'\n",
      "The name of our school is \"WBS CODING SCHOOL\", which can be abbreviated to \"WBSCS\"\n"
     ]
    }
   ],
   "source": [
    "print(\"The name of our school is 'WBS CODING SCHOOL', which can be abbreviated to 'WBSCS'\")\n",
    "\n",
    "print('The name of our school is \"WBS CODING SCHOOL\", which can be abbreviated to \"WBSCS\"')"
   ]
  },
  {
   "cell_type": "markdown",
   "metadata": {
    "id": "tGDtyD1S9jrC"
   },
   "source": [
    "If you need to create a multiple-line string, you can use triple quotes:"
   ]
  },
  {
   "cell_type": "code",
   "execution_count": null,
   "metadata": {
    "colab": {
     "base_uri": "https://localhost:8080/"
    },
    "executionInfo": {
     "elapsed": 1108,
     "status": "ok",
     "timestamp": 1669109121229,
     "user": {
      "displayName": "Hana Lacic",
      "userId": "03901848044717845615"
     },
     "user_tz": -60
    },
    "id": "OggB9_6q9jrC",
    "outputId": "5ebbbc2a-ef61-46d4-b37e-e7ad6d374aab"
   },
   "outputs": [
    {
     "name": "stdout",
     "output_type": "stream",
     "text": [
      "Hold fast to dreams\n",
      "For if dreams die\n",
      "Life is a broken-winged bird\n",
      "That cannot fly.\n",
      "Hold fast to dreams\n",
      "For when dreams go\n",
      "Life is a barren field\n",
      "Frozen with snow.\n"
     ]
    }
   ],
   "source": [
    "poem = \"\"\"Hold fast to dreams\n",
    "For if dreams die\n",
    "Life is a broken-winged bird\n",
    "That cannot fly.\n",
    "Hold fast to dreams\n",
    "For when dreams go\n",
    "Life is a barren field\n",
    "Frozen with snow.\"\"\"\n",
    "\n",
    "print(poem)"
   ]
  },
  {
   "cell_type": "markdown",
   "metadata": {
    "id": "XMDVSzhl9jrC"
   },
   "source": [
    "You can create a string out of another data type with `str()`:"
   ]
  },
  {
   "cell_type": "code",
   "execution_count": null,
   "metadata": {
    "colab": {
     "base_uri": "https://localhost:8080/",
     "height": 35
    },
    "executionInfo": {
     "elapsed": 15,
     "status": "ok",
     "timestamp": 1669109180147,
     "user": {
      "displayName": "Hana Lacic",
      "userId": "03901848044717845615"
     },
     "user_tz": -60
    },
    "id": "Egjiy0FX9jrC",
    "outputId": "aa30c144-f564-43be-d7c5-d36d63586245"
   },
   "outputs": [
    {
     "data": {
      "application/vnd.google.colaboratory.intrinsic+json": {
       "type": "string"
      },
      "text/plain": [
       "'88'"
      ]
     },
     "execution_count": 46,
     "metadata": {},
     "output_type": "execute_result"
    }
   ],
   "source": [
    "# https://www.w3schools.com/python/ref_func_str.asp\n",
    "\n",
    "str_88 = str(88)\n",
    "str_88"
   ]
  },
  {
   "cell_type": "code",
   "execution_count": null,
   "metadata": {
    "colab": {
     "base_uri": "https://localhost:8080/"
    },
    "executionInfo": {
     "elapsed": 59,
     "status": "ok",
     "timestamp": 1656925041490,
     "user": {
      "displayName": "Ben Elvin",
      "userId": "09111547648527423041"
     },
     "user_tz": -120
    },
    "id": "sII6zfHc9jrC",
    "outputId": "29bf76b9-a31c-4133-f37f-ba653bf70363"
   },
   "outputs": [
    {
     "data": {
      "text/plain": [
       "str"
      ]
     },
     "execution_count": 30,
     "metadata": {},
     "output_type": "execute_result"
    }
   ],
   "source": [
    "type(str_88)"
   ]
  },
  {
   "cell_type": "markdown",
   "metadata": {
    "id": "YncConBM9jrC"
   },
   "source": [
    "Some characters in python can have a special meaning.\n",
    "By using a backslash `\\` preceding a character, we \"escape\" its usual meaning and give a special meaning to it. \n",
    "\n",
    "For example, `\\n` will add a new line, and `\\t` will add a tab:"
   ]
  },
  {
   "cell_type": "code",
   "execution_count": null,
   "metadata": {
    "colab": {
     "base_uri": "https://localhost:8080/"
    },
    "executionInfo": {
     "elapsed": 557,
     "status": "ok",
     "timestamp": 1669109229545,
     "user": {
      "displayName": "Hana Lacic",
      "userId": "03901848044717845615"
     },
     "user_tz": -60
    },
    "id": "goss37jh9jrC",
    "outputId": "1aa3ca07-a6b5-4a4c-e0a4-0fb7a3d8c24c"
   },
   "outputs": [
    {
     "name": "stdout",
     "output_type": "stream",
     "text": [
      "This is the first line\n",
      "And this is the second one.\n"
     ]
    }
   ],
   "source": [
    "print(\"This is the first line\\nAnd this is the second one.\")"
   ]
  },
  {
   "cell_type": "code",
   "execution_count": null,
   "metadata": {
    "colab": {
     "base_uri": "https://localhost:8080/"
    },
    "executionInfo": {
     "elapsed": 7,
     "status": "ok",
     "timestamp": 1669109247166,
     "user": {
      "displayName": "Hana Lacic",
      "userId": "03901848044717845615"
     },
     "user_tz": -60
    },
    "id": "pITgLZAt9jrC",
    "outputId": "09ee4ea7-17a5-40c7-bc1b-9ddb042d3632"
   },
   "outputs": [
    {
     "name": "stdout",
     "output_type": "stream",
     "text": [
      "Before the tab\tAnd after the tab.\n"
     ]
    }
   ],
   "source": [
    "print(\"Before the tab\\tAnd after the tab.\")"
   ]
  },
  {
   "cell_type": "markdown",
   "metadata": {
    "id": "ecl__5ED9jrD"
   },
   "source": [
    "Similarly, you can escape quotes by using `\\`:"
   ]
  },
  {
   "cell_type": "code",
   "execution_count": null,
   "metadata": {
    "colab": {
     "base_uri": "https://localhost:8080/"
    },
    "executionInfo": {
     "elapsed": 970,
     "status": "ok",
     "timestamp": 1669109346276,
     "user": {
      "displayName": "Hana Lacic",
      "userId": "03901848044717845615"
     },
     "user_tz": -60
    },
    "id": "mkBuneqa9jrD",
    "outputId": "042f49f7-a658-406d-e076-fe7d9b4ddb58"
   },
   "outputs": [
    {
     "name": "stdout",
     "output_type": "stream",
     "text": [
      "The world's largest rubber duck was 54'2\" by 67'7\" by 105'\n"
     ]
    }
   ],
   "source": [
    "fact = \"The world's largest rubber duck was 54'2\\\" by 67'7\\\" by 105'\"\n",
    "print(fact)"
   ]
  },
  {
   "cell_type": "markdown",
   "metadata": {
    "id": "-p906KkV9jrD"
   },
   "source": [
    "If you need to use a backslash inside your string, you type `\\\\`: the first backslash escapes the second one:"
   ]
  },
  {
   "cell_type": "code",
   "execution_count": null,
   "metadata": {
    "colab": {
     "base_uri": "https://localhost:8080/"
    },
    "executionInfo": {
     "elapsed": 507,
     "status": "ok",
     "timestamp": 1669109409306,
     "user": {
      "displayName": "Hana Lacic",
      "userId": "03901848044717845615"
     },
     "user_tz": -60
    },
    "id": "aAy-Fro69jrE",
    "outputId": "f201451b-529d-489b-b7a4-3a977e425e51"
   },
   "outputs": [
    {
     "name": "stdout",
     "output_type": "stream",
     "text": [
      "Please contemplate a single, one —and only one— backslash: \\\n"
     ]
    }
   ],
   "source": [
    "print(\"Please contemplate a single, one —and only one— backslash: \\\\\")"
   ]
  },
  {
   "cell_type": "markdown",
   "metadata": {
    "id": "GTFObd169jrE"
   },
   "source": [
    "By typing `r` before the quotes, we denote a string as a _raw string_, which will ignore any special meaning:"
   ]
  },
  {
   "cell_type": "code",
   "execution_count": null,
   "metadata": {
    "colab": {
     "base_uri": "https://localhost:8080/"
    },
    "executionInfo": {
     "elapsed": 29,
     "status": "ok",
     "timestamp": 1669109524035,
     "user": {
      "displayName": "Hana Lacic",
      "userId": "03901848044717845615"
     },
     "user_tz": -60
    },
    "id": "m74jQvn89jrE",
    "outputId": "5fa6f117-ea18-4e77-a8ec-efa2c629c4f0"
   },
   "outputs": [
    {
     "name": "stdout",
     "output_type": "stream",
     "text": [
      "This will not create a new line \\n and here we will see two backslashes \\\\\n"
     ]
    }
   ],
   "source": [
    "raw_str = r\"This will not create a new line \\n and here we will see two backslashes \\\\\"\n",
    "print(raw_str)"
   ]
  },
  {
   "cell_type": "markdown",
   "metadata": {
    "id": "gdXLE6kg9jrF"
   },
   "source": [
    "You can combine strings using `+` and multiply them with `*`:"
   ]
  },
  {
   "cell_type": "code",
   "execution_count": null,
   "metadata": {
    "colab": {
     "base_uri": "https://localhost:8080/"
    },
    "executionInfo": {
     "elapsed": 16,
     "status": "ok",
     "timestamp": 1669109595945,
     "user": {
      "displayName": "Hana Lacic",
      "userId": "03901848044717845615"
     },
     "user_tz": -60
    },
    "id": "60DFFaI29jrF",
    "outputId": "9be2ef63-6410-4f27-8053-47862a23ef62"
   },
   "outputs": [
    {
     "name": "stdout",
     "output_type": "stream",
     "text": [
      "Data Science\n"
     ]
    }
   ],
   "source": [
    "print(\"Data\" + \" \" + \"Science\")"
   ]
  },
  {
   "cell_type": "code",
   "execution_count": null,
   "metadata": {
    "colab": {
     "base_uri": "https://localhost:8080/"
    },
    "executionInfo": {
     "elapsed": 10,
     "status": "ok",
     "timestamp": 1669109624182,
     "user": {
      "displayName": "Hana Lacic",
      "userId": "03901848044717845615"
     },
     "user_tz": -60
    },
    "id": "Lc2l7DWQ9jrF",
    "outputId": "506c160b-f67f-4a11-86ce-128097f6dd59"
   },
   "outputs": [
    {
     "name": "stdout",
     "output_type": "stream",
     "text": [
      "DataDataDataDataDataDataDataDataDataData\n"
     ]
    }
   ],
   "source": [
    "print(\"Data\"*10)"
   ]
  },
  {
   "cell_type": "markdown",
   "metadata": {
    "id": "E6X3R-Qu9jrF"
   },
   "source": [
    "Using `[]` you can grab certain characters from a string by specifying their position\n",
    "- We use positive numbers to start counting from the begining of a string. The 1st letter is position `[0]` \n",
    "- We use negative numbers to start counting from the end of a string. The last letter is position `[-1]`"
   ]
  },
  {
   "cell_type": "code",
   "execution_count": null,
   "metadata": {
    "colab": {
     "base_uri": "https://localhost:8080/",
     "height": 35
    },
    "executionInfo": {
     "elapsed": 770,
     "status": "ok",
     "timestamp": 1669109747644,
     "user": {
      "displayName": "Hana Lacic",
      "userId": "03901848044717845615"
     },
     "user_tz": -60
    },
    "id": "kugvoRh59jrF",
    "outputId": "9e71f537-cbbb-4a03-936c-ad663b2c670a"
   },
   "outputs": [
    {
     "data": {
      "application/vnd.google.colaboratory.intrinsic+json": {
       "type": "string"
      },
      "text/plain": [
       "'a'"
      ]
     },
     "execution_count": 58,
     "metadata": {},
     "output_type": "execute_result"
    }
   ],
   "source": [
    "letters = \"abcdefghijklmnopqrstuvwxyz\"\n",
    "\n",
    "letters[0]"
   ]
  },
  {
   "cell_type": "code",
   "execution_count": null,
   "metadata": {
    "colab": {
     "base_uri": "https://localhost:8080/",
     "height": 35
    },
    "executionInfo": {
     "elapsed": 528,
     "status": "ok",
     "timestamp": 1669109771158,
     "user": {
      "displayName": "Hana Lacic",
      "userId": "03901848044717845615"
     },
     "user_tz": -60
    },
    "id": "PhVVHG5O9jrF",
    "outputId": "357fca32-f5ed-45e0-a8c5-a5ac5e9aa6be"
   },
   "outputs": [
    {
     "data": {
      "application/vnd.google.colaboratory.intrinsic+json": {
       "type": "string"
      },
      "text/plain": [
       "'c'"
      ]
     },
     "execution_count": 59,
     "metadata": {},
     "output_type": "execute_result"
    }
   ],
   "source": [
    "letters[2]"
   ]
  },
  {
   "cell_type": "code",
   "execution_count": null,
   "metadata": {
    "colab": {
     "base_uri": "https://localhost:8080/",
     "height": 35
    },
    "executionInfo": {
     "elapsed": 13,
     "status": "ok",
     "timestamp": 1669109839232,
     "user": {
      "displayName": "Hana Lacic",
      "userId": "03901848044717845615"
     },
     "user_tz": -60
    },
    "id": "_GUQzusO9jrF",
    "outputId": "cf8526bf-664c-4a10-cefd-debb212156c2"
   },
   "outputs": [
    {
     "data": {
      "application/vnd.google.colaboratory.intrinsic+json": {
       "type": "string"
      },
      "text/plain": [
       "'z'"
      ]
     },
     "execution_count": 62,
     "metadata": {},
     "output_type": "execute_result"
    }
   ],
   "source": [
    "letters[-1]"
   ]
  },
  {
   "cell_type": "code",
   "execution_count": null,
   "metadata": {
    "colab": {
     "base_uri": "https://localhost:8080/",
     "height": 35
    },
    "executionInfo": {
     "elapsed": 12,
     "status": "ok",
     "timestamp": 1669109843401,
     "user": {
      "displayName": "Hana Lacic",
      "userId": "03901848044717845615"
     },
     "user_tz": -60
    },
    "id": "V5_KTTMm9jrF",
    "outputId": "2de452e0-5dc8-48ec-ac39-1aa35526c589"
   },
   "outputs": [
    {
     "data": {
      "application/vnd.google.colaboratory.intrinsic+json": {
       "type": "string"
      },
      "text/plain": [
       "'w'"
      ]
     },
     "execution_count": 63,
     "metadata": {},
     "output_type": "execute_result"
    }
   ],
   "source": [
    "letters [-4]"
   ]
  },
  {
   "cell_type": "markdown",
   "metadata": {
    "id": "XaVoo-1O9jrF"
   },
   "source": [
    "You can _slice_ a string using `[start:end]`. Note that the start is inclusive, but the end is not:"
   ]
  },
  {
   "cell_type": "code",
   "execution_count": null,
   "metadata": {
    "colab": {
     "base_uri": "https://localhost:8080/",
     "height": 35
    },
    "executionInfo": {
     "elapsed": 12,
     "status": "ok",
     "timestamp": 1669109920734,
     "user": {
      "displayName": "Hana Lacic",
      "userId": "03901848044717845615"
     },
     "user_tz": -60
    },
    "id": "Yg4EjBqhtBtK",
    "outputId": "27c22a60-81f6-4580-f35d-16ffe34c8ebe"
   },
   "outputs": [
    {
     "data": {
      "application/vnd.google.colaboratory.intrinsic+json": {
       "type": "string"
      },
      "text/plain": [
       "'abcdefghijklmnopqrstuvwxyz'"
      ]
     },
     "execution_count": 64,
     "metadata": {},
     "output_type": "execute_result"
    }
   ],
   "source": [
    "letters"
   ]
  },
  {
   "cell_type": "code",
   "execution_count": null,
   "metadata": {
    "colab": {
     "base_uri": "https://localhost:8080/",
     "height": 35
    },
    "executionInfo": {
     "elapsed": 14,
     "status": "ok",
     "timestamp": 1669110136745,
     "user": {
      "displayName": "Hana Lacic",
      "userId": "03901848044717845615"
     },
     "user_tz": -60
    },
    "id": "oZe67mOX9jrF",
    "outputId": "6eabb88f-1456-4eea-c3da-344060261a6c"
   },
   "outputs": [
    {
     "data": {
      "application/vnd.google.colaboratory.intrinsic+json": {
       "type": "string"
      },
      "text/plain": [
       "'ghi'"
      ]
     },
     "execution_count": 66,
     "metadata": {},
     "output_type": "execute_result"
    }
   ],
   "source": [
    "letters[6:9]"
   ]
  },
  {
   "cell_type": "markdown",
   "metadata": {
    "id": "V3z2_t-L9jrG"
   },
   "source": [
    "If you don't specify the start, the slice will start at the beginning of the string. Same goes for the end:"
   ]
  },
  {
   "cell_type": "code",
   "execution_count": null,
   "metadata": {
    "colab": {
     "base_uri": "https://localhost:8080/",
     "height": 35
    },
    "executionInfo": {
     "elapsed": 518,
     "status": "ok",
     "timestamp": 1669110175466,
     "user": {
      "displayName": "Hana Lacic",
      "userId": "03901848044717845615"
     },
     "user_tz": -60
    },
    "id": "aG7gvGat9jrG",
    "outputId": "66e50a80-7e1f-4fcc-bbc7-c935d9fa2ae3"
   },
   "outputs": [
    {
     "data": {
      "application/vnd.google.colaboratory.intrinsic+json": {
       "type": "string"
      },
      "text/plain": [
       "'abcd'"
      ]
     },
     "execution_count": 67,
     "metadata": {},
     "output_type": "execute_result"
    }
   ],
   "source": [
    "letters[:4]"
   ]
  },
  {
   "cell_type": "code",
   "execution_count": null,
   "metadata": {
    "colab": {
     "base_uri": "https://localhost:8080/",
     "height": 35
    },
    "executionInfo": {
     "elapsed": 557,
     "status": "ok",
     "timestamp": 1669110213301,
     "user": {
      "displayName": "Hana Lacic",
      "userId": "03901848044717845615"
     },
     "user_tz": -60
    },
    "id": "byxy0Fxu9jrG",
    "outputId": "cc906bf8-b155-44f5-ba66-0184b796c702"
   },
   "outputs": [
    {
     "data": {
      "application/vnd.google.colaboratory.intrinsic+json": {
       "type": "string"
      },
      "text/plain": [
       "'efghijklmnopqrstuvwxyz'"
      ]
     },
     "execution_count": 68,
     "metadata": {},
     "output_type": "execute_result"
    }
   ],
   "source": [
    "letters[4:]"
   ]
  },
  {
   "cell_type": "markdown",
   "metadata": {
    "id": "boj3LTz89jrG"
   },
   "source": [
    "Counting how many characters are there in a string can be done with `len()`:"
   ]
  },
  {
   "cell_type": "code",
   "execution_count": null,
   "metadata": {
    "colab": {
     "base_uri": "https://localhost:8080/"
    },
    "executionInfo": {
     "elapsed": 596,
     "status": "ok",
     "timestamp": 1669110225706,
     "user": {
      "displayName": "Hana Lacic",
      "userId": "03901848044717845615"
     },
     "user_tz": -60
    },
    "id": "ls59e3gu9jrG",
    "outputId": "6d25dba7-3ed2-4c5f-eb77-4a602cdc3e9f"
   },
   "outputs": [
    {
     "data": {
      "text/plain": [
       "26"
      ]
     },
     "execution_count": 69,
     "metadata": {},
     "output_type": "execute_result"
    }
   ],
   "source": [
    "# https://www.w3schools.com/python/ref_func_len.asp\n",
    "\n",
    "len(letters)"
   ]
  },
  {
   "cell_type": "markdown",
   "metadata": {
    "id": "7WyQW4Ig9jrG"
   },
   "source": [
    "The `split` function lets you break a string into smaller strings. The split occurs every time a certain character appears in the string, such as a comma or full stop."
   ]
  },
  {
   "cell_type": "code",
   "execution_count": null,
   "metadata": {
    "id": "uQ1bJH_z9jrG"
   },
   "outputs": [],
   "source": [
    "jobs = \"Data Scientist, Data Analyst, Data Engineer, Business Analyst, Marketing Analyst, Analytics Consultant\""
   ]
  },
  {
   "cell_type": "code",
   "execution_count": null,
   "metadata": {
    "colab": {
     "base_uri": "https://localhost:8080/",
     "height": 35
    },
    "executionInfo": {
     "elapsed": 515,
     "status": "ok",
     "timestamp": 1669110306986,
     "user": {
      "displayName": "Hana Lacic",
      "userId": "03901848044717845615"
     },
     "user_tz": -60
    },
    "id": "XeizyHTZ9jrG",
    "outputId": "e00a3fe4-a5fd-4775-ecb5-a699c448bc79"
   },
   "outputs": [
    {
     "data": {
      "application/vnd.google.colaboratory.intrinsic+json": {
       "type": "string"
      },
      "text/plain": [
       "'Data Scientist, Data Analyst, Data Engineer, Business Analyst, Marketing Analyst, Analytics Consultant'"
      ]
     },
     "execution_count": 72,
     "metadata": {},
     "output_type": "execute_result"
    }
   ],
   "source": [
    "jobs"
   ]
  },
  {
   "cell_type": "code",
   "execution_count": null,
   "metadata": {
    "colab": {
     "base_uri": "https://localhost:8080/"
    },
    "executionInfo": {
     "elapsed": 535,
     "status": "ok",
     "timestamp": 1669110575136,
     "user": {
      "displayName": "Hana Lacic",
      "userId": "03901848044717845615"
     },
     "user_tz": -60
    },
    "id": "MGMy9Lvs9jrG",
    "outputId": "a844cc88-a5d2-4f37-f318-969ff63efbfd"
   },
   "outputs": [
    {
     "data": {
      "text/plain": [
       "['Data Scientist',\n",
       " 'Data Analyst',\n",
       " 'Data Engineer',\n",
       " 'Business Analyst',\n",
       " 'Marketing Analyst',\n",
       " 'Analytics Consultant']"
      ]
     },
     "execution_count": 81,
     "metadata": {},
     "output_type": "execute_result"
    }
   ],
   "source": [
    "# https://www.w3schools.com/python/ref_string_split.asp\n",
    "\n",
    "jobs.split(\", \")"
   ]
  },
  {
   "cell_type": "markdown",
   "metadata": {
    "id": "jTkK-9YB9jrG"
   },
   "source": [
    "You can substitute a character using `replace()`:"
   ]
  },
  {
   "cell_type": "code",
   "execution_count": null,
   "metadata": {
    "id": "EfRAH1DQ9jrG"
   },
   "outputs": [],
   "source": [
    "# https://www.w3schools.com/python/ref_string_replace.asp\n",
    "\n",
    "new_duck_string = jobs.replace(\"Data \", \"Duck\")"
   ]
  },
  {
   "cell_type": "code",
   "execution_count": null,
   "metadata": {
    "colab": {
     "base_uri": "https://localhost:8080/",
     "height": 35
    },
    "executionInfo": {
     "elapsed": 12,
     "status": "ok",
     "timestamp": 1669110838357,
     "user": {
      "displayName": "Hana Lacic",
      "userId": "03901848044717845615"
     },
     "user_tz": -60
    },
    "id": "_6WUQBXHvsx-",
    "outputId": "21e63359-611d-4429-fb89-6382bd81e1b4"
   },
   "outputs": [
    {
     "data": {
      "application/vnd.google.colaboratory.intrinsic+json": {
       "type": "string"
      },
      "text/plain": [
       "'DuckScientist, DuckAnalyst, DuckEngineer, Business Analyst, Marketing Analyst, Analytics Consultant'"
      ]
     },
     "execution_count": 84,
     "metadata": {},
     "output_type": "execute_result"
    }
   ],
   "source": [
    "new_duck_string"
   ]
  },
  {
   "cell_type": "markdown",
   "metadata": {
    "id": "8kcFyXzW9jrG"
   },
   "source": [
    "You can specify how many times do you want to make that replacement:"
   ]
  },
  {
   "cell_type": "code",
   "execution_count": null,
   "metadata": {
    "colab": {
     "base_uri": "https://localhost:8080/",
     "height": 35
    },
    "executionInfo": {
     "elapsed": 1169,
     "status": "ok",
     "timestamp": 1669110855371,
     "user": {
      "displayName": "Hana Lacic",
      "userId": "03901848044717845615"
     },
     "user_tz": -60
    },
    "id": "UVpKW6vN9jrH",
    "outputId": "5616f911-5680-4254-d3ae-2252bfb8fcbe"
   },
   "outputs": [
    {
     "data": {
      "application/vnd.google.colaboratory.intrinsic+json": {
       "type": "string"
      },
      "text/plain": [
       "'Duck Scientist, Duck Analyst, Data Engineer, Business Analyst, Marketing Analyst, Analytics Consultant'"
      ]
     },
     "execution_count": 85,
     "metadata": {},
     "output_type": "execute_result"
    }
   ],
   "source": [
    "jobs.replace(\"Data\", \"Duck\", 2)"
   ]
  },
  {
   "cell_type": "markdown",
   "metadata": {
    "id": "eOoL1zpB9jrH"
   },
   "source": [
    "A very common process in data cleaning is to remove preceeding and trailing spaces from strings. The function `strip()` does exactly that:"
   ]
  },
  {
   "cell_type": "code",
   "execution_count": null,
   "metadata": {
    "colab": {
     "base_uri": "https://localhost:8080/"
    },
    "executionInfo": {
     "elapsed": 1286,
     "status": "ok",
     "timestamp": 1669111046758,
     "user": {
      "displayName": "Hana Lacic",
      "userId": "03901848044717845615"
     },
     "user_tz": -60
    },
    "id": "hk0Udvyn9jrH",
    "outputId": "2612fc32-dc12-473a-8864-bd706a5405b8"
   },
   "outputs": [
    {
     "name": "stdout",
     "output_type": "stream",
     "text": [
      "     %               wow something                     \n"
     ]
    }
   ],
   "source": [
    "wow = \"     %               wow something                     \"\n",
    "print(wow)"
   ]
  },
  {
   "cell_type": "code",
   "execution_count": null,
   "metadata": {
    "colab": {
     "base_uri": "https://localhost:8080/",
     "height": 35
    },
    "executionInfo": {
     "elapsed": 14,
     "status": "ok",
     "timestamp": 1669111066704,
     "user": {
      "displayName": "Hana Lacic",
      "userId": "03901848044717845615"
     },
     "user_tz": -60
    },
    "id": "mZWhXNBD9jrH",
    "outputId": "fa3a05b7-6f0c-43a4-d3ad-e50a6428808c"
   },
   "outputs": [
    {
     "data": {
      "application/vnd.google.colaboratory.intrinsic+json": {
       "type": "string"
      },
      "text/plain": [
       "'wow something'"
      ]
     },
     "execution_count": 96,
     "metadata": {},
     "output_type": "execute_result"
    }
   ],
   "source": [
    "# https://www.w3schools.com/python/ref_string_strip.asp\n",
    "\n",
    "wow.strip(' %')"
   ]
  },
  {
   "cell_type": "markdown",
   "metadata": {
    "id": "O8qkC9Ug9jrH"
   },
   "source": [
    "There are many more string methods in Python. Browse through them here: https://www.w3schools.com/python/python_ref_string.asp \n",
    "\n",
    "About 99.9% of the time, coding does not mean memorizing functions and knowing them off by heart, but being quick in finding the function you need, discovering how to use them, reading the documentation, or simply adapting coding examples from the internet to meet your needs. \n",
    "\n",
    "In the exercises below, you will have to use several Python string methods, in combination with what you've learned here. Use the link from _w3schools_ or Google around to complete them."
   ]
  },
  {
   "cell_type": "markdown",
   "metadata": {
    "id": "iYebLIcM9jrH"
   },
   "source": [
    "###### **Exercise 8:**\n",
    "create a Python string with the following text, and assign it to the variable `data_science`:\n",
    "\n",
    "Data science is an interdisciplinary field that uses scientific methods, processes, algorithms and systems to extract knowledge and insights from noisy, structured and unstructured data, and apply knowledge and actionable insights from data across a broad range of application domains. \n",
    "\n",
    "Data science is related to data mining, machine learning and big data. Data science is a \"concept to unify statistics, data analysis, informatics, and their related methods\" in order to \"understand and analyze actual phenomena\" with data. It uses techniques and theories drawn from many fields within the context of mathematics, statistics, computer science, information science, and domain knowledge. However, data science is different from computer science and information science. Turing Award winner Jim Gray imagined data science as a \"fourth paradigm\" of science (empirical, theoretical, computational, and now data-driven) and asserted that \"everything about science is changing because of the impact of information technology\" and the data deluge."
   ]
  },
  {
   "cell_type": "code",
   "execution_count": 13,
   "metadata": {
    "executionInfo": {
     "elapsed": 13,
     "status": "ok",
     "timestamp": 1669123327099,
     "user": {
      "displayName": "Hana Lacic",
      "userId": "03901848044717845615"
     },
     "user_tz": -60
    },
    "id": "sqWvKQMU9jrH"
   },
   "outputs": [],
   "source": [
    "data_science = \"\"\"Data science is an interdisciplinary field that uses scientific methods, processes, algorithms and systems to extract knowledge and insights from noisy, structured and unstructured data, and apply knowledge and actionable insights from data across a broad range of application domains.\n",
    "\n",
    "Data science is related to data mining, machine learning and big data. Data science is a \"concept to unify statistics, data analysis, informatics, and their related methods\" in order to \"understand and analyze actual phenomena\" with data. It uses techniques and theories drawn from many fields within the context of mathematics, statistics, computer science, information science, and domain knowledge. However, data science is different from computer science and information science. Turing Award winner Jim Gray imagined data science as a \"fourth paradigm\" of science (empirical, theoretical, computational, and now data-driven) and asserted that \"everything about science is changing because of the impact of information technology\" and the data deluge.\"\"\""
   ]
  },
  {
   "cell_type": "code",
   "execution_count": 14,
   "metadata": {
    "colab": {
     "base_uri": "https://localhost:8080/"
    },
    "executionInfo": {
     "elapsed": 12,
     "status": "ok",
     "timestamp": 1669123335926,
     "user": {
      "displayName": "Hana Lacic",
      "userId": "03901848044717845615"
     },
     "user_tz": -60
    },
    "id": "fpxnfZy0gMYH",
    "outputId": "34ff4086-602e-42ea-8f06-c1fb3ba74c90"
   },
   "outputs": [
    {
     "name": "stdout",
     "output_type": "stream",
     "text": [
      "Data science is an interdisciplinary field that uses scientific methods, processes, algorithms and systems to extract knowledge and insights from noisy, structured and unstructured data, and apply knowledge and actionable insights from data across a broad range of application domains.\n",
      "\n",
      "Data science is related to data mining, machine learning and big data. Data science is a \"concept to unify statistics, data analysis, informatics, and their related methods\" in order to \"understand and analyze actual phenomena\" with data. It uses techniques and theories drawn from many fields within the context of mathematics, statistics, computer science, information science, and domain knowledge. However, data science is different from computer science and information science. Turing Award winner Jim Gray imagined data science as a \"fourth paradigm\" of science (empirical, theoretical, computational, and now data-driven) and asserted that \"everything about science is changing because of the impact of information technology\" and the data deluge.\n"
     ]
    }
   ],
   "source": [
    "print(data_science)"
   ]
  },
  {
   "cell_type": "code",
   "execution_count": 22,
   "metadata": {
    "executionInfo": {
     "elapsed": 760,
     "status": "ok",
     "timestamp": 1669123913897,
     "user": {
      "displayName": "Hana Lacic",
      "userId": "03901848044717845615"
     },
     "user_tz": -60
    },
    "id": "TAlFjU5giYbh"
   },
   "outputs": [],
   "source": [
    "copy_data = data_science"
   ]
  },
  {
   "cell_type": "code",
   "execution_count": 23,
   "metadata": {
    "colab": {
     "base_uri": "https://localhost:8080/",
     "height": 139
    },
    "executionInfo": {
     "elapsed": 540,
     "status": "ok",
     "timestamp": 1669123949699,
     "user": {
      "displayName": "Hana Lacic",
      "userId": "03901848044717845615"
     },
     "user_tz": -60
    },
    "id": "QGNnCZjtibqB",
    "outputId": "5c55dc69-980f-4027-cd57-f2a2329591f7"
   },
   "outputs": [
    {
     "data": {
      "application/vnd.google.colaboratory.intrinsic+json": {
       "type": "string"
      },
      "text/plain": [
       "'data science is an interdisciplinary field that uses scientific methods, processes, algorithms and systems to extract knowledge and insights from noisy, structured and unstructured data, and apply knowledge and actionable insights from data across a broad range of application domains.data science is related to data mining, machine learning and big data. data science is a \"concept to unify statistics, data analysis, informatics, and their related methods\" in order to \"understand and analyze actual phenomena\" with data. it uses techniques and theories drawn from many fields within the context of mathematics, statistics, computer science, information science, and domain knowledge. however, data science is different from computer science and information science. turing award winner jim gray imagined data science as a \"fourth paradigm\" of science (empirical, theoretical, computational, and now data-driven) and asserted that \"everything about science is changing because of the impact of information technology\" and the data deluge.'"
      ]
     },
     "execution_count": 23,
     "metadata": {},
     "output_type": "execute_result"
    }
   ],
   "source": [
    "copy_data.replace('\\n','')"
   ]
  },
  {
   "cell_type": "markdown",
   "metadata": {
    "id": "g8DIfhZ_9jrH"
   },
   "source": [
    "###### **Exercise 9:**\n",
    "how many characters are there in `data_science`?"
   ]
  },
  {
   "cell_type": "code",
   "execution_count": 15,
   "metadata": {
    "colab": {
     "base_uri": "https://localhost:8080/"
    },
    "executionInfo": {
     "elapsed": 6,
     "status": "ok",
     "timestamp": 1669123385064,
     "user": {
      "displayName": "Hana Lacic",
      "userId": "03901848044717845615"
     },
     "user_tz": -60
    },
    "id": "q6gDSO3E9jrH",
    "outputId": "e4c0ac18-f70c-4ebf-a9b0-580cbc30ba1e"
   },
   "outputs": [
    {
     "name": "stdout",
     "output_type": "stream",
     "text": [
      "1042\n"
     ]
    }
   ],
   "source": [
    "print(len(data_science))"
   ]
  },
  {
   "cell_type": "markdown",
   "metadata": {
    "id": "cnXae6C19jrI"
   },
   "source": [
    "###### **Exercise 10:**\n",
    "convert all of `data_science` to lower case."
   ]
  },
  {
   "cell_type": "code",
   "execution_count": 17,
   "metadata": {
    "colab": {
     "base_uri": "https://localhost:8080/"
    },
    "executionInfo": {
     "elapsed": 18,
     "status": "ok",
     "timestamp": 1669123513030,
     "user": {
      "displayName": "Hana Lacic",
      "userId": "03901848044717845615"
     },
     "user_tz": -60
    },
    "id": "VsUPsobG9jrI",
    "outputId": "68fc1907-0ee8-4026-a1e9-351827b454f8"
   },
   "outputs": [
    {
     "name": "stdout",
     "output_type": "stream",
     "text": [
      "data science is an interdisciplinary field that uses scientific methods, processes, algorithms and systems to extract knowledge and insights from noisy, structured and unstructured data, and apply knowledge and actionable insights from data across a broad range of application domains.\n",
      "\n",
      "data science is related to data mining, machine learning and big data. data science is a \"concept to unify statistics, data analysis, informatics, and their related methods\" in order to \"understand and analyze actual phenomena\" with data. it uses techniques and theories drawn from many fields within the context of mathematics, statistics, computer science, information science, and domain knowledge. however, data science is different from computer science and information science. turing award winner jim gray imagined data science as a \"fourth paradigm\" of science (empirical, theoretical, computational, and now data-driven) and asserted that \"everything about science is changing because of the impact of information technology\" and the data deluge.\n"
     ]
    }
   ],
   "source": [
    "data_science = data_science.lower()\n",
    "print(data_science)"
   ]
  },
  {
   "cell_type": "markdown",
   "metadata": {
    "id": "M2ig3CBO9jrI"
   },
   "source": [
    "###### **Exercise 11:**\n",
    "how many times does the word \"data\" appear in the string you converted to lower case?"
   ]
  },
  {
   "cell_type": "code",
   "execution_count": 18,
   "metadata": {
    "colab": {
     "base_uri": "https://localhost:8080/"
    },
    "executionInfo": {
     "elapsed": 14,
     "status": "ok",
     "timestamp": 1669123542951,
     "user": {
      "displayName": "Hana Lacic",
      "userId": "03901848044717845615"
     },
     "user_tz": -60
    },
    "id": "d3xnrIw69jrJ",
    "outputId": "f6cc52fd-935f-457b-b256-142d37c8fb3c"
   },
   "outputs": [
    {
     "name": "stdout",
     "output_type": "stream",
     "text": [
      "13\n"
     ]
    }
   ],
   "source": [
    "nr_data = data_science.count('data')\n",
    "print(nr_data)"
   ]
  },
  {
   "cell_type": "markdown",
   "metadata": {
    "id": "sqLnagdM9jrK"
   },
   "source": [
    "###### **Exercise 12:**\n",
    "separate the string into sentences, splitting it whenever there is a fullstop (`.`)."
   ]
  },
  {
   "cell_type": "code",
   "execution_count": 21,
   "metadata": {
    "colab": {
     "base_uri": "https://localhost:8080/"
    },
    "executionInfo": {
     "elapsed": 21,
     "status": "ok",
     "timestamp": 1669123825828,
     "user": {
      "displayName": "Hana Lacic",
      "userId": "03901848044717845615"
     },
     "user_tz": -60
    },
    "id": "IiV2QyrT9jrK",
    "outputId": "48dd642d-1c3f-45df-e052-982f24965ec0"
   },
   "outputs": [
    {
     "data": {
      "text/plain": [
       "['data science is an interdisciplinary field that uses scientific methods, processes, algorithms and systems to extract knowledge and insights from noisy, structured and unstructured data, and apply knowledge and actionable insights from data across a broad range of application domains',\n",
       " '\\n\\ndata science is related to data mining, machine learning and big data',\n",
       " ' data science is a \"concept to unify statistics, data analysis, informatics, and their related methods\" in order to \"understand and analyze actual phenomena\" with data',\n",
       " ' it uses techniques and theories drawn from many fields within the context of mathematics, statistics, computer science, information science, and domain knowledge',\n",
       " ' however, data science is different from computer science and information science',\n",
       " ' turing award winner jim gray imagined data science as a \"fourth paradigm\" of science (empirical, theoretical, computational, and now data-driven) and asserted that \"everything about science is changing because of the impact of information technology\" and the data deluge',\n",
       " '']"
      ]
     },
     "execution_count": 21,
     "metadata": {},
     "output_type": "execute_result"
    }
   ],
   "source": [
    "data_science.split('.')"
   ]
  },
  {
   "cell_type": "markdown",
   "metadata": {
    "id": "EesNFTTO9jrK"
   },
   "source": [
    "###### **Exercise 13:**\n",
    "capitalise the first letter of every word in the string."
   ]
  },
  {
   "cell_type": "code",
   "execution_count": 29,
   "metadata": {
    "colab": {
     "base_uri": "https://localhost:8080/"
    },
    "executionInfo": {
     "elapsed": 544,
     "status": "ok",
     "timestamp": 1669124171941,
     "user": {
      "displayName": "Hana Lacic",
      "userId": "03901848044717845615"
     },
     "user_tz": -60
    },
    "id": "kpZGn0NK9jrK",
    "outputId": "ebe73576-ed89-4485-86f1-146ef63651c4"
   },
   "outputs": [
    {
     "name": "stdout",
     "output_type": "stream",
     "text": [
      "Data Science Is An Interdisciplinary Field That Uses Scientific Methods, Processes, Algorithms And Systems To Extract Knowledge And Insights From Noisy, Structured And Unstructured Data, And Apply Knowledge And Actionable Insights From Data Across A Broad Range Of Application Domains.\n",
      "\n",
      "Data Science Is Related To Data Mining, Machine Learning And Big Data. Data Science Is A \"Concept To Unify Statistics, Data Analysis, Informatics, And Their Related Methods\" In Order To \"Understand And Analyze Actual Phenomena\" With Data. It Uses Techniques And Theories Drawn From Many Fields Within The Context Of Mathematics, Statistics, Computer Science, Information Science, And Domain Knowledge. However, Data Science Is Different From Computer Science And Information Science. Turing Award Winner Jim Gray Imagined Data Science As A \"Fourth Paradigm\" Of Science (Empirical, Theoretical, Computational, And Now Data-Driven) And Asserted That \"Everything About Science Is Changing Because Of The Impact Of Information Technology\" And The Data Deluge.\n"
     ]
    }
   ],
   "source": [
    "data_science = data_science.title()\n",
    "print(data_science)"
   ]
  },
  {
   "cell_type": "markdown",
   "metadata": {
    "id": "1uTXO2NB9jrK"
   },
   "source": [
    "###### **Exercise 14:**\n",
    "find the index of the word \"Turing\" in the string."
   ]
  },
  {
   "cell_type": "code",
   "execution_count": 30,
   "metadata": {
    "colab": {
     "base_uri": "https://localhost:8080/"
    },
    "executionInfo": {
     "elapsed": 7,
     "status": "ok",
     "timestamp": 1669124183745,
     "user": {
      "displayName": "Hana Lacic",
      "userId": "03901848044717845615"
     },
     "user_tz": -60
    },
    "id": "HuV6OUsQ9jrK",
    "outputId": "c2697d66-5b8f-4cab-c096-58060438fb21"
   },
   "outputs": [
    {
     "data": {
      "text/plain": [
       "771"
      ]
     },
     "execution_count": 30,
     "metadata": {},
     "output_type": "execute_result"
    }
   ],
   "source": [
    "data_science.index('Turing')"
   ]
  },
  {
   "cell_type": "markdown",
   "metadata": {
    "id": "QY5ao8e09jrK"
   },
   "source": [
    "## Formatting with f-strings\n",
    "\n",
    "Strings can be concatenated with `+`. Sometimes, you need to [_interpolate_](https://en.wikipedia.org/wiki/String_interpolation) values into strings. \n",
    "\n",
    "Say you work for a logistics company and have a script that calculates the number of trucks that should be made ready for the next day. You want this number to be included in the sentence of an email: `\"For tomorrow, we will need x trucks.\"` But replacing x with the number of trucks, which will vary each day.\n",
    "\n",
    "This task is known as formatting strings. It can be confusing to learn this by just browsing the internet because there are many ways to format strings in Python: the old one (using `%`), the new one (using `{}`and `format()`) and the newest one (using `f-strings`).\n",
    "\n",
    "We will only show you how to use f-strings, but be ready to stumble into the other ones at any time!"
   ]
  },
  {
   "cell_type": "code",
   "execution_count": null,
   "metadata": {
    "colab": {
     "base_uri": "https://localhost:8080/"
    },
    "executionInfo": {
     "elapsed": 773,
     "status": "ok",
     "timestamp": 1669111234380,
     "user": {
      "displayName": "Hana Lacic",
      "userId": "03901848044717845615"
     },
     "user_tz": -60
    },
    "id": "uUtDC4nG9jrK",
    "outputId": "ee468c1a-f212-4784-91f9-fb060522cc94"
   },
   "outputs": [
    {
     "name": "stdout",
     "output_type": "stream",
     "text": [
      "For tomorrow, we will need 73 trucks.\n"
     ]
    }
   ],
   "source": [
    "n_trucks = 73\n",
    "\n",
    "email = f\"For tomorrow, we will need {n_trucks} trucks.\"\n",
    "\n",
    "print(email)"
   ]
  },
  {
   "cell_type": "markdown",
   "metadata": {
    "id": "wu4jlS659jrK"
   },
   "source": [
    "The curly brackets support expressions like these:"
   ]
  },
  {
   "cell_type": "code",
   "execution_count": null,
   "metadata": {
    "colab": {
     "base_uri": "https://localhost:8080/"
    },
    "executionInfo": {
     "elapsed": 13,
     "status": "ok",
     "timestamp": 1669111499376,
     "user": {
      "displayName": "Hana Lacic",
      "userId": "03901848044717845615"
     },
     "user_tz": -60
    },
    "id": "SoWNRe6P9jrK",
    "outputId": "f4a7971a-5528-4f56-881b-deda96fb14ff"
   },
   "outputs": [
    {
     "name": "stdout",
     "output_type": "stream",
     "text": [
      "For tomorrow, we will need 83 trucks in the Main Garage.\n"
     ]
    }
   ],
   "source": [
    "place = \"main garage\"\n",
    "\n",
    "email = f\"For tomorrow, we will need {n_trucks+10} trucks in the {place.title()}.\"\n",
    "\n",
    "print(email)"
   ]
  },
  {
   "cell_type": "markdown",
   "metadata": {
    "id": "qqMvu4G19jrL"
   },
   "source": [
    "###### **Exercise 15:**\n",
    "convert the `data_science` string from the previous exercise into an f-string, replacing the name \"Jim Gray\" with the variable `jim`:"
   ]
  },
  {
   "cell_type": "code",
   "execution_count": 31,
   "metadata": {
    "executionInfo": {
     "elapsed": 1265,
     "status": "ok",
     "timestamp": 1669124265968,
     "user": {
      "displayName": "Hana Lacic",
      "userId": "03901848044717845615"
     },
     "user_tz": -60
    },
    "id": "leloOVdx9jrL"
   },
   "outputs": [],
   "source": [
    "jim = \"James Nicholas Gray\""
   ]
  },
  {
   "cell_type": "code",
   "execution_count": 38,
   "metadata": {
    "colab": {
     "base_uri": "https://localhost:8080/"
    },
    "executionInfo": {
     "elapsed": 7,
     "status": "ok",
     "timestamp": 1669124643433,
     "user": {
      "displayName": "Hana Lacic",
      "userId": "03901848044717845615"
     },
     "user_tz": -60
    },
    "id": "jbveObbY9jrL",
    "outputId": "1a19a1bf-5a49-4ae3-8bcc-5a406026b14c"
   },
   "outputs": [
    {
     "name": "stdout",
     "output_type": "stream",
     "text": [
      "Data Science Is An Interdisciplinary Field That Uses Scientific Methods, Processes, Algorithms And Systems To Extract Knowledge And Insights From Noisy, Structured And Unstructured Data, And Apply Knowledge And Actionable Insights From Data Across A Broad Range Of Application Domains.\n",
      "\n",
      "Data Science Is Related To Data Mining, Machine Learning And Big Data. Data Science Is A \"Concept To Unify Statistics, Data Analysis, Informatics, And Their Related Methods\" In Order To \"Understand And Analyze Actual Phenomena\" With Data. It Uses Techniques And Theories Drawn From Many Fields Within The Context Of Mathematics, Statistics, Computer Science, Information Science, And Domain Knowledge. However, Data Science Is Different From Computer Science And Information Science. Turing Award Winner James Nicholas Gray Imagined Data Science As A \"Fourth Paradigm\" Of Science (Empirical, Theoretical, Computational, And Now Data-Driven) And Asserted That \"Everything About Science Is Changing Because Of The Impact Of Information Technology\" And The Data Deluge.\n",
      "Data Science Is An Interdisciplinary Field That Uses Scientific Methods, Processes, Algorithms And Systems To Extract Knowledge And Insights From Noisy, Structured And Unstructured Data, And Apply Knowledge And Actionable Insights From Data Across A Broad Range Of Application Domains.\n",
      "\n",
      "Data Science Is Related To Data Mining, Machine Learning And Big Data. Data Science Is A \"Concept To Unify Statistics, Data Analysis, Informatics, And Their Related Methods\" In Order To \"Understand And Analyze Actual Phenomena\" With Data. It Uses Techniques And Theories Drawn From Many Fields Within The Context Of Mathematics, Statistics, Computer Science, Information Science, And Domain Knowledge. However, Data Science Is Different From Computer Science And Information Science. Turing Award Winner James Nicholas Gray Imagined Data Science As A \"Fourth Paradigm\" Of Science (Empirical, Theoretical, Computational, And Now Data-Driven) And Asserted That \"Everything About Science Is Changing Because Of The Impact Of Information Technology\" And The Data Deluge.\n"
     ]
    }
   ],
   "source": [
    "data_science = data_science.replace('Jim Gray',jim)\n",
    "print(data_science.format(jim=jim))\n",
    "print(data_science)"
   ]
  },
  {
   "cell_type": "code",
   "execution_count": null,
   "metadata": {
    "id": "gqb0DwqZlKdY"
   },
   "outputs": [],
   "source": [
    "print(data_science)"
   ]
  },
  {
   "cell_type": "code",
   "execution_count": 36,
   "metadata": {
    "executionInfo": {
     "elapsed": 8,
     "status": "ok",
     "timestamp": 1669124504860,
     "user": {
      "displayName": "Hana Lacic",
      "userId": "03901848044717845615"
     },
     "user_tz": -60
    },
    "id": "1_aPF2MJkZra"
   },
   "outputs": [],
   "source": [
    "data_science = f\"{data_science.replace('Jim Gray',jim)}\""
   ]
  },
  {
   "cell_type": "code",
   "execution_count": 37,
   "metadata": {
    "colab": {
     "base_uri": "https://localhost:8080/"
    },
    "executionInfo": {
     "elapsed": 6,
     "status": "ok",
     "timestamp": 1669124505967,
     "user": {
      "displayName": "Hana Lacic",
      "userId": "03901848044717845615"
     },
     "user_tz": -60
    },
    "id": "QHiUy1FHkjcj",
    "outputId": "caeb2b5b-63df-44e1-9a25-d961d3c4dc8c"
   },
   "outputs": [
    {
     "name": "stdout",
     "output_type": "stream",
     "text": [
      "Data Science Is An Interdisciplinary Field That Uses Scientific Methods, Processes, Algorithms And Systems To Extract Knowledge And Insights From Noisy, Structured And Unstructured Data, And Apply Knowledge And Actionable Insights From Data Across A Broad Range Of Application Domains.\n",
      "\n",
      "Data Science Is Related To Data Mining, Machine Learning And Big Data. Data Science Is A \"Concept To Unify Statistics, Data Analysis, Informatics, And Their Related Methods\" In Order To \"Understand And Analyze Actual Phenomena\" With Data. It Uses Techniques And Theories Drawn From Many Fields Within The Context Of Mathematics, Statistics, Computer Science, Information Science, And Domain Knowledge. However, Data Science Is Different From Computer Science And Information Science. Turing Award Winner James Nicholas Gray Imagined Data Science As A \"Fourth Paradigm\" Of Science (Empirical, Theoretical, Computational, And Now Data-Driven) And Asserted That \"Everything About Science Is Changing Because Of The Impact Of Information Technology\" And The Data Deluge.\n"
     ]
    }
   ],
   "source": [
    "print(data_science)"
   ]
  }
 ],
 "metadata": {
  "colab": {
   "provenance": [
    {
     "file_id": "12-S9dPufsrs0Y-dWOhJFrGdqpoIU7Qr9",
     "timestamp": 1669105367008
    },
    {
     "file_id": "1IvSdcigKNNDuqSh44DQ-HYgif_yTpH5Z",
     "timestamp": 1652277217817
    }
   ]
  },
  "kernelspec": {
   "display_name": "Python 3 (ipykernel)",
   "language": "python",
   "name": "python3"
  },
  "language_info": {
   "codemirror_mode": {
    "name": "ipython",
    "version": 3
   },
   "file_extension": ".py",
   "mimetype": "text/x-python",
   "name": "python",
   "nbconvert_exporter": "python",
   "pygments_lexer": "ipython3",
   "version": "3.9.12"
  }
 },
 "nbformat": 4,
 "nbformat_minor": 4
}
