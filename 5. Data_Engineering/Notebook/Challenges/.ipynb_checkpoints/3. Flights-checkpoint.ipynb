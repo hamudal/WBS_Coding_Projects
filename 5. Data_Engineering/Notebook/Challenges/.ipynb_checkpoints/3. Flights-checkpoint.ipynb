{
 "cells": [
  {
   "cell_type": "code",
   "execution_count": 1,
   "id": "b9cb1a43-a47d-44df-9d9b-af50e711e9dc",
   "metadata": {},
   "outputs": [],
   "source": [
    "import pandas as pd\n",
    "import sqlalchemy\n",
    "import requests\n",
    "import datetime"
   ]
  },
  {
   "cell_type": "code",
   "execution_count": 2,
   "id": "0a83eb61-8650-442e-931f-3abee30e5558",
   "metadata": {},
   "outputs": [],
   "source": [
    "host = 'wbs-project3-db.c5v1hsxt2ic8.eu-central-1.rds.amazonaws.com'\n",
    "schema = 'gans'\n",
    "user = 'admin'\n",
    "password = 'Awspark2022'\n",
    "port = 3306\n",
    "con = f'mysql+pymysql://{user}:{password}@{host}:{port}/{schema}'"
   ]
  },
  {
   "cell_type": "code",
   "execution_count": 3,
   "id": "28610784-c7f8-4609-b3d1-cf13316e880d",
   "metadata": {
    "tags": []
   },
   "outputs": [
    {
     "data": {
      "text/html": [
       "<div>\n",
       "<style scoped>\n",
       "    .dataframe tbody tr th:only-of-type {\n",
       "        vertical-align: middle;\n",
       "    }\n",
       "\n",
       "    .dataframe tbody tr th {\n",
       "        vertical-align: top;\n",
       "    }\n",
       "\n",
       "    .dataframe thead th {\n",
       "        text-align: right;\n",
       "    }\n",
       "</style>\n",
       "<table border=\"1\" class=\"dataframe\">\n",
       "  <thead>\n",
       "    <tr style=\"text-align: right;\">\n",
       "      <th></th>\n",
       "      <th>city_id</th>\n",
       "      <th>icao</th>\n",
       "    </tr>\n",
       "  </thead>\n",
       "  <tbody>\n",
       "  </tbody>\n",
       "</table>\n",
       "</div>"
      ],
      "text/plain": [
       "Empty DataFrame\n",
       "Columns: [city_id, icao]\n",
       "Index: []"
      ]
     },
     "execution_count": 3,
     "metadata": {},
     "output_type": "execute_result"
    }
   ],
   "source": [
    "airports_df = pd.read_sql('airports',con=con)\n",
    "airports_df"
   ]
  },
  {
   "cell_type": "code",
   "execution_count": null,
   "id": "658572e1-a12c-4510-a4e1-c7b7cb0074e2",
   "metadata": {},
   "outputs": [],
   "source": []
  },
  {
   "cell_type": "code",
   "execution_count": 4,
   "id": "bc35232f-aba7-4215-99fb-54777f2c2fa2",
   "metadata": {},
   "outputs": [],
   "source": [
    "querystring = {\"withLeg\":\"true\",\"withCancelled\":\"true\",\"withCodeshared\":\"true\",\"withCargo\":\"true\",\n",
    "               \"withPrivate\":\"true\",\"withLocation\":\"false\"}\n",
    "headers = {\n",
    "\t\"X-RapidAPI-Key\": \"0139f8dfbdmsh2c74d8d3164ce7ap1b3e2bjsn77505670c3ca\",\n",
    "\t\"X-RapidAPI-Host\": \"aerodatabox.p.rapidapi.com\"\n",
    "}"
   ]
  },
  {
   "cell_type": "code",
   "execution_count": 5,
   "id": "bb8a622a-a671-4830-9351-bb60edd806a2",
   "metadata": {},
   "outputs": [],
   "source": [
    "today = datetime.date.today()\n",
    "tomorrow = str(today + datetime.timedelta(days=1))\n",
    "    \n",
    "times = [[\"00:00\",\"11:59\"],[\"12:00\",\"23:59\"]]"
   ]
  },
  {
   "cell_type": "code",
   "execution_count": 6,
   "id": "9be5ef88-3ec1-40ef-a332-722ab64a9eaa",
   "metadata": {},
   "outputs": [],
   "source": [
    "icao_list = airports_df['icao'].to_list()"
   ]
  },
  {
   "cell_type": "code",
   "execution_count": 7,
   "id": "9e6a74de-ed91-4e43-a1ef-c68c8b653163",
   "metadata": {},
   "outputs": [
    {
     "data": {
      "text/plain": [
       "[]"
      ]
     },
     "execution_count": 7,
     "metadata": {},
     "output_type": "execute_result"
    }
   ],
   "source": [
    "icao_list[1:2]"
   ]
  },
  {
   "cell_type": "code",
   "execution_count": 8,
   "id": "bd48ebe7-4482-4647-93b5-e34a102a2094",
   "metadata": {},
   "outputs": [],
   "source": [
    "flights_dict = {'ICAO':[],'departure_airport':[],'local_time':[]}\n",
    "icao_list = airports_df['icao'].to_list()\n",
    "\n",
    "for time in times:\n",
    "    \n",
    "    for icao in icao_list[1:2]:\n",
    "        url = f\"https://aerodatabox.p.rapidapi.com/flights/airports/icao/{icao}/{tomorrow}T{time[0]}/{tomorrow}T{time[1]}\"\n",
    "        response = requests.request(\"GET\", url, headers=headers, params=querystring)\n",
    "        print(response)\n",
    "        flight_json = response.json()\n",
    "        \n",
    "        for flight in flight_json['arrivals']:\n",
    "            flights_dict['ICAO'].append(icao)\n",
    "            try:\n",
    "                flights_dict['departure_airport'].append(flight['departure']['airport']['icao'])\n",
    "            except:\n",
    "                flights_dict['departure_airport'].append('unknown')\n",
    "            try:\n",
    "                flights_dict['local_time'].append(flight['arrival']['scheduledTimeLocal'])\n",
    "            except:\n",
    "                flights_dict['local_time'].append(pd.NaT)"
   ]
  },
  {
   "cell_type": "code",
   "execution_count": 9,
   "id": "a1441436-e1fa-4566-aef4-ba1a966dee3e",
   "metadata": {},
   "outputs": [],
   "source": [
    "flights_df = pd.DataFrame(flights_dict)"
   ]
  },
  {
   "cell_type": "code",
   "execution_count": 10,
   "id": "0749b593-bfe4-4c93-97ee-3256f8f6b296",
   "metadata": {},
   "outputs": [],
   "source": [
    "flights_df['local_time'] = pd.to_datetime(flights_df['local_time'])"
   ]
  },
  {
   "cell_type": "code",
   "execution_count": 11,
   "id": "9a8e1cc2-1bb5-4179-9fe3-26286706129d",
   "metadata": {},
   "outputs": [
    {
     "data": {
      "text/plain": [
       "0"
      ]
     },
     "execution_count": 11,
     "metadata": {},
     "output_type": "execute_result"
    }
   ],
   "source": [
    "flights_df.to_sql('flight',con=con,if_exists='append',index=False)"
   ]
  }
 ],
 "metadata": {
  "kernelspec": {
   "display_name": "Python 3 (ipykernel)",
   "language": "python",
   "name": "python3"
  },
  "language_info": {
   "codemirror_mode": {
    "name": "ipython",
    "version": 3
   },
   "file_extension": ".py",
   "mimetype": "text/x-python",
   "name": "python",
   "nbconvert_exporter": "python",
   "pygments_lexer": "ipython3",
   "version": "3.9.12"
  }
 },
 "nbformat": 4,
 "nbformat_minor": 5
}
