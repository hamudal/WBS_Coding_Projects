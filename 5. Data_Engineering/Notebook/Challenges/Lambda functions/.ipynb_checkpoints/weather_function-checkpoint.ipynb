{
 "cells": [
  {
   "cell_type": "code",
   "execution_count": null,
   "id": "78222cfa-8496-4538-a424-bed440ac1e01",
   "metadata": {},
   "outputs": [],
   "source": [
    "import pandas as pd\n",
    "import requests\n",
    "import sqlalchemy"
   ]
  },
  {
   "cell_type": "code",
   "execution_count": null,
   "id": "1d39e785-09c4-4db4-858b-9351763a4430",
   "metadata": {},
   "outputs": [],
   "source": [
    "host = 'wbs-project3-db.c5v1hsxt2ic8.eu-central-1.rds.amazonaws.com'\n",
    "schema = 'gans'\n",
    "user = 'admin'\n",
    "password = 'Your Password'\n",
    "port = 3306\n",
    "con = f'mysql+pymysql://{user}:{password}@{host}:{port}/{schema}'"
   ]
  },
  {
   "cell_type": "code",
   "execution_count": null,
   "id": "67bd31b0-0c31-49fc-a0bf-7163be3c3487",
   "metadata": {},
   "outputs": [],
   "source": [
    "city_df = pd.read_sql('city',con=con)"
   ]
  },
  {
   "cell_type": "code",
   "execution_count": null,
   "id": "a5213b89-62f7-4974-883f-eb09dee53c74",
   "metadata": {},
   "outputs": [],
   "source": [
    "def get_weather(city_df):\n",
    "    \n",
    "    API_key = 'Your Key'\n",
    "    \n",
    "    weather_dict = {'city_id':[],\n",
    "                'time':[],\n",
    "                'temp':[],\n",
    "                'wind_speed':[]}\n",
    "    \n",
    "    for i, city in enumerate(city_df['city_id']):\n",
    "        url = f\"http://api.openweathermap.org/data/2.5/forecast?lat={city_df.iloc[i]['lat']}&lon={city_df.iloc[i]['long']}&appid={API_key}&units=metric\"\n",
    "        response = requests.get(url)\n",
    "        weather_json = response.json()\n",
    "        for time in weather_json['list'][:9]:\n",
    "            weather_dict['city_id'].append(city)\n",
    "            weather_dict['time'].append(time['dt_txt'])\n",
    "            weather_dict['temp'].append(time['main']['temp'])\n",
    "            weather_dict['wind_speed'].append(time['wind']['speed'])\n",
    "\n",
    "    weather_df = pd.DataFrame(weather_dict)\n",
    "   \n",
    "    return weather_df"
   ]
  },
  {
   "cell_type": "code",
   "execution_count": null,
   "id": "a559dd24-c6b2-4b78-adfa-a2cb4939ffde",
   "metadata": {},
   "outputs": [],
   "source": [
    "weather_df = get_weather(city_df)"
   ]
  },
  {
   "cell_type": "code",
   "execution_count": null,
   "id": "714dfcf3-ea91-4c5f-9e09-ec0e5b24f16a",
   "metadata": {},
   "outputs": [],
   "source": []
  },
  {
   "cell_type": "code",
   "execution_count": null,
   "id": "f27f118b-1f8a-4baa-adcb-779977f6af33",
   "metadata": {},
   "outputs": [],
   "source": []
  }
 ],
 "metadata": {
  "kernelspec": {
   "display_name": "Python 3 (ipykernel)",
   "language": "python",
   "name": "python3"
  },
  "language_info": {
   "codemirror_mode": {
    "name": "ipython",
    "version": 3
   },
   "file_extension": ".py",
   "mimetype": "text/x-python",
   "name": "python",
   "nbconvert_exporter": "python",
   "pygments_lexer": "ipython3",
   "version": "3.9.12"
  }
 },
 "nbformat": 4,
 "nbformat_minor": 5
}
