{
 "cells": [
  {
   "cell_type": "code",
   "execution_count": null,
   "id": "cc8d9e59-538c-4358-98db-905e2d569c43",
   "metadata": {},
   "outputs": [],
   "source": [
    "import pandas as pd\n",
    "import sqlalchemy\n",
    "import requests\n",
    "import datetime"
   ]
  },
  {
   "cell_type": "code",
   "execution_count": null,
   "id": "477d6ea3-b306-4fb2-9423-50814dc21367",
   "metadata": {},
   "outputs": [],
   "source": [
    "host = 'wbs-project3-db.c5v1hsxt2ic8.eu-central-1.rds.amazonaws.com'\n",
    "schema = 'gans'\n",
    "user = 'admin'\n",
    "password = 'Your Password'\n",
    "port = 3306\n",
    "con = f'mysql+pymysql://{user}:{password}@{host}:{port}/{schema}'"
   ]
  },
  {
   "cell_type": "code",
   "execution_count": null,
   "id": "b5b0cc17-d9ad-476a-a766-4a5b9065b57e",
   "metadata": {},
   "outputs": [],
   "source": [
    "airports_df = pd.read_sql('airports', con=con)"
   ]
  },
  {
   "cell_type": "code",
   "execution_count": null,
   "id": "8bfeb1b1-4263-425e-85f8-409685ae7a2c",
   "metadata": {},
   "outputs": [],
   "source": []
  },
  {
   "cell_type": "code",
   "execution_count": null,
   "id": "93f5d478-ff6d-4898-9e87-a7dfc823c945",
   "metadata": {},
   "outputs": [],
   "source": [
    "def get_flights(airports_df):\n",
    "    querystring = {\"withLeg\":\"true\",\"withCancelled\":\"true\",\"withCodeshared\":\"true\",\"withCargo\":\"true\",\n",
    "                   \"withPrivate\":\"true\",\"withLocation\":\"false\"}\n",
    "    headers = {\n",
    "        \"X-RapidAPI-Key\": \"Your Key\",\n",
    "        \"X-RapidAPI-Host\": \"aerodatabox.p.rapidapi.com\"\n",
    "    }\n",
    "    today = datetime.date.today()\n",
    "    tomorrow = str(today + datetime.timedelta(days=1))\n",
    "    \n",
    "    times = [[\"00:00\",\"11:59\"],[\"12:00\",\"23:59\"]]\n",
    "    \n",
    "    icao_list = airports_df['icao'].to_list()\n",
    "    \n",
    "    flights_dict = {'ICAO':[],'departure_airport':[],'local_time':[]}\n",
    "    \n",
    "\n",
    "    for time in times:\n",
    "\n",
    "        for icao in icao_list[1:2]:\n",
    "            url = f\"https://aerodatabox.p.rapidapi.com/flights/airports/icao/{icao}/{tomorrow}T{time[0]}/{tomorrow}T{time[1]}\"\n",
    "            response = requests.request(\"GET\", url, headers=headers, params=querystring)\n",
    "            print(response)\n",
    "            flight_json = response.json()\n",
    "\n",
    "            for flight in flight_json['arrivals']:\n",
    "                flights_dict['ICAO'].append(icao)\n",
    "                try:\n",
    "                    flights_dict['departure_airport'].append(flight['departure']['airport']['icao'])\n",
    "                except:\n",
    "                    flights_dict['departure_airport'].append('unknown')\n",
    "                try:\n",
    "                    flights_dict['local_time'].append(flight['arrival']['scheduledTimeLocal'])\n",
    "                except:\n",
    "                    flights_dict['local_time'].append(pd.NaT)\n",
    "                    \n",
    "    flights_df = pd.DataFrame(flights_dict)\n",
    "    flights_df['local_time'] = pd.to_datetime(flights_df['local_time'])\n",
    "    \n",
    "    return flights_df"
   ]
  },
  {
   "cell_type": "code",
   "execution_count": null,
   "id": "b60f53ea-d3a1-44cf-a95c-9bba60bc51a2",
   "metadata": {},
   "outputs": [],
   "source": [
    "flights_df = get_flights(airport_df)"
   ]
  },
  {
   "cell_type": "code",
   "execution_count": null,
   "id": "ca688158-26fe-4993-b95a-bdd19118ad8f",
   "metadata": {},
   "outputs": [],
   "source": []
  },
  {
   "cell_type": "code",
   "execution_count": null,
   "id": "64c1d868-4732-42ef-8ece-838dc6a10ee6",
   "metadata": {},
   "outputs": [],
   "source": []
  },
  {
   "cell_type": "code",
   "execution_count": null,
   "id": "93cf7127-1576-4381-ad6d-e791231a1f4d",
   "metadata": {},
   "outputs": [],
   "source": []
  }
 ],
 "metadata": {
  "kernelspec": {
   "display_name": "Python 3 (ipykernel)",
   "language": "python",
   "name": "python3"
  },
  "language_info": {
   "codemirror_mode": {
    "name": "ipython",
    "version": 3
   },
   "file_extension": ".py",
   "mimetype": "text/x-python",
   "name": "python",
   "nbconvert_exporter": "python",
   "pygments_lexer": "ipython3",
   "version": "3.9.12"
  }
 },
 "nbformat": 4,
 "nbformat_minor": 5
}
