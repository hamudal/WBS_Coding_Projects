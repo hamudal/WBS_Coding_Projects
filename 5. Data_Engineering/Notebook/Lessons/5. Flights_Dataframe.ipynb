{
 "cells": [
  {
   "cell_type": "markdown",
   "metadata": {
    "id": "Wu99MtE0j0za"
   },
   "source": [
    "So far we've learnt how to scrape the web, and how to make a request for information from an API. Some websites make APIs even easier. Check out [RapidAPI](https://rapidapi.com/) they take care of writing most of the code for you.\n",
    "\n",
    "We will use the [AeroDataBox API](https://rapidapi.com/aedbx-aedbx/api/aerodatabox/), which can retrieve all sorts of information about flights and airports. We will show you how to retrieve information about the airports, and then it's up to you to apply this, along with what you've already learnt this week, to **produce a function, which retrieves tomorrows flight information for the major airports in the cities you web scraped**."
   ]
  },
  {
   "cell_type": "code",
   "execution_count": null,
   "metadata": {
    "id": "lIYdn1woOS1n"
   },
   "outputs": [],
   "source": [
    "import pandas as pd\n",
    "import requests"
   ]
  },
  {
   "cell_type": "markdown",
   "metadata": {
    "id": "_xaphJ-ElsfW"
   },
   "source": [
    "On the left hand side of the AeroDataBox API page, you'll see a list of options for information that you can retrieve:\n",
    "> - Flights API\n",
    "- Subsciption / PUSH API\n",
    "- Airport API\n",
    "- Aircraft API\n",
    "- Healthcheck & Status API\n",
    "\n",
    "1. We want to select `Airport API`\n",
    "\n",
    "2. Then within Airport API we want to select `Search airports by location`\n",
    "\n",
    "3. Now in the middle third you'll want to enter the `latitude` and `longitude` of any city to test... we chose Berlin: latitude 52.31 longitude 13.24. Next we changed the `radiusKM` to only 50km. And finally set `withFlightInfoOnly` to true, so it will only return airports which have flight data (scheduled or live) available.\n",
    "\n",
    "4. On the right hand third of the screen you should see a block of code that looks pretty unfamiliar. This is because by default the code is probably set to *(Node.js) Axios*. However, we have the power to change this to familiar python. Select the dropdown box at the top of the code and select `python > requests`.\n",
    "\n",
    "Now you can copy the code to your notebook and it should look a little something like the cell below:"
   ]
  },
  {
   "cell_type": "code",
   "execution_count": null,
   "metadata": {
    "id": "aTMBBZQ350TE",
    "outputId": "4ef08110-bba2-43a9-958f-fe518d34343a"
   },
   "outputs": [
    {
     "name": "stdout",
     "output_type": "stream",
     "text": [
      "{\"items\":[{\"icao\":\"EDDB\",\"iata\":\"BER\",\"name\":\"Berlin, Berlin Brandenburg\",\"shortName\":\"Brandenburg\",\"municipalityName\":\"Berlin\",\"location\":{\"lat\":52.35139,\"lon\":13.493889},\"countryCode\":\"DE\"},{\"icao\":\"EDDT\",\"iata\":\"TXL\",\"name\":\"Berlin, Berlin-Tegel\",\"shortName\":\"-Tegel\",\"municipalityName\":\"Berlin\",\"location\":{\"lat\":52.5597,\"lon\":13.287699},\"countryCode\":\"DE\"}]}\n"
     ]
    }
   ],
   "source": [
    "import requests\n",
    "\n",
    "url = \"https://aerodatabox.p.rapidapi.com/airports/search/location/52.31/13.24/km/50/16\"\n",
    "\n",
    "querystring = {\"withFlightInfoOnly\":\"true\"}\n",
    "\n",
    "headers = {\n",
    "\t\"X-RapidAPI-Key\": \"Your Key\",\n",
    "\t\"X-RapidAPI-Host\": \"aerodatabox.p.rapidapi.com\"\n",
    "}\n",
    "\n",
    "response = requests.request(\"GET\", url, headers=headers, params=querystring)\n",
    "\n",
    "print(response.text)"
   ]
  },
  {
   "cell_type": "code",
   "execution_count": null,
   "metadata": {
    "colab": {
     "base_uri": "https://localhost:8080/"
    },
    "id": "ZDlUQxEZicBS",
    "outputId": "0724cc05-d61c-49f5-b95c-2af0910bd150"
   },
   "outputs": [
    {
     "name": "stdout",
     "output_type": "stream",
     "text": [
      "{\"message\":\"You are not subscribed to this API.\"}\n"
     ]
    }
   ],
   "source": [
    "import requests\n",
    "\n",
    "url = \"https://aerodatabox.p.rapidapi.com/airports/search/location/52.31/13.24/km/50/16\"\n",
    "\n",
    "querystring = {\"withFlightInfoOnly\":\"true\"}\n",
    "\n",
    "headers = {\n",
    "\t\"X-RapidAPI-Key\": \"YOUR_API_KEY_HERE\",\n",
    "\t\"X-RapidAPI-Host\": \"aerodatabox.p.rapidapi.com\"\n",
    "}\n",
    "\n",
    "response = requests.request(\"GET\", url, headers=headers, params=querystring)\n",
    "\n",
    "print(response.text)"
   ]
  },
  {
   "cell_type": "markdown",
   "metadata": {
    "id": "yAI0OyJpopkG"
   },
   "source": [
    "Let's view the response as `.json()` instead of `.text` so that it's easier to read"
   ]
  },
  {
   "cell_type": "code",
   "execution_count": null,
   "metadata": {
    "colab": {
     "base_uri": "https://localhost:8080/",
     "height": 175
    },
    "id": "iYctxSRWo22l",
    "outputId": "e06ae2a8-3282-4adf-adf5-75e59ba3b62b",
    "tags": []
   },
   "outputs": [
    {
     "data": {
      "text/html": [
       "<div>\n",
       "<style scoped>\n",
       "    .dataframe tbody tr th:only-of-type {\n",
       "        vertical-align: middle;\n",
       "    }\n",
       "\n",
       "    .dataframe tbody tr th {\n",
       "        vertical-align: top;\n",
       "    }\n",
       "\n",
       "    .dataframe thead th {\n",
       "        text-align: right;\n",
       "    }\n",
       "</style>\n",
       "<table border=\"1\" class=\"dataframe\">\n",
       "  <thead>\n",
       "    <tr style=\"text-align: right;\">\n",
       "      <th></th>\n",
       "      <th>icao</th>\n",
       "      <th>iata</th>\n",
       "      <th>name</th>\n",
       "      <th>shortName</th>\n",
       "      <th>municipalityName</th>\n",
       "      <th>location</th>\n",
       "      <th>countryCode</th>\n",
       "    </tr>\n",
       "  </thead>\n",
       "  <tbody>\n",
       "    <tr>\n",
       "      <th>0</th>\n",
       "      <td>EDDB</td>\n",
       "      <td>BER</td>\n",
       "      <td>Berlin, Berlin Brandenburg</td>\n",
       "      <td>Brandenburg</td>\n",
       "      <td>Berlin</td>\n",
       "      <td>{'lat': 52.35139, 'lon': 13.493889}</td>\n",
       "      <td>DE</td>\n",
       "    </tr>\n",
       "    <tr>\n",
       "      <th>1</th>\n",
       "      <td>EDDT</td>\n",
       "      <td>TXL</td>\n",
       "      <td>Berlin, Berlin-Tegel</td>\n",
       "      <td>-Tegel</td>\n",
       "      <td>Berlin</td>\n",
       "      <td>{'lat': 52.5597, 'lon': 13.287699}</td>\n",
       "      <td>DE</td>\n",
       "    </tr>\n",
       "  </tbody>\n",
       "</table>\n",
       "</div>"
      ],
      "text/plain": [
       "   icao iata                        name    shortName municipalityName  \\\n",
       "0  EDDB  BER  Berlin, Berlin Brandenburg  Brandenburg           Berlin   \n",
       "1  EDDT  TXL        Berlin, Berlin-Tegel       -Tegel           Berlin   \n",
       "\n",
       "                              location countryCode  \n",
       "0  {'lat': 52.35139, 'lon': 13.493889}          DE  \n",
       "1   {'lat': 52.5597, 'lon': 13.287699}          DE  "
      ]
     },
     "execution_count": 18,
     "metadata": {},
     "output_type": "execute_result"
    }
   ],
   "source": [
    "pd.DataFrame(response.json()['items'])"
   ]
  },
  {
   "cell_type": "markdown",
   "metadata": {
    "id": "mPPVXqoDpiJ0"
   },
   "source": [
    "We can now turn this into a dataframe using `.json_normalize()`"
   ]
  },
  {
   "cell_type": "code",
   "execution_count": null,
   "metadata": {
    "colab": {
     "base_uri": "https://localhost:8080/",
     "height": 175
    },
    "id": "o3dg9WHhf2OT",
    "outputId": "e17ca354-69ae-4e46-fdc6-bee628555d51"
   },
   "outputs": [
    {
     "data": {
      "text/html": [
       "<div>\n",
       "<style scoped>\n",
       "    .dataframe tbody tr th:only-of-type {\n",
       "        vertical-align: middle;\n",
       "    }\n",
       "\n",
       "    .dataframe tbody tr th {\n",
       "        vertical-align: top;\n",
       "    }\n",
       "\n",
       "    .dataframe thead th {\n",
       "        text-align: right;\n",
       "    }\n",
       "</style>\n",
       "<table border=\"1\" class=\"dataframe\">\n",
       "  <thead>\n",
       "    <tr style=\"text-align: right;\">\n",
       "      <th></th>\n",
       "      <th>icao</th>\n",
       "      <th>iata</th>\n",
       "      <th>name</th>\n",
       "      <th>shortName</th>\n",
       "      <th>municipalityName</th>\n",
       "      <th>countryCode</th>\n",
       "      <th>location.lat</th>\n",
       "      <th>location.lon</th>\n",
       "    </tr>\n",
       "  </thead>\n",
       "  <tbody>\n",
       "    <tr>\n",
       "      <th>0</th>\n",
       "      <td>EDDB</td>\n",
       "      <td>BER</td>\n",
       "      <td>Berlin, Berlin Brandenburg</td>\n",
       "      <td>Brandenburg</td>\n",
       "      <td>Berlin</td>\n",
       "      <td>DE</td>\n",
       "      <td>52.35139</td>\n",
       "      <td>13.493889</td>\n",
       "    </tr>\n",
       "    <tr>\n",
       "      <th>1</th>\n",
       "      <td>EDDT</td>\n",
       "      <td>TXL</td>\n",
       "      <td>Berlin, Berlin-Tegel</td>\n",
       "      <td>-Tegel</td>\n",
       "      <td>Berlin</td>\n",
       "      <td>DE</td>\n",
       "      <td>52.55970</td>\n",
       "      <td>13.287699</td>\n",
       "    </tr>\n",
       "  </tbody>\n",
       "</table>\n",
       "</div>"
      ],
      "text/plain": [
       "   icao iata                        name    shortName municipalityName  \\\n",
       "0  EDDB  BER  Berlin, Berlin Brandenburg  Brandenburg           Berlin   \n",
       "1  EDDT  TXL        Berlin, Berlin-Tegel       -Tegel           Berlin   \n",
       "\n",
       "  countryCode  location.lat  location.lon  \n",
       "0          DE      52.35139     13.493889  \n",
       "1          DE      52.55970     13.287699  "
      ]
     },
     "execution_count": 19,
     "metadata": {},
     "output_type": "execute_result"
    }
   ],
   "source": [
    "pd.json_normalize(response.json()['items'])"
   ]
  },
  {
   "cell_type": "markdown",
   "metadata": {
    "id": "Q47nbbH0I3Xt"
   },
   "source": [
    "Let's now use this for the latitude and longitude of multiple cities"
   ]
  },
  {
   "cell_type": "code",
   "execution_count": null,
   "metadata": {
    "id": "dj30z5yR50TG"
   },
   "outputs": [],
   "source": [
    "def search_airports(lat, lon):\n",
    "\n",
    "    url = \"https://aerodatabox.p.rapidapi.com/airports/search/location/52.31/13.24/km/50/16\"\n",
    "\n",
    "    querystring = {\"withFlightInfoOnly\":\"true\"}\n",
    "\n",
    "    headers = {\n",
    "        \"X-RapidAPI-Key\": \"YOUR_API_KEY_HERE\",\n",
    "        \"X-RapidAPI-Host\": \"aerodatabox.p.rapidapi.com\"\n",
    "    }\n",
    "\n",
    "    response = requests.request(\"GET\", url, headers=headers, params=querystring)\n",
    "    \n",
    "    return pd.json_normalize(response.json()['items'])"
   ]
  },
  {
   "cell_type": "code",
   "execution_count": null,
   "metadata": {
    "id": "NlgpoN2V50TG",
    "outputId": "2b84716d-eed3-4a7c-815a-8a914d451a19"
   },
   "outputs": [
    {
     "data": {
      "text/html": [
       "<div>\n",
       "<style scoped>\n",
       "    .dataframe tbody tr th:only-of-type {\n",
       "        vertical-align: middle;\n",
       "    }\n",
       "\n",
       "    .dataframe tbody tr th {\n",
       "        vertical-align: top;\n",
       "    }\n",
       "\n",
       "    .dataframe thead th {\n",
       "        text-align: right;\n",
       "    }\n",
       "</style>\n",
       "<table border=\"1\" class=\"dataframe\">\n",
       "  <thead>\n",
       "    <tr style=\"text-align: right;\">\n",
       "      <th></th>\n",
       "      <th>icao</th>\n",
       "      <th>iata</th>\n",
       "      <th>name</th>\n",
       "      <th>shortName</th>\n",
       "      <th>municipalityName</th>\n",
       "      <th>countryCode</th>\n",
       "      <th>location.lat</th>\n",
       "      <th>location.lon</th>\n",
       "    </tr>\n",
       "  </thead>\n",
       "  <tbody>\n",
       "    <tr>\n",
       "      <th>0</th>\n",
       "      <td>EDDB</td>\n",
       "      <td>BER</td>\n",
       "      <td>Berlin, Berlin Brandenburg</td>\n",
       "      <td>Brandenburg</td>\n",
       "      <td>Berlin</td>\n",
       "      <td>DE</td>\n",
       "      <td>52.35139</td>\n",
       "      <td>13.493889</td>\n",
       "    </tr>\n",
       "    <tr>\n",
       "      <th>1</th>\n",
       "      <td>EDDT</td>\n",
       "      <td>TXL</td>\n",
       "      <td>Berlin, Berlin-Tegel</td>\n",
       "      <td>-Tegel</td>\n",
       "      <td>Berlin</td>\n",
       "      <td>DE</td>\n",
       "      <td>52.55970</td>\n",
       "      <td>13.287699</td>\n",
       "    </tr>\n",
       "  </tbody>\n",
       "</table>\n",
       "</div>"
      ],
      "text/plain": [
       "   icao iata                        name    shortName municipalityName  \\\n",
       "0  EDDB  BER  Berlin, Berlin Brandenburg  Brandenburg           Berlin   \n",
       "1  EDDT  TXL        Berlin, Berlin-Tegel       -Tegel           Berlin   \n",
       "\n",
       "  countryCode  location.lat  location.lon  \n",
       "0          DE      52.35139     13.493889  \n",
       "1          DE      52.55970     13.287699  "
      ]
     },
     "execution_count": 21,
     "metadata": {},
     "output_type": "execute_result"
    }
   ],
   "source": [
    "search_airports(52.31, 13.24)"
   ]
  },
  {
   "cell_type": "code",
   "execution_count": null,
   "metadata": {
    "id": "cJlnBmVx50TG"
   },
   "outputs": [],
   "source": [
    "lat = [1, 2, 3 ,4 ,5]\n",
    "lon = [6, 7, 8, 9, 3]\n",
    "\n",
    "list_for_df = []\n",
    "\n",
    "for i in range(len(lat)):\n",
    "        url = f\"https://aerodatabox.p.rapidapi.com/airports/search/location/{lat[i]}/{lon[i]}/km/50/16\"\n",
    "\n",
    "    querystring = {\"withFlightInfoOnly\":\"true\"}\n",
    "\n",
    "    headers = {\n",
    "        \"X-RapidAPI-Key\": \"YOUR_API_KEY_HERE\",\n",
    "        \"X-RapidAPI-Host\": \"aerodatabox.p.rapidapi.com\"\n",
    "    }\n",
    "\n",
    "    response = requests.request(\"GET\", url, headers=headers, params=querystring)\n",
    "    \n",
    "    list_for_df.append(pd.json_normalize(response.json()['items']))\n",
    "\n",
    "  return pd.concat(list_for_df, ignore_index=True)"
   ]
  },
  {
   "cell_type": "code",
   "execution_count": null,
   "metadata": {
    "id": "q0VCPFOmH3vl"
   },
   "outputs": [],
   "source": [
    "def icao_airport_codes(latitudes, longitudes):\n",
    "\n",
    "  #assert len(latitudes) == len(longitudes)\n",
    "  \n",
    "  list_for_df = []\n",
    "\n",
    "  for i in range(len(latitudes)):\n",
    "\n",
    "    url = f\"https://aerodatabox.p.rapidapi.com/airports/search/location/{latitudes[i]}/{longitudes[i]}/km/100/16\"\n",
    "\n",
    "    querystring = {\"withFlightInfoOnly\":\"true\"}\n",
    "\n",
    "    headers = {\n",
    "      \"X-RapidAPI-Host\": \"aerodatabox.p.rapidapi.com\",\n",
    "      \"X-RapidAPI-Key\": \"YOUR_API_KEY_HERE\"\n",
    "    }\n",
    "\n",
    "    response = requests.request(\"GET\", url, headers=headers, params=querystring)\n",
    "\n",
    "    list_for_df.append(pd.json_normalize(response.json()['items']))\n",
    "\n",
    "  return pd.concat(list_for_df, ignore_index=True)"
   ]
  },
  {
   "cell_type": "markdown",
   "metadata": {
    "id": "q3DS1gbq3xG8"
   },
   "source": [
    "###### **Challenge 1:** Icao codes\n",
    "If you use the above for all of your cities, you can create a DataFrame of all the airports and their associated `icao` codes. Perfect for a relational database.\n",
    "\n",
    "###### **Challenge 2:** Arrivals information\n",
    "Using what you have been shown above, plus the skills you've learnt in the last couple of days:\n",
    "1. In `AeroDataBox API` use the `Flight API` > `FIDS/Schedules: Airport departures and arrivals by airport ICAO code` section\n",
    "2. Fill out the parameters in the middle third and then copy the `python: requests` code from the right hand third\n",
    "3. Explore the data you get back. What would be useful in your DataFrame and what can be excluded? Remember Gans wants to know about when people are arriving in the city\n",
    "4. Make a DataFrame from the information you see as important\n",
    "5. Condense everything you did above into a function that can take a list of ICAO codes as an input, and as an output gives you a DataFrame with the information for *tomorrows arrivals*"
   ]
  },
  {
   "cell_type": "code",
   "execution_count": null,
   "metadata": {
    "id": "4xFK3kVd4w5A"
   },
   "outputs": [],
   "source": [
    "# your code here"
   ]
  },
  {
   "cell_type": "code",
   "execution_count": null,
   "metadata": {
    "id": "vEbuYa5a50TH"
   },
   "outputs": [],
   "source": [
    "url = \"https://aerodatabox.p.rapidapi.com/flights/airports/icao/EDDB/2022-10-04T20:00/2022-10-05T08:00\"\n",
    "\n",
    "querystring = {\"withLeg\":\"true\",\"direction\":\"Arrival\",\"withCancelled\":\"false\",\"withCodeshared\":\"true\",\"withCargo\":\"false\",\"withPrivate\":\"false\",\"withLocation\":\"false\"}\n",
    "\n",
    "headers = {\n",
    "\t\"X-RapidAPI-Key\": \"YOUR_API_KEY_HERE\",\n",
    "\t\"X-RapidAPI-Host\": \"aerodatabox.p.rapidapi.com\"\n",
    "}\n",
    "\n",
    "response = requests.request(\"GET\", url, headers=headers, params=querystring)"
   ]
  },
  {
   "cell_type": "code",
   "execution_count": null,
   "metadata": {
    "id": "cCjArlK550TH"
   },
   "outputs": [],
   "source": [
    "from IPython.display import JSON"
   ]
  },
  {
   "cell_type": "code",
   "execution_count": null,
   "metadata": {
    "id": "o3WZHsig50TH",
    "outputId": "0c93795d-0e9b-45a2-b842-078b7ed28c1b"
   },
   "outputs": [
    {
     "data": {
      "application/json": {
       "arrivals": [
        {
         "aircraft": {
          "model": "Airbus A220-300"
         },
         "airline": {
          "name": "Air Baltic"
         },
         "arrival": {
          "quality": [
           "Basic"
          ],
          "scheduledTimeLocal": "2022-10-04 20:35+02:00",
          "scheduledTimeUtc": "2022-10-04 18:35Z",
          "terminal": "1"
         },
         "codeshareStatus": "Unknown",
         "departure": {
          "airport": {
           "iata": "VNO",
           "icao": "EYVI",
           "name": "Vilnius"
          },
          "quality": [
           "Basic"
          ],
          "scheduledTimeLocal": "2022-10-04 20:00+03:00",
          "scheduledTimeUtc": "2022-10-04 17:00Z"
         },
         "isCargo": false,
         "number": "BT 921",
         "status": "Unknown"
        },
        {
         "aircraft": {
          "model": "Boeing 737-800"
         },
         "airline": {
          "name": "Norwegian Air Shuttle"
         },
         "arrival": {
          "quality": [
           "Basic"
          ],
          "scheduledTimeLocal": "2022-10-04 20:05+02:00",
          "scheduledTimeUtc": "2022-10-04 18:05Z",
          "terminal": "1"
         },
         "codeshareStatus": "Unknown",
         "departure": {
          "actualTimeLocal": "2022-10-04 18:27+02:00",
          "actualTimeUtc": "2022-10-04 16:27Z",
          "airport": {
           "iata": "OSL",
           "icao": "ENGM",
           "name": "Oslo"
          },
          "checkInDesk": "123",
          "gate": "D3",
          "quality": [
           "Basic",
           "Live"
          ],
          "scheduledTimeLocal": "2022-10-04 18:30+02:00",
          "scheduledTimeUtc": "2022-10-04 16:30Z"
         },
         "isCargo": false,
         "number": "DY 1108",
         "status": "Unknown"
        },
        {
         "aircraft": {
          "model": "Airbus A320"
         },
         "airline": {
          "name": "Ryanair"
         },
         "arrival": {
          "quality": [
           "Basic"
          ],
          "scheduledTimeLocal": "2022-10-04 20:05+02:00",
          "scheduledTimeUtc": "2022-10-04 18:05Z",
          "terminal": "0"
         },
         "codeshareStatus": "Unknown",
         "departure": {
          "actualTimeLocal": "2022-10-04 17:24+02:00",
          "actualTimeUtc": "2022-10-04 15:24Z",
          "airport": {
           "iata": "PMI",
           "icao": "LEPA",
           "name": "Palma De Mallorca"
          },
          "checkInDesk": "002-017",
          "gate": "C68",
          "quality": [
           "Basic",
           "Live"
          ],
          "scheduledTimeLocal": "2022-10-04 17:20+02:00",
          "scheduledTimeUtc": "2022-10-04 15:20Z",
          "terminal": "N"
         },
         "isCargo": false,
         "number": "FR 279",
         "status": "Unknown"
        },
        {
         "aircraft": {
          "model": "Boeing 737-800"
         },
         "airline": {
          "name": "Ryanair"
         },
         "arrival": {
          "quality": [
           "Basic"
          ],
          "scheduledTimeLocal": "2022-10-04 20:00+02:00",
          "scheduledTimeUtc": "2022-10-04 18:00Z",
          "terminal": "0"
         },
         "codeshareStatus": "Unknown",
         "departure": {
          "airport": {
           "iata": "CHQ",
           "icao": "LGSA",
           "name": "Souda"
          },
          "quality": [
           "Basic"
          ],
          "scheduledTimeLocal": "2022-10-04 17:50+03:00",
          "scheduledTimeUtc": "2022-10-04 14:50Z"
         },
         "isCargo": false,
         "number": "FR 5642",
         "status": "Unknown"
        },
        {
         "aircraft": {
          "modeS": "4D00DA",
          "model": "Bombardier Dash 8 Q400 / DHC-8-400",
          "reg": "LX-LQJ"
         },
         "airline": {
          "name": "Luxair"
         },
         "arrival": {
          "quality": [
           "Basic"
          ],
          "scheduledTimeLocal": "2022-10-04 20:10+02:00",
          "scheduledTimeUtc": "2022-10-04 18:10Z",
          "terminal": "1"
         },
         "callSign": "LGL9473",
         "codeshareStatus": "Unknown",
         "departure": {
          "actualTimeLocal": "2022-10-04 18:40+02:00",
          "actualTimeUtc": "2022-10-04 16:40Z",
          "airport": {
           "iata": "LUX",
           "icao": "ELLX",
           "name": "Luxembourg"
          },
          "quality": [
           "Basic",
           "Live"
          ],
          "scheduledTimeLocal": "2022-10-04 18:40+02:00",
          "scheduledTimeUtc": "2022-10-04 16:40Z"
         },
         "isCargo": false,
         "number": "LG 9473",
         "status": "Unknown"
        },
        {
         "aircraft": {
          "model": "Airbus A320"
         },
         "airline": {
          "name": "Lufthansa"
         },
         "arrival": {
          "quality": [
           "Basic"
          ],
          "scheduledTimeLocal": "2022-10-04 20:05+02:00",
          "scheduledTimeUtc": "2022-10-04 18:05Z",
          "terminal": "1"
         },
         "codeshareStatus": "Unknown",
         "departure": {
          "actualTimeLocal": "2022-10-04 19:00+02:00",
          "actualTimeUtc": "2022-10-04 17:00Z",
          "airport": {
           "iata": "MUC",
           "icao": "EDDM",
           "name": "Munich"
          },
          "quality": [
           "Basic",
           "Live"
          ],
          "scheduledTimeLocal": "2022-10-04 19:00+02:00",
          "scheduledTimeUtc": "2022-10-04 17:00Z",
          "terminal": "2"
         },
         "isCargo": false,
         "number": "LH 1942",
         "status": "Unknown"
        },
        {
         "aircraft": {
          "model": "Airbus A321",
          "reg": "D-AISW"
         },
         "airline": {
          "name": "Lufthansa"
         },
         "arrival": {
          "quality": [
           "Basic"
          ],
          "scheduledTimeLocal": "2022-10-04 20:55+02:00",
          "scheduledTimeUtc": "2022-10-04 18:55Z",
          "terminal": "1"
         },
         "codeshareStatus": "Unknown",
         "departure": {
          "actualTimeLocal": "2022-10-04 19:45+02:00",
          "actualTimeUtc": "2022-10-04 17:45Z",
          "airport": {
           "iata": "FRA",
           "icao": "EDDF",
           "name": "Frankfurt-am-Main"
          },
          "checkInDesk": "263-461",
          "gate": "A52",
          "quality": [
           "Basic",
           "Live"
          ],
          "scheduledTimeLocal": "2022-10-04 19:45+02:00",
          "scheduledTimeUtc": "2022-10-04 17:45Z",
          "terminal": "1"
         },
         "isCargo": false,
         "number": "LH 200",
         "status": "Unknown"
        },
        {
         "aircraft": {
          "model": "Airbus A319"
         },
         "airline": {
          "name": "Brussels"
         },
         "arrival": {
          "quality": [
           "Basic"
          ],
          "scheduledTimeLocal": "2022-10-04 20:00+02:00",
          "scheduledTimeUtc": "2022-10-04 18:00Z",
          "terminal": "1"
         },
         "codeshareStatus": "Unknown",
         "departure": {
          "actualTimeLocal": "2022-10-04 18:53+02:00",
          "actualTimeUtc": "2022-10-04 16:53Z",
          "airport": {
           "iata": "BRU",
           "icao": "EBBR",
           "name": "Brussels"
          },
          "checkInDesk": "05",
          "quality": [
           "Basic",
           "Live"
          ],
          "scheduledTimeLocal": "2022-10-04 18:40+02:00",
          "scheduledTimeUtc": "2022-10-04 16:40Z"
         },
         "isCargo": false,
         "number": "SN 2589",
         "status": "Unknown"
        },
        {
         "aircraft": {
          "model": "Airbus A319"
         },
         "airline": {
          "name": "easyJet"
         },
         "arrival": {
          "quality": [
           "Basic"
          ],
          "scheduledTimeLocal": "2022-10-04 20:10+02:00",
          "scheduledTimeUtc": "2022-10-04 18:10Z",
          "terminal": "1"
         },
         "codeshareStatus": "Unknown",
         "departure": {
          "airport": {
           "iata": "OLB",
           "icao": "LIEO",
           "name": "Olbia"
          },
          "quality": [
           "Basic"
          ],
          "scheduledTimeLocal": "2022-10-04 17:50+02:00",
          "scheduledTimeUtc": "2022-10-04 15:50Z"
         },
         "isCargo": false,
         "number": "U2 4590",
         "status": "Unknown"
        },
        {
         "aircraft": {
          "model": "Airbus A320"
         },
         "airline": {
          "name": "easyJet"
         },
         "arrival": {
          "quality": [
           "Basic"
          ],
          "scheduledTimeLocal": "2022-10-04 20:50+02:00",
          "scheduledTimeUtc": "2022-10-04 18:50Z",
          "terminal": "1"
         },
         "codeshareStatus": "Unknown",
         "departure": {
          "airport": {
           "iata": "BSL",
           "icao": "LFSB",
           "name": "Bâle/Mulhouse"
          },
          "quality": [
           "Basic"
          ],
          "scheduledTimeLocal": "2022-10-04 19:15+02:00",
          "scheduledTimeUtc": "2022-10-04 17:15Z"
         },
         "isCargo": false,
         "number": "U2 4640",
         "status": "Unknown"
        },
        {
         "aircraft": {
          "model": "Airbus A319"
         },
         "airline": {
          "name": "easyJet"
         },
         "arrival": {
          "quality": [
           "Basic"
          ],
          "scheduledTimeLocal": "2022-10-04 20:35+02:00",
          "scheduledTimeUtc": "2022-10-04 18:35Z",
          "terminal": "1"
         },
         "codeshareStatus": "Unknown",
         "departure": {
          "airport": {
           "iata": "VCE",
           "icao": "LIPZ",
           "name": "Venice"
          },
          "quality": [
           "Basic"
          ],
          "scheduledTimeLocal": "2022-10-04 18:50+02:00",
          "scheduledTimeUtc": "2022-10-04 16:50Z"
         },
         "isCargo": false,
         "number": "U2 5840",
         "status": "Unknown"
        },
        {
         "aircraft": {
          "modeS": "3C49C8",
          "model": "Airbus A319",
          "reg": "D-ABNH"
         },
         "airline": {
          "name": "Eurowings"
         },
         "arrival": {
          "quality": [
           "Basic"
          ],
          "scheduledTimeLocal": "2022-10-04 21:55+02:00",
          "scheduledTimeUtc": "2022-10-04 19:55Z",
          "terminal": "1"
         },
         "callSign": "GWI27LR",
         "codeshareStatus": "Unknown",
         "departure": {
          "actualTimeLocal": "2022-10-04 20:50+02:00",
          "actualTimeUtc": "2022-10-04 18:50Z",
          "airport": {
           "iata": "DUS",
           "icao": "EDDL",
           "name": "Duesseldorf"
          },
          "checkInDesk": "153,170",
          "gate": "A40",
          "quality": [
           "Basic",
           "Live"
          ],
          "runwayTimeLocal": "2022-10-04 20:59+02:00",
          "runwayTimeUtc": "2022-10-04 18:59Z",
          "scheduledTimeLocal": "2022-10-04 20:45+02:00",
          "scheduledTimeUtc": "2022-10-04 18:45Z",
          "terminal": "B"
         },
         "isCargo": false,
         "number": "EW 8047",
         "status": "Unknown"
        },
        {
         "aircraft": {
          "model": "Airbus A321"
         },
         "airline": {
          "name": "Turkish"
         },
         "arrival": {
          "quality": [
           "Basic"
          ],
          "scheduledTimeLocal": "2022-10-04 21:05+02:00",
          "scheduledTimeUtc": "2022-10-04 19:05Z",
          "terminal": "1"
         },
         "codeshareStatus": "Unknown",
         "departure": {
          "airport": {
           "iata": "IST",
           "icao": "LTFM",
           "name": "Istanbul"
          },
          "quality": [
           "Basic"
          ],
          "scheduledTimeLocal": "2022-10-04 19:10+03:00",
          "scheduledTimeUtc": "2022-10-04 16:10Z"
         },
         "isCargo": false,
         "number": "TK 1727",
         "status": "Unknown"
        },
        {
         "aircraft": {
          "model": "Airbus A320"
         },
         "airline": {
          "name": "easyJet"
         },
         "arrival": {
          "quality": [
           "Basic"
          ],
          "scheduledTimeLocal": "2022-10-04 21:10+02:00",
          "scheduledTimeUtc": "2022-10-04 19:10Z",
          "terminal": "1"
         },
         "codeshareStatus": "Unknown",
         "departure": {
          "airport": {
           "iata": "LIN",
           "icao": "LIML",
           "name": "Milan"
          },
          "quality": [
           "Basic"
          ],
          "scheduledTimeLocal": "2022-10-04 19:20+02:00",
          "scheduledTimeUtc": "2022-10-04 17:20Z"
         },
         "isCargo": false,
         "number": "U2 4678",
         "status": "Unknown"
        },
        {
         "aircraft": {
          "model": "Airbus A320"
         },
         "airline": {
          "name": "Air France"
         },
         "arrival": {
          "quality": [
           "Basic"
          ],
          "scheduledTimeLocal": "2022-10-04 22:40+02:00",
          "scheduledTimeUtc": "2022-10-04 20:40Z",
          "terminal": "1"
         },
         "codeshareStatus": "Unknown",
         "departure": {
          "airport": {
           "iata": "CDG",
           "icao": "LFPG",
           "name": "Paris"
          },
          "quality": [
           "Basic"
          ],
          "scheduledTimeLocal": "2022-10-04 20:55+02:00",
          "scheduledTimeUtc": "2022-10-04 18:55Z",
          "terminal": "2F"
         },
         "isCargo": false,
         "number": "AF 1134",
         "status": "Unknown"
        },
        {
         "aircraft": {
          "model": "Airbus A320"
         },
         "airline": {
          "name": "Eurowings"
         },
         "arrival": {
          "quality": [
           "Basic"
          ],
          "scheduledTimeLocal": "2022-10-04 22:20+02:00",
          "scheduledTimeUtc": "2022-10-04 20:20Z",
          "terminal": "1"
         },
         "codeshareStatus": "Unknown",
         "departure": {
          "airport": {
           "iata": "RHO",
           "icao": "LGRP",
           "name": "Rodes Island"
          },
          "quality": [
           "Basic"
          ],
          "scheduledTimeLocal": "2022-10-04 19:50+03:00",
          "scheduledTimeUtc": "2022-10-04 16:50Z"
         },
         "isCargo": false,
         "number": "EW 5305",
         "status": "Unknown"
        },
        {
         "aircraft": {
          "model": "Boeing 737-800"
         },
         "airline": {
          "name": "Ryanair"
         },
         "arrival": {
          "quality": [
           "Basic"
          ],
          "scheduledTimeLocal": "2022-10-04 22:40+02:00",
          "scheduledTimeUtc": "2022-10-04 20:40Z",
          "terminal": "0"
         },
         "codeshareStatus": "Unknown",
         "departure": {
          "airport": {
           "iata": "SKG",
           "icao": "LGTS",
           "name": "Thessaloniki"
          },
          "quality": [
           "Basic"
          ],
          "scheduledTimeLocal": "2022-10-04 21:05+03:00",
          "scheduledTimeUtc": "2022-10-04 18:05Z",
          "terminal": "0"
         },
         "isCargo": false,
         "number": "FR 1147",
         "status": "Unknown"
        },
        {
         "aircraft": {
          "model": "Boeing 737-800"
         },
         "airline": {
          "name": "Ryanair"
         },
         "arrival": {
          "quality": [
           "Basic"
          ],
          "scheduledTimeLocal": "2022-10-04 22:30+02:00",
          "scheduledTimeUtc": "2022-10-04 20:30Z",
          "terminal": "0"
         },
         "codeshareStatus": "Unknown",
         "departure": {
          "actualTimeLocal": "2022-10-04 21:07+01:00",
          "actualTimeUtc": "2022-10-04 20:07Z",
          "airport": {
           "iata": "STN",
           "icao": "EGSS",
           "name": "London"
          },
          "quality": [
           "Basic",
           "Live"
          ],
          "scheduledTimeLocal": "2022-10-04 19:45+01:00",
          "scheduledTimeUtc": "2022-10-04 18:45Z",
          "terminal": "1"
         },
         "isCargo": false,
         "number": "FR 147",
         "status": "Unknown"
        },
        {
         "aircraft": {
          "model": "Boeing 737-800"
         },
         "airline": {
          "name": "Ryanair"
         },
         "arrival": {
          "quality": [
           "Basic"
          ],
          "scheduledTimeLocal": "2022-10-04 22:20+02:00",
          "scheduledTimeUtc": "2022-10-04 20:20Z",
          "terminal": "0"
         },
         "codeshareStatus": "Unknown",
         "departure": {
          "actualTimeLocal": "2022-10-04 19:57+02:00",
          "actualTimeUtc": "2022-10-04 17:57Z",
          "airport": {
           "iata": "CTA",
           "icao": "LICC",
           "name": "Catania"
          },
          "quality": [
           "Basic",
           "Live"
          ],
          "scheduledTimeLocal": "2022-10-04 19:35+02:00",
          "scheduledTimeUtc": "2022-10-04 17:35Z",
          "terminal": "A"
         },
         "isCargo": false,
         "number": "FR 1577",
         "status": "Unknown"
        },
        {
         "aircraft": {
          "model": "Boeing 737-800"
         },
         "airline": {
          "name": "Ryanair"
         },
         "arrival": {
          "quality": [
           "Basic"
          ],
          "scheduledTimeLocal": "2022-10-04 22:15+02:00",
          "scheduledTimeUtc": "2022-10-04 20:15Z",
          "terminal": "0"
         },
         "codeshareStatus": "Unknown",
         "departure": {
          "actualTimeLocal": "2022-10-04 20:35+03:00",
          "actualTimeUtc": "2022-10-04 17:35Z",
          "airport": {
           "iata": "ATH",
           "icao": "LGAV",
           "name": "Athens"
          },
          "checkInDesk": "50---52",
          "gate": "A40",
          "quality": [
           "Basic",
           "Live"
          ],
          "scheduledTimeLocal": "2022-10-04 20:20+03:00",
          "scheduledTimeUtc": "2022-10-04 17:20Z",
          "terminal": "D"
         },
         "isCargo": false,
         "number": "FR 171",
         "status": "Unknown"
        },
        {
         "aircraft": {
          "model": "Boeing 737-800"
         },
         "airline": {
          "name": "Ryanair"
         },
         "arrival": {
          "quality": [
           "Basic"
          ],
          "scheduledTimeLocal": "2022-10-04 22:20+02:00",
          "scheduledTimeUtc": "2022-10-04 20:20Z",
          "terminal": "0"
         },
         "codeshareStatus": "Unknown",
         "departure": {
          "actualTimeLocal": "2022-10-04 19:59+02:00",
          "actualTimeUtc": "2022-10-04 17:59Z",
          "airport": {
           "iata": "IBZ",
           "icao": "LEIB",
           "name": "Ibiza Town"
          },
          "checkInDesk": "21-22",
          "gate": "02",
          "quality": [
           "Basic",
           "Live"
          ],
          "scheduledTimeLocal": "2022-10-04 19:35+02:00",
          "scheduledTimeUtc": "2022-10-04 17:35Z",
          "terminal": "1"
         },
         "isCargo": false,
         "number": "FR 209",
         "status": "Unknown"
        },
        {
         "aircraft": {
          "model": "Boeing 737-800"
         },
         "airline": {
          "name": "Ryanair"
         },
         "arrival": {
          "quality": [
           "Basic"
          ],
          "scheduledTimeLocal": "2022-10-04 22:00+02:00",
          "scheduledTimeUtc": "2022-10-04 20:00Z",
          "terminal": "0"
         },
         "codeshareStatus": "Unknown",
         "departure": {
          "airport": {
           "iata": "MXP",
           "icao": "LIMC",
           "name": "Milan"
          },
          "quality": [
           "Basic"
          ],
          "scheduledTimeLocal": "2022-10-04 20:15+02:00",
          "scheduledTimeUtc": "2022-10-04 18:15Z",
          "terminal": "1"
         },
         "isCargo": false,
         "number": "FR 9",
         "status": "Unknown"
        },
        {
         "aircraft": {
          "model": "Airbus A320"
         },
         "airline": {
          "name": "Iberia"
         },
         "arrival": {
          "quality": [
           "Basic"
          ],
          "scheduledTimeLocal": "2022-10-04 22:40+02:00",
          "scheduledTimeUtc": "2022-10-04 20:40Z",
          "terminal": "1"
         },
         "codeshareStatus": "Unknown",
         "departure": {
          "actualTimeLocal": "2022-10-04 19:40+02:00",
          "actualTimeUtc": "2022-10-04 17:40Z",
          "airport": {
           "iata": "MAD",
           "icao": "LEMD",
           "name": "Madrid"
          },
          "checkInDesk": "850-859",
          "gate": "J48",
          "quality": [
           "Basic",
           "Live"
          ],
          "scheduledTimeLocal": "2022-10-04 19:40+02:00",
          "scheduledTimeUtc": "2022-10-04 17:40Z",
          "terminal": "4"
         },
         "isCargo": false,
         "number": "IB 3674",
         "status": "Unknown"
        },
        {
         "aircraft": {
          "model": "Airbus A320"
         },
         "airline": {
          "name": "Lufthansa"
         },
         "arrival": {
          "quality": [
           "Basic"
          ],
          "scheduledTimeLocal": "2022-10-04 22:35+02:00",
          "scheduledTimeUtc": "2022-10-04 20:35Z",
          "terminal": "1"
         },
         "codeshareStatus": "Unknown",
         "departure": {
          "actualTimeLocal": "2022-10-04 21:30+02:00",
          "actualTimeUtc": "2022-10-04 19:30Z",
          "airport": {
           "iata": "MUC",
           "icao": "EDDM",
           "name": "Munich"
          },
          "quality": [
           "Basic",
           "Live"
          ],
          "scheduledTimeLocal": "2022-10-04 21:30+02:00",
          "scheduledTimeUtc": "2022-10-04 19:30Z",
          "terminal": "2"
         },
         "isCargo": false,
         "number": "LH 1960",
         "status": "Unknown"
        },
        {
         "aircraft": {
          "modeS": "3C64A1",
          "model": "Airbus A321",
          "reg": "D-AIEA"
         },
         "airline": {
          "name": "Lufthansa"
         },
         "arrival": {
          "quality": [
           "Basic"
          ],
          "scheduledTimeLocal": "2022-10-04 22:25+02:00",
          "scheduledTimeUtc": "2022-10-04 20:25Z",
          "terminal": "1"
         },
         "codeshareStatus": "Unknown",
         "departure": {
          "actualTimeLocal": "2022-10-04 21:15+02:00",
          "actualTimeUtc": "2022-10-04 19:15Z",
          "airport": {
           "iata": "FRA",
           "icao": "EDDF",
           "name": "Frankfurt-am-Main"
          },
          "checkInDesk": "263-461",
          "gate": "A50",
          "quality": [
           "Basic",
           "Live"
          ],
          "scheduledTimeLocal": "2022-10-04 21:15+02:00",
          "scheduledTimeUtc": "2022-10-04 19:15Z",
          "terminal": "1"
         },
         "isCargo": false,
         "number": "LH 44",
         "status": "Unknown"
        },
        {
         "aircraft": {
          "modeS": "4B1698",
          "model": "Airbus A320",
          "reg": "HB-IOM"
         },
         "airline": {
          "name": "SWISS"
         },
         "arrival": {
          "quality": [
           "Basic"
          ],
          "scheduledTimeLocal": "2022-10-04 22:20+02:00",
          "scheduledTimeUtc": "2022-10-04 20:20Z",
          "terminal": "1"
         },
         "codeshareStatus": "Unknown",
         "departure": {
          "actualTimeLocal": "2022-10-04 20:55+02:00",
          "actualTimeUtc": "2022-10-04 18:55Z",
          "airport": {
           "iata": "ZRH",
           "icao": "LSZH",
           "name": "Zurich"
          },
          "checkInDesk": "1",
          "gate": "A71",
          "quality": [
           "Basic",
           "Live"
          ],
          "scheduledTimeLocal": "2022-10-04 20:55+02:00",
          "scheduledTimeUtc": "2022-10-04 18:55Z"
         },
         "isCargo": false,
         "number": "LX 962",
         "status": "Unknown"
        },
        {
         "aircraft": {
          "model": "Airbus A320"
         },
         "airline": {
          "name": "Austrian"
         },
         "arrival": {
          "quality": [
           "Basic"
          ],
          "scheduledTimeLocal": "2022-10-04 22:15+02:00",
          "scheduledTimeUtc": "2022-10-04 20:15Z",
          "terminal": "1"
         },
         "codeshareStatus": "Unknown",
         "departure": {
          "actualTimeLocal": "2022-10-04 21:17+02:00",
          "actualTimeUtc": "2022-10-04 19:17Z",
          "airport": {
           "iata": "VIE",
           "icao": "LOWW",
           "name": "Vienna"
          },
          "checkInDesk": "351-368",
          "gate": "F27",
          "quality": [
           "Basic",
           "Live"
          ],
          "scheduledTimeLocal": "2022-10-04 21:00+02:00",
          "scheduledTimeUtc": "2022-10-04 19:00Z",
          "terminal": "3"
         },
         "isCargo": false,
         "number": "OS 239",
         "status": "Unknown"
        },
        {
         "aircraft": {
          "model": "Airbus A320"
         },
         "airline": {
          "name": "Brussels"
         },
         "arrival": {
          "quality": [
           "Basic"
          ],
          "scheduledTimeLocal": "2022-10-04 22:10+02:00",
          "scheduledTimeUtc": "2022-10-04 20:10Z",
          "terminal": "1"
         },
         "codeshareStatus": "Unknown",
         "departure": {
          "actualTimeLocal": "2022-10-04 21:24+02:00",
          "actualTimeUtc": "2022-10-04 19:24Z",
          "airport": {
           "iata": "BRU",
           "icao": "EBBR",
           "name": "Brussels"
          },
          "checkInDesk": "05",
          "quality": [
           "Basic",
           "Live"
          ],
          "scheduledTimeLocal": "2022-10-04 20:50+02:00",
          "scheduledTimeUtc": "2022-10-04 18:50Z"
         },
         "isCargo": false,
         "number": "SN 2591",
         "status": "Unknown"
        },
        {
         "aircraft": {
          "model": "Embraer 190"
         },
         "airline": {
          "name": "TAP Air Portugal"
         },
         "arrival": {
          "quality": [
           "Basic"
          ],
          "scheduledTimeLocal": "2022-10-04 22:20+02:00",
          "scheduledTimeUtc": "2022-10-04 20:20Z",
          "terminal": "1"
         },
         "codeshareStatus": "Unknown",
         "departure": {
          "actualTimeLocal": "2022-10-04 18:18+01:00",
          "actualTimeUtc": "2022-10-04 17:18Z",
          "airport": {
           "iata": "LIS",
           "icao": "LPPT",
           "name": "Lisbon"
          },
          "quality": [
           "Basic",
           "Live"
          ],
          "scheduledTimeLocal": "2022-10-04 17:55+01:00",
          "scheduledTimeUtc": "2022-10-04 16:55Z",
          "terminal": "1"
         },
         "isCargo": false,
         "number": "TP 532",
         "status": "Unknown"
        },
        {
         "aircraft": {
          "model": "Airbus A319"
         },
         "airline": {
          "name": "easyJet"
         },
         "arrival": {
          "quality": [
           "Basic"
          ],
          "scheduledTimeLocal": "2022-10-04 22:15+02:00",
          "scheduledTimeUtc": "2022-10-04 20:15Z",
          "terminal": "1"
         },
         "codeshareStatus": "Unknown",
         "departure": {
          "airport": {
           "iata": "NAP",
           "icao": "LIRN",
           "name": "Nápoli"
          },
          "quality": [
           "Basic"
          ],
          "scheduledTimeLocal": "2022-10-04 19:55+02:00",
          "scheduledTimeUtc": "2022-10-04 17:55Z"
         },
         "isCargo": false,
         "number": "U2 4576",
         "status": "Unknown"
        },
        {
         "aircraft": {
          "model": "Airbus A319"
         },
         "airline": {
          "name": "easyJet"
         },
         "arrival": {
          "quality": [
           "Basic"
          ],
          "scheduledTimeLocal": "2022-10-04 22:15+02:00",
          "scheduledTimeUtc": "2022-10-04 20:15Z",
          "terminal": "1"
         },
         "codeshareStatus": "Unknown",
         "departure": {
          "airport": {
           "name": "Paris"
          },
          "quality": []
         },
         "isCargo": false,
         "number": "U2 5540",
         "status": "Unknown"
        },
        {
         "aircraft": {
          "model": "Airbus A320"
         },
         "airline": {
          "name": "easyJet"
         },
         "arrival": {
          "quality": [
           "Basic"
          ],
          "scheduledTimeLocal": "2022-10-04 22:00+02:00",
          "scheduledTimeUtc": "2022-10-04 20:00Z",
          "terminal": "1"
         },
         "codeshareStatus": "Unknown",
         "departure": {
          "airport": {
           "iata": "CAG",
           "icao": "LIEE",
           "name": "Cagliari"
          },
          "quality": [
           "Basic"
          ],
          "scheduledTimeLocal": "2022-10-04 19:25+02:00",
          "scheduledTimeUtc": "2022-10-04 17:25Z"
         },
         "isCargo": false,
         "number": "U2 5662",
         "status": "Unknown"
        },
        {
         "aircraft": {
          "model": "Airbus A320"
         },
         "airline": {
          "name": "easyJet"
         },
         "arrival": {
          "quality": [
           "Basic"
          ],
          "scheduledTimeLocal": "2022-10-04 21:55+02:00",
          "scheduledTimeUtc": "2022-10-04 19:55Z",
          "terminal": "1"
         },
         "codeshareStatus": "Unknown",
         "departure": {
          "airport": {
           "iata": "HRG",
           "icao": "HEGN",
           "name": "Hurghada"
          },
          "quality": [
           "Basic"
          ],
          "scheduledTimeLocal": "2022-10-04 16:45+02:00",
          "scheduledTimeUtc": "2022-10-04 14:45Z",
          "terminal": "1"
         },
         "isCargo": false,
         "number": "U2 5788",
         "status": "Unknown"
        },
        {
         "aircraft": {
          "model": "Airbus A319"
         },
         "airline": {
          "name": "easyJet"
         },
         "arrival": {
          "quality": [
           "Basic"
          ],
          "scheduledTimeLocal": "2022-10-04 21:00+02:00",
          "scheduledTimeUtc": "2022-10-04 19:00Z",
          "terminal": "1"
         },
         "codeshareStatus": "Unknown",
         "departure": {
          "actualTimeLocal": "2022-10-04 18:00+01:00",
          "actualTimeUtc": "2022-10-04 17:00Z",
          "airport": {
           "iata": "LGW",
           "icao": "EGKK",
           "name": "London"
          },
          "gate": "564",
          "quality": [
           "Basic",
           "Live"
          ],
          "scheduledTimeLocal": "2022-10-04 18:00+01:00",
          "scheduledTimeUtc": "2022-10-04 17:00Z",
          "terminal": "N"
         },
         "isCargo": false,
         "number": "U2 8125",
         "status": "Unknown"
        },
        {
         "aircraft": {
          "model": "Airbus A320"
         },
         "airline": {
          "name": "Vueling"
         },
         "arrival": {
          "quality": [
           "Basic"
          ],
          "scheduledTimeLocal": "2022-10-04 21:20+02:00",
          "scheduledTimeUtc": "2022-10-04 19:20Z",
          "terminal": "1"
         },
         "codeshareStatus": "Unknown",
         "departure": {
          "actualTimeLocal": "2022-10-04 18:39+02:00",
          "actualTimeUtc": "2022-10-04 16:39Z",
          "airport": {
           "iata": "BCN",
           "icao": "LEBL",
           "name": "Barcelona"
          },
          "checkInDesk": "401-512",
          "gate": "A12",
          "quality": [
           "Basic",
           "Live"
          ],
          "scheduledTimeLocal": "2022-10-04 18:35+02:00",
          "scheduledTimeUtc": "2022-10-04 16:35Z",
          "terminal": "1"
         },
         "isCargo": false,
         "number": "VY 1884",
         "status": "Unknown"
        },
        {
         "aircraft": {
          "model": "Airbus A320"
         },
         "airline": {
          "name": "Wizz Air"
         },
         "arrival": {
          "quality": [
           "Basic"
          ],
          "scheduledTimeLocal": "2022-10-04 21:20+02:00",
          "scheduledTimeUtc": "2022-10-04 19:20Z",
          "terminal": "0"
         },
         "codeshareStatus": "IsOperator",
         "departure": {
          "airport": {
           "iata": "VAR",
           "icao": "LBWN",
           "name": "Varna"
          },
          "quality": [
           "Basic"
          ],
          "scheduledTimeLocal": "2022-10-04 19:50+03:00",
          "scheduledTimeUtc": "2022-10-04 16:50Z"
         },
         "isCargo": false,
         "number": "W6 4515",
         "status": "Unknown"
        },
        {
         "aircraft": {
          "modeS": "484165",
          "model": "Boeing 737-800",
          "reg": "PH-BXM"
         },
         "airline": {
          "name": "KLM"
         },
         "arrival": {
          "quality": [
           "Basic"
          ],
          "scheduledTimeLocal": "2022-10-04 23:20+02:00",
          "scheduledTimeUtc": "2022-10-04 21:20Z",
          "terminal": "1"
         },
         "codeshareStatus": "Unknown",
         "departure": {
          "actualTimeLocal": "2022-10-04 22:06+02:00",
          "actualTimeUtc": "2022-10-04 20:06Z",
          "airport": {
           "iata": "AMS",
           "icao": "EHAM",
           "name": "Amsterdam"
          },
          "checkInDesk": "6-8",
          "gate": "C16",
          "quality": [
           "Basic",
           "Live"
          ],
          "scheduledTimeLocal": "2022-10-04 22:05+02:00",
          "scheduledTimeUtc": "2022-10-04 20:05Z",
          "terminal": "1"
         },
         "isCargo": false,
         "number": "KL 1835",
         "status": "Unknown"
        },
        {
         "aircraft": {
          "modeS": "4BCDD4",
          "model": "Boeing 737-800",
          "reg": "TC-SNT"
         },
         "airline": {
          "name": "SunExpress"
         },
         "arrival": {
          "quality": [
           "Basic"
          ],
          "scheduledTimeLocal": "2022-10-05 05:45+02:00",
          "scheduledTimeUtc": "2022-10-05 03:45Z",
          "terminal": "1"
         },
         "callSign": "SXS5DY",
         "codeshareStatus": "IsOperator",
         "departure": {
          "actualTimeLocal": "2022-10-05 04:00+03:00",
          "actualTimeUtc": "2022-10-05 01:00Z",
          "airport": {
           "iata": "ADB",
           "icao": "LTBJ",
           "name": "İzmir"
          },
          "checkInDesk": "21",
          "gate": "29",
          "quality": [
           "Basic",
           "Live"
          ],
          "scheduledTimeLocal": "2022-10-05 03:45+03:00",
          "scheduledTimeUtc": "2022-10-05 00:45Z",
          "terminal": "I"
         },
         "isCargo": false,
         "number": "XQ 966",
         "status": "Unknown"
        },
        {
         "aircraft": {
          "modeS": "47AEC6",
          "model": "Boeing 787-9",
          "reg": "LN-FNJ"
         },
         "airline": {
          "name": "NBT"
         },
         "arrival": {
          "quality": [
           "Basic"
          ],
          "scheduledTimeLocal": "2022-10-05 06:14+02:00",
          "scheduledTimeUtc": "2022-10-05 04:14Z"
         },
         "callSign": "NBT612",
         "codeshareStatus": "IsOperator",
         "departure": {
          "actualTimeLocal": "2022-10-04 10:57-07:00",
          "actualTimeUtc": "2022-10-04 17:57Z",
          "airport": {
           "iata": "LAX",
           "icao": "KLAX",
           "name": "Los Angeles"
          },
          "quality": [
           "Basic",
           "Live"
          ],
          "runwayTimeLocal": "2022-10-04 10:57-07:00",
          "runwayTimeUtc": "2022-10-04 17:57Z",
          "scheduledTimeLocal": "2022-10-04 10:57-07:00",
          "scheduledTimeUtc": "2022-10-04 17:57Z"
         },
         "isCargo": false,
         "number": "NBT 612",
         "status": "Expected"
        },
        {
         "aircraft": {
          "model": "Boeing 787-8"
         },
         "airline": {
          "name": "Qatar Airways"
         },
         "arrival": {
          "quality": [
           "Basic"
          ],
          "scheduledTimeLocal": "2022-10-05 06:50+02:00",
          "scheduledTimeUtc": "2022-10-05 04:50Z",
          "terminal": "1"
         },
         "codeshareStatus": "IsOperator",
         "departure": {
          "airport": {
           "iata": "DOH",
           "icao": "OTHH",
           "name": "Doha"
          },
          "quality": [
           "Basic"
          ],
          "scheduledTimeLocal": "2022-10-05 03:10+03:00",
          "scheduledTimeUtc": "2022-10-05 00:10Z"
         },
         "isCargo": false,
         "number": "QR 79",
         "status": "Unknown"
        },
        {
         "aircraft": {
          "modeS": "4D23D9",
          "model": "Airbus A320",
          "reg": "9H-MLD"
         },
         "airline": {
          "name": "Eurowings"
         },
         "arrival": {
          "quality": [
           "Basic"
          ],
          "scheduledTimeLocal": "2022-10-05 07:40+02:00",
          "scheduledTimeUtc": "2022-10-05 05:40Z",
          "terminal": "1"
         },
         "callSign": "EWG2002",
         "codeshareStatus": "IsOperator",
         "departure": {
          "actualTimeLocal": "2022-10-05 06:25+02:00",
          "actualTimeUtc": "2022-10-05 04:25Z",
          "airport": {
           "iata": "STR",
           "icao": "EDDS",
           "name": "Stuttgart"
          },
          "gate": "324",
          "quality": [
           "Basic",
           "Live"
          ],
          "scheduledTimeLocal": "2022-10-05 06:25+02:00",
          "scheduledTimeUtc": "2022-10-05 04:25Z",
          "terminal": "1"
         },
         "isCargo": false,
         "number": "EW 2002",
         "status": "Unknown"
        },
        {
         "aircraft": {
          "modeS": "3C6DD6",
          "model": "Airbus A319",
          "reg": "D-AKNV"
         },
         "airline": {
          "name": "Eurowings"
         },
         "arrival": {
          "quality": [
           "Basic"
          ],
          "scheduledTimeLocal": "2022-10-05 07:35+02:00",
          "scheduledTimeUtc": "2022-10-05 05:35Z",
          "terminal": "1"
         },
         "callSign": "GWI52FP",
         "codeshareStatus": "Unknown",
         "departure": {
          "actualTimeLocal": "2022-10-05 06:17+02:00",
          "actualTimeUtc": "2022-10-05 04:17Z",
          "airport": {
           "iata": "DUS",
           "icao": "EDDL",
           "name": "Duesseldorf"
          },
          "checkInDesk": "105,110",
          "gate": "A52",
          "quality": [
           "Basic",
           "Live"
          ],
          "runwayTimeLocal": "2022-10-05 06:27+02:00",
          "runwayTimeUtc": "2022-10-05 04:27Z",
          "scheduledTimeLocal": "2022-10-05 06:20+02:00",
          "scheduledTimeUtc": "2022-10-05 04:20Z",
          "terminal": "A"
         },
         "isCargo": false,
         "number": "EW 9048",
         "status": "Unknown"
        },
        {
         "aircraft": {
          "modeS": "3C6646",
          "model": "Airbus A321",
          "reg": "D-AIRF"
         },
         "airline": {
          "name": "Lufthansa"
         },
         "arrival": {
          "quality": [
           "Basic"
          ],
          "scheduledTimeLocal": "2022-10-05 07:55+02:00",
          "scheduledTimeUtc": "2022-10-05 05:55Z",
          "terminal": "1"
         },
         "codeshareStatus": "Unknown",
         "departure": {
          "actualTimeLocal": "2022-10-05 06:45+02:00",
          "actualTimeUtc": "2022-10-05 04:45Z",
          "airport": {
           "iata": "FRA",
           "icao": "EDDF",
           "name": "Frankfurt-am-Main"
          },
          "checkInDesk": "263-461",
          "gate": "A13",
          "quality": [
           "Basic",
           "Live"
          ],
          "scheduledTimeLocal": "2022-10-05 06:45+02:00",
          "scheduledTimeUtc": "2022-10-05 04:45Z",
          "terminal": "1"
         },
         "isCargo": false,
         "number": "LH 170",
         "status": "Unknown"
        },
        {
         "aircraft": {
          "model": "Airbus A320"
         },
         "airline": {
          "name": "Lufthansa"
         },
         "arrival": {
          "quality": [
           "Basic"
          ],
          "scheduledTimeLocal": "2022-10-05 07:35+02:00",
          "scheduledTimeUtc": "2022-10-05 05:35Z",
          "terminal": "1"
         },
         "codeshareStatus": "IsOperator",
         "departure": {
          "actualTimeLocal": "2022-10-05 06:30+02:00",
          "actualTimeUtc": "2022-10-05 04:30Z",
          "airport": {
           "iata": "MUC",
           "icao": "EDDM",
           "name": "Munich"
          },
          "quality": [
           "Basic",
           "Live"
          ],
          "scheduledTimeLocal": "2022-10-05 06:30+02:00",
          "scheduledTimeUtc": "2022-10-05 04:30Z",
          "terminal": "2"
         },
         "isCargo": false,
         "number": "LH 1926",
         "status": "Unknown"
        },
        {
         "aircraft": {
          "model": "Airbus A320"
         },
         "airline": {
          "name": "easyJet"
         },
         "arrival": {
          "quality": [
           "Basic"
          ],
          "scheduledTimeLocal": "2022-10-05 07:55+02:00",
          "scheduledTimeUtc": "2022-10-05 05:55Z",
          "terminal": "1"
         },
         "codeshareStatus": "Unknown",
         "departure": {
          "airport": {
           "iata": "CDG",
           "icao": "LFPG",
           "name": "Paris"
          },
          "quality": [
           "Basic"
          ],
          "scheduledTimeLocal": "2022-10-05 06:05+02:00",
          "scheduledTimeUtc": "2022-10-05 04:05Z",
          "terminal": "2B"
         },
         "isCargo": false,
         "number": "U2 5674",
         "status": "Unknown"
        },
        {
         "aircraft": {
          "modeS": "AA6C50",
          "model": "Boeing 767-400",
          "reg": "N77066"
         },
         "airline": {
          "name": "United"
         },
         "arrival": {
          "quality": [
           "Basic"
          ],
          "scheduledTimeLocal": "2022-10-05 07:50+02:00",
          "scheduledTimeUtc": "2022-10-05 05:50Z",
          "terminal": "1"
         },
         "callSign": "UAL962",
         "codeshareStatus": "IsOperator",
         "departure": {
          "actualTimeLocal": "2022-10-04 18:53-04:00",
          "actualTimeUtc": "2022-10-04 22:53Z",
          "airport": {
           "iata": "EWR",
           "icao": "KEWR",
           "name": "Newark"
          },
          "quality": [
           "Basic",
           "Live"
          ],
          "runwayTimeLocal": "2022-10-04 18:53-04:00",
          "runwayTimeUtc": "2022-10-04 22:53Z",
          "scheduledTimeLocal": "2022-10-04 17:50-04:00",
          "scheduledTimeUtc": "2022-10-04 21:50Z",
          "terminal": "C"
         },
         "isCargo": false,
         "number": "UA 962",
         "status": "Unknown"
        }
       ]
      },
      "text/plain": [
       "<IPython.core.display.JSON object>"
      ]
     },
     "metadata": {
      "application/json": {
       "expanded": false,
       "root": "root"
      }
     },
     "output_type": "display_data"
    }
   ],
   "source": [
    "display(JSON(response.json()))"
   ]
  },
  {
   "cell_type": "code",
   "execution_count": null,
   "metadata": {
    "id": "UayZho2350TH"
   },
   "outputs": [],
   "source": []
  },
  {
   "cell_type": "code",
   "execution_count": null,
   "metadata": {
    "id": "12rA3FF550TH"
   },
   "outputs": [],
   "source": []
  },
  {
   "cell_type": "code",
   "execution_count": null,
   "metadata": {
    "id": "4KMCpADj50TH"
   },
   "outputs": [],
   "source": [
    "from datetime import datetime, date, timedelta\n",
    "from pytz import timezone"
   ]
  },
  {
   "cell_type": "code",
   "execution_count": null,
   "metadata": {
    "id": "ag8Wgkz650TI"
   },
   "outputs": [],
   "source": [
    "today = datetime.now().astimezone(timezone('Europe/Berlin')).date()\n",
    "tomorrow = (today + timedelta(days=1))"
   ]
  },
  {
   "cell_type": "code",
   "execution_count": null,
   "metadata": {
    "id": "Ll5hf_3f50TI",
    "outputId": "5520fbe4-795f-4d96-8b80-ed46f8fb6e41"
   },
   "outputs": [
    {
     "data": {
      "text/plain": [
       "datetime.date(2023, 1, 5)"
      ]
     },
     "execution_count": 34,
     "metadata": {},
     "output_type": "execute_result"
    }
   ],
   "source": [
    "tomorrow"
   ]
  },
  {
   "cell_type": "code",
   "execution_count": null,
   "metadata": {
    "id": "M8yulCJw50TI"
   },
   "outputs": [],
   "source": [
    "def tomorrows_flight_arrivals(icao_list):\n",
    "\n",
    "  today = datetime.now().astimezone(timezone('Europe/Berlin')).date()\n",
    "  tomorrow = (today + timedelta(days=1))\n",
    "\n",
    "  list_for_df = []\n",
    "\n",
    "  for icao in icao_list:\n",
    "    times = [[\"00:00\",\"11:59\"],[\"12:00\",\"23:59\"]]\n",
    "\n",
    "    for time in times:\n",
    "      url = f\"https://aerodatabox.p.rapidapi.com/flights/airports/icao/{icao}/{tomorrow}T{time[0]}/{tomorrow}T{time[1]}\"\n",
    "      querystring = {\"withLeg\":\"true\",\"direction\":\"Arrival\",\"withCancelled\":\"false\",\"withCodeshared\":\"true\",\"withCargo\":\"false\",\"withPrivate\":\"false\"}\n",
    "      headers = {\n",
    "          'x-rapidapi-host': \"aerodatabox.p.rapidapi.com\",\n",
    "          'x-rapidapi-key': \"YOUR_API_KEY_HERE\"\n",
    "          }\n",
    "      response = requests.request(\"GET\", url, headers=headers, params=querystring)\n",
    "      flights_json = response.json()\n",
    "\n",
    "      for flight in flights_json['arrivals']:\n",
    "        flights_dict = {}\n",
    "        flights_dict['arrival_icao'] = icao\n",
    "        # .get() is another way of ensuring our code doesn't break\n",
    "        # in the previous 2 notebooks you learnt about 'if' (cities) and 'try/except' (weather)\n",
    "        # .get() works similar, it will get the text if possible, if there is no text a None value will be inserted instead\n",
    "        flights_dict['arrival_time_local'] = flight['arrival'].get('scheduledTimeLocal', None)\n",
    "        flights_dict['arrival_terminal'] = flight['arrival'].get('terminal', None)\n",
    "        flights_dict['departure_city'] = flight['departure']['airport'].get('name', None)\n",
    "        flights_dict['departure_icao'] = flight['departure']['airport'].get('icao', None)\n",
    "        flights_dict['departure_time_local'] = flight['departure'].get('scheduledTimeLocal', None)\n",
    "        flights_dict['airline'] = flight['airline'].get('name', None)\n",
    "        flights_dict['flight_number'] = flight.get('number', None)\n",
    "        flights_dict['data_retrieved_on'] = datetime.now().astimezone(timezone('Europe/Berlin')).date()\n",
    "        list_for_df.append(flights_dict)\n",
    "\n",
    "  return pd.DataFrame(list_for_df)"
   ]
  },
  {
   "cell_type": "code",
   "execution_count": null,
   "metadata": {
    "id": "Ik2_u-9F50TI",
    "outputId": "07a83a7b-1e1c-4621-f517-904e38f003cd"
   },
   "outputs": [
    {
     "data": {
      "text/html": [
       "<div>\n",
       "<style scoped>\n",
       "    .dataframe tbody tr th:only-of-type {\n",
       "        vertical-align: middle;\n",
       "    }\n",
       "\n",
       "    .dataframe tbody tr th {\n",
       "        vertical-align: top;\n",
       "    }\n",
       "\n",
       "    .dataframe thead th {\n",
       "        text-align: right;\n",
       "    }\n",
       "</style>\n",
       "<table border=\"1\" class=\"dataframe\">\n",
       "  <thead>\n",
       "    <tr style=\"text-align: right;\">\n",
       "      <th></th>\n",
       "      <th>arrival_icao</th>\n",
       "      <th>arrival_time_local</th>\n",
       "      <th>arrival_terminal</th>\n",
       "      <th>departure_city</th>\n",
       "      <th>departure_icao</th>\n",
       "      <th>departure_time_local</th>\n",
       "      <th>airline</th>\n",
       "      <th>flight_number</th>\n",
       "      <th>data_retrieved_on</th>\n",
       "    </tr>\n",
       "  </thead>\n",
       "  <tbody>\n",
       "    <tr>\n",
       "      <th>0</th>\n",
       "      <td>EDDB</td>\n",
       "      <td>2023-01-05 07:55+01:00</td>\n",
       "      <td>1</td>\n",
       "      <td>Riga</td>\n",
       "      <td>EVRA</td>\n",
       "      <td>2023-01-05 07:15+02:00</td>\n",
       "      <td>Air Baltic</td>\n",
       "      <td>BT 211</td>\n",
       "      <td>2023-01-04</td>\n",
       "    </tr>\n",
       "    <tr>\n",
       "      <th>1</th>\n",
       "      <td>EDDB</td>\n",
       "      <td>2023-01-05 07:50+01:00</td>\n",
       "      <td>1</td>\n",
       "      <td>Stuttgart</td>\n",
       "      <td>EDDS</td>\n",
       "      <td>2023-01-05 06:30+01:00</td>\n",
       "      <td>Eurowings</td>\n",
       "      <td>EW 2002</td>\n",
       "      <td>2023-01-04</td>\n",
       "    </tr>\n",
       "    <tr>\n",
       "      <th>2</th>\n",
       "      <td>EDDB</td>\n",
       "      <td>2023-01-05 07:55+01:00</td>\n",
       "      <td>1</td>\n",
       "      <td>Frankfurt-am-Main</td>\n",
       "      <td>EDDF</td>\n",
       "      <td>2023-01-05 06:45+01:00</td>\n",
       "      <td>Lufthansa</td>\n",
       "      <td>LH 170</td>\n",
       "      <td>2023-01-04</td>\n",
       "    </tr>\n",
       "    <tr>\n",
       "      <th>3</th>\n",
       "      <td>EDDB</td>\n",
       "      <td>2023-01-05 07:55+01:00</td>\n",
       "      <td>1</td>\n",
       "      <td>Newark</td>\n",
       "      <td>KEWR</td>\n",
       "      <td>2023-01-04 17:50-05:00</td>\n",
       "      <td>United</td>\n",
       "      <td>UA 962</td>\n",
       "      <td>2023-01-04</td>\n",
       "    </tr>\n",
       "    <tr>\n",
       "      <th>4</th>\n",
       "      <td>EDDB</td>\n",
       "      <td>2023-01-05 08:15+01:00</td>\n",
       "      <td>1</td>\n",
       "      <td>Helsinki</td>\n",
       "      <td>EFHK</td>\n",
       "      <td>2023-01-05 07:10+02:00</td>\n",
       "      <td>Finnair</td>\n",
       "      <td>AY 1431</td>\n",
       "      <td>2023-01-04</td>\n",
       "    </tr>\n",
       "  </tbody>\n",
       "</table>\n",
       "</div>"
      ],
      "text/plain": [
       "  arrival_icao      arrival_time_local arrival_terminal     departure_city  \\\n",
       "0         EDDB  2023-01-05 07:55+01:00                1               Riga   \n",
       "1         EDDB  2023-01-05 07:50+01:00                1          Stuttgart   \n",
       "2         EDDB  2023-01-05 07:55+01:00                1  Frankfurt-am-Main   \n",
       "3         EDDB  2023-01-05 07:55+01:00                1             Newark   \n",
       "4         EDDB  2023-01-05 08:15+01:00                1           Helsinki   \n",
       "\n",
       "  departure_icao    departure_time_local     airline flight_number  \\\n",
       "0           EVRA  2023-01-05 07:15+02:00  Air Baltic        BT 211   \n",
       "1           EDDS  2023-01-05 06:30+01:00   Eurowings       EW 2002   \n",
       "2           EDDF  2023-01-05 06:45+01:00   Lufthansa        LH 170   \n",
       "3           KEWR  2023-01-04 17:50-05:00      United        UA 962   \n",
       "4           EFHK  2023-01-05 07:10+02:00     Finnair       AY 1431   \n",
       "\n",
       "  data_retrieved_on  \n",
       "0        2023-01-04  \n",
       "1        2023-01-04  \n",
       "2        2023-01-04  \n",
       "3        2023-01-04  \n",
       "4        2023-01-04  "
      ]
     },
     "execution_count": 36,
     "metadata": {},
     "output_type": "execute_result"
    }
   ],
   "source": [
    "icaos = ['EDDB', 'EGLL']\n",
    "tomorrows_flight_arrivals(icaos).head()"
   ]
  },
  {
   "cell_type": "code",
   "execution_count": null,
   "metadata": {
    "id": "TQp3sNr650TI"
   },
   "outputs": [],
   "source": []
  }
 ],
 "metadata": {
  "colab": {
   "provenance": []
  },
  "kernelspec": {
   "display_name": "Python 3 (ipykernel)",
   "language": "python",
   "name": "python3"
  },
  "language_info": {
   "codemirror_mode": {
    "name": "ipython",
    "version": 3
   },
   "file_extension": ".py",
   "mimetype": "text/x-python",
   "name": "python",
   "nbconvert_exporter": "python",
   "pygments_lexer": "ipython3",
   "version": "3.9.12"
  }
 },
 "nbformat": 4,
 "nbformat_minor": 4
}
