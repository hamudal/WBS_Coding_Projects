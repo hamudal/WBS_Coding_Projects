{
  "cells": [
    {
      "cell_type": "code",
      "source": [
        "# https://spotipy.readthedocs.io/en/2.19.0/\n",
        "\n",
        "# Install spotipy\n",
        "# As google colab starts each session like a new computer, we must install this each time.\n",
        "# If you are working on your local machine, you only need to install it once.\n",
        "!pip install spotipy --upgrade\n",
        "!pip install urllib3 --upgrade "
      ],
      "metadata": {
        "id": "5d-rOAcdFJaI",
        "collapsed": true
      },
      "execution_count": null,
      "outputs": []
    },
    {
      "cell_type": "code",
      "source": [
        "import pandas as pd"
      ],
      "metadata": {
        "id": "1ImSCXg7xuTq"
      },
      "execution_count": null,
      "outputs": []
    },
    {
      "cell_type": "markdown",
      "metadata": {
        "id": "pRJsycwcE6bf"
      },
      "source": [
        "## Requests\n",
        "\n",
        "The requests library is the de facto standard for making HTTP requests in Python. It abstracts the complexities of making requests behind a beautiful, simple API so that you can focus on interacting with services and consuming data in your application.\n",
        "\n",
        "https://requests.readthedocs.io/en/latest/\n",
        "\n",
        "When we make a request, we get a requests.Response object in return. The requests.Response object contains the server's response to the HTTP request. Part of this response is a number - which represents whether we received the information we wanted or not. If you get a number that you don't understand, these cats will help you: https://http.cat/\n",
        "\n",
        "More often than not you'll receive:\n",
        "\n",
        "200: Success!\n",
        "\n",
        "401: Unauthorized client error status: lack of valid authentication credentials\n",
        "\n",
        "403: The server understood the request but refuses to authorize it"
      ]
    },
    {
      "cell_type": "code",
      "execution_count": null,
      "metadata": {
        "id": "z6wC0mQHE6bh"
      },
      "outputs": [],
      "source": [
        "import requests\n",
        "\n",
        "google = requests.get(\"https://developers.google.com\")\n",
        "print(\"Google:\", google.status_code)\n",
        "\n",
        "NBA = requests.get(\"https://api.sportsdata.io/api/nba/fantasy/json/CurrentSeason\")\n",
        "print(\"NBA:\", NBA.status_code) \n",
        "\n",
        "wbscs = requests.get(\"https://www.wbscodingschool.com/\")\n",
        "print(\"WBS CS: \", wbscs.status_code)"
      ]
    },
    {
      "cell_type": "markdown",
      "source": [
        "## JSON"
      ],
      "metadata": {
        "id": "L17aj1A1DE26"
      }
    },
    {
      "cell_type": "markdown",
      "source": [
        "### Intro - making a request and viewing the JSON\n",
        "\n",
        "https://docs.python.org/3/library/json.html\n",
        "\n",
        "Since its inception, JSON has quickly become the de facto standard for information exchange. JSON supports primitive types, like strings and numbers, as well as nested lists and objects. It looks like nested python dictionaries:\n",
        "\n",
        "`{\"firstname\": \"Harry\",\n",
        "\"lastname\": \"Noah\",\n",
        "\"city\": \"Berlin\",\n",
        "\"dogs\": [{\"name\": \"rover\", \"breed\": \"labrador\"}, {\"name\": \"pip\", \"breed\": \"spaniel\"}],\n",
        "\"cars\": \"none\"}`"
      ],
      "metadata": {
        "id": "twbbgN79dV4g"
      }
    },
    {
      "cell_type": "code",
      "source": [
        "import json"
      ],
      "metadata": {
        "id": "lpJwuI7L4KVl"
      },
      "execution_count": null,
      "outputs": []
    },
    {
      "cell_type": "code",
      "execution_count": null,
      "metadata": {
        "id": "vpeX3k9ME6bj"
      },
      "outputs": [],
      "source": [
        "# Make the request.\n",
        "response = requests.get(\"https://jsonplaceholder.typicode.com/users\")"
      ]
    },
    {
      "cell_type": "code",
      "execution_count": null,
      "metadata": {
        "id": "ajrlgIH_E6bj"
      },
      "outputs": [],
      "source": [
        "# Check the HTTP code.\n",
        "response"
      ]
    },
    {
      "cell_type": "code",
      "execution_count": null,
      "metadata": {
        "id": "BrmlSCzeE6bk",
        "collapsed": true
      },
      "outputs": [],
      "source": [
        "# Example of what a JSON looks like.\n",
        "\n",
        "# View API response as a JSON.\n",
        "response.json()"
      ]
    },
    {
      "cell_type": "markdown",
      "metadata": {
        "id": "mQ4swnwlE6bk"
      },
      "source": [
        "### GitHub API - Accessing the data in the JSON\n",
        "\n",
        "Now that we know\n",
        "- what an API is,\n",
        "- how to request information from one (requests),\n",
        "- how the information will be delivered to us (JSON):\n",
        "\n",
        "Let's look how we can use this information. We will first look at how we can access particular values within the JSON. Then we will look at a couple of methods to make a dataframe from the JSON.\n",
        "\n",
        "Github has many APIs. Here we'll look at two of them."
      ]
    },
    {
      "cell_type": "code",
      "execution_count": null,
      "metadata": {
        "id": "1-65alpRE6bk"
      },
      "outputs": [],
      "source": [
        "# Very basic API (a string returned).\n",
        "\n",
        "# GitHub's Zen API produces a new inspirational phrase every 30 seconds.\n",
        "# Run this cell again in 30 seconds to see a different output.\n",
        "\n",
        "resp = requests.get(\"https://api.github.com/zen\")\n",
        "resp.text"
      ]
    },
    {
      "cell_type": "code",
      "execution_count": null,
      "metadata": {
        "id": "ldWwxb5LE6bl",
        "collapsed": true
      },
      "outputs": [],
      "source": [
        "# More complex API (a large json returned).\n",
        "\n",
        "# Github's Event API shows the events that power the various activity streams on the site.\n",
        "# In other words, what's happening on Github, who's updating what?\n",
        "\n",
        "response = requests.get('https://api.github.com/events')\n",
        "github_response = response.json()\n",
        "github_response"
      ]
    },
    {
      "cell_type": "code",
      "execution_count": null,
      "metadata": {
        "id": "aX84msWqE6bl"
      },
      "outputs": [],
      "source": [
        "# How many events are we looking at?\n",
        "len(github_response)"
      ]
    },
    {
      "cell_type": "code",
      "execution_count": null,
      "metadata": {
        "id": "QyyrVCREE6bm"
      },
      "outputs": [],
      "source": [
        "# What are the keys in the first event?\n",
        "github_response[0].keys()"
      ]
    },
    {
      "cell_type": "code",
      "execution_count": null,
      "metadata": {
        "id": "bCLvvVxcE6bm"
      },
      "outputs": [],
      "source": [
        "# We can see that 'repo' is another subdictionary.\n",
        "# What are the keys in the 'repo' subdictionary?\n",
        "github_response[0]['repo'].keys()"
      ]
    },
    {
      "cell_type": "code",
      "execution_count": null,
      "metadata": {
        "id": "1OymXprkE6bm"
      },
      "outputs": [],
      "source": [
        "# What's the value for the key 'name' in 'repo'?\n",
        "github_response[0]['repo']['name']"
      ]
    },
    {
      "cell_type": "markdown",
      "source": [
        "#### Transforming a JSON into a DataFrame"
      ],
      "metadata": {
        "id": "PzZ4mxbeXWsA"
      }
    },
    {
      "cell_type": "markdown",
      "source": [
        "##### Option 1: pd.DataFrame()"
      ],
      "metadata": {
        "id": "ctMvOMW4Xpll"
      }
    },
    {
      "cell_type": "code",
      "execution_count": null,
      "metadata": {
        "id": "OtGWn1ErE6bm",
        "collapsed": true
      },
      "outputs": [],
      "source": [
        "# Turn it into a pandas DataFrame.\n",
        "pd.DataFrame(github_response)"
      ]
    },
    {
      "cell_type": "markdown",
      "source": [
        "##### Option 2: pd.json_normalize()\n",
        "You may notice above that many columns still contain dictionaries as values. We can correct this using json_normalize().\n",
        "\n",
        "https://pandas.pydata.org/docs/reference/api/pandas.json_normalize.html"
      ],
      "metadata": {
        "id": "dLSZJwfCXgF8"
      }
    },
    {
      "cell_type": "code",
      "execution_count": null,
      "metadata": {
        "id": "o1VMoOPEE6bm",
        "collapsed": true
      },
      "outputs": [],
      "source": [
        "pd.json_normalize(github_response)"
      ]
    },
    {
      "cell_type": "markdown",
      "source": [
        "#### Selecting only certain values by iterating with a for loop\n",
        "\n",
        "If we only want to select certain parts of the JSON:\n",
        "- Option 1: make a DataFrame and drop the rest.\n",
        "- Option 2: Use a for loop to extract only the required information.\n",
        "\n",
        "https://www.w3schools.com/python/python_for_loops.asp\n",
        "\n",
        "https://www.w3schools.com/python/ref_func_range.asp"
      ],
      "metadata": {
        "id": "AzCxlkRAmkwp"
      }
    },
    {
      "cell_type": "code",
      "execution_count": null,
      "metadata": {
        "id": "UgUzmIdpE6bn"
      },
      "outputs": [],
      "source": [
        "# login - first value\n",
        "github_response[0]['actor']['login']"
      ]
    },
    {
      "cell_type": "code",
      "source": [
        "# repo - first value\n",
        "github_response[0]['repo']['name']"
      ],
      "metadata": {
        "id": "yvkuHUBSn26D"
      },
      "execution_count": null,
      "outputs": []
    },
    {
      "cell_type": "code",
      "source": [
        "# event_type - first value\n",
        "github_response[0]['type']"
      ],
      "metadata": {
        "id": "s4C0rj8xn5bb"
      },
      "execution_count": null,
      "outputs": []
    },
    {
      "cell_type": "code",
      "execution_count": null,
      "metadata": {
        "id": "1M2ZVHTLE6bn"
      },
      "outputs": [],
      "source": [
        "# Empty lists that the loop will fill with values.\n",
        "login = []\n",
        "repo = []\n",
        "event_type = []\n",
        "\n",
        "for i in range(len(github_response)):\n",
        "    # add the ith login value to the login list\n",
        "    login.append(github_response[i]['actor']['login'])\n",
        "    # add the ith repo name to the repo list\n",
        "    repo.append(github_response[i]['repo']['name'])\n",
        "    # add the ith event type to the event_type list\n",
        "    event_type.append(github_response[i]['type'])"
      ]
    },
    {
      "cell_type": "code",
      "execution_count": null,
      "metadata": {
        "id": "95YOxmE9E6bn",
        "collapsed": true
      },
      "outputs": [],
      "source": [
        "# Let's have a look at the login list.\n",
        "login"
      ]
    },
    {
      "cell_type": "code",
      "execution_count": null,
      "metadata": {
        "id": "Vws-WesME6bn",
        "collapsed": true
      },
      "outputs": [],
      "source": [
        "# Let's have a look at the repo list.\n",
        "repo"
      ]
    },
    {
      "cell_type": "code",
      "execution_count": null,
      "metadata": {
        "id": "byWGFm0vE6bo",
        "collapsed": true
      },
      "outputs": [],
      "source": [
        "# Let's have a look at the event_type list.\n",
        "event_type"
      ]
    },
    {
      "cell_type": "markdown",
      "metadata": {
        "id": "3wo7K5xEE6bo"
      },
      "source": [
        "### International Space Station API - just another cool API\n",
        "\n",
        "Send a simple `get` request to know where the ISS is right now.\n",
        "\n",
        "Docs here: http://open-notify.org/Open-Notify-API/ISS-Location-Now/"
      ]
    },
    {
      "cell_type": "code",
      "execution_count": null,
      "metadata": {
        "id": "4tySVn5sE6bo"
      },
      "outputs": [],
      "source": [
        "url = \"http://api.open-notify.org/iss-now.json\""
      ]
    },
    {
      "cell_type": "code",
      "execution_count": null,
      "metadata": {
        "id": "iOpUGRI1E6bo"
      },
      "outputs": [],
      "source": [
        "response = requests.get(url)"
      ]
    },
    {
      "cell_type": "code",
      "execution_count": null,
      "metadata": {
        "id": "o4hXnrTPE6bo"
      },
      "outputs": [],
      "source": [
        "response.json()"
      ]
    },
    {
      "cell_type": "markdown",
      "metadata": {
        "id": "5hsYq-8zE6bo"
      },
      "source": [
        "## Spotipy"
      ]
    },
    {
      "cell_type": "markdown",
      "source": [
        "Now that you know all about APIs, let's use that knowledge on something even more fun.\n",
        "\n",
        "Spotify has an API that allows users to gather information about songs and even interact with other users and playlists. To make their usage in Python easier, someone created `spotipy`, a library with some convenient functions to send requests and collect data.\n",
        "\n",
        "Create / log into a Spotify account (https://developer.spotify.com/dashboard/login) and follow these steps (only the \"Register your App\" section): https://developer.spotify.com/documentation/general/guides/authorization/app-settings/"
      ],
      "metadata": {
        "id": "dr6XKts19MW4"
      }
    },
    {
      "cell_type": "markdown",
      "metadata": {
        "id": "-77M6xQkE6bo"
      },
      "source": [
        "#### Authentication\n",
        "\n",
        "With most APIs we need to autheticate ourself. This is often done with a username and a password. You will likely use a different username and password for most APIs, so make sure you're using a password manager, or keep everything written down somewhere safe.\n",
        "\n",
        "If ever you'd like more information about spotipy: [here are the docs](https://spotipy.readthedocs.io/en/2.19.0/)."
      ]
    },
    {
      "cell_type": "code",
      "execution_count": null,
      "metadata": {
        "id": "gxOAifbkE6bo"
      },
      "outputs": [],
      "source": [
        "# import libraries\n",
        "import spotipy\n",
        "from spotipy.oauth2 import SpotifyClientCredentials"
      ]
    },
    {
      "cell_type": "code",
      "execution_count": null,
      "metadata": {
        "id": "1h_aSFXJE6bp"
      },
      "outputs": [],
      "source": [
        "#Initialize SpotiPy with user credentials\n",
        "#sp = spotipy.Spotify(client_credentials_manager=SpotifyClientCredentials(\n",
        "    #client_id=\"82d10cbeab244ba885a29af43becd014\",\n",
        "    #client_secret=\"b23ecbf78eb743b38161dae226870f4c\"))\n"
      ]
    },
    {
      "cell_type": "code",
      "source": [
        "sp = spotipy.Spotify(client_credentials_manager=SpotifyClientCredentials(\n",
        "    client_id=\"4f3178f82dd54838a2e06c9d4003a726\",\n",
        "    client_secret=\"25b63863e2674da1a8a914ff62b53d04\"))"
      ],
      "metadata": {
        "id": "mccOcSeP-N_6"
      },
      "execution_count": null,
      "outputs": []
    },
    {
      "cell_type": "markdown",
      "metadata": {
        "id": "-m5ZysaVE6bp"
      },
      "source": [
        "#### Searching songs with 'queries' with `sp.search`\n",
        "\n",
        "This method allows you to find songs using Spotify's search engine. That's convenient when you don't have the exact \"id\" of a song."
      ]
    },
    {
      "cell_type": "code",
      "execution_count": null,
      "metadata": {
        "id": "2oIOYu0nE6bp"
      },
      "outputs": [],
      "source": [
        "# Search for 'Lady Gaga', restricted to the first 10 results.\n",
        "\n",
        "results = sp.search(q=\"Lady Gaga\", limit = 10)"
      ]
    },
    {
      "cell_type": "markdown",
      "metadata": {
        "id": "pu-3DBJrE6bp"
      },
      "source": [
        "Explore the object returned by the request. As it's a dictionary (with nested dictionaries inside), using `.keys` is a great way to see what's in there:"
      ]
    },
    {
      "cell_type": "code",
      "execution_count": null,
      "metadata": {
        "scrolled": true,
        "id": "b8BXsU-TE6bp"
      },
      "outputs": [],
      "source": [
        "results.keys()"
      ]
    },
    {
      "cell_type": "code",
      "execution_count": null,
      "metadata": {
        "id": "YlMqy1ULE6bp"
      },
      "outputs": [],
      "source": [
        "# Only one key makes it seem like there'll be many subdictionaries, let's delve deeper.\n",
        "results[\"tracks\"].keys()"
      ]
    },
    {
      "cell_type": "markdown",
      "metadata": {
        "id": "y0_nKFV0E6bq"
      },
      "source": [
        "This is the url of your request:"
      ]
    },
    {
      "cell_type": "code",
      "execution_count": null,
      "metadata": {
        "scrolled": true,
        "id": "TmhhrAyME6bq"
      },
      "outputs": [],
      "source": [
        "# You can play the track by pasting the url in your browser.\n",
        "\n",
        "# We can explore further by adding keys one after the other.\n",
        "\n",
        "results[\"tracks\"][\"href\"]"
      ]
    },
    {
      "cell_type": "markdown",
      "metadata": {
        "id": "1sqXFDMhE6bq"
      },
      "source": [
        "This is the name of the first song returned by the API:"
      ]
    },
    {
      "cell_type": "code",
      "execution_count": null,
      "metadata": {
        "id": "xUgpy90_E6bq"
      },
      "outputs": [],
      "source": [
        "results[\"tracks\"][\"items\"][0][\"name\"]"
      ]
    },
    {
      "cell_type": "markdown",
      "metadata": {
        "id": "9r-lO96nE6bq"
      },
      "source": [
        "As one song can have many artists, the artists are returned as a list: note the square brackets."
      ]
    },
    {
      "cell_type": "code",
      "execution_count": null,
      "metadata": {
        "id": "7jsJJjA7E6bq"
      },
      "outputs": [],
      "source": [
        "results[\"tracks\"][\"items\"][0][\"artists\"]"
      ]
    },
    {
      "cell_type": "markdown",
      "metadata": {
        "id": "-ASpcoxxE6bq"
      },
      "source": [
        "There are some other interesting features contained in the search results:"
      ]
    },
    {
      "cell_type": "code",
      "execution_count": null,
      "metadata": {
        "scrolled": true,
        "id": "vsEh8RP4E6bq"
      },
      "outputs": [],
      "source": [
        "# https://developer.spotify.com/documentation/web-api/reference/#/operations/get-several-tracks\n",
        "# The popularity of the track. The value will be between 0 and 100, with 100 being the most popular.\n",
        "\n",
        "results[\"tracks\"][\"items\"][0][\"popularity\"]"
      ]
    },
    {
      "cell_type": "markdown",
      "metadata": {
        "id": "JeDhInnNE6bq"
      },
      "source": [
        "This is how Spotify identifies individual songs: with a Uniform Resource Identifier  or `uri`. (The `id` and the `url` are also ways to identify each song uniquely)."
      ]
    },
    {
      "cell_type": "code",
      "execution_count": null,
      "metadata": {
        "id": "0RA2pvkyE6bq"
      },
      "outputs": [],
      "source": [
        "results[\"tracks\"][\"items\"][0][\"uri\"]"
      ]
    },
    {
      "cell_type": "markdown",
      "metadata": {
        "id": "sVERCoajE6br"
      },
      "source": [
        "Here we look for 10 songs by the Red Hot Chili Peppers and store the `uri` of the songs and their names."
      ]
    },
    {
      "cell_type": "code",
      "execution_count": null,
      "metadata": {
        "id": "NekUYUfsE6br"
      },
      "outputs": [],
      "source": [
        "# Send request and store the response.\n",
        "red_hot = sp.search(q=\"Red Hot Chili Peppers\", limit=10)\n",
        "\n",
        "# Initialize empty lists that we will fill with information from our loop.\n",
        "list_of_uri = []\n",
        "list_of_song_names = []\n",
        "\n",
        "# Iterate through the \"items\" (the songs),\n",
        "# and append the \"uri\" and the \"name\" to the lists we created.\n",
        "for item in red_hot[\"tracks\"][\"items\"]:\n",
        "    list_of_uri.append(item[\"uri\"])\n",
        "    list_of_song_names.append(item[\"name\"])\n",
        "\n",
        "# Print results.\n",
        "print(list_of_uri)\n",
        "print(\"\\n\")\n",
        "print(list_of_song_names)"
      ]
    },
    {
      "cell_type": "markdown",
      "metadata": {
        "id": "8lfl6SJNE6br"
      },
      "source": [
        "#### Searching multiple artists\n",
        "\n",
        "Here we first create a list of artists we want to gather songs from. Then we iterate through them and append the results to a big list called `results`."
      ]
    },
    {
      "cell_type": "code",
      "execution_count": null,
      "metadata": {
        "id": "JrbvsYBxE6br"
      },
      "outputs": [],
      "source": [
        "artists = [\"Red Hot Chili Peppers\", \"SCARR\", \"Whitney Houston\"]"
      ]
    },
    {
      "cell_type": "code",
      "execution_count": null,
      "metadata": {
        "id": "UXpu-7SoE6br"
      },
      "outputs": [],
      "source": [
        "results = []\n",
        "\n",
        "for artist in artists:\n",
        "    results.append(sp.search(q=artist, limit=10)) "
      ]
    },
    {
      "cell_type": "code",
      "execution_count": null,
      "metadata": {
        "id": "eW-FM2_ZE6br",
        "collapsed": true
      },
      "outputs": [],
      "source": [
        "# Let's look at the second element in the results list.\n",
        "results[1]"
      ]
    },
    {
      "cell_type": "markdown",
      "metadata": {
        "id": "oJu8dlcHE6br"
      },
      "source": [
        "We can iterate through the `results` list and get just the names of all the songs:"
      ]
    },
    {
      "cell_type": "code",
      "execution_count": null,
      "metadata": {
        "id": "pltEfKtOE6br"
      },
      "outputs": [],
      "source": [
        "song_names = []\n",
        "\n",
        "for result in results:\n",
        "    for item in result[\"tracks\"][\"items\"]:\n",
        "        song_names.append(item[\"name\"])"
      ]
    },
    {
      "cell_type": "code",
      "execution_count": null,
      "metadata": {
        "id": "h8IJZkTtE6br",
        "collapsed": true
      },
      "outputs": [],
      "source": [
        "song_names"
      ]
    },
    {
      "cell_type": "markdown",
      "metadata": {
        "id": "yDiRrR57E6bs"
      },
      "source": [
        "### Playlists\n",
        "\n",
        "Using spotipy, we can both build and read spotify playlists. Today, we will only show you how to read information from a playlist. However, if you wish to build one, we strongly encourage you read the [documentation](https://spotipy.readthedocs.io/en/2.19.0/) and explore further."
      ]
    },
    {
      "cell_type": "code",
      "execution_count": null,
      "metadata": {
        "id": "YboOiH9CE6bs"
      },
      "outputs": [],
      "source": [
        "my_playlist = sp.user_playlist_tracks(user=\"spotify\", playlist_id=\"spotify:playlist:0ce6Rmxf7QXroqa1wzjWY8\")"
      ]
    },
    {
      "cell_type": "markdown",
      "metadata": {
        "id": "J_bTpggUE6bs"
      },
      "source": [
        "Extract songs ID from a playlist"
      ]
    },
    {
      "cell_type": "code",
      "execution_count": null,
      "metadata": {
        "id": "9WedEVGdE6bs",
        "collapsed": true
      },
      "outputs": [],
      "source": [
        "my_playlist"
      ]
    },
    {
      "cell_type": "code",
      "execution_count": null,
      "metadata": {
        "id": "55Ltk-VrE6bs"
      },
      "outputs": [],
      "source": [
        "my_playlist[\"items\"][0][\"track\"][\"uri\"]"
      ]
    },
    {
      "cell_type": "markdown",
      "metadata": {
        "id": "6zk-YwwOE6bs"
      },
      "source": [
        "### Audio features\n",
        "\n",
        "You can check an explanation of the audio features [here](https://developer.spotify.com/documentation/web-api/reference/tracks/get-audio-features/)."
      ]
    },
    {
      "cell_type": "code",
      "execution_count": null,
      "metadata": {
        "scrolled": true,
        "id": "kYKrBXm0E6bt"
      },
      "outputs": [],
      "source": [
        "sp.audio_features(\"spotify:track:6Sy9BUbgFse0n0LPA5lwy5\")"
      ]
    },
    {
      "cell_type": "markdown",
      "metadata": {
        "id": "VIDydPp1E6bt"
      },
      "source": [
        "### Creating a function that takes a song name and returns its audio features "
      ]
    },
    {
      "cell_type": "code",
      "execution_count": null,
      "metadata": {
        "id": "P65QdRoeE6bt",
        "collapsed": true
      },
      "outputs": [],
      "source": [
        "list_of_songs = []\n",
        "\n",
        "def song_features(human_song_title):\n",
        "    # Search for the song title you enter into the function, limited to the first 10 results.\n",
        "    results = sp.search(q=human_song_title, limit = 10)['tracks']['items']\n",
        "    \n",
        "    # Create a loop, so we only select the parts of the json we need.\n",
        "    for i in results:\n",
        "\n",
        "        # Empty dictionary to be filled with the information below.\n",
        "        track_dict = {}\n",
        "\n",
        "        # Add the key artist and a corresponding value to the dictionary.\n",
        "        track_dict['Artist'] = i['artists'][0]['name']\n",
        "        # Add the key title and the corresponding value to the dictionary.\n",
        "        track_dict['Title'] = i['name'] \n",
        "        # Add the key album and the corresponding value to the dictionary.\n",
        "        track_dict['Album'] = i['album']['name']\n",
        "        # Add the key audio description and the corresponding value to the dictionary.\n",
        "        track_dict['Audio Description'] = sp.audio_features(i['id'])\n",
        "        \n",
        "        # Add the dictionary to the list list_of_songs.\n",
        "        list_of_songs.append(track_dict)\n",
        "    # Output list_of_songs.\n",
        "    return list_of_songs\n",
        "\n",
        "# Call the function with a song to test.\n",
        "song_features(\"Under the Bridge\")"
      ]
    },
    {
      "cell_type": "code",
      "execution_count": null,
      "metadata": {
        "id": "_41Ys9ZDE6bt"
      },
      "outputs": [],
      "source": [
        "# Make a dataframe from the list of songs created in the function above.\n",
        "df = pd.DataFrame(list_of_songs)\n",
        "\n",
        "df"
      ]
    },
    {
      "cell_type": "markdown",
      "source": [
        "As you can see, this DataFrame looks a bit off as the audio descriptions aren't expanded - all of the data is clumped together in one cell. Let's correct this, so we can see each audio feature as an individual column."
      ],
      "metadata": {
        "id": "nALoQdpNI9kY"
      }
    },
    {
      "cell_type": "code",
      "execution_count": null,
      "metadata": {
        "id": "8bRRhVoGE6bt"
      },
      "outputs": [],
      "source": [
        "# Quick function we can use to select only the first item.\n",
        "# This can also be done simply with [0], but we wanted to show you how you can incorporate a custom function into your work.\n",
        "\n",
        "def first_value (x):\n",
        "    return x[0]\n",
        "\n",
        "# Making a DataFrame from the audio features of the songs in list_of_songs.\n",
        "df_audio_features = pd.json_normalize(df['Audio Description'].apply(first_value))\n",
        "\n",
        "df_audio_features"
      ]
    },
    {
      "cell_type": "code",
      "execution_count": null,
      "metadata": {
        "id": "Cz1-9FzCE6bt"
      },
      "outputs": [],
      "source": [
        "# Merge the expanded audio features with the original DataFrame.\n",
        "new_df = pd.merge(df, df_audio_features, left_index=True, right_index=True)\n",
        "\n",
        "# Drop the old ugly column where all the audio features are clumped together.\n",
        "new_df.drop('Audio Description', axis=1, inplace=True)\n",
        "\n",
        "new_df"
      ]
    },
    {
      "cell_type": "markdown",
      "metadata": {
        "id": "yE1S3M2TE6bu"
      },
      "source": [
        "If you like a challenge and want to have a go at testing what you've just learned: Follow the steps below and see if you can make a DataFrame similar to the one above with expanded audio features. This time though, do it for a playlist of your choice on spotify. Then see if you can expand it to include the songs from multiple playlists.\n",
        "\n",
        "Try not to look at the solution, but we've included it below in case you get stuck\n",
        "\n",
        "### Collect a big dataframe of songs with their audio features\n",
        "\n",
        "- Start by looking for a playlist on spotify (it does not have to be your playlist), and copy its url.\n",
        "\n",
        "- Extract the audio features for each song on your playlist.\n",
        "\n",
        "- Collect the link of many playlists and do the same for all of them.\n",
        "\n",
        "- Structure the information as a dataframe where each row is a song and the columns are audio features."
      ]
    },
    {
      "cell_type": "code",
      "source": [
        "# your code here"
      ],
      "metadata": {
        "id": "feZ7dOMBLsq4"
      },
      "execution_count": null,
      "outputs": []
    },
    {
      "cell_type": "code",
      "source": [],
      "metadata": {
        "id": "Rx8wBpi3Lsj3"
      },
      "execution_count": null,
      "outputs": []
    },
    {
      "cell_type": "code",
      "source": [],
      "metadata": {
        "id": "KwZ8qzsGOxUu"
      },
      "execution_count": null,
      "outputs": []
    },
    {
      "cell_type": "code",
      "source": [],
      "metadata": {
        "id": "GqsHIop5OxSd"
      },
      "execution_count": null,
      "outputs": []
    },
    {
      "cell_type": "code",
      "source": [],
      "metadata": {
        "id": "G2GbbdLfOxQK"
      },
      "execution_count": null,
      "outputs": []
    },
    {
      "cell_type": "code",
      "source": [],
      "metadata": {
        "id": "joNTkyQjOxNq"
      },
      "execution_count": null,
      "outputs": []
    },
    {
      "cell_type": "code",
      "source": [],
      "metadata": {
        "id": "zlPmOiqSOxLK"
      },
      "execution_count": null,
      "outputs": []
    },
    {
      "cell_type": "code",
      "source": [],
      "metadata": {
        "id": "nVsCb4eMOxIe"
      },
      "execution_count": null,
      "outputs": []
    },
    {
      "cell_type": "code",
      "source": [],
      "metadata": {
        "id": "67OwncWOOxFp"
      },
      "execution_count": null,
      "outputs": []
    },
    {
      "cell_type": "code",
      "source": [],
      "metadata": {
        "id": "vGwYvJA9OxCm"
      },
      "execution_count": null,
      "outputs": []
    },
    {
      "cell_type": "code",
      "source": [],
      "metadata": {
        "id": "q6aRtFLDOw66"
      },
      "execution_count": null,
      "outputs": []
    },
    {
      "cell_type": "code",
      "source": [],
      "metadata": {
        "id": "dDch-5dsLsaI"
      },
      "execution_count": null,
      "outputs": []
    },
    {
      "cell_type": "markdown",
      "source": [
        "#### Solution"
      ],
      "metadata": {
        "id": "ZxhkRqiPLgVr"
      }
    },
    {
      "cell_type": "code",
      "execution_count": null,
      "metadata": {
        "id": "mkyQSTz2E6bu"
      },
      "outputs": [],
      "source": [
        "list_of_playlists = [\"spotify:playlist:2zjepkjZxLpeIBlvPCWIHl\",\n",
        "                    \"spotify:playlist:0ce6Rmxf7QXroqa1wzjWY8\"]\n",
        "\n",
        "track_list = []\n",
        "for i in list_of_playlists:\n",
        "    individual_playlist = sp.user_playlist_tracks(user=\"spotify\", playlist_id=i)['items']\n",
        "    for j in individual_playlist:\n",
        "        track_dict = {}\n",
        "        track_dict['Artist'] = j['track']['artists'][0]['name']\n",
        "        track_dict['Title'] = j['track']['name']\n",
        "        track_dict['Album'] = j['track']['album']['name']\n",
        "        track_dict['Audio Description'] = sp.audio_features(j['track']['id'])\n",
        "        track_list.append(track_dict)\n",
        "\n",
        "print(track_list)"
      ]
    },
    {
      "cell_type": "code",
      "execution_count": null,
      "metadata": {
        "id": "W0WvyA65E6bu"
      },
      "outputs": [],
      "source": [
        "playlist_df = pd.DataFrame(track_list)"
      ]
    },
    {
      "cell_type": "code",
      "execution_count": null,
      "metadata": {
        "id": "CXCqbeZtE6bu"
      },
      "outputs": [],
      "source": [
        "df_a_f = pd.json_normalize(playlist_df['Audio Description'].apply(first_value))"
      ]
    },
    {
      "cell_type": "code",
      "execution_count": null,
      "metadata": {
        "id": "fV-AAbJLE6bu"
      },
      "outputs": [],
      "source": [
        "new_playlist_df = pd.merge(playlist_df, df_a_f, left_index=True, right_index=True)"
      ]
    },
    {
      "cell_type": "code",
      "execution_count": null,
      "metadata": {
        "id": "9kSplPvUE6bu"
      },
      "outputs": [],
      "source": [
        "new_playlist_df.drop('Audio Description', axis=1, inplace=True)"
      ]
    },
    {
      "cell_type": "code",
      "execution_count": null,
      "metadata": {
        "id": "YSYem2_UE6bu",
        "collapsed": true
      },
      "outputs": [],
      "source": [
        "new_playlist_df"
      ]
    }
  ],
  "metadata": {
    "kernelspec": {
      "display_name": "Python 3",
      "language": "python",
      "name": "python3"
    },
    "language_info": {
      "codemirror_mode": {
        "name": "ipython",
        "version": 3
      },
      "file_extension": ".py",
      "mimetype": "text/x-python",
      "name": "python",
      "nbconvert_exporter": "python",
      "pygments_lexer": "ipython3",
      "version": "3.8.8"
    },
    "toc": {
      "base_numbering": 1,
      "nav_menu": {},
      "number_sections": true,
      "sideBar": true,
      "skip_h1_title": false,
      "title_cell": "Table of Contents",
      "title_sidebar": "Contents",
      "toc_cell": false,
      "toc_position": {},
      "toc_section_display": true,
      "toc_window_display": false
    },
    "varInspector": {
      "cols": {
        "lenName": 16,
        "lenType": 16,
        "lenVar": 40
      },
      "kernels_config": {
        "python": {
          "delete_cmd_postfix": "",
          "delete_cmd_prefix": "del ",
          "library": "var_list.py",
          "varRefreshCmd": "print(var_dic_list())"
        },
        "r": {
          "delete_cmd_postfix": ") ",
          "delete_cmd_prefix": "rm(",
          "library": "var_list.r",
          "varRefreshCmd": "cat(var_dic_list()) "
        }
      },
      "types_to_exclude": [
        "module",
        "function",
        "builtin_function_or_method",
        "instance",
        "_Feature"
      ],
      "window_display": false
    },
    "colab": {
      "provenance": [],
      "collapsed_sections": [
        "ZxhkRqiPLgVr"
      ]
    }
  },
  "nbformat": 4,
  "nbformat_minor": 0
}