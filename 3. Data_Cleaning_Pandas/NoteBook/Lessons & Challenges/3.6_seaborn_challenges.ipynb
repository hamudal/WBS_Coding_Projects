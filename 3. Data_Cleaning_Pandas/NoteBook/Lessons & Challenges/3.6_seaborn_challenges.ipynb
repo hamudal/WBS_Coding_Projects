{
 "cells": [
  {
   "cell_type": "markdown",
   "metadata": {
    "id": "jkrVBGxQf-Wn"
   },
   "source": [
    "# Data Visalization with seaborn"
   ]
  },
  {
   "cell_type": "code",
   "execution_count": 1,
   "metadata": {
    "executionInfo": {
     "elapsed": 531,
     "status": "ok",
     "timestamp": 1670316910814,
     "user": {
      "displayName": "Hana Lacic",
      "userId": "03901848044717845615"
     },
     "user_tz": -60
    },
    "id": "j-2SUs6kqEYv"
   },
   "outputs": [],
   "source": [
    "import pandas as pd\n",
    "import seaborn as sns\n",
    "import warnings\n",
    "warnings.filterwarnings(\"ignore\")"
   ]
  },
  {
   "cell_type": "markdown",
   "metadata": {
    "id": "z9JMMfSRqORt"
   },
   "source": [
    "This notebook has been built following seaborn's documentation. Keep it close as you begin your Seaborn journey:\n",
    "\n",
    "* [Official seaborn tutorial page](https://seaborn.pydata.org/tutorial.html)\n",
    "\n",
    "* [Overview of seaborn plotting functions](https://seaborn.pydata.org/tutorial/function_overview.html)\n",
    "\n",
    "In this notebook we are going to look at seaborn's figure-level functions, as opposed to their axes-level functions. There are intrinsic differences between these two types of functions, but what you need to know is:\n",
    "* Figure level: three basic functions to be used depending on what kind of data are you plotting e.g. `.catplot()` for categorical data\n",
    "* Axes-level: many functions, one for each specific type of plot e.g `.barplot()`, `.histplot()`, etc.\n",
    "\n",
    "Seaborn recommends using figure-level plots for most applications as they produce \"slightly cleaner plots\". Axes-level plots should only be used when you need to produce \"complex, standalone figures that compose multiple different plot kinds\".\n",
    "\n",
    "There are 3 different types of figure-level plots in seaborn\n",
    "* `.catplot()` - for categorical plots (discrete data)\n",
    "* `.displot()` - for distributions (continuous data)\n",
    "* `.relplot()` - for relational plots (do the features have a relationship?)\n",
    "\n",
    "As seaborn is a well maintained and well known library, most of the parameters for these 3 types of figure-level plots are the same, which makes our lives very easy. It means that you only need to learn one set of skills and then you can apply it to many different situations. We will first look at `.catplot()`, showing you most of the universal parameters. Then we'll look at `.displot()` and `.relplot` to show you how to apply these parameters, and highlight a couple of unique ones too.\n",
    "\n",
    "In this tutorial we'll use the titanic dataset, which is quite famous in the data science world. It can be easily loaded from seaborn itself."
   ]
  },
  {
   "cell_type": "code",
   "execution_count": 2,
   "metadata": {
    "colab": {
     "base_uri": "https://localhost:8080/",
     "height": 206
    },
    "executionInfo": {
     "elapsed": 2606,
     "status": "ok",
     "timestamp": 1670316913416,
     "user": {
      "displayName": "Hana Lacic",
      "userId": "03901848044717845615"
     },
     "user_tz": -60
    },
    "id": "O_ouooQNqLMb",
    "outputId": "f52359af-62ec-4aca-d8eb-e477fba270de"
   },
   "outputs": [
    {
     "data": {
      "text/html": [
       "\n",
       "  <div id=\"df-5200cbe2-a889-4637-8373-6ffac0ce1c3c\">\n",
       "    <div class=\"colab-df-container\">\n",
       "      <div>\n",
       "<style scoped>\n",
       "    .dataframe tbody tr th:only-of-type {\n",
       "        vertical-align: middle;\n",
       "    }\n",
       "\n",
       "    .dataframe tbody tr th {\n",
       "        vertical-align: top;\n",
       "    }\n",
       "\n",
       "    .dataframe thead th {\n",
       "        text-align: right;\n",
       "    }\n",
       "</style>\n",
       "<table border=\"1\" class=\"dataframe\">\n",
       "  <thead>\n",
       "    <tr style=\"text-align: right;\">\n",
       "      <th></th>\n",
       "      <th>survived</th>\n",
       "      <th>pclass</th>\n",
       "      <th>sex</th>\n",
       "      <th>age</th>\n",
       "      <th>sibsp</th>\n",
       "      <th>parch</th>\n",
       "      <th>fare</th>\n",
       "      <th>embarked</th>\n",
       "      <th>class</th>\n",
       "      <th>who</th>\n",
       "      <th>adult_male</th>\n",
       "      <th>deck</th>\n",
       "      <th>embark_town</th>\n",
       "      <th>alive</th>\n",
       "      <th>alone</th>\n",
       "    </tr>\n",
       "  </thead>\n",
       "  <tbody>\n",
       "    <tr>\n",
       "      <th>0</th>\n",
       "      <td>0</td>\n",
       "      <td>3</td>\n",
       "      <td>male</td>\n",
       "      <td>22.0</td>\n",
       "      <td>1</td>\n",
       "      <td>0</td>\n",
       "      <td>7.2500</td>\n",
       "      <td>S</td>\n",
       "      <td>Third</td>\n",
       "      <td>man</td>\n",
       "      <td>True</td>\n",
       "      <td>NaN</td>\n",
       "      <td>Southampton</td>\n",
       "      <td>no</td>\n",
       "      <td>False</td>\n",
       "    </tr>\n",
       "    <tr>\n",
       "      <th>1</th>\n",
       "      <td>1</td>\n",
       "      <td>1</td>\n",
       "      <td>female</td>\n",
       "      <td>38.0</td>\n",
       "      <td>1</td>\n",
       "      <td>0</td>\n",
       "      <td>71.2833</td>\n",
       "      <td>C</td>\n",
       "      <td>First</td>\n",
       "      <td>woman</td>\n",
       "      <td>False</td>\n",
       "      <td>C</td>\n",
       "      <td>Cherbourg</td>\n",
       "      <td>yes</td>\n",
       "      <td>False</td>\n",
       "    </tr>\n",
       "    <tr>\n",
       "      <th>2</th>\n",
       "      <td>1</td>\n",
       "      <td>3</td>\n",
       "      <td>female</td>\n",
       "      <td>26.0</td>\n",
       "      <td>0</td>\n",
       "      <td>0</td>\n",
       "      <td>7.9250</td>\n",
       "      <td>S</td>\n",
       "      <td>Third</td>\n",
       "      <td>woman</td>\n",
       "      <td>False</td>\n",
       "      <td>NaN</td>\n",
       "      <td>Southampton</td>\n",
       "      <td>yes</td>\n",
       "      <td>True</td>\n",
       "    </tr>\n",
       "    <tr>\n",
       "      <th>3</th>\n",
       "      <td>1</td>\n",
       "      <td>1</td>\n",
       "      <td>female</td>\n",
       "      <td>35.0</td>\n",
       "      <td>1</td>\n",
       "      <td>0</td>\n",
       "      <td>53.1000</td>\n",
       "      <td>S</td>\n",
       "      <td>First</td>\n",
       "      <td>woman</td>\n",
       "      <td>False</td>\n",
       "      <td>C</td>\n",
       "      <td>Southampton</td>\n",
       "      <td>yes</td>\n",
       "      <td>False</td>\n",
       "    </tr>\n",
       "    <tr>\n",
       "      <th>4</th>\n",
       "      <td>0</td>\n",
       "      <td>3</td>\n",
       "      <td>male</td>\n",
       "      <td>35.0</td>\n",
       "      <td>0</td>\n",
       "      <td>0</td>\n",
       "      <td>8.0500</td>\n",
       "      <td>S</td>\n",
       "      <td>Third</td>\n",
       "      <td>man</td>\n",
       "      <td>True</td>\n",
       "      <td>NaN</td>\n",
       "      <td>Southampton</td>\n",
       "      <td>no</td>\n",
       "      <td>True</td>\n",
       "    </tr>\n",
       "  </tbody>\n",
       "</table>\n",
       "</div>\n",
       "      <button class=\"colab-df-convert\" onclick=\"convertToInteractive('df-5200cbe2-a889-4637-8373-6ffac0ce1c3c')\"\n",
       "              title=\"Convert this dataframe to an interactive table.\"\n",
       "              style=\"display:none;\">\n",
       "        \n",
       "  <svg xmlns=\"http://www.w3.org/2000/svg\" height=\"24px\"viewBox=\"0 0 24 24\"\n",
       "       width=\"24px\">\n",
       "    <path d=\"M0 0h24v24H0V0z\" fill=\"none\"/>\n",
       "    <path d=\"M18.56 5.44l.94 2.06.94-2.06 2.06-.94-2.06-.94-.94-2.06-.94 2.06-2.06.94zm-11 1L8.5 8.5l.94-2.06 2.06-.94-2.06-.94L8.5 2.5l-.94 2.06-2.06.94zm10 10l.94 2.06.94-2.06 2.06-.94-2.06-.94-.94-2.06-.94 2.06-2.06.94z\"/><path d=\"M17.41 7.96l-1.37-1.37c-.4-.4-.92-.59-1.43-.59-.52 0-1.04.2-1.43.59L10.3 9.45l-7.72 7.72c-.78.78-.78 2.05 0 2.83L4 21.41c.39.39.9.59 1.41.59.51 0 1.02-.2 1.41-.59l7.78-7.78 2.81-2.81c.8-.78.8-2.07 0-2.86zM5.41 20L4 18.59l7.72-7.72 1.47 1.35L5.41 20z\"/>\n",
       "  </svg>\n",
       "      </button>\n",
       "      \n",
       "  <style>\n",
       "    .colab-df-container {\n",
       "      display:flex;\n",
       "      flex-wrap:wrap;\n",
       "      gap: 12px;\n",
       "    }\n",
       "\n",
       "    .colab-df-convert {\n",
       "      background-color: #E8F0FE;\n",
       "      border: none;\n",
       "      border-radius: 50%;\n",
       "      cursor: pointer;\n",
       "      display: none;\n",
       "      fill: #1967D2;\n",
       "      height: 32px;\n",
       "      padding: 0 0 0 0;\n",
       "      width: 32px;\n",
       "    }\n",
       "\n",
       "    .colab-df-convert:hover {\n",
       "      background-color: #E2EBFA;\n",
       "      box-shadow: 0px 1px 2px rgba(60, 64, 67, 0.3), 0px 1px 3px 1px rgba(60, 64, 67, 0.15);\n",
       "      fill: #174EA6;\n",
       "    }\n",
       "\n",
       "    [theme=dark] .colab-df-convert {\n",
       "      background-color: #3B4455;\n",
       "      fill: #D2E3FC;\n",
       "    }\n",
       "\n",
       "    [theme=dark] .colab-df-convert:hover {\n",
       "      background-color: #434B5C;\n",
       "      box-shadow: 0px 1px 3px 1px rgba(0, 0, 0, 0.15);\n",
       "      filter: drop-shadow(0px 1px 2px rgba(0, 0, 0, 0.3));\n",
       "      fill: #FFFFFF;\n",
       "    }\n",
       "  </style>\n",
       "\n",
       "      <script>\n",
       "        const buttonEl =\n",
       "          document.querySelector('#df-5200cbe2-a889-4637-8373-6ffac0ce1c3c button.colab-df-convert');\n",
       "        buttonEl.style.display =\n",
       "          google.colab.kernel.accessAllowed ? 'block' : 'none';\n",
       "\n",
       "        async function convertToInteractive(key) {\n",
       "          const element = document.querySelector('#df-5200cbe2-a889-4637-8373-6ffac0ce1c3c');\n",
       "          const dataTable =\n",
       "            await google.colab.kernel.invokeFunction('convertToInteractive',\n",
       "                                                     [key], {});\n",
       "          if (!dataTable) return;\n",
       "\n",
       "          const docLinkHtml = 'Like what you see? Visit the ' +\n",
       "            '<a target=\"_blank\" href=https://colab.research.google.com/notebooks/data_table.ipynb>data table notebook</a>'\n",
       "            + ' to learn more about interactive tables.';\n",
       "          element.innerHTML = '';\n",
       "          dataTable['output_type'] = 'display_data';\n",
       "          await google.colab.output.renderOutput(dataTable, element);\n",
       "          const docLink = document.createElement('div');\n",
       "          docLink.innerHTML = docLinkHtml;\n",
       "          element.appendChild(docLink);\n",
       "        }\n",
       "      </script>\n",
       "    </div>\n",
       "  </div>\n",
       "  "
      ],
      "text/plain": [
       "   survived  pclass     sex   age  sibsp  parch     fare embarked  class  \\\n",
       "0         0       3    male  22.0      1      0   7.2500        S  Third   \n",
       "1         1       1  female  38.0      1      0  71.2833        C  First   \n",
       "2         1       3  female  26.0      0      0   7.9250        S  Third   \n",
       "3         1       1  female  35.0      1      0  53.1000        S  First   \n",
       "4         0       3    male  35.0      0      0   8.0500        S  Third   \n",
       "\n",
       "     who  adult_male deck  embark_town alive  alone  \n",
       "0    man        True  NaN  Southampton    no  False  \n",
       "1  woman       False    C    Cherbourg   yes  False  \n",
       "2  woman       False  NaN  Southampton   yes   True  \n",
       "3  woman       False    C  Southampton   yes  False  \n",
       "4    man        True  NaN  Southampton    no   True  "
      ]
     },
     "execution_count": 2,
     "metadata": {},
     "output_type": "execute_result"
    }
   ],
   "source": [
    "titanic = sns.load_dataset(\"titanic\")\n",
    "titanic.head()"
   ]
  },
  {
   "cell_type": "markdown",
   "metadata": {
    "id": "ghtiyC8xy9bN"
   },
   "source": [
    "## 1.&nbsp; Categorical data: `catplot`\n",
    "\n",
    "Use this function whenever you want to plot a categorical feature. You might want to plot it together with a numerical feature: still, `catplot` is your function as long as one of the features is categorical.\n",
    "\n",
    "[.catplot() docs](https://seaborn.pydata.org/generated/seaborn.catplot.html)\n",
    "\n",
    "\n",
    "[Seaborn tutorial for plotting with categorical data](https://seaborn.pydata.org/tutorial/categorical.html)"
   ]
  },
  {
   "cell_type": "markdown",
   "metadata": {
    "id": "hCMMNpH38lVd"
   },
   "source": [
    "### 1.1.&nbsp; Selecting features"
   ]
  },
  {
   "cell_type": "markdown",
   "metadata": {
    "id": "n71MCGPvQrTb"
   },
   "source": [
    "#### 1.1.1.&nbsp; `x` and `y`\n",
    "One of the nicest things about seaborn's figure-level functions is that we can feed them a whole DataFrame, and then just select the columns we want to plot in their parameters. Seaborn will then do the rest, sometimes even aggregating the data for us.\n",
    "\n",
    "Below we can see how much people paid and which class they were in. The columns passed to the `x` and `y` parameters get allocated to the horizontal and vertical axis respectively:"
   ]
  },
  {
   "cell_type": "code",
   "execution_count": null,
   "metadata": {
    "colab": {
     "base_uri": "https://localhost:8080/",
     "height": 369
    },
    "executionInfo": {
     "elapsed": 798,
     "status": "ok",
     "timestamp": 1668084284344,
     "user": {
      "displayName": "Hana Lacic",
      "userId": "03901848044717845615"
     },
     "user_tz": -60
    },
    "id": "HI_4wR493FAg",
    "outputId": "894406bb-81c2-4e9c-8836-2877c85975d3"
   },
   "outputs": [
    {
     "data": {
      "image/png": "[encoded data removed]",
      "text/plain": [
       "<Figure size 360x360 with 1 Axes>"
      ]
     },
     "metadata": {
      "needs_background": "light"
     },
     "output_type": "display_data"
    }
   ],
   "source": [
    "sns.catplot(data=titanic, \n",
    "            x=\"class\", \n",
    "            y=\"fare\"\n",
    "            );"
   ]
  },
  {
   "cell_type": "markdown",
   "metadata": {
    "id": "6uj3qlUbI4Kx"
   },
   "source": [
    "Looks like a few people paid a lot more than everyone else in first class!"
   ]
  },
  {
   "cell_type": "markdown",
   "metadata": {
    "id": "uUbDnypq8oiH"
   },
   "source": [
    "#### 1.1.2.&nbsp; `hue`\n",
    "We can also divide our data by colour using the `hue` parameter. \n",
    "\n",
    "Now we can see the same data as above, but divided by `sex`."
   ]
  },
  {
   "cell_type": "code",
   "execution_count": null,
   "metadata": {
    "colab": {
     "base_uri": "https://localhost:8080/",
     "height": 369
    },
    "executionInfo": {
     "elapsed": 1362,
     "status": "ok",
     "timestamp": 1670232938146,
     "user": {
      "displayName": "Hana Lacic",
      "userId": "03901848044717845615"
     },
     "user_tz": -60
    },
    "id": "ppjpPoIw3gV1",
    "outputId": "21841bec-5a38-49cd-b2a0-60f3d6a03709"
   },
   "outputs": [
    {
     "data": {
      "image/png": "[encoded data removed]",
      "text/plain": [
       "<Figure size 430.5x360 with 1 Axes>"
      ]
     },
     "metadata": {
      "needs_background": "light"
     },
     "output_type": "display_data"
    }
   ],
   "source": [
    "sns.catplot(data=titanic, \n",
    "            x=\"class\", \n",
    "            y=\"fare\",\n",
    "            hue=\"sex\"\n",
    "            );"
   ]
  },
  {
   "cell_type": "markdown",
   "metadata": {
    "id": "PtrSBKz6N3Aa"
   },
   "source": [
    "> **Tip:** It only makes sense to use the `hue` parameter with a categorical feature that has a small number of categories, like `sex`. Try passing `fare` or `age` to the parameter and you'll see why..."
   ]
  },
  {
   "cell_type": "markdown",
   "metadata": {
    "id": "N9T8at_k8vfm"
   },
   "source": [
    "#### 1.1.3.&nbsp; `col`\n",
    "It is also possible to create multiple plots based on a category, which will share a y-axis - we simply place this category in the `col` parameter. \n",
    "\n",
    "Below we can see how much people paid, the class they travelled in, their sex, and in which port they boarded the boat."
   ]
  },
  {
   "cell_type": "code",
   "execution_count": null,
   "metadata": {
    "colab": {
     "base_uri": "https://localhost:8080/",
     "height": 359
    },
    "executionInfo": {
     "elapsed": 1126,
     "status": "ok",
     "timestamp": 1668084285458,
     "user": {
      "displayName": "Hana Lacic",
      "userId": "03901848044717845615"
     },
     "user_tz": -60
    },
    "id": "ROolBg9M69nZ",
    "outputId": "81f019f8-8a9b-460c-aa04-f8455c238f8d"
   },
   "outputs": [
    {
     "data": {
      "image/png": "[encoded data removed]",
      "text/plain": [
       "<Figure size 1150.5x360 with 3 Axes>"
      ]
     },
     "metadata": {
      "needs_background": "light"
     },
     "output_type": "display_data"
    }
   ],
   "source": [
    "sns.catplot(data=titanic, \n",
    "            x=\"class\", \n",
    "            y=\"fare\", \n",
    "            hue=\"sex\", \n",
    "            col=\"embark_town\");"
   ]
  },
  {
   "cell_type": "markdown",
   "metadata": {
    "id": "mYHtDK0sJJTc"
   },
   "source": [
    "Interesting to see that almost everyone who boarded in [Queenstown](https://en.wikipedia.org/wiki/Cobh) had a third class ticket. Feel free to deliberate about the reasons why later.\n",
    "\n",
    "> **Tip:** Complex plots that combine many variables together are a good exploratory tool. They allow Data Analysts to uncover hidden insights. However, these plots are generally terrible for presentations where the audience does not have a lot of time to analyse the plot. In presentations, always use only simple plots conveying a clear message. If a complex plot is needed, either send it beforehand to the audience or take the time to explain it during the presentation."
   ]
  },
  {
   "cell_type": "markdown",
   "metadata": {
    "id": "nff-S0Lb-mvH"
   },
   "source": [
    "##### `col_wrap`\n",
    "Sometimes, if the feature you selected for `col` has many categories it may struggle to be legible on the screen, such as the example below."
   ]
  },
  {
   "cell_type": "code",
   "execution_count": null,
   "metadata": {
    "colab": {
     "base_uri": "https://localhost:8080/",
     "height": 179
    },
    "executionInfo": {
     "elapsed": 2560,
     "status": "ok",
     "timestamp": 1670233318867,
     "user": {
      "displayName": "Hana Lacic",
      "userId": "03901848044717845615"
     },
     "user_tz": -60
    },
    "id": "vtBn7JNxqwYL",
    "outputId": "f3dd2d60-4c0c-498e-f4ca-44d96442bc6a"
   },
   "outputs": [
    {
     "data": {
      "image/png": "[encoded data removed]",
      "text/plain": [
       "<Figure size 2520x360 with 7 Axes>"
      ]
     },
     "metadata": {
      "needs_background": "light"
     },
     "output_type": "display_data"
    }
   ],
   "source": [
    "sns.catplot(data=titanic, \n",
    "            x=\"alive\", \n",
    "            col=\"deck\", \n",
    "            kind=\"count\");"
   ]
  },
  {
   "cell_type": "markdown",
   "metadata": {
    "id": "Acr0IPO9zguM"
   },
   "source": [
    "It is possible to spread out the columns over multiple lines using the parameter `col_wrap`"
   ]
  },
  {
   "cell_type": "code",
   "execution_count": null,
   "metadata": {
    "colab": {
     "base_uri": "https://localhost:8080/",
     "height": 571
    },
    "executionInfo": {
     "elapsed": 1219,
     "status": "ok",
     "timestamp": 1668084287857,
     "user": {
      "displayName": "Hana Lacic",
      "userId": "03901848044717845615"
     },
     "user_tz": -60
    },
    "id": "Y9KQmqe_9W6N",
    "outputId": "624588a1-944d-479d-bae3-09f6718ec5fa"
   },
   "outputs": [
    {
     "data": {
      "image/png": "[encoded data removed]",
      "text/plain": [
       "<Figure size 1440x720 with 7 Axes>"
      ]
     },
     "metadata": {
      "needs_background": "light"
     },
     "output_type": "display_data"
    }
   ],
   "source": [
    "sns.catplot(data=titanic, \n",
    "            x=\"alive\", \n",
    "            col=\"deck\", \n",
    "            col_wrap=4, \n",
    "            kind=\"count\");"
   ]
  },
  {
   "cell_type": "markdown",
   "metadata": {
    "id": "oenhsFifzR24"
   },
   "source": [
    "#### 1.1.3.&nbsp; `row`\n",
    "You can also split the categories vertically using the `row` parameter.\n",
    "\n",
    "Here, we've used a `.displot()`, we'll go through those later in the notebook"
   ]
  },
  {
   "cell_type": "code",
   "execution_count": null,
   "metadata": {
    "colab": {
     "base_uri": "https://localhost:8080/",
     "height": 729
    },
    "executionInfo": {
     "elapsed": 1633,
     "status": "ok",
     "timestamp": 1668084289487,
     "user": {
      "displayName": "Hana Lacic",
      "userId": "03901848044717845615"
     },
     "user_tz": -60
    },
    "id": "KMYdFVdN2Xvd",
    "outputId": "89abb70f-11d8-4ecf-dea7-40d58c5fe592"
   },
   "outputs": [
    {
     "data": {
      "image/png": "[encoded data removed]",
      "text/plain": [
       "<Figure size 720x720 with 4 Axes>"
      ]
     },
     "metadata": {
      "needs_background": "light"
     },
     "output_type": "display_data"
    }
   ],
   "source": [
    "sns.displot(data=titanic, \n",
    "            x=\"age\", \n",
    "            col=\"sex\", \n",
    "            row=\"survived\");"
   ]
  },
  {
   "cell_type": "markdown",
   "metadata": {
    "id": "zuhXiI558sT-"
   },
   "source": [
    "### 1.2.&nbsp; Selecting the type of plot\n",
    "You may have noticed above that we also used the parameter `kind`, we can use this to change the type of categorical plot.\n",
    "\n",
    "Categorical scatterplots:\n",
    "\n",
    "* [.stripplot()](https://seaborn.pydata.org/generated/seaborn.stripplot.html#seaborn.stripplot) - `kind=\"strip\"` the default\n",
    "\n",
    "* [.swarmplot()](https://seaborn.pydata.org/generated/seaborn.swarmplot.html#seaborn.swarmplot) - `kind=\"swarm\"`\n",
    "\n",
    "Categorical distribution plots:\n",
    "\n",
    "* [.boxplot()](https://seaborn.pydata.org/generated/seaborn.boxplot.html#seaborn.boxplot) - `kind=\"box\"`\n",
    "\n",
    "* [.violinplot()](https://seaborn.pydata.org/generated/seaborn.violinplot.html#seaborn.violinplot) - `kind=\"violin\"`\n",
    "\n",
    "* [.boxenplot()](https://seaborn.pydata.org/generated/seaborn.boxenplot.html#seaborn.boxenplot) - `kind=\"boxen\"`\n",
    "\n",
    "Categorical estimate plots:\n",
    "\n",
    "* [.pointplot()](https://seaborn.pydata.org/generated/seaborn.pointplot.html#seaborn.pointplot) - `kind=\"point\"`\n",
    "\n",
    "* [.barplot()](https://seaborn.pydata.org/generated/seaborn.barplot.html#seaborn.barplot) - `kind=\"bar\"`\n",
    "\n",
    "* [.countplot()](https://seaborn.pydata.org/generated/seaborn.countplot.html#seaborn.countplot) - `kind=\"count\"`\n",
    "\n",
    "Each of these `kind`s have individual parameters that you can find on their documentation page."
   ]
  },
  {
   "cell_type": "markdown",
   "metadata": {
    "id": "MYPo6_g64yAr"
   },
   "source": [
    "#### 1.2.1.&nbsp; `kind = \"bar\"`\n",
    "* The height of the bar is the arithmetic mean of the values.\n",
    "* Black lines are the [confidence interval](https://www.khanacademy.org/math/ap-statistics/xfb5d8e68:inference-categorical-proportions/introduction-confidence-intervals/v/confidence-intervals-and-margin-of-error).\n",
    "  * Can be controlled with the parameter `ci`:\n",
    "    * `float`: size of confidence interval - default `95`\n",
    "    * `\"sd\"`: draw standard deviation with black lines\n",
    "    * `None`: don't draw black lines"
   ]
  },
  {
   "cell_type": "code",
   "execution_count": null,
   "metadata": {
    "colab": {
     "base_uri": "https://localhost:8080/",
     "height": 369
    },
    "executionInfo": {
     "elapsed": 954,
     "status": "ok",
     "timestamp": 1670233982037,
     "user": {
      "displayName": "Hana Lacic",
      "userId": "03901848044717845615"
     },
     "user_tz": -60
    },
    "id": "_tFKYfj37Tmp",
    "outputId": "81179d10-0f13-4236-fb2b-8fa53c1851d6"
   },
   "outputs": [
    {
     "data": {
      "image/png": "[encoded data removed]",
      "text/plain": [
       "<Figure size 430.5x360 with 1 Axes>"
      ]
     },
     "metadata": {
      "needs_background": "light"
     },
     "output_type": "display_data"
    }
   ],
   "source": [
    "sns.catplot(kind=\"bar\",\n",
    "            data=titanic, \n",
    "            x=\"class\", \n",
    "            y=\"fare\", \n",
    "            hue=\"sex\");"
   ]
  },
  {
   "cell_type": "markdown",
   "metadata": {
    "id": "v4U-NGnCZGCI"
   },
   "source": [
    "Why did women pay more on average?"
   ]
  },
  {
   "cell_type": "markdown",
   "metadata": {
    "id": "vU0O1EuR9T23"
   },
   "source": [
    "#### 1.2.2.&nbsp; `kind = count`\n",
    "A `count` plot shows the count of each category."
   ]
  },
  {
   "cell_type": "code",
   "execution_count": null,
   "metadata": {
    "colab": {
     "base_uri": "https://localhost:8080/",
     "height": 369
    },
    "executionInfo": {
     "elapsed": 430,
     "status": "ok",
     "timestamp": 1668084291105,
     "user": {
      "displayName": "Hana Lacic",
      "userId": "03901848044717845615"
     },
     "user_tz": -60
    },
    "id": "cjsHuML7-Ajv",
    "outputId": "5fc608f1-07ea-4fcd-8b01-138fb3e25f24"
   },
   "outputs": [
    {
     "data": {
      "image/png": "[encoded data removed]",
      "text/plain": [
       "<Figure size 430.5x360 with 1 Axes>"
      ]
     },
     "metadata": {
      "needs_background": "light"
     },
     "output_type": "display_data"
    }
   ],
   "source": [
    "sns.catplot(kind=\"count\",\n",
    "            data=titanic, \n",
    "            x=\"class\", \n",
    "            hue=\"sex\");"
   ]
  },
  {
   "cell_type": "markdown",
   "metadata": {
    "id": "9Qe6IgZ9Y1OB"
   },
   "source": [
    "That's a big gender imbalance in third class!"
   ]
  },
  {
   "cell_type": "markdown",
   "metadata": {
    "id": "mVuaIfgZ8y19"
   },
   "source": [
    "### 1.3.&nbsp; Changing the size of a plot"
   ]
  },
  {
   "cell_type": "markdown",
   "metadata": {
    "id": "g2o7x9H-83yF"
   },
   "source": [
    "#### 1.3.1.&nbsp; `height`\n",
    "The official documentation says the `height` is the \"Height (in inches) of each facet.\" Inches don't always translate on the screen, due to zoom, pixel density and other things, so take the interpretation of the number with a pinch of salt."
   ]
  },
  {
   "cell_type": "code",
   "execution_count": null,
   "metadata": {
    "colab": {
     "base_uri": "https://localhost:8080/",
     "height": 585
    },
    "executionInfo": {
     "elapsed": 1412,
     "status": "ok",
     "timestamp": 1670234298538,
     "user": {
      "displayName": "Hana Lacic",
      "userId": "03901848044717845615"
     },
     "user_tz": -60
    },
    "id": "kmGcdKUa7ssH",
    "outputId": "4747cb08-7ee7-4ecf-b087-1a69f5839fee"
   },
   "outputs": [
    {
     "data": {
      "image/png": "[encoded data removed]",
      "text/plain": [
       "<Figure size 646.5x576 with 1 Axes>"
      ]
     },
     "metadata": {
      "needs_background": "light"
     },
     "output_type": "display_data"
    }
   ],
   "source": [
    "sns.catplot(kind=\"count\",\n",
    "            data=titanic, \n",
    "            x=\"class\", \n",
    "            hue=\"sex\", \n",
    "            height=8);"
   ]
  },
  {
   "cell_type": "markdown",
   "metadata": {
    "id": "efC89bO385rd"
   },
   "source": [
    "#### 1.3.2.&nbsp; aspect\n",
    "Officially aspect is the \"ratio of each facet, so that aspect * height gives the width of each facet in inches.\" It's probably more easily undorstood as affecting the width of the plot."
   ]
  },
  {
   "cell_type": "code",
   "execution_count": null,
   "metadata": {
    "colab": {
     "base_uri": "https://localhost:8080/",
     "height": 369
    },
    "executionInfo": {
     "elapsed": 1115,
     "status": "ok",
     "timestamp": 1670234331024,
     "user": {
      "displayName": "Hana Lacic",
      "userId": "03901848044717845615"
     },
     "user_tz": -60
    },
    "id": "6LLcJXdg75UA",
    "outputId": "78a50faa-c5be-42c3-bd55-77fcc9ef8dd6"
   },
   "outputs": [
    {
     "data": {
      "image/png": "[encoded data removed]",
      "text/plain": [
       "<Figure size 1150.5x360 with 1 Axes>"
      ]
     },
     "metadata": {
      "needs_background": "light"
     },
     "output_type": "display_data"
    }
   ],
   "source": [
    "sns.catplot(kind=\"count\", \n",
    "            data=titanic, \n",
    "            x=\"class\", \n",
    "            hue=\"sex\", \n",
    "            aspect=3);"
   ]
  },
  {
   "cell_type": "markdown",
   "metadata": {
    "id": "mRpzZSnXAJQf"
   },
   "source": [
    "Both `height` and `aspect` can be used together to control the overall size of a plot."
   ]
  },
  {
   "cell_type": "code",
   "execution_count": null,
   "metadata": {
    "colab": {
     "base_uri": "https://localhost:8080/",
     "height": 585
    },
    "executionInfo": {
     "elapsed": 1199,
     "status": "ok",
     "timestamp": 1670234369629,
     "user": {
      "displayName": "Hana Lacic",
      "userId": "03901848044717845615"
     },
     "user_tz": -60
    },
    "id": "Yg-QUt8jfDef",
    "outputId": "afc9544d-37dd-4d5f-fbb4-6dc74d68dca2"
   },
   "outputs": [
    {
     "data": {
      "image/png": "[encoded data removed]",
      "text/plain": [
       "<Figure size 934.5x576 with 1 Axes>"
      ]
     },
     "metadata": {
      "needs_background": "light"
     },
     "output_type": "display_data"
    }
   ],
   "source": [
    "sns.catplot(kind=\"count\",\n",
    "            data=titanic, \n",
    "            x=\"class\", \n",
    "            hue=\"sex\",\n",
    "            height=8, \n",
    "            aspect=1.5);"
   ]
  },
  {
   "cell_type": "markdown",
   "metadata": {
    "id": "ej3ONKIphXUw"
   },
   "source": [
    "### 1.4.&nbsp; Changing the colour\n",
    "[Colour documentation](https://seaborn.pydata.org/tutorial/color_palettes.html)"
   ]
  },
  {
   "cell_type": "markdown",
   "metadata": {
    "id": "b-y-eVR6P8PA"
   },
   "source": [
    "#### 1.4.1.&nbsp; `color`\n",
    "With the `color` parameter we can choose a specific colour for the plot. Obviously, you should not use this parameter if you are already using `hue` to define the colour of the plot based on a variable."
   ]
  },
  {
   "cell_type": "code",
   "execution_count": null,
   "metadata": {
    "colab": {
     "base_uri": "https://localhost:8080/",
     "height": 369
    },
    "executionInfo": {
     "elapsed": 720,
     "status": "ok",
     "timestamp": 1670234434693,
     "user": {
      "displayName": "Hana Lacic",
      "userId": "03901848044717845615"
     },
     "user_tz": -60
    },
    "id": "FlMIfHPDP3nb",
    "outputId": "07c1ed73-a7f2-4675-abb8-8727ca223030"
   },
   "outputs": [
    {
     "data": {
      "image/png": "[encoded data removed]",
      "text/plain": [
       "<Figure size 360x360 with 1 Axes>"
      ]
     },
     "metadata": {
      "needs_background": "light"
     },
     "output_type": "display_data"
    }
   ],
   "source": [
    "sns.catplot(data=titanic,\n",
    "            x=\"class\", \n",
    "            y=\"fare\", \n",
    "            color=\"red\");"
   ]
  },
  {
   "cell_type": "markdown",
   "metadata": {
    "id": "1zmpwpK5P-AA"
   },
   "source": [
    "#### 1.4.2. `palette`\n",
    "With `palette` we can choose a range of colours for the plot. In this case, you can use a palette together with `hue` to define which colors will be taken by each category. \n",
    "\n",
    "Seaborn is know for it's great colours, please explore the documentation and experiment."
   ]
  },
  {
   "cell_type": "code",
   "execution_count": null,
   "metadata": {
    "colab": {
     "base_uri": "https://localhost:8080/",
     "height": 369
    },
    "executionInfo": {
     "elapsed": 808,
     "status": "ok",
     "timestamp": 1670234462538,
     "user": {
      "displayName": "Hana Lacic",
      "userId": "03901848044717845615"
     },
     "user_tz": -60
    },
    "id": "qSlrEnsnhWyd",
    "outputId": "0d9f571d-1cb0-47dc-d4b0-10045a3c3ac0"
   },
   "outputs": [
    {
     "data": {
      "image/png": "[encoded data removed]",
      "text/plain": [
       "<Figure size 430.5x360 with 1 Axes>"
      ]
     },
     "metadata": {
      "needs_background": "light"
     },
     "output_type": "display_data"
    }
   ],
   "source": [
    "sns.catplot(data=titanic,\n",
    "            x=\"class\", \n",
    "            y=\"fare\", \n",
    "            hue=\"sex\",\n",
    "            palette=\"rocket\");"
   ]
  },
  {
   "cell_type": "markdown",
   "metadata": {
    "id": "DWnISnGkZX1u"
   },
   "source": [
    "> **Tip:** Making a plot _exactly_ how you want it to be can be very challenging, and you are just at the start of your journey. For now, embrace default options, prioritize simplicity and take it one step at a time. In some cases, expressing the message that the plot conveys in a simple sentence is as useful or more as the plot itself!"
   ]
  },
  {
   "cell_type": "markdown",
   "metadata": {
    "id": "qKf2iS2LccM1"
   },
   "source": [
    "# Challenge 1:\n",
    "Make a plot that shows the number of passengers who survived and the number who died. Divide this data by sex and class. Feel free to play around with other parameters such as height and palette too."
   ]
  },
  {
   "cell_type": "code",
   "execution_count": 3,
   "metadata": {
    "colab": {
     "base_uri": "https://localhost:8080/",
     "height": 369
    },
    "executionInfo": {
     "elapsed": 2073,
     "status": "ok",
     "timestamp": 1670316958360,
     "user": {
      "displayName": "Hana Lacic",
      "userId": "03901848044717845615"
     },
     "user_tz": -60
    },
    "id": "KhjuTFrbhYoA",
    "outputId": "1124c5aa-c13e-481e-913a-3e17b4c2440d"
   },
   "outputs": [
    {
     "data": {
      "image/png": "[encoded data removed]",
      "text/plain": [
       "<Figure size 790.5x360 with 2 Axes>"
      ]
     },
     "metadata": {
      "needs_background": "light"
     },
     "output_type": "display_data"
    }
   ],
   "source": [
    "sns.catplot(kind=\"count\",\n",
    "            data=titanic, \n",
    "            x=\"class\",  \n",
    "            hue=\"sex\", \n",
    "            col=\"survived\");"
   ]
  },
  {
   "cell_type": "code",
   "execution_count": 4,
   "metadata": {
    "colab": {
     "base_uri": "https://localhost:8080/",
     "height": 386
    },
    "executionInfo": {
     "elapsed": 603,
     "status": "ok",
     "timestamp": 1670317145044,
     "user": {
      "displayName": "Hana Lacic",
      "userId": "03901848044717845615"
     },
     "user_tz": -60
    },
    "id": "f0ZseZnNqObG",
    "outputId": "19bcf5e3-8f0f-484c-900f-c020569288e5"
   },
   "outputs": [
    {
     "data": {
      "text/plain": [
       "<seaborn.axisgrid.FacetGrid at 0x7f502bd3fdc0>"
      ]
     },
     "execution_count": 4,
     "metadata": {},
     "output_type": "execute_result"
    },
    {
     "data": {
      "image/png": "[encoded data removed]",
      "text/plain": [
       "<Figure size 430.5x360 with 1 Axes>"
      ]
     },
     "metadata": {
      "needs_background": "light"
     },
     "output_type": "display_data"
    }
   ],
   "source": [
    "sns.catplot(data=titanic\n",
    "            ,kind=\"bar\"\n",
    "            ,x=\"survived\"\n",
    "            ,y=\"class\"\n",
    "            ,hue=\"sex\"\n",
    "            )"
   ]
  },
  {
   "cell_type": "markdown",
   "metadata": {
    "id": "7ssSWZ2HzFzl"
   },
   "source": [
    "## 2.&nbsp; Distributions: `.displot()`\n",
    "[.displot() docs](https://seaborn.pydata.org/generated/seaborn.displot.html)\n",
    "\n",
    "\n",
    "[Seaborn tutorial for plotting distributions](https://seaborn.pydata.org/tutorial/distributions.html)\n",
    "\n",
    "`kind`s of `.displot()`:\n",
    "* [.histplot()](https://seaborn.pydata.org/generated/seaborn.histplot.html#seaborn.histplot) - `kind=\"hist\"` the default\n",
    "* [.kdeplot()](https://seaborn.pydata.org/generated/seaborn.kdeplot.html#seaborn.kdeplot) - `kind=\"kde\"`\n",
    "* [.ecdfplot()](https://seaborn.pydata.org/generated/seaborn.ecdfplot.html#seaborn.ecdfplot) - `kind=\"ecdf\"`"
   ]
  },
  {
   "cell_type": "markdown",
   "metadata": {
    "id": "qpFU_b83i7Mv"
   },
   "source": [
    "### 2.1.&nbsp; Universal parameters\n",
    "Just like above, we can use `x`, `hue`, `col`, `color`, etc... The main difference you'll find here, is that in some `.catplot()`s you used 2 features `x` and `y`, distributions look at only one feature, so we won't be using the `y` parameter much."
   ]
  },
  {
   "cell_type": "code",
   "execution_count": null,
   "metadata": {
    "colab": {
     "base_uri": "https://localhost:8080/",
     "height": 369
    },
    "executionInfo": {
     "elapsed": 1254,
     "status": "ok",
     "timestamp": 1670238415656,
     "user": {
      "displayName": "Hana Lacic",
      "userId": "03901848044717845615"
     },
     "user_tz": -60
    },
    "id": "sNIVIN7ihNeG",
    "outputId": "9137a2fe-8a33-42a8-9dcf-6fff474090ba"
   },
   "outputs": [
    {
     "data": {
      "image/png": "[encoded data removed]",
      "text/plain": [
       "<Figure size 360x360 with 1 Axes>"
      ]
     },
     "metadata": {
      "needs_background": "light"
     },
     "output_type": "display_data"
    }
   ],
   "source": [
    "sns.displot(data=titanic, \n",
    "            x=\"age\",\n",
    "        );"
   ]
  },
  {
   "cell_type": "markdown",
   "metadata": {
    "id": "WNRff3uWpadC"
   },
   "source": [
    "We may not be using `y` for histograms, but we can still utilise `hue` and `col` to gain insights."
   ]
  },
  {
   "cell_type": "code",
   "execution_count": null,
   "metadata": {
    "colab": {
     "base_uri": "https://localhost:8080/",
     "height": 369
    },
    "executionInfo": {
     "elapsed": 1074,
     "status": "ok",
     "timestamp": 1668084296058,
     "user": {
      "displayName": "Hana Lacic",
      "userId": "03901848044717845615"
     },
     "user_tz": -60
    },
    "id": "96WiSs68zHdN",
    "outputId": "149646e8-d73e-4243-e2ad-269dd3ed63f5"
   },
   "outputs": [
    {
     "data": {
      "image/png": "[encoded data removed]",
      "text/plain": [
       "<Figure size 430.5x360 with 1 Axes>"
      ]
     },
     "metadata": {
      "needs_background": "light"
     },
     "output_type": "display_data"
    }
   ],
   "source": [
    "sns.displot(data=titanic, \n",
    "            x=\"age\", \n",
    "            hue=\"sex\");"
   ]
  },
  {
   "cell_type": "code",
   "execution_count": null,
   "metadata": {
    "colab": {
     "base_uri": "https://localhost:8080/",
     "height": 369
    },
    "executionInfo": {
     "elapsed": 1117,
     "status": "ok",
     "timestamp": 1670234626805,
     "user": {
      "displayName": "Hana Lacic",
      "userId": "03901848044717845615"
     },
     "user_tz": -60
    },
    "id": "3q2TeBtYcpbu",
    "outputId": "77c8e47b-9d0c-484d-bb01-ce4cf9b84e34"
   },
   "outputs": [
    {
     "data": {
      "image/png": "[encoded data removed]",
      "text/plain": [
       "<Figure size 720x360 with 2 Axes>"
      ]
     },
     "metadata": {
      "needs_background": "light"
     },
     "output_type": "display_data"
    }
   ],
   "source": [
    "sns.displot(data=titanic, \n",
    "            x=\"age\", \n",
    "            col=\"sex\", \n",
    "            color=\"seagreen\");"
   ]
  },
  {
   "cell_type": "markdown",
   "metadata": {
    "id": "V6wX0peJi_uG"
   },
   "source": [
    "### 2.2.&nbsp; Parameters unique to histograms\n",
    "We use histograms a lot to get an idea of how our data is distributed, so let's look quickly how we can improve on the basic plot."
   ]
  },
  {
   "cell_type": "markdown",
   "metadata": {
    "id": "J5-NnAFujC_R"
   },
   "source": [
    "#### 2.2.1.&nbsp; Changing the aggregate"
   ]
  },
  {
   "cell_type": "markdown",
   "metadata": {
    "id": "8xXw3xrijG8-"
   },
   "source": [
    "##### `stat`\n",
    "`stat` is an aggregate to compute each bin:\n",
    "* `count`: show the number of observations in each bin\n",
    "* `frequency`: show the number of observations divided by the bin width\n",
    "* `probability`: or proportion: normalize such that bar heights sum to 1\n",
    "* `percent`: normalize such that bar heights sum to 100\n",
    "* `density`: normalize such that the total area of the histogram equals 1"
   ]
  },
  {
   "cell_type": "code",
   "execution_count": null,
   "metadata": {
    "colab": {
     "base_uri": "https://localhost:8080/",
     "height": 369
    },
    "executionInfo": {
     "elapsed": 1031,
     "status": "ok",
     "timestamp": 1668084298321,
     "user": {
      "displayName": "Hana Lacic",
      "userId": "03901848044717845615"
     },
     "user_tz": -60
    },
    "id": "PCrbjbV6dgBF",
    "outputId": "36fc85ef-dba7-48dc-891f-ae275b72b9c2"
   },
   "outputs": [
    {
     "data": {
      "image/png": "[encoded data removed]",
      "text/plain": [
       "<Figure size 430.5x360 with 1 Axes>"
      ]
     },
     "metadata": {
      "needs_background": "light"
     },
     "output_type": "display_data"
    }
   ],
   "source": [
    "sns.displot(data=titanic,\n",
    "            x=\"age\", \n",
    "            hue=\"sex\",\n",
    "            stat=\"percent\");"
   ]
  },
  {
   "cell_type": "markdown",
   "metadata": {
    "id": "RtWp603_jPN3"
   },
   "source": [
    "#### 2.2.2.&nbsp; Changing the granularity"
   ]
  },
  {
   "cell_type": "markdown",
   "metadata": {
    "id": "cx5SVQXkjS3K"
   },
   "source": [
    "##### `bins` or `binwidth`"
   ]
  },
  {
   "cell_type": "code",
   "execution_count": null,
   "metadata": {
    "colab": {
     "base_uri": "https://localhost:8080/",
     "height": 721
    },
    "executionInfo": {
     "elapsed": 2427,
     "status": "ok",
     "timestamp": 1670234899488,
     "user": {
      "displayName": "Hana Lacic",
      "userId": "03901848044717845615"
     },
     "user_tz": -60
    },
    "id": "IG9EAbIjaywT",
    "outputId": "478401c1-3768-4681-d086-8568a5c20107"
   },
   "outputs": [
    {
     "data": {
      "image/png": "[encoded data removed]",
      "text/plain": [
       "<Figure size 430.5x360 with 1 Axes>"
      ]
     },
     "metadata": {
      "needs_background": "light"
     },
     "output_type": "display_data"
    },
    {
     "data": {
      "image/png": "[encoded data removed]",
      "text/plain": [
       "<Figure size 430.5x360 with 1 Axes>"
      ]
     },
     "metadata": {
      "needs_background": "light"
     },
     "output_type": "display_data"
    }
   ],
   "source": [
    "sns.displot(data=titanic, \n",
    "            x=\"age\", \n",
    "            hue=\"sex\", \n",
    "            bins=30),\n",
    "sns.displot(data=titanic, \n",
    "            x=\"age\", \n",
    "            hue=\"sex\", \n",
    "            binwidth=2);"
   ]
  },
  {
   "cell_type": "markdown",
   "metadata": {
    "id": "mXngFW3XqD5E"
   },
   "source": [
    "The higher the number of `bins`, or smaller the `binwidth` the greater the granularity."
   ]
  },
  {
   "cell_type": "markdown",
   "metadata": {
    "id": "RP5CwG1Qjg3X"
   },
   "source": [
    "#### 2.2.3.&nbsp; Tracing the trend\n",
    "We can also trace a smooth curve along the histogram using the `kde` parameter. If you're unsure what `kde` is, take a look in the next section `kde` is also a standalone plot from `.displot()`"
   ]
  },
  {
   "cell_type": "markdown",
   "metadata": {
    "id": "fsFEG4qejj39"
   },
   "source": [
    "##### The `kde` parameter:"
   ]
  },
  {
   "cell_type": "code",
   "execution_count": null,
   "metadata": {
    "colab": {
     "base_uri": "https://localhost:8080/",
     "height": 369
    },
    "executionInfo": {
     "elapsed": 1756,
     "status": "ok",
     "timestamp": 1668084302490,
     "user": {
      "displayName": "Hana Lacic",
      "userId": "03901848044717845615"
     },
     "user_tz": -60
    },
    "id": "JI6GHroRbBcG",
    "outputId": "39b9e024-d5d5-4bf8-f127-b9ed94a42a0e"
   },
   "outputs": [
    {
     "data": {
      "image/png": "[encoded data removed]",
      "text/plain": [
       "<Figure size 430.5x360 with 1 Axes>"
      ]
     },
     "metadata": {
      "needs_background": "light"
     },
     "output_type": "display_data"
    }
   ],
   "source": [
    "sns.displot(data=titanic, \n",
    "            x=\"age\", \n",
    "            hue=\"sex\", \n",
    "            bins=30, \n",
    "            kde=True);"
   ]
  },
  {
   "cell_type": "markdown",
   "metadata": {
    "id": "TQYb1vJ1jmoC"
   },
   "source": [
    "### 2.3.&nbsp; `kde` plots\n",
    "Seaborn explains a `kde` plot very well: \n",
    "\n",
    "> \"A kernel density estimate (KDE) plot is a method for visualizing the distribution of observations in a dataset, analagous to a histogram. KDE represents the data using a continuous probability density curve in one or more dimensions. [...] Relative to a histogram, KDE can produce a plot that is less cluttered and more interpretable, especially when drawing multiple distributions. But it has the potential to introduce distortions if the underlying distribution is bounded or not smooth.\"\n",
    "\n",
    "\n",
    "\n",
    "Essentially, it's another way of viewing the same information as a histogram. They both have their (de)merits.\n"
   ]
  },
  {
   "cell_type": "code",
   "execution_count": null,
   "metadata": {
    "colab": {
     "base_uri": "https://localhost:8080/",
     "height": 369
    },
    "executionInfo": {
     "elapsed": 788,
     "status": "ok",
     "timestamp": 1668084303268,
     "user": {
      "displayName": "Hana Lacic",
      "userId": "03901848044717845615"
     },
     "user_tz": -60
    },
    "id": "bKlGWEOqraWB",
    "outputId": "551f0b20-d805-4bf6-a491-6dccc11000eb"
   },
   "outputs": [
    {
     "data": {
      "image/png": "[encoded data removed]",
      "text/plain": [
       "<Figure size 430.5x360 with 1 Axes>"
      ]
     },
     "metadata": {
      "needs_background": "light"
     },
     "output_type": "display_data"
    }
   ],
   "source": [
    "sns.displot(kind=\"kde\",\n",
    "            data=titanic, \n",
    "            x=\"age\",\n",
    "            hue=\"sex\");"
   ]
  },
  {
   "cell_type": "markdown",
   "metadata": {
    "id": "TTNGMDrozIE3"
   },
   "source": [
    "## 3.&nbsp; Relational data: `.relplot()`\n",
    "https://seaborn.pydata.org/generated/seaborn.relplot.html\n",
    "\n",
    "https://seaborn.pydata.org/tutorial/relational.html\n",
    "\n",
    "[.relplot() docs](https://seaborn.pydata.org/generated/seaborn.relplot.html)\n",
    "\n",
    "\n",
    "[Seaborn tutorial for plotting statistical relationships](https://seaborn.pydata.org/tutorial/relational.html)\n",
    "\n",
    "`kind`s of `.relplot()`\n",
    "* [.scatterplot()](https://seaborn.pydata.org/generated/seaborn.scatterplot.html#seaborn.scatterplot) - `kind=\"scatter\"` the default\n",
    "* [.lineplot()](https://seaborn.pydata.org/generated/seaborn.lineplot.html#seaborn.lineplot) - `kind=\"line\"`"
   ]
  },
  {
   "cell_type": "markdown",
   "metadata": {
    "id": "uGo9E41tjsZL"
   },
   "source": [
    "### 3.1.&nbsp; Universal parameters\n",
    "As relational plots are comparing the relationship between features, here, unlike a distribution plot, we will generally always have an `x` and a `y`."
   ]
  },
  {
   "cell_type": "code",
   "execution_count": null,
   "metadata": {
    "colab": {
     "base_uri": "https://localhost:8080/",
     "height": 369
    },
    "executionInfo": {
     "elapsed": 659,
     "status": "ok",
     "timestamp": 1670235232997,
     "user": {
      "displayName": "Hana Lacic",
      "userId": "03901848044717845615"
     },
     "user_tz": -60
    },
    "id": "OgYsy8CczJb9",
    "outputId": "6742374d-7869-4846-b850-ff440266c4b8"
   },
   "outputs": [
    {
     "data": {
      "image/png": "[encoded data removed]",
      "text/plain": [
       "<Figure size 360x360 with 1 Axes>"
      ]
     },
     "metadata": {
      "needs_background": "light"
     },
     "output_type": "display_data"
    }
   ],
   "source": [
    "sns.relplot(data=titanic,\n",
    "            x=\"age\", \n",
    "            y=\"fare\");"
   ]
  },
  {
   "cell_type": "code",
   "execution_count": null,
   "metadata": {
    "colab": {
     "base_uri": "https://localhost:8080/",
     "height": 369
    },
    "executionInfo": {
     "elapsed": 1450,
     "status": "ok",
     "timestamp": 1670235276027,
     "user": {
      "displayName": "Hana Lacic",
      "userId": "03901848044717845615"
     },
     "user_tz": -60
    },
    "id": "hotPIzLrgpC7",
    "outputId": "c8e28013-09fc-4708-fb6c-028e393a2422"
   },
   "outputs": [
    {
     "data": {
      "image/png": "[encoded data removed]",
      "text/plain": [
       "<Figure size 1150.5x360 with 3 Axes>"
      ]
     },
     "metadata": {
      "needs_background": "light"
     },
     "output_type": "display_data"
    }
   ],
   "source": [
    "sns.relplot(data=titanic, \n",
    "            x=\"age\", \n",
    "            y=\"fare\", \n",
    "            hue=\"sex\", \n",
    "            col=\"embarked\");"
   ]
  },
  {
   "cell_type": "markdown",
   "metadata": {
    "id": "vzVKwn9bjuX9"
   },
   "source": [
    "### 3.2.&nbsp; Specific to scatter"
   ]
  },
  {
   "cell_type": "markdown",
   "metadata": {
    "id": "SaYnv8sIjwja"
   },
   "source": [
    "#### 3.2.1.&nbsp; Changing the shape of the marker"
   ]
  },
  {
   "cell_type": "markdown",
   "metadata": {
    "id": "dQud6nc7j12y"
   },
   "source": [
    "##### `style`"
   ]
  },
  {
   "cell_type": "code",
   "execution_count": null,
   "metadata": {
    "colab": {
     "base_uri": "https://localhost:8080/",
     "height": 369
    },
    "executionInfo": {
     "elapsed": 750,
     "status": "ok",
     "timestamp": 1670235480258,
     "user": {
      "displayName": "Hana Lacic",
      "userId": "03901848044717845615"
     },
     "user_tz": -60
    },
    "id": "vX_-Nm4hg3Uh",
    "outputId": "b52dff50-35c3-440b-f8a8-63e4a5dfe976"
   },
   "outputs": [
    {
     "data": {
      "image/png": "[encoded data removed]",
      "text/plain": [
       "<Figure size 430.5x360 with 1 Axes>"
      ]
     },
     "metadata": {
      "needs_background": "light"
     },
     "output_type": "display_data"
    }
   ],
   "source": [
    "sns.relplot(data=titanic, \n",
    "            x=\"age\", \n",
    "            y=\"fare\", \n",
    "            hue=\"sex\", \n",
    "            style_order=(1,0),\n",
    "            style=\"survived\");"
   ]
  },
  {
   "cell_type": "markdown",
   "metadata": {
    "id": "sZnwvnUH8xzL"
   },
   "source": [
    "# Loading Eniac"
   ]
  },
  {
   "cell_type": "code",
   "execution_count": 78,
   "metadata": {
    "executionInfo": {
     "elapsed": 7466,
     "status": "ok",
     "timestamp": 1670321262036,
     "user": {
      "displayName": "Hana Lacic",
      "userId": "03901848044717845615"
     },
     "user_tz": -60
    },
    "id": "hJUgMX2M8xDY"
   },
   "outputs": [],
   "source": [
    "# orders_qu.csv\n",
    "url = \"https://drive.google.com/file/d/143CzG5DriVSPMkaL1UP4k3Y80oS8fgbV/view?usp=sharing\" \n",
    "path = \"https://drive.google.com/uc?export=download&id=\"+url.split(\"/\")[-2]\n",
    "orders_qu = pd.read_csv(path)\n",
    "\n",
    "# orderlines_qu.csv\n",
    "url = \"https://drive.google.com/file/d/1yWO-mQfxQtnSZdCgdNlIEUrZSCW1HN5O/view?usp=sharing\" \n",
    "path = \"https://drive.google.com/uc?export=download&id=\"+url.split(\"/\")[-2]\n",
    "orderlines_qu = pd.read_csv(path)\n",
    "\n",
    "# products_cl.csv\n",
    "url = \"https://drive.google.com/file/d/1s7Lai4NSlsYjGEPg1QSOUJobNYVsZBOJ/view?usp=sharing\" \n",
    "path = \"https://drive.google.com/uc?export=download&id=\"+url.split(\"/\")[-2]\n",
    "products_cl = pd.read_csv(path)\n",
    "\n",
    "# brands.csv\n",
    "url = \"https://drive.google.com/file/d/1XGyabaa4mAkjixMk3XPgx_14OoSse3rs/view?usp=sharing\" \n",
    "path = \"https://drive.google.com/uc?export=download&id=\"+url.split(\"/\")[-2]\n",
    "brands = pd.read_csv(path)"
   ]
  },
  {
   "cell_type": "markdown",
   "metadata": {
    "id": "8HoWkTUScgtB"
   },
   "source": [
    "# Challenges:\n",
    "Let's start combining some of the skills we've learnt with `.groupby()`, `datetime`, and `seaborn` (no pandas plotting this time, please use seaborn). \n",
    "\n",
    "Sometimes you may have to make a smaller DataFrame to help Seaborn. Here's a quick example of one way to plot the top 10 brands based on the amount of products sold."
   ]
  },
  {
   "cell_type": "code",
   "execution_count": 6,
   "metadata": {
    "executionInfo": {
     "elapsed": 403,
     "status": "ok",
     "timestamp": 1670317470463,
     "user": {
      "displayName": "Hana Lacic",
      "userId": "03901848044717845615"
     },
     "user_tz": -60
    },
    "id": "N06-nOBg1nim"
   },
   "outputs": [],
   "source": [
    "ol_df = orderlines_qu.copy()"
   ]
  },
  {
   "cell_type": "code",
   "execution_count": 9,
   "metadata": {
    "colab": {
     "base_uri": "https://localhost:8080/"
    },
    "executionInfo": {
     "elapsed": 13,
     "status": "ok",
     "timestamp": 1670317537228,
     "user": {
      "displayName": "Hana Lacic",
      "userId": "03901848044717845615"
     },
     "user_tz": -60
    },
    "id": "SKsAkRnhrlcA",
    "outputId": "73372dce-c7e8-435a-bbc9-6d49f2ede54d"
   },
   "outputs": [
    {
     "data": {
      "text/plain": [
       "0        OWC\n",
       "1        IOT\n",
       "2        APP\n",
       "3        CRU\n",
       "4        PEB\n",
       "        ... \n",
       "53226    APP\n",
       "53227    APP\n",
       "53228    APP\n",
       "53229    APP\n",
       "53230    APP\n",
       "Name: sku, Length: 53231, dtype: object"
      ]
     },
     "execution_count": 9,
     "metadata": {},
     "output_type": "execute_result"
    }
   ],
   "source": [
    "ol_df[\"sku\"].str[:3]"
   ]
  },
  {
   "cell_type": "code",
   "execution_count": 8,
   "metadata": {
    "executionInfo": {
     "elapsed": 5,
     "status": "ok",
     "timestamp": 1670317534819,
     "user": {
      "displayName": "Hana Lacic",
      "userId": "03901848044717845615"
     },
     "user_tz": -60
    },
    "id": "c_9gJFkJVh3V"
   },
   "outputs": [],
   "source": [
    "ol_df[\"short\"] = ol_df[\"sku\"].str[:3]"
   ]
  },
  {
   "cell_type": "code",
   "execution_count": 10,
   "metadata": {
    "colab": {
     "base_uri": "https://localhost:8080/",
     "height": 424
    },
    "executionInfo": {
     "elapsed": 24,
     "status": "ok",
     "timestamp": 1670317566838,
     "user": {
      "displayName": "Hana Lacic",
      "userId": "03901848044717845615"
     },
     "user_tz": -60
    },
    "id": "kpJHw9A3r1NU",
    "outputId": "c23e1c8a-48b8-4790-d9e7-9e23a2bcdd05"
   },
   "outputs": [
    {
     "data": {
      "text/html": [
       "\n",
       "  <div id=\"df-60a7670f-f683-4b2f-8a5c-0c75736ce598\">\n",
       "    <div class=\"colab-df-container\">\n",
       "      <div>\n",
       "<style scoped>\n",
       "    .dataframe tbody tr th:only-of-type {\n",
       "        vertical-align: middle;\n",
       "    }\n",
       "\n",
       "    .dataframe tbody tr th {\n",
       "        vertical-align: top;\n",
       "    }\n",
       "\n",
       "    .dataframe thead th {\n",
       "        text-align: right;\n",
       "    }\n",
       "</style>\n",
       "<table border=\"1\" class=\"dataframe\">\n",
       "  <thead>\n",
       "    <tr style=\"text-align: right;\">\n",
       "      <th></th>\n",
       "      <th>id</th>\n",
       "      <th>id_order</th>\n",
       "      <th>product_id</th>\n",
       "      <th>product_quantity</th>\n",
       "      <th>sku</th>\n",
       "      <th>unit_price</th>\n",
       "      <th>date</th>\n",
       "      <th>short</th>\n",
       "    </tr>\n",
       "  </thead>\n",
       "  <tbody>\n",
       "    <tr>\n",
       "      <th>0</th>\n",
       "      <td>1119116</td>\n",
       "      <td>299545</td>\n",
       "      <td>0</td>\n",
       "      <td>1</td>\n",
       "      <td>OWC0100</td>\n",
       "      <td>47.49</td>\n",
       "      <td>2017-01-01 01:46:16</td>\n",
       "      <td>OWC</td>\n",
       "    </tr>\n",
       "    <tr>\n",
       "      <th>1</th>\n",
       "      <td>1119119</td>\n",
       "      <td>299546</td>\n",
       "      <td>0</td>\n",
       "      <td>1</td>\n",
       "      <td>IOT0014</td>\n",
       "      <td>18.99</td>\n",
       "      <td>2017-01-01 01:50:34</td>\n",
       "      <td>IOT</td>\n",
       "    </tr>\n",
       "    <tr>\n",
       "      <th>2</th>\n",
       "      <td>1119120</td>\n",
       "      <td>295347</td>\n",
       "      <td>0</td>\n",
       "      <td>1</td>\n",
       "      <td>APP0700</td>\n",
       "      <td>72.19</td>\n",
       "      <td>2017-01-01 01:54:11</td>\n",
       "      <td>APP</td>\n",
       "    </tr>\n",
       "    <tr>\n",
       "      <th>3</th>\n",
       "      <td>1119134</td>\n",
       "      <td>299556</td>\n",
       "      <td>0</td>\n",
       "      <td>1</td>\n",
       "      <td>CRU0039-A</td>\n",
       "      <td>60.90</td>\n",
       "      <td>2017-01-01 02:20:14</td>\n",
       "      <td>CRU</td>\n",
       "    </tr>\n",
       "    <tr>\n",
       "      <th>4</th>\n",
       "      <td>1119145</td>\n",
       "      <td>299561</td>\n",
       "      <td>0</td>\n",
       "      <td>1</td>\n",
       "      <td>PEB0015</td>\n",
       "      <td>142.49</td>\n",
       "      <td>2017-01-01 02:38:50</td>\n",
       "      <td>PEB</td>\n",
       "    </tr>\n",
       "    <tr>\n",
       "      <th>...</th>\n",
       "      <td>...</td>\n",
       "      <td>...</td>\n",
       "      <td>...</td>\n",
       "      <td>...</td>\n",
       "      <td>...</td>\n",
       "      <td>...</td>\n",
       "      <td>...</td>\n",
       "      <td>...</td>\n",
       "    </tr>\n",
       "    <tr>\n",
       "      <th>53226</th>\n",
       "      <td>1649447</td>\n",
       "      <td>527035</td>\n",
       "      <td>0</td>\n",
       "      <td>1</td>\n",
       "      <td>APP0698</td>\n",
       "      <td>9.99</td>\n",
       "      <td>2018-03-14 11:42:41</td>\n",
       "      <td>APP</td>\n",
       "    </tr>\n",
       "    <tr>\n",
       "      <th>53227</th>\n",
       "      <td>1649512</td>\n",
       "      <td>527070</td>\n",
       "      <td>0</td>\n",
       "      <td>2</td>\n",
       "      <td>APP0698</td>\n",
       "      <td>9.99</td>\n",
       "      <td>2018-03-14 11:49:01</td>\n",
       "      <td>APP</td>\n",
       "    </tr>\n",
       "    <tr>\n",
       "      <th>53228</th>\n",
       "      <td>1649522</td>\n",
       "      <td>527074</td>\n",
       "      <td>0</td>\n",
       "      <td>2</td>\n",
       "      <td>APP0698</td>\n",
       "      <td>9.99</td>\n",
       "      <td>2018-03-14 11:49:36</td>\n",
       "      <td>APP</td>\n",
       "    </tr>\n",
       "    <tr>\n",
       "      <th>53229</th>\n",
       "      <td>1649565</td>\n",
       "      <td>527096</td>\n",
       "      <td>0</td>\n",
       "      <td>3</td>\n",
       "      <td>APP0698</td>\n",
       "      <td>9.99</td>\n",
       "      <td>2018-03-14 11:54:35</td>\n",
       "      <td>APP</td>\n",
       "    </tr>\n",
       "    <tr>\n",
       "      <th>53230</th>\n",
       "      <td>1649593</td>\n",
       "      <td>527112</td>\n",
       "      <td>0</td>\n",
       "      <td>1</td>\n",
       "      <td>APP0698</td>\n",
       "      <td>9.99</td>\n",
       "      <td>2018-03-14 11:58:13</td>\n",
       "      <td>APP</td>\n",
       "    </tr>\n",
       "  </tbody>\n",
       "</table>\n",
       "<p>53231 rows × 8 columns</p>\n",
       "</div>\n",
       "      <button class=\"colab-df-convert\" onclick=\"convertToInteractive('df-60a7670f-f683-4b2f-8a5c-0c75736ce598')\"\n",
       "              title=\"Convert this dataframe to an interactive table.\"\n",
       "              style=\"display:none;\">\n",
       "        \n",
       "  <svg xmlns=\"http://www.w3.org/2000/svg\" height=\"24px\"viewBox=\"0 0 24 24\"\n",
       "       width=\"24px\">\n",
       "    <path d=\"M0 0h24v24H0V0z\" fill=\"none\"/>\n",
       "    <path d=\"M18.56 5.44l.94 2.06.94-2.06 2.06-.94-2.06-.94-.94-2.06-.94 2.06-2.06.94zm-11 1L8.5 8.5l.94-2.06 2.06-.94-2.06-.94L8.5 2.5l-.94 2.06-2.06.94zm10 10l.94 2.06.94-2.06 2.06-.94-2.06-.94-.94-2.06-.94 2.06-2.06.94z\"/><path d=\"M17.41 7.96l-1.37-1.37c-.4-.4-.92-.59-1.43-.59-.52 0-1.04.2-1.43.59L10.3 9.45l-7.72 7.72c-.78.78-.78 2.05 0 2.83L4 21.41c.39.39.9.59 1.41.59.51 0 1.02-.2 1.41-.59l7.78-7.78 2.81-2.81c.8-.78.8-2.07 0-2.86zM5.41 20L4 18.59l7.72-7.72 1.47 1.35L5.41 20z\"/>\n",
       "  </svg>\n",
       "      </button>\n",
       "      \n",
       "  <style>\n",
       "    .colab-df-container {\n",
       "      display:flex;\n",
       "      flex-wrap:wrap;\n",
       "      gap: 12px;\n",
       "    }\n",
       "\n",
       "    .colab-df-convert {\n",
       "      background-color: #E8F0FE;\n",
       "      border: none;\n",
       "      border-radius: 50%;\n",
       "      cursor: pointer;\n",
       "      display: none;\n",
       "      fill: #1967D2;\n",
       "      height: 32px;\n",
       "      padding: 0 0 0 0;\n",
       "      width: 32px;\n",
       "    }\n",
       "\n",
       "    .colab-df-convert:hover {\n",
       "      background-color: #E2EBFA;\n",
       "      box-shadow: 0px 1px 2px rgba(60, 64, 67, 0.3), 0px 1px 3px 1px rgba(60, 64, 67, 0.15);\n",
       "      fill: #174EA6;\n",
       "    }\n",
       "\n",
       "    [theme=dark] .colab-df-convert {\n",
       "      background-color: #3B4455;\n",
       "      fill: #D2E3FC;\n",
       "    }\n",
       "\n",
       "    [theme=dark] .colab-df-convert:hover {\n",
       "      background-color: #434B5C;\n",
       "      box-shadow: 0px 1px 3px 1px rgba(0, 0, 0, 0.15);\n",
       "      filter: drop-shadow(0px 1px 2px rgba(0, 0, 0, 0.3));\n",
       "      fill: #FFFFFF;\n",
       "    }\n",
       "  </style>\n",
       "\n",
       "      <script>\n",
       "        const buttonEl =\n",
       "          document.querySelector('#df-60a7670f-f683-4b2f-8a5c-0c75736ce598 button.colab-df-convert');\n",
       "        buttonEl.style.display =\n",
       "          google.colab.kernel.accessAllowed ? 'block' : 'none';\n",
       "\n",
       "        async function convertToInteractive(key) {\n",
       "          const element = document.querySelector('#df-60a7670f-f683-4b2f-8a5c-0c75736ce598');\n",
       "          const dataTable =\n",
       "            await google.colab.kernel.invokeFunction('convertToInteractive',\n",
       "                                                     [key], {});\n",
       "          if (!dataTable) return;\n",
       "\n",
       "          const docLinkHtml = 'Like what you see? Visit the ' +\n",
       "            '<a target=\"_blank\" href=https://colab.research.google.com/notebooks/data_table.ipynb>data table notebook</a>'\n",
       "            + ' to learn more about interactive tables.';\n",
       "          element.innerHTML = '';\n",
       "          dataTable['output_type'] = 'display_data';\n",
       "          await google.colab.output.renderOutput(dataTable, element);\n",
       "          const docLink = document.createElement('div');\n",
       "          docLink.innerHTML = docLinkHtml;\n",
       "          element.appendChild(docLink);\n",
       "        }\n",
       "      </script>\n",
       "    </div>\n",
       "  </div>\n",
       "  "
      ],
      "text/plain": [
       "            id  id_order  product_id  product_quantity        sku  unit_price  \\\n",
       "0      1119116    299545           0                 1    OWC0100       47.49   \n",
       "1      1119119    299546           0                 1    IOT0014       18.99   \n",
       "2      1119120    295347           0                 1    APP0700       72.19   \n",
       "3      1119134    299556           0                 1  CRU0039-A       60.90   \n",
       "4      1119145    299561           0                 1    PEB0015      142.49   \n",
       "...        ...       ...         ...               ...        ...         ...   \n",
       "53226  1649447    527035           0                 1    APP0698        9.99   \n",
       "53227  1649512    527070           0                 2    APP0698        9.99   \n",
       "53228  1649522    527074           0                 2    APP0698        9.99   \n",
       "53229  1649565    527096           0                 3    APP0698        9.99   \n",
       "53230  1649593    527112           0                 1    APP0698        9.99   \n",
       "\n",
       "                      date short  \n",
       "0      2017-01-01 01:46:16   OWC  \n",
       "1      2017-01-01 01:50:34   IOT  \n",
       "2      2017-01-01 01:54:11   APP  \n",
       "3      2017-01-01 02:20:14   CRU  \n",
       "4      2017-01-01 02:38:50   PEB  \n",
       "...                    ...   ...  \n",
       "53226  2018-03-14 11:42:41   APP  \n",
       "53227  2018-03-14 11:49:01   APP  \n",
       "53228  2018-03-14 11:49:36   APP  \n",
       "53229  2018-03-14 11:54:35   APP  \n",
       "53230  2018-03-14 11:58:13   APP  \n",
       "\n",
       "[53231 rows x 8 columns]"
      ]
     },
     "execution_count": 10,
     "metadata": {},
     "output_type": "execute_result"
    }
   ],
   "source": [
    "ol_df"
   ]
  },
  {
   "cell_type": "code",
   "execution_count": 11,
   "metadata": {
    "colab": {
     "base_uri": "https://localhost:8080/",
     "height": 424
    },
    "executionInfo": {
     "elapsed": 1058,
     "status": "ok",
     "timestamp": 1670317606045,
     "user": {
      "displayName": "Hana Lacic",
      "userId": "03901848044717845615"
     },
     "user_tz": -60
    },
    "id": "OEg0PIyHr-wo",
    "outputId": "51e7d49b-70c6-494e-d89d-4e616a20b6d6"
   },
   "outputs": [
    {
     "data": {
      "text/html": [
       "\n",
       "  <div id=\"df-ad7ef65e-fb32-491b-8fc9-1aa08671345e\">\n",
       "    <div class=\"colab-df-container\">\n",
       "      <div>\n",
       "<style scoped>\n",
       "    .dataframe tbody tr th:only-of-type {\n",
       "        vertical-align: middle;\n",
       "    }\n",
       "\n",
       "    .dataframe tbody tr th {\n",
       "        vertical-align: top;\n",
       "    }\n",
       "\n",
       "    .dataframe thead th {\n",
       "        text-align: right;\n",
       "    }\n",
       "</style>\n",
       "<table border=\"1\" class=\"dataframe\">\n",
       "  <thead>\n",
       "    <tr style=\"text-align: right;\">\n",
       "      <th></th>\n",
       "      <th>short</th>\n",
       "      <th>long</th>\n",
       "    </tr>\n",
       "  </thead>\n",
       "  <tbody>\n",
       "    <tr>\n",
       "      <th>0</th>\n",
       "      <td>8MO</td>\n",
       "      <td>8Mobility</td>\n",
       "    </tr>\n",
       "    <tr>\n",
       "      <th>1</th>\n",
       "      <td>ACM</td>\n",
       "      <td>Acme</td>\n",
       "    </tr>\n",
       "    <tr>\n",
       "      <th>2</th>\n",
       "      <td>ADN</td>\n",
       "      <td>Adonit</td>\n",
       "    </tr>\n",
       "    <tr>\n",
       "      <th>3</th>\n",
       "      <td>AII</td>\n",
       "      <td>Aiino</td>\n",
       "    </tr>\n",
       "    <tr>\n",
       "      <th>4</th>\n",
       "      <td>AKI</td>\n",
       "      <td>Akitio</td>\n",
       "    </tr>\n",
       "    <tr>\n",
       "      <th>...</th>\n",
       "      <td>...</td>\n",
       "      <td>...</td>\n",
       "    </tr>\n",
       "    <tr>\n",
       "      <th>182</th>\n",
       "      <td>XOO</td>\n",
       "      <td>Xoopar</td>\n",
       "    </tr>\n",
       "    <tr>\n",
       "      <th>183</th>\n",
       "      <td>XRI</td>\n",
       "      <td>X-Rite</td>\n",
       "    </tr>\n",
       "    <tr>\n",
       "      <th>184</th>\n",
       "      <td>XTO</td>\n",
       "      <td>Xtorm</td>\n",
       "    </tr>\n",
       "    <tr>\n",
       "      <th>185</th>\n",
       "      <td>ZAG</td>\n",
       "      <td>ZaggKeys</td>\n",
       "    </tr>\n",
       "    <tr>\n",
       "      <th>186</th>\n",
       "      <td>ZEP</td>\n",
       "      <td>Zepp</td>\n",
       "    </tr>\n",
       "  </tbody>\n",
       "</table>\n",
       "<p>187 rows × 2 columns</p>\n",
       "</div>\n",
       "      <button class=\"colab-df-convert\" onclick=\"convertToInteractive('df-ad7ef65e-fb32-491b-8fc9-1aa08671345e')\"\n",
       "              title=\"Convert this dataframe to an interactive table.\"\n",
       "              style=\"display:none;\">\n",
       "        \n",
       "  <svg xmlns=\"http://www.w3.org/2000/svg\" height=\"24px\"viewBox=\"0 0 24 24\"\n",
       "       width=\"24px\">\n",
       "    <path d=\"M0 0h24v24H0V0z\" fill=\"none\"/>\n",
       "    <path d=\"M18.56 5.44l.94 2.06.94-2.06 2.06-.94-2.06-.94-.94-2.06-.94 2.06-2.06.94zm-11 1L8.5 8.5l.94-2.06 2.06-.94-2.06-.94L8.5 2.5l-.94 2.06-2.06.94zm10 10l.94 2.06.94-2.06 2.06-.94-2.06-.94-.94-2.06-.94 2.06-2.06.94z\"/><path d=\"M17.41 7.96l-1.37-1.37c-.4-.4-.92-.59-1.43-.59-.52 0-1.04.2-1.43.59L10.3 9.45l-7.72 7.72c-.78.78-.78 2.05 0 2.83L4 21.41c.39.39.9.59 1.41.59.51 0 1.02-.2 1.41-.59l7.78-7.78 2.81-2.81c.8-.78.8-2.07 0-2.86zM5.41 20L4 18.59l7.72-7.72 1.47 1.35L5.41 20z\"/>\n",
       "  </svg>\n",
       "      </button>\n",
       "      \n",
       "  <style>\n",
       "    .colab-df-container {\n",
       "      display:flex;\n",
       "      flex-wrap:wrap;\n",
       "      gap: 12px;\n",
       "    }\n",
       "\n",
       "    .colab-df-convert {\n",
       "      background-color: #E8F0FE;\n",
       "      border: none;\n",
       "      border-radius: 50%;\n",
       "      cursor: pointer;\n",
       "      display: none;\n",
       "      fill: #1967D2;\n",
       "      height: 32px;\n",
       "      padding: 0 0 0 0;\n",
       "      width: 32px;\n",
       "    }\n",
       "\n",
       "    .colab-df-convert:hover {\n",
       "      background-color: #E2EBFA;\n",
       "      box-shadow: 0px 1px 2px rgba(60, 64, 67, 0.3), 0px 1px 3px 1px rgba(60, 64, 67, 0.15);\n",
       "      fill: #174EA6;\n",
       "    }\n",
       "\n",
       "    [theme=dark] .colab-df-convert {\n",
       "      background-color: #3B4455;\n",
       "      fill: #D2E3FC;\n",
       "    }\n",
       "\n",
       "    [theme=dark] .colab-df-convert:hover {\n",
       "      background-color: #434B5C;\n",
       "      box-shadow: 0px 1px 3px 1px rgba(0, 0, 0, 0.15);\n",
       "      filter: drop-shadow(0px 1px 2px rgba(0, 0, 0, 0.3));\n",
       "      fill: #FFFFFF;\n",
       "    }\n",
       "  </style>\n",
       "\n",
       "      <script>\n",
       "        const buttonEl =\n",
       "          document.querySelector('#df-ad7ef65e-fb32-491b-8fc9-1aa08671345e button.colab-df-convert');\n",
       "        buttonEl.style.display =\n",
       "          google.colab.kernel.accessAllowed ? 'block' : 'none';\n",
       "\n",
       "        async function convertToInteractive(key) {\n",
       "          const element = document.querySelector('#df-ad7ef65e-fb32-491b-8fc9-1aa08671345e');\n",
       "          const dataTable =\n",
       "            await google.colab.kernel.invokeFunction('convertToInteractive',\n",
       "                                                     [key], {});\n",
       "          if (!dataTable) return;\n",
       "\n",
       "          const docLinkHtml = 'Like what you see? Visit the ' +\n",
       "            '<a target=\"_blank\" href=https://colab.research.google.com/notebooks/data_table.ipynb>data table notebook</a>'\n",
       "            + ' to learn more about interactive tables.';\n",
       "          element.innerHTML = '';\n",
       "          dataTable['output_type'] = 'display_data';\n",
       "          await google.colab.output.renderOutput(dataTable, element);\n",
       "          const docLink = document.createElement('div');\n",
       "          docLink.innerHTML = docLinkHtml;\n",
       "          element.appendChild(docLink);\n",
       "        }\n",
       "      </script>\n",
       "    </div>\n",
       "  </div>\n",
       "  "
      ],
      "text/plain": [
       "    short       long\n",
       "0     8MO  8Mobility\n",
       "1     ACM       Acme\n",
       "2     ADN     Adonit\n",
       "3     AII      Aiino\n",
       "4     AKI     Akitio\n",
       "..    ...        ...\n",
       "182   XOO     Xoopar\n",
       "183   XRI     X-Rite\n",
       "184   XTO      Xtorm\n",
       "185   ZAG   ZaggKeys\n",
       "186   ZEP       Zepp\n",
       "\n",
       "[187 rows x 2 columns]"
      ]
     },
     "execution_count": 11,
     "metadata": {},
     "output_type": "execute_result"
    }
   ],
   "source": [
    "brands"
   ]
  },
  {
   "cell_type": "code",
   "execution_count": 12,
   "metadata": {
    "colab": {
     "base_uri": "https://localhost:8080/",
     "height": 143
    },
    "executionInfo": {
     "elapsed": 399,
     "status": "ok",
     "timestamp": 1670317657360,
     "user": {
      "displayName": "Hana Lacic",
      "userId": "03901848044717845615"
     },
     "user_tz": -60
    },
    "id": "daKalBxLVEbq",
    "outputId": "28ab580f-92fc-43f2-cb8c-23a7d54c7c13"
   },
   "outputs": [
    {
     "data": {
      "text/html": [
       "\n",
       "  <div id=\"df-a9222089-4254-43dc-a766-6bfc442cabdf\">\n",
       "    <div class=\"colab-df-container\">\n",
       "      <div>\n",
       "<style scoped>\n",
       "    .dataframe tbody tr th:only-of-type {\n",
       "        vertical-align: middle;\n",
       "    }\n",
       "\n",
       "    .dataframe tbody tr th {\n",
       "        vertical-align: top;\n",
       "    }\n",
       "\n",
       "    .dataframe thead th {\n",
       "        text-align: right;\n",
       "    }\n",
       "</style>\n",
       "<table border=\"1\" class=\"dataframe\">\n",
       "  <thead>\n",
       "    <tr style=\"text-align: right;\">\n",
       "      <th></th>\n",
       "      <th>id</th>\n",
       "      <th>id_order</th>\n",
       "      <th>product_id</th>\n",
       "      <th>product_quantity</th>\n",
       "      <th>sku</th>\n",
       "      <th>unit_price</th>\n",
       "      <th>date</th>\n",
       "      <th>short</th>\n",
       "      <th>long</th>\n",
       "    </tr>\n",
       "  </thead>\n",
       "  <tbody>\n",
       "    <tr>\n",
       "      <th>0</th>\n",
       "      <td>1119116</td>\n",
       "      <td>299545</td>\n",
       "      <td>0</td>\n",
       "      <td>1</td>\n",
       "      <td>OWC0100</td>\n",
       "      <td>47.49</td>\n",
       "      <td>2017-01-01 01:46:16</td>\n",
       "      <td>OWC</td>\n",
       "      <td>OWC</td>\n",
       "    </tr>\n",
       "    <tr>\n",
       "      <th>1</th>\n",
       "      <td>1119119</td>\n",
       "      <td>299546</td>\n",
       "      <td>0</td>\n",
       "      <td>1</td>\n",
       "      <td>IOT0014</td>\n",
       "      <td>18.99</td>\n",
       "      <td>2017-01-01 01:50:34</td>\n",
       "      <td>IOT</td>\n",
       "      <td>iOttie</td>\n",
       "    </tr>\n",
       "    <tr>\n",
       "      <th>2</th>\n",
       "      <td>1119120</td>\n",
       "      <td>295347</td>\n",
       "      <td>0</td>\n",
       "      <td>1</td>\n",
       "      <td>APP0700</td>\n",
       "      <td>72.19</td>\n",
       "      <td>2017-01-01 01:54:11</td>\n",
       "      <td>APP</td>\n",
       "      <td>Apple</td>\n",
       "    </tr>\n",
       "  </tbody>\n",
       "</table>\n",
       "</div>\n",
       "      <button class=\"colab-df-convert\" onclick=\"convertToInteractive('df-a9222089-4254-43dc-a766-6bfc442cabdf')\"\n",
       "              title=\"Convert this dataframe to an interactive table.\"\n",
       "              style=\"display:none;\">\n",
       "        \n",
       "  <svg xmlns=\"http://www.w3.org/2000/svg\" height=\"24px\"viewBox=\"0 0 24 24\"\n",
       "       width=\"24px\">\n",
       "    <path d=\"M0 0h24v24H0V0z\" fill=\"none\"/>\n",
       "    <path d=\"M18.56 5.44l.94 2.06.94-2.06 2.06-.94-2.06-.94-.94-2.06-.94 2.06-2.06.94zm-11 1L8.5 8.5l.94-2.06 2.06-.94-2.06-.94L8.5 2.5l-.94 2.06-2.06.94zm10 10l.94 2.06.94-2.06 2.06-.94-2.06-.94-.94-2.06-.94 2.06-2.06.94z\"/><path d=\"M17.41 7.96l-1.37-1.37c-.4-.4-.92-.59-1.43-.59-.52 0-1.04.2-1.43.59L10.3 9.45l-7.72 7.72c-.78.78-.78 2.05 0 2.83L4 21.41c.39.39.9.59 1.41.59.51 0 1.02-.2 1.41-.59l7.78-7.78 2.81-2.81c.8-.78.8-2.07 0-2.86zM5.41 20L4 18.59l7.72-7.72 1.47 1.35L5.41 20z\"/>\n",
       "  </svg>\n",
       "      </button>\n",
       "      \n",
       "  <style>\n",
       "    .colab-df-container {\n",
       "      display:flex;\n",
       "      flex-wrap:wrap;\n",
       "      gap: 12px;\n",
       "    }\n",
       "\n",
       "    .colab-df-convert {\n",
       "      background-color: #E8F0FE;\n",
       "      border: none;\n",
       "      border-radius: 50%;\n",
       "      cursor: pointer;\n",
       "      display: none;\n",
       "      fill: #1967D2;\n",
       "      height: 32px;\n",
       "      padding: 0 0 0 0;\n",
       "      width: 32px;\n",
       "    }\n",
       "\n",
       "    .colab-df-convert:hover {\n",
       "      background-color: #E2EBFA;\n",
       "      box-shadow: 0px 1px 2px rgba(60, 64, 67, 0.3), 0px 1px 3px 1px rgba(60, 64, 67, 0.15);\n",
       "      fill: #174EA6;\n",
       "    }\n",
       "\n",
       "    [theme=dark] .colab-df-convert {\n",
       "      background-color: #3B4455;\n",
       "      fill: #D2E3FC;\n",
       "    }\n",
       "\n",
       "    [theme=dark] .colab-df-convert:hover {\n",
       "      background-color: #434B5C;\n",
       "      box-shadow: 0px 1px 3px 1px rgba(0, 0, 0, 0.15);\n",
       "      filter: drop-shadow(0px 1px 2px rgba(0, 0, 0, 0.3));\n",
       "      fill: #FFFFFF;\n",
       "    }\n",
       "  </style>\n",
       "\n",
       "      <script>\n",
       "        const buttonEl =\n",
       "          document.querySelector('#df-a9222089-4254-43dc-a766-6bfc442cabdf button.colab-df-convert');\n",
       "        buttonEl.style.display =\n",
       "          google.colab.kernel.accessAllowed ? 'block' : 'none';\n",
       "\n",
       "        async function convertToInteractive(key) {\n",
       "          const element = document.querySelector('#df-a9222089-4254-43dc-a766-6bfc442cabdf');\n",
       "          const dataTable =\n",
       "            await google.colab.kernel.invokeFunction('convertToInteractive',\n",
       "                                                     [key], {});\n",
       "          if (!dataTable) return;\n",
       "\n",
       "          const docLinkHtml = 'Like what you see? Visit the ' +\n",
       "            '<a target=\"_blank\" href=https://colab.research.google.com/notebooks/data_table.ipynb>data table notebook</a>'\n",
       "            + ' to learn more about interactive tables.';\n",
       "          element.innerHTML = '';\n",
       "          dataTable['output_type'] = 'display_data';\n",
       "          await google.colab.output.renderOutput(dataTable, element);\n",
       "          const docLink = document.createElement('div');\n",
       "          docLink.innerHTML = docLinkHtml;\n",
       "          element.appendChild(docLink);\n",
       "        }\n",
       "      </script>\n",
       "    </div>\n",
       "  </div>\n",
       "  "
      ],
      "text/plain": [
       "        id  id_order  product_id  product_quantity      sku  unit_price  \\\n",
       "0  1119116    299545           0                 1  OWC0100       47.49   \n",
       "1  1119119    299546           0                 1  IOT0014       18.99   \n",
       "2  1119120    295347           0                 1  APP0700       72.19   \n",
       "\n",
       "                  date short    long  \n",
       "0  2017-01-01 01:46:16   OWC     OWC  \n",
       "1  2017-01-01 01:50:34   IOT  iOttie  \n",
       "2  2017-01-01 01:54:11   APP   Apple  "
      ]
     },
     "execution_count": 12,
     "metadata": {},
     "output_type": "execute_result"
    }
   ],
   "source": [
    "ol_with_brands_df = ol_df.merge(brands, \n",
    "                                how=\"left\", \n",
    "                                left_on=\"short\", \n",
    "                                right_on=\"short\")\n",
    "ol_with_brands_df.head(3)"
   ]
  },
  {
   "cell_type": "code",
   "execution_count": 13,
   "metadata": {
    "colab": {
     "base_uri": "https://localhost:8080/"
    },
    "executionInfo": {
     "elapsed": 14,
     "status": "ok",
     "timestamp": 1670317747385,
     "user": {
      "displayName": "Hana Lacic",
      "userId": "03901848044717845615"
     },
     "user_tz": -60
    },
    "id": "NBKijOecsY0e",
    "outputId": "eb4c094d-9324-4e91-8ecd-94d99d56e70c"
   },
   "outputs": [
    {
     "name": "stdout",
     "output_type": "stream",
     "text": [
      "  books  price\n",
      "0   bk1     12\n",
      "1   bk1     12\n",
      "2   bk1     12\n",
      "3   bk2     15\n",
      "4   bk2     15\n",
      "5   bk3     17\n",
      "       price\n",
      "books       \n",
      "bk1       36\n",
      "bk2       30\n",
      "bk3       17\n",
      "  books  price\n",
      "0   bk1     36\n",
      "1   bk2     30\n",
      "2   bk3     17\n"
     ]
    }
   ],
   "source": [
    "df = pd.DataFrame(data={'books':['bk1','bk1','bk1','bk2','bk2','bk3'], 'price': [12,12,12,15,15,17]})\n",
    "\n",
    "print(df)\n",
    "\n",
    "print(df.groupby('books', as_index=True).sum())\n",
    "\n",
    "print(df.groupby('books', as_index=False).sum())"
   ]
  },
  {
   "cell_type": "code",
   "execution_count": 14,
   "metadata": {
    "colab": {
     "base_uri": "https://localhost:8080/",
     "height": 363
    },
    "executionInfo": {
     "elapsed": 12,
     "status": "ok",
     "timestamp": 1670317849799,
     "user": {
      "displayName": "Hana Lacic",
      "userId": "03901848044717845615"
     },
     "user_tz": -60
    },
    "id": "WMUoHPHgVAXY",
    "outputId": "3b1e1105-228f-4487-c4e2-0ff19d5433f8"
   },
   "outputs": [
    {
     "data": {
      "text/html": [
       "\n",
       "  <div id=\"df-f7ea5778-07db-4b85-9b02-31d162c08c3e\">\n",
       "    <div class=\"colab-df-container\">\n",
       "      <div>\n",
       "<style scoped>\n",
       "    .dataframe tbody tr th:only-of-type {\n",
       "        vertical-align: middle;\n",
       "    }\n",
       "\n",
       "    .dataframe tbody tr th {\n",
       "        vertical-align: top;\n",
       "    }\n",
       "\n",
       "    .dataframe thead th {\n",
       "        text-align: right;\n",
       "    }\n",
       "</style>\n",
       "<table border=\"1\" class=\"dataframe\">\n",
       "  <thead>\n",
       "    <tr style=\"text-align: right;\">\n",
       "      <th></th>\n",
       "      <th>long</th>\n",
       "      <th>product_quantity</th>\n",
       "    </tr>\n",
       "  </thead>\n",
       "  <tbody>\n",
       "    <tr>\n",
       "      <th>5</th>\n",
       "      <td>Apple</td>\n",
       "      <td>11156</td>\n",
       "    </tr>\n",
       "    <tr>\n",
       "      <th>99</th>\n",
       "      <td>OWC</td>\n",
       "      <td>3857</td>\n",
       "    </tr>\n",
       "    <tr>\n",
       "      <th>161</th>\n",
       "      <td>Western Digital</td>\n",
       "      <td>2404</td>\n",
       "    </tr>\n",
       "    <tr>\n",
       "      <th>9</th>\n",
       "      <td>Belkin</td>\n",
       "      <td>2279</td>\n",
       "    </tr>\n",
       "    <tr>\n",
       "      <th>67</th>\n",
       "      <td>LaCie</td>\n",
       "      <td>2130</td>\n",
       "    </tr>\n",
       "    <tr>\n",
       "      <th>19</th>\n",
       "      <td>Crucial</td>\n",
       "      <td>2070</td>\n",
       "    </tr>\n",
       "    <tr>\n",
       "      <th>128</th>\n",
       "      <td>Satechi</td>\n",
       "      <td>1824</td>\n",
       "    </tr>\n",
       "    <tr>\n",
       "      <th>160</th>\n",
       "      <td>Wacom</td>\n",
       "      <td>1816</td>\n",
       "    </tr>\n",
       "    <tr>\n",
       "      <th>106</th>\n",
       "      <td>Pack</td>\n",
       "      <td>1710</td>\n",
       "    </tr>\n",
       "    <tr>\n",
       "      <th>91</th>\n",
       "      <td>NewerTech</td>\n",
       "      <td>1648</td>\n",
       "    </tr>\n",
       "  </tbody>\n",
       "</table>\n",
       "</div>\n",
       "      <button class=\"colab-df-convert\" onclick=\"convertToInteractive('df-f7ea5778-07db-4b85-9b02-31d162c08c3e')\"\n",
       "              title=\"Convert this dataframe to an interactive table.\"\n",
       "              style=\"display:none;\">\n",
       "        \n",
       "  <svg xmlns=\"http://www.w3.org/2000/svg\" height=\"24px\"viewBox=\"0 0 24 24\"\n",
       "       width=\"24px\">\n",
       "    <path d=\"M0 0h24v24H0V0z\" fill=\"none\"/>\n",
       "    <path d=\"M18.56 5.44l.94 2.06.94-2.06 2.06-.94-2.06-.94-.94-2.06-.94 2.06-2.06.94zm-11 1L8.5 8.5l.94-2.06 2.06-.94-2.06-.94L8.5 2.5l-.94 2.06-2.06.94zm10 10l.94 2.06.94-2.06 2.06-.94-2.06-.94-.94-2.06-.94 2.06-2.06.94z\"/><path d=\"M17.41 7.96l-1.37-1.37c-.4-.4-.92-.59-1.43-.59-.52 0-1.04.2-1.43.59L10.3 9.45l-7.72 7.72c-.78.78-.78 2.05 0 2.83L4 21.41c.39.39.9.59 1.41.59.51 0 1.02-.2 1.41-.59l7.78-7.78 2.81-2.81c.8-.78.8-2.07 0-2.86zM5.41 20L4 18.59l7.72-7.72 1.47 1.35L5.41 20z\"/>\n",
       "  </svg>\n",
       "      </button>\n",
       "      \n",
       "  <style>\n",
       "    .colab-df-container {\n",
       "      display:flex;\n",
       "      flex-wrap:wrap;\n",
       "      gap: 12px;\n",
       "    }\n",
       "\n",
       "    .colab-df-convert {\n",
       "      background-color: #E8F0FE;\n",
       "      border: none;\n",
       "      border-radius: 50%;\n",
       "      cursor: pointer;\n",
       "      display: none;\n",
       "      fill: #1967D2;\n",
       "      height: 32px;\n",
       "      padding: 0 0 0 0;\n",
       "      width: 32px;\n",
       "    }\n",
       "\n",
       "    .colab-df-convert:hover {\n",
       "      background-color: #E2EBFA;\n",
       "      box-shadow: 0px 1px 2px rgba(60, 64, 67, 0.3), 0px 1px 3px 1px rgba(60, 64, 67, 0.15);\n",
       "      fill: #174EA6;\n",
       "    }\n",
       "\n",
       "    [theme=dark] .colab-df-convert {\n",
       "      background-color: #3B4455;\n",
       "      fill: #D2E3FC;\n",
       "    }\n",
       "\n",
       "    [theme=dark] .colab-df-convert:hover {\n",
       "      background-color: #434B5C;\n",
       "      box-shadow: 0px 1px 3px 1px rgba(0, 0, 0, 0.15);\n",
       "      filter: drop-shadow(0px 1px 2px rgba(0, 0, 0, 0.3));\n",
       "      fill: #FFFFFF;\n",
       "    }\n",
       "  </style>\n",
       "\n",
       "      <script>\n",
       "        const buttonEl =\n",
       "          document.querySelector('#df-f7ea5778-07db-4b85-9b02-31d162c08c3e button.colab-df-convert');\n",
       "        buttonEl.style.display =\n",
       "          google.colab.kernel.accessAllowed ? 'block' : 'none';\n",
       "\n",
       "        async function convertToInteractive(key) {\n",
       "          const element = document.querySelector('#df-f7ea5778-07db-4b85-9b02-31d162c08c3e');\n",
       "          const dataTable =\n",
       "            await google.colab.kernel.invokeFunction('convertToInteractive',\n",
       "                                                     [key], {});\n",
       "          if (!dataTable) return;\n",
       "\n",
       "          const docLinkHtml = 'Like what you see? Visit the ' +\n",
       "            '<a target=\"_blank\" href=https://colab.research.google.com/notebooks/data_table.ipynb>data table notebook</a>'\n",
       "            + ' to learn more about interactive tables.';\n",
       "          element.innerHTML = '';\n",
       "          dataTable['output_type'] = 'display_data';\n",
       "          await google.colab.output.renderOutput(dataTable, element);\n",
       "          const docLink = document.createElement('div');\n",
       "          docLink.innerHTML = docLinkHtml;\n",
       "          element.appendChild(docLink);\n",
       "        }\n",
       "      </script>\n",
       "    </div>\n",
       "  </div>\n",
       "  "
      ],
      "text/plain": [
       "                long  product_quantity\n",
       "5              Apple             11156\n",
       "99               OWC              3857\n",
       "161  Western Digital              2404\n",
       "9             Belkin              2279\n",
       "67             LaCie              2130\n",
       "19           Crucial              2070\n",
       "128          Satechi              1824\n",
       "160            Wacom              1816\n",
       "106             Pack              1710\n",
       "91         NewerTech              1648"
      ]
     },
     "execution_count": 14,
     "metadata": {},
     "output_type": "execute_result"
    }
   ],
   "source": [
    "brands_10_most_sold_df = (\n",
    "                         ol_with_brands_df.groupby(\"long\", as_index=False)\n",
    "                         [\"product_quantity\"].sum()\n",
    "                         .nlargest(10, \"product_quantity\")\n",
    "                         )\n",
    "brands_10_most_sold_df"
   ]
  },
  {
   "cell_type": "code",
   "execution_count": null,
   "metadata": {
    "colab": {
     "base_uri": "https://localhost:8080/",
     "height": 570
    },
    "executionInfo": {
     "elapsed": 386,
     "status": "ok",
     "timestamp": 1668084345976,
     "user": {
      "displayName": "Hana Lacic",
      "userId": "03901848044717845615"
     },
     "user_tz": -60
    },
    "id": "fVppu4JdWRhA",
    "outputId": "1f7e231c-77ea-47da-d257-ec8cc954481c"
   },
   "outputs": [
    {
     "data": {
      "image/png": "[encoded data removed]",
      "text/plain": [
       "<Figure size 1152x576 with 1 Axes>"
      ]
     },
     "metadata": {
      "needs_background": "light"
     },
     "output_type": "display_data"
    }
   ],
   "source": [
    "sns.catplot(kind=\"bar\",\n",
    "            data=brands_10_most_sold_df,\n",
    "            x=\"long\",\n",
    "            y=\"product_quantity\",\n",
    "            height=8,\n",
    "            aspect=2,\n",
    "            palette=\"Blues_r\");"
   ]
  },
  {
   "cell_type": "markdown",
   "metadata": {
    "id": "BOfflB31SEJl"
   },
   "source": [
    "## Challenge 2:\n",
    "Create a scatter plot to explore the relationship between the recommended price for a product (`products.price`) and the price that products actually sold for (`orderlines.unit_price`)\n",
    "\n",
    "**Hint:** You don't need to groupby here. Just bring a couple of tables together and then use seaborn."
   ]
  },
  {
   "cell_type": "code",
   "execution_count": 16,
   "metadata": {
    "colab": {
     "base_uri": "https://localhost:8080/",
     "height": 225
    },
    "executionInfo": {
     "elapsed": 378,
     "status": "ok",
     "timestamp": 1670318123163,
     "user": {
      "displayName": "Hana Lacic",
      "userId": "03901848044717845615"
     },
     "user_tz": -60
    },
    "id": "lAQ1-FWfi696",
    "outputId": "e4374f18-1bec-4e91-b52b-d4cb702aea1f"
   },
   "outputs": [
    {
     "data": {
      "text/html": [
       "\n",
       "  <div id=\"df-1eb913d9-a49e-4526-9858-a4fc568422e4\">\n",
       "    <div class=\"colab-df-container\">\n",
       "      <div>\n",
       "<style scoped>\n",
       "    .dataframe tbody tr th:only-of-type {\n",
       "        vertical-align: middle;\n",
       "    }\n",
       "\n",
       "    .dataframe tbody tr th {\n",
       "        vertical-align: top;\n",
       "    }\n",
       "\n",
       "    .dataframe thead th {\n",
       "        text-align: right;\n",
       "    }\n",
       "</style>\n",
       "<table border=\"1\" class=\"dataframe\">\n",
       "  <thead>\n",
       "    <tr style=\"text-align: right;\">\n",
       "      <th></th>\n",
       "      <th>id</th>\n",
       "      <th>id_order</th>\n",
       "      <th>product_id</th>\n",
       "      <th>product_quantity</th>\n",
       "      <th>sku</th>\n",
       "      <th>unit_price</th>\n",
       "      <th>date</th>\n",
       "      <th>name</th>\n",
       "      <th>desc</th>\n",
       "      <th>price</th>\n",
       "      <th>in_stock</th>\n",
       "      <th>type</th>\n",
       "    </tr>\n",
       "  </thead>\n",
       "  <tbody>\n",
       "    <tr>\n",
       "      <th>0</th>\n",
       "      <td>1119116</td>\n",
       "      <td>299545</td>\n",
       "      <td>0</td>\n",
       "      <td>1</td>\n",
       "      <td>OWC0100</td>\n",
       "      <td>47.49</td>\n",
       "      <td>2017-01-01 01:46:16</td>\n",
       "      <td>OWC In-line Digital Temperature Sensor Kit HDD...</td>\n",
       "      <td>Kit temperature sensor for HDD iMac 21 inch an...</td>\n",
       "      <td>60.99</td>\n",
       "      <td>1</td>\n",
       "      <td>12755395</td>\n",
       "    </tr>\n",
       "    <tr>\n",
       "      <th>1</th>\n",
       "      <td>1120182</td>\n",
       "      <td>299404</td>\n",
       "      <td>0</td>\n",
       "      <td>1</td>\n",
       "      <td>OWC0100</td>\n",
       "      <td>47.49</td>\n",
       "      <td>2017-01-01 22:50:39</td>\n",
       "      <td>OWC In-line Digital Temperature Sensor Kit HDD...</td>\n",
       "      <td>Kit temperature sensor for HDD iMac 21 inch an...</td>\n",
       "      <td>60.99</td>\n",
       "      <td>1</td>\n",
       "      <td>12755395</td>\n",
       "    </tr>\n",
       "  </tbody>\n",
       "</table>\n",
       "</div>\n",
       "      <button class=\"colab-df-convert\" onclick=\"convertToInteractive('df-1eb913d9-a49e-4526-9858-a4fc568422e4')\"\n",
       "              title=\"Convert this dataframe to an interactive table.\"\n",
       "              style=\"display:none;\">\n",
       "        \n",
       "  <svg xmlns=\"http://www.w3.org/2000/svg\" height=\"24px\"viewBox=\"0 0 24 24\"\n",
       "       width=\"24px\">\n",
       "    <path d=\"M0 0h24v24H0V0z\" fill=\"none\"/>\n",
       "    <path d=\"M18.56 5.44l.94 2.06.94-2.06 2.06-.94-2.06-.94-.94-2.06-.94 2.06-2.06.94zm-11 1L8.5 8.5l.94-2.06 2.06-.94-2.06-.94L8.5 2.5l-.94 2.06-2.06.94zm10 10l.94 2.06.94-2.06 2.06-.94-2.06-.94-.94-2.06-.94 2.06-2.06.94z\"/><path d=\"M17.41 7.96l-1.37-1.37c-.4-.4-.92-.59-1.43-.59-.52 0-1.04.2-1.43.59L10.3 9.45l-7.72 7.72c-.78.78-.78 2.05 0 2.83L4 21.41c.39.39.9.59 1.41.59.51 0 1.02-.2 1.41-.59l7.78-7.78 2.81-2.81c.8-.78.8-2.07 0-2.86zM5.41 20L4 18.59l7.72-7.72 1.47 1.35L5.41 20z\"/>\n",
       "  </svg>\n",
       "      </button>\n",
       "      \n",
       "  <style>\n",
       "    .colab-df-container {\n",
       "      display:flex;\n",
       "      flex-wrap:wrap;\n",
       "      gap: 12px;\n",
       "    }\n",
       "\n",
       "    .colab-df-convert {\n",
       "      background-color: #E8F0FE;\n",
       "      border: none;\n",
       "      border-radius: 50%;\n",
       "      cursor: pointer;\n",
       "      display: none;\n",
       "      fill: #1967D2;\n",
       "      height: 32px;\n",
       "      padding: 0 0 0 0;\n",
       "      width: 32px;\n",
       "    }\n",
       "\n",
       "    .colab-df-convert:hover {\n",
       "      background-color: #E2EBFA;\n",
       "      box-shadow: 0px 1px 2px rgba(60, 64, 67, 0.3), 0px 1px 3px 1px rgba(60, 64, 67, 0.15);\n",
       "      fill: #174EA6;\n",
       "    }\n",
       "\n",
       "    [theme=dark] .colab-df-convert {\n",
       "      background-color: #3B4455;\n",
       "      fill: #D2E3FC;\n",
       "    }\n",
       "\n",
       "    [theme=dark] .colab-df-convert:hover {\n",
       "      background-color: #434B5C;\n",
       "      box-shadow: 0px 1px 3px 1px rgba(0, 0, 0, 0.15);\n",
       "      filter: drop-shadow(0px 1px 2px rgba(0, 0, 0, 0.3));\n",
       "      fill: #FFFFFF;\n",
       "    }\n",
       "  </style>\n",
       "\n",
       "      <script>\n",
       "        const buttonEl =\n",
       "          document.querySelector('#df-1eb913d9-a49e-4526-9858-a4fc568422e4 button.colab-df-convert');\n",
       "        buttonEl.style.display =\n",
       "          google.colab.kernel.accessAllowed ? 'block' : 'none';\n",
       "\n",
       "        async function convertToInteractive(key) {\n",
       "          const element = document.querySelector('#df-1eb913d9-a49e-4526-9858-a4fc568422e4');\n",
       "          const dataTable =\n",
       "            await google.colab.kernel.invokeFunction('convertToInteractive',\n",
       "                                                     [key], {});\n",
       "          if (!dataTable) return;\n",
       "\n",
       "          const docLinkHtml = 'Like what you see? Visit the ' +\n",
       "            '<a target=\"_blank\" href=https://colab.research.google.com/notebooks/data_table.ipynb>data table notebook</a>'\n",
       "            + ' to learn more about interactive tables.';\n",
       "          element.innerHTML = '';\n",
       "          dataTable['output_type'] = 'display_data';\n",
       "          await google.colab.output.renderOutput(dataTable, element);\n",
       "          const docLink = document.createElement('div');\n",
       "          docLink.innerHTML = docLinkHtml;\n",
       "          element.appendChild(docLink);\n",
       "        }\n",
       "      </script>\n",
       "    </div>\n",
       "  </div>\n",
       "  "
      ],
      "text/plain": [
       "        id  id_order  product_id  product_quantity      sku  unit_price  \\\n",
       "0  1119116    299545           0                 1  OWC0100       47.49   \n",
       "1  1120182    299404           0                 1  OWC0100       47.49   \n",
       "\n",
       "                  date                                               name  \\\n",
       "0  2017-01-01 01:46:16  OWC In-line Digital Temperature Sensor Kit HDD...   \n",
       "1  2017-01-01 22:50:39  OWC In-line Digital Temperature Sensor Kit HDD...   \n",
       "\n",
       "                                                desc  price  in_stock  \\\n",
       "0  Kit temperature sensor for HDD iMac 21 inch an...  60.99         1   \n",
       "1  Kit temperature sensor for HDD iMac 21 inch an...  60.99         1   \n",
       "\n",
       "       type  \n",
       "0  12755395  \n",
       "1  12755395  "
      ]
     },
     "execution_count": 16,
     "metadata": {},
     "output_type": "execute_result"
    }
   ],
   "source": [
    "actually_sold = orderlines_qu.merge(right= products_cl, left_on= 'sku', right_on= 'sku')\n",
    "actually_sold.head(2)"
   ]
  },
  {
   "cell_type": "code",
   "execution_count": 25,
   "metadata": {
    "executionInfo": {
     "elapsed": 7,
     "status": "ok",
     "timestamp": 1670318809239,
     "user": {
      "displayName": "Hana Lacic",
      "userId": "03901848044717845615"
     },
     "user_tz": -60
    },
    "id": "8Q5R7teqwNN_"
   },
   "outputs": [],
   "source": [
    "actually_sold[\"higher_same_lower\"] = \"same price\"\n",
    "actually_sold.loc[actually_sold[\"unit_price\"] > actually_sold[\"price\"], \"higher_same_lower\"] = \"higher price\"\n",
    "actually_sold.loc[actually_sold[\"unit_price\"] < actually_sold[\"price\"], \"higher_same_lower\"] = \"lower price\""
   ]
  },
  {
   "cell_type": "code",
   "execution_count": 26,
   "metadata": {
    "colab": {
     "base_uri": "https://localhost:8080/",
     "height": 1000
    },
    "executionInfo": {
     "elapsed": 387,
     "status": "ok",
     "timestamp": 1670318816910,
     "user": {
      "displayName": "Hana Lacic",
      "userId": "03901848044717845615"
     },
     "user_tz": -60
    },
    "id": "iM18EG-gwl7-",
    "outputId": "1d4de136-7791-4875-9aa0-bd07389eb216"
   },
   "outputs": [
    {
     "data": {
      "text/html": [
       "\n",
       "  <div id=\"df-cc7ba068-3706-4d07-8c1e-16f9bd1a6525\">\n",
       "    <div class=\"colab-df-container\">\n",
       "      <div>\n",
       "<style scoped>\n",
       "    .dataframe tbody tr th:only-of-type {\n",
       "        vertical-align: middle;\n",
       "    }\n",
       "\n",
       "    .dataframe tbody tr th {\n",
       "        vertical-align: top;\n",
       "    }\n",
       "\n",
       "    .dataframe thead th {\n",
       "        text-align: right;\n",
       "    }\n",
       "</style>\n",
       "<table border=\"1\" class=\"dataframe\">\n",
       "  <thead>\n",
       "    <tr style=\"text-align: right;\">\n",
       "      <th></th>\n",
       "      <th>id</th>\n",
       "      <th>id_order</th>\n",
       "      <th>product_id</th>\n",
       "      <th>product_quantity</th>\n",
       "      <th>sku</th>\n",
       "      <th>unit_price</th>\n",
       "      <th>date</th>\n",
       "      <th>name</th>\n",
       "      <th>desc</th>\n",
       "      <th>price</th>\n",
       "      <th>in_stock</th>\n",
       "      <th>type</th>\n",
       "      <th>higher_same_lower</th>\n",
       "    </tr>\n",
       "  </thead>\n",
       "  <tbody>\n",
       "    <tr>\n",
       "      <th>0</th>\n",
       "      <td>1119116</td>\n",
       "      <td>299545</td>\n",
       "      <td>0</td>\n",
       "      <td>1</td>\n",
       "      <td>OWC0100</td>\n",
       "      <td>47.49</td>\n",
       "      <td>2017-01-01 01:46:16</td>\n",
       "      <td>OWC In-line Digital Temperature Sensor Kit HDD...</td>\n",
       "      <td>Kit temperature sensor for HDD iMac 21 inch an...</td>\n",
       "      <td>60.99</td>\n",
       "      <td>1</td>\n",
       "      <td>12755395</td>\n",
       "      <td>lower price</td>\n",
       "    </tr>\n",
       "    <tr>\n",
       "      <th>1</th>\n",
       "      <td>1120182</td>\n",
       "      <td>299404</td>\n",
       "      <td>0</td>\n",
       "      <td>1</td>\n",
       "      <td>OWC0100</td>\n",
       "      <td>47.49</td>\n",
       "      <td>2017-01-01 22:50:39</td>\n",
       "      <td>OWC In-line Digital Temperature Sensor Kit HDD...</td>\n",
       "      <td>Kit temperature sensor for HDD iMac 21 inch an...</td>\n",
       "      <td>60.99</td>\n",
       "      <td>1</td>\n",
       "      <td>12755395</td>\n",
       "      <td>lower price</td>\n",
       "    </tr>\n",
       "    <tr>\n",
       "      <th>2</th>\n",
       "      <td>1121550</td>\n",
       "      <td>300650</td>\n",
       "      <td>0</td>\n",
       "      <td>1</td>\n",
       "      <td>OWC0100</td>\n",
       "      <td>49.99</td>\n",
       "      <td>2017-01-02 15:31:09</td>\n",
       "      <td>OWC In-line Digital Temperature Sensor Kit HDD...</td>\n",
       "      <td>Kit temperature sensor for HDD iMac 21 inch an...</td>\n",
       "      <td>60.99</td>\n",
       "      <td>1</td>\n",
       "      <td>12755395</td>\n",
       "      <td>lower price</td>\n",
       "    </tr>\n",
       "    <tr>\n",
       "      <th>3</th>\n",
       "      <td>1121801</td>\n",
       "      <td>300760</td>\n",
       "      <td>0</td>\n",
       "      <td>1</td>\n",
       "      <td>OWC0100</td>\n",
       "      <td>49.99</td>\n",
       "      <td>2017-01-02 17:20:31</td>\n",
       "      <td>OWC In-line Digital Temperature Sensor Kit HDD...</td>\n",
       "      <td>Kit temperature sensor for HDD iMac 21 inch an...</td>\n",
       "      <td>60.99</td>\n",
       "      <td>1</td>\n",
       "      <td>12755395</td>\n",
       "      <td>lower price</td>\n",
       "    </tr>\n",
       "    <tr>\n",
       "      <th>4</th>\n",
       "      <td>1124334</td>\n",
       "      <td>301975</td>\n",
       "      <td>0</td>\n",
       "      <td>1</td>\n",
       "      <td>OWC0100</td>\n",
       "      <td>49.99</td>\n",
       "      <td>2017-01-03 20:04:54</td>\n",
       "      <td>OWC In-line Digital Temperature Sensor Kit HDD...</td>\n",
       "      <td>Kit temperature sensor for HDD iMac 21 inch an...</td>\n",
       "      <td>60.99</td>\n",
       "      <td>1</td>\n",
       "      <td>12755395</td>\n",
       "      <td>lower price</td>\n",
       "    </tr>\n",
       "    <tr>\n",
       "      <th>...</th>\n",
       "      <td>...</td>\n",
       "      <td>...</td>\n",
       "      <td>...</td>\n",
       "      <td>...</td>\n",
       "      <td>...</td>\n",
       "      <td>...</td>\n",
       "      <td>...</td>\n",
       "      <td>...</td>\n",
       "      <td>...</td>\n",
       "      <td>...</td>\n",
       "      <td>...</td>\n",
       "      <td>...</td>\n",
       "      <td>...</td>\n",
       "    </tr>\n",
       "    <tr>\n",
       "      <th>53226</th>\n",
       "      <td>1647280</td>\n",
       "      <td>526003</td>\n",
       "      <td>0</td>\n",
       "      <td>1</td>\n",
       "      <td>NET0028</td>\n",
       "      <td>404.99</td>\n",
       "      <td>2018-03-12 15:59:19</td>\n",
       "      <td>Netgear Wifi Orbi System kit and satellite net...</td>\n",
       "      <td>System RBK50 Mesh WiFi network kit compact and...</td>\n",
       "      <td>429.99</td>\n",
       "      <td>0</td>\n",
       "      <td>1334</td>\n",
       "      <td>lower price</td>\n",
       "    </tr>\n",
       "    <tr>\n",
       "      <th>53227</th>\n",
       "      <td>1647425</td>\n",
       "      <td>526066</td>\n",
       "      <td>0</td>\n",
       "      <td>1</td>\n",
       "      <td>WAC0254</td>\n",
       "      <td>83.99</td>\n",
       "      <td>2018-03-12 17:45:42</td>\n",
       "      <td>Education - Wacom Intuos Graphics Tablet S Blu...</td>\n",
       "      <td>small-edge graphics tablet with Bluetooth inte...</td>\n",
       "      <td>99.00</td>\n",
       "      <td>1</td>\n",
       "      <td>1405</td>\n",
       "      <td>lower price</td>\n",
       "    </tr>\n",
       "    <tr>\n",
       "      <th>53228</th>\n",
       "      <td>1647495</td>\n",
       "      <td>526093</td>\n",
       "      <td>0</td>\n",
       "      <td>1</td>\n",
       "      <td>WAC0252</td>\n",
       "      <td>83.99</td>\n",
       "      <td>2018-03-12 18:32:29</td>\n",
       "      <td>Education - Wacom Intuos Graphics Tablet S Blu...</td>\n",
       "      <td>small-edge graphics tablet with Bluetooth inte...</td>\n",
       "      <td>99.00</td>\n",
       "      <td>1</td>\n",
       "      <td>1405</td>\n",
       "      <td>lower price</td>\n",
       "    </tr>\n",
       "    <tr>\n",
       "      <th>53229</th>\n",
       "      <td>1648399</td>\n",
       "      <td>526440</td>\n",
       "      <td>0</td>\n",
       "      <td>1</td>\n",
       "      <td>PAC2235</td>\n",
       "      <td>878.18</td>\n",
       "      <td>2018-03-13 15:08:27</td>\n",
       "      <td>Synology DS218 + NAS Server | 6GB RAM | 16TB (...</td>\n",
       "      <td>NAS storage server integrated with special foc...</td>\n",
       "      <td>1124.98</td>\n",
       "      <td>1</td>\n",
       "      <td>12175397</td>\n",
       "      <td>lower price</td>\n",
       "    </tr>\n",
       "    <tr>\n",
       "      <th>53230</th>\n",
       "      <td>1648457</td>\n",
       "      <td>526512</td>\n",
       "      <td>0</td>\n",
       "      <td>1</td>\n",
       "      <td>DLK0044-A</td>\n",
       "      <td>84.32</td>\n",
       "      <td>2018-03-13 16:19:18</td>\n",
       "      <td>Open - D-Link DCS-5020L wireless surveillance ...</td>\n",
       "      <td>Reconditioned surveillance camera with Wi-Fi r...</td>\n",
       "      <td>139.99</td>\n",
       "      <td>0</td>\n",
       "      <td>9094</td>\n",
       "      <td>lower price</td>\n",
       "    </tr>\n",
       "  </tbody>\n",
       "</table>\n",
       "<p>53231 rows × 13 columns</p>\n",
       "</div>\n",
       "      <button class=\"colab-df-convert\" onclick=\"convertToInteractive('df-cc7ba068-3706-4d07-8c1e-16f9bd1a6525')\"\n",
       "              title=\"Convert this dataframe to an interactive table.\"\n",
       "              style=\"display:none;\">\n",
       "        \n",
       "  <svg xmlns=\"http://www.w3.org/2000/svg\" height=\"24px\"viewBox=\"0 0 24 24\"\n",
       "       width=\"24px\">\n",
       "    <path d=\"M0 0h24v24H0V0z\" fill=\"none\"/>\n",
       "    <path d=\"M18.56 5.44l.94 2.06.94-2.06 2.06-.94-2.06-.94-.94-2.06-.94 2.06-2.06.94zm-11 1L8.5 8.5l.94-2.06 2.06-.94-2.06-.94L8.5 2.5l-.94 2.06-2.06.94zm10 10l.94 2.06.94-2.06 2.06-.94-2.06-.94-.94-2.06-.94 2.06-2.06.94z\"/><path d=\"M17.41 7.96l-1.37-1.37c-.4-.4-.92-.59-1.43-.59-.52 0-1.04.2-1.43.59L10.3 9.45l-7.72 7.72c-.78.78-.78 2.05 0 2.83L4 21.41c.39.39.9.59 1.41.59.51 0 1.02-.2 1.41-.59l7.78-7.78 2.81-2.81c.8-.78.8-2.07 0-2.86zM5.41 20L4 18.59l7.72-7.72 1.47 1.35L5.41 20z\"/>\n",
       "  </svg>\n",
       "      </button>\n",
       "      \n",
       "  <style>\n",
       "    .colab-df-container {\n",
       "      display:flex;\n",
       "      flex-wrap:wrap;\n",
       "      gap: 12px;\n",
       "    }\n",
       "\n",
       "    .colab-df-convert {\n",
       "      background-color: #E8F0FE;\n",
       "      border: none;\n",
       "      border-radius: 50%;\n",
       "      cursor: pointer;\n",
       "      display: none;\n",
       "      fill: #1967D2;\n",
       "      height: 32px;\n",
       "      padding: 0 0 0 0;\n",
       "      width: 32px;\n",
       "    }\n",
       "\n",
       "    .colab-df-convert:hover {\n",
       "      background-color: #E2EBFA;\n",
       "      box-shadow: 0px 1px 2px rgba(60, 64, 67, 0.3), 0px 1px 3px 1px rgba(60, 64, 67, 0.15);\n",
       "      fill: #174EA6;\n",
       "    }\n",
       "\n",
       "    [theme=dark] .colab-df-convert {\n",
       "      background-color: #3B4455;\n",
       "      fill: #D2E3FC;\n",
       "    }\n",
       "\n",
       "    [theme=dark] .colab-df-convert:hover {\n",
       "      background-color: #434B5C;\n",
       "      box-shadow: 0px 1px 3px 1px rgba(0, 0, 0, 0.15);\n",
       "      filter: drop-shadow(0px 1px 2px rgba(0, 0, 0, 0.3));\n",
       "      fill: #FFFFFF;\n",
       "    }\n",
       "  </style>\n",
       "\n",
       "      <script>\n",
       "        const buttonEl =\n",
       "          document.querySelector('#df-cc7ba068-3706-4d07-8c1e-16f9bd1a6525 button.colab-df-convert');\n",
       "        buttonEl.style.display =\n",
       "          google.colab.kernel.accessAllowed ? 'block' : 'none';\n",
       "\n",
       "        async function convertToInteractive(key) {\n",
       "          const element = document.querySelector('#df-cc7ba068-3706-4d07-8c1e-16f9bd1a6525');\n",
       "          const dataTable =\n",
       "            await google.colab.kernel.invokeFunction('convertToInteractive',\n",
       "                                                     [key], {});\n",
       "          if (!dataTable) return;\n",
       "\n",
       "          const docLinkHtml = 'Like what you see? Visit the ' +\n",
       "            '<a target=\"_blank\" href=https://colab.research.google.com/notebooks/data_table.ipynb>data table notebook</a>'\n",
       "            + ' to learn more about interactive tables.';\n",
       "          element.innerHTML = '';\n",
       "          dataTable['output_type'] = 'display_data';\n",
       "          await google.colab.output.renderOutput(dataTable, element);\n",
       "          const docLink = document.createElement('div');\n",
       "          docLink.innerHTML = docLinkHtml;\n",
       "          element.appendChild(docLink);\n",
       "        }\n",
       "      </script>\n",
       "    </div>\n",
       "  </div>\n",
       "  "
      ],
      "text/plain": [
       "            id  id_order  product_id  product_quantity        sku  unit_price  \\\n",
       "0      1119116    299545           0                 1    OWC0100       47.49   \n",
       "1      1120182    299404           0                 1    OWC0100       47.49   \n",
       "2      1121550    300650           0                 1    OWC0100       49.99   \n",
       "3      1121801    300760           0                 1    OWC0100       49.99   \n",
       "4      1124334    301975           0                 1    OWC0100       49.99   \n",
       "...        ...       ...         ...               ...        ...         ...   \n",
       "53226  1647280    526003           0                 1    NET0028      404.99   \n",
       "53227  1647425    526066           0                 1    WAC0254       83.99   \n",
       "53228  1647495    526093           0                 1    WAC0252       83.99   \n",
       "53229  1648399    526440           0                 1    PAC2235      878.18   \n",
       "53230  1648457    526512           0                 1  DLK0044-A       84.32   \n",
       "\n",
       "                      date                                               name  \\\n",
       "0      2017-01-01 01:46:16  OWC In-line Digital Temperature Sensor Kit HDD...   \n",
       "1      2017-01-01 22:50:39  OWC In-line Digital Temperature Sensor Kit HDD...   \n",
       "2      2017-01-02 15:31:09  OWC In-line Digital Temperature Sensor Kit HDD...   \n",
       "3      2017-01-02 17:20:31  OWC In-line Digital Temperature Sensor Kit HDD...   \n",
       "4      2017-01-03 20:04:54  OWC In-line Digital Temperature Sensor Kit HDD...   \n",
       "...                    ...                                                ...   \n",
       "53226  2018-03-12 15:59:19  Netgear Wifi Orbi System kit and satellite net...   \n",
       "53227  2018-03-12 17:45:42  Education - Wacom Intuos Graphics Tablet S Blu...   \n",
       "53228  2018-03-12 18:32:29  Education - Wacom Intuos Graphics Tablet S Blu...   \n",
       "53229  2018-03-13 15:08:27  Synology DS218 + NAS Server | 6GB RAM | 16TB (...   \n",
       "53230  2018-03-13 16:19:18  Open - D-Link DCS-5020L wireless surveillance ...   \n",
       "\n",
       "                                                    desc    price  in_stock  \\\n",
       "0      Kit temperature sensor for HDD iMac 21 inch an...    60.99         1   \n",
       "1      Kit temperature sensor for HDD iMac 21 inch an...    60.99         1   \n",
       "2      Kit temperature sensor for HDD iMac 21 inch an...    60.99         1   \n",
       "3      Kit temperature sensor for HDD iMac 21 inch an...    60.99         1   \n",
       "4      Kit temperature sensor for HDD iMac 21 inch an...    60.99         1   \n",
       "...                                                  ...      ...       ...   \n",
       "53226  System RBK50 Mesh WiFi network kit compact and...   429.99         0   \n",
       "53227  small-edge graphics tablet with Bluetooth inte...    99.00         1   \n",
       "53228  small-edge graphics tablet with Bluetooth inte...    99.00         1   \n",
       "53229  NAS storage server integrated with special foc...  1124.98         1   \n",
       "53230  Reconditioned surveillance camera with Wi-Fi r...   139.99         0   \n",
       "\n",
       "           type higher_same_lower  \n",
       "0      12755395       lower price  \n",
       "1      12755395       lower price  \n",
       "2      12755395       lower price  \n",
       "3      12755395       lower price  \n",
       "4      12755395       lower price  \n",
       "...         ...               ...  \n",
       "53226      1334       lower price  \n",
       "53227      1405       lower price  \n",
       "53228      1405       lower price  \n",
       "53229  12175397       lower price  \n",
       "53230      9094       lower price  \n",
       "\n",
       "[53231 rows x 13 columns]"
      ]
     },
     "execution_count": 26,
     "metadata": {},
     "output_type": "execute_result"
    }
   ],
   "source": [
    "actually_sold"
   ]
  },
  {
   "cell_type": "code",
   "execution_count": 27,
   "metadata": {
    "colab": {
     "base_uri": "https://localhost:8080/",
     "height": 387
    },
    "executionInfo": {
     "elapsed": 6713,
     "status": "ok",
     "timestamp": 1670318901435,
     "user": {
      "displayName": "Hana Lacic",
      "userId": "03901848044717845615"
     },
     "user_tz": -60
    },
    "id": "pnFmiKISwprD",
    "outputId": "8eae4cd7-ed6d-4329-f93c-5fefee0da7e1"
   },
   "outputs": [
    {
     "data": {
      "text/plain": [
       "<seaborn.axisgrid.FacetGrid at 0x7f5022191760>"
      ]
     },
     "execution_count": 27,
     "metadata": {},
     "output_type": "execute_result"
    },
    {
     "data": {
      "image/png": "[encoded data removed]",
      "text/plain": [
       "<Figure size 464.625x360 with 1 Axes>"
      ]
     },
     "metadata": {
      "needs_background": "light"
     },
     "output_type": "display_data"
    }
   ],
   "source": [
    "sns.relplot(data=actually_sold,y='price',x='unit_price', hue= 'higher_same_lower')"
   ]
  },
  {
   "cell_type": "code",
   "execution_count": null,
   "metadata": {
    "id": "6T6bft7Mwpff"
   },
   "outputs": [],
   "source": []
  },
  {
   "cell_type": "code",
   "execution_count": 28,
   "metadata": {
    "colab": {
     "base_uri": "https://localhost:8080/",
     "height": 387
    },
    "executionInfo": {
     "elapsed": 23327,
     "status": "ok",
     "timestamp": 1670319057790,
     "user": {
      "displayName": "Hana Lacic",
      "userId": "03901848044717845615"
     },
     "user_tz": -60
    },
    "id": "A-Af2vE5uEAe",
    "outputId": "ed70ea69-6895-4860-8ad6-97ed1bce2cc9"
   },
   "outputs": [
    {
     "data": {
      "text/plain": [
       "<matplotlib.axes._subplots.AxesSubplot at 0x7f502207e490>"
      ]
     },
     "execution_count": 28,
     "metadata": {},
     "output_type": "execute_result"
    },
    {
     "data": {
      "image/png": "[encoded data removed]",
      "text/plain": [
       "<Figure size 360x360 with 1 Axes>"
      ]
     },
     "metadata": {
      "needs_background": "light"
     },
     "output_type": "display_data"
    }
   ],
   "source": [
    "sns.relplot(data=actually_sold, x= \"unit_price\",y= \"price\" )\n",
    "import matplotlib.pyplot as plt\n",
    "sns.lineplot(data=actually_sold,x='price',y='price')"
   ]
  },
  {
   "cell_type": "markdown",
   "metadata": {
    "id": "7ye4iw_ESCPQ"
   },
   "source": [
    "## Challenge 3:\n",
    "Let's investigate when customers like to spend more money. Display the average daily price of an order on a line plot.\n",
    "\n",
    "**Hint:** first work on finding the daily average of `total_paid`, make sure you have this saved as a DataFrame, then work on your plot using this DataFrame."
   ]
  },
  {
   "cell_type": "code",
   "execution_count": 29,
   "metadata": {
    "executionInfo": {
     "elapsed": 4,
     "status": "ok",
     "timestamp": 1670319219080,
     "user": {
      "displayName": "Hana Lacic",
      "userId": "03901848044717845615"
     },
     "user_tz": -60
    },
    "id": "0Y8rgMPfyBdC"
   },
   "outputs": [],
   "source": [
    "orders_qu['created_date'] = pd.to_datetime(orders_qu['created_date'])"
   ]
  },
  {
   "cell_type": "code",
   "execution_count": 49,
   "metadata": {
    "colab": {
     "base_uri": "https://localhost:8080/"
    },
    "executionInfo": {
     "elapsed": 1228,
     "status": "ok",
     "timestamp": 1670320191905,
     "user": {
      "displayName": "Hana Lacic",
      "userId": "03901848044717845615"
     },
     "user_tz": -60
    },
    "id": "3NNFKvlyzmpH",
    "outputId": "92612693-7faf-4f9d-a9bf-76294d4ffcb5"
   },
   "outputs": [
    {
     "data": {
      "text/plain": [
       "created_date\n",
       "2017-0    183.447949\n",
       "2017-1    191.112708\n",
       "2017-2    198.922415\n",
       "2017-3    194.427512\n",
       "2017-4    218.072636\n",
       "2017-5    197.595438\n",
       "2017-6    189.138063\n",
       "2018-0    188.270843\n",
       "2018-1    204.327324\n",
       "2018-2    188.474985\n",
       "2018-3    196.186686\n",
       "2018-4    200.876965\n",
       "2018-5    151.495795\n",
       "2018-6    168.637348\n",
       "Name: total_paid, dtype: float64"
      ]
     },
     "execution_count": 49,
     "metadata": {},
     "output_type": "execute_result"
    }
   ],
   "source": [
    "orders_qu.groupby(orders_qu[\"created_date\"].dt.strftime('%Y-%w'))[\"total_paid\"].mean()"
   ]
  },
  {
   "cell_type": "code",
   "execution_count": 48,
   "metadata": {
    "colab": {
     "base_uri": "https://localhost:8080/",
     "height": 269
    },
    "executionInfo": {
     "elapsed": 11,
     "status": "ok",
     "timestamp": 1670320117805,
     "user": {
      "displayName": "Hana Lacic",
      "userId": "03901848044717845615"
     },
     "user_tz": -60
    },
    "id": "17Xa5kcPyNcq",
    "outputId": "9ba696be-0689-449c-db87-b2950b3cc034"
   },
   "outputs": [
    {
     "data": {
      "text/html": [
       "\n",
       "  <div id=\"df-bb2d1214-10ec-43ce-b99e-50e34bf460fc\">\n",
       "    <div class=\"colab-df-container\">\n",
       "      <div>\n",
       "<style scoped>\n",
       "    .dataframe tbody tr th:only-of-type {\n",
       "        vertical-align: middle;\n",
       "    }\n",
       "\n",
       "    .dataframe tbody tr th {\n",
       "        vertical-align: top;\n",
       "    }\n",
       "\n",
       "    .dataframe thead th {\n",
       "        text-align: right;\n",
       "    }\n",
       "</style>\n",
       "<table border=\"1\" class=\"dataframe\">\n",
       "  <thead>\n",
       "    <tr style=\"text-align: right;\">\n",
       "      <th></th>\n",
       "      <th>weekday</th>\n",
       "      <th>created_date</th>\n",
       "      <th>total_paid</th>\n",
       "    </tr>\n",
       "  </thead>\n",
       "  <tbody>\n",
       "    <tr>\n",
       "      <th>1</th>\n",
       "      <td>Monday</td>\n",
       "      <td>0</td>\n",
       "      <td>193.758555</td>\n",
       "    </tr>\n",
       "    <tr>\n",
       "      <th>5</th>\n",
       "      <td>Tuesday</td>\n",
       "      <td>1</td>\n",
       "      <td>196.204607</td>\n",
       "    </tr>\n",
       "    <tr>\n",
       "      <th>6</th>\n",
       "      <td>Wednesday</td>\n",
       "      <td>2</td>\n",
       "      <td>194.891267</td>\n",
       "    </tr>\n",
       "    <tr>\n",
       "      <th>4</th>\n",
       "      <td>Thursday</td>\n",
       "      <td>3</td>\n",
       "      <td>214.736626</td>\n",
       "    </tr>\n",
       "    <tr>\n",
       "      <th>0</th>\n",
       "      <td>Friday</td>\n",
       "      <td>4</td>\n",
       "      <td>188.739876</td>\n",
       "    </tr>\n",
       "    <tr>\n",
       "      <th>2</th>\n",
       "      <td>Saturday</td>\n",
       "      <td>5</td>\n",
       "      <td>185.179943</td>\n",
       "    </tr>\n",
       "    <tr>\n",
       "      <th>3</th>\n",
       "      <td>Sunday</td>\n",
       "      <td>6</td>\n",
       "      <td>184.300017</td>\n",
       "    </tr>\n",
       "  </tbody>\n",
       "</table>\n",
       "</div>\n",
       "      <button class=\"colab-df-convert\" onclick=\"convertToInteractive('df-bb2d1214-10ec-43ce-b99e-50e34bf460fc')\"\n",
       "              title=\"Convert this dataframe to an interactive table.\"\n",
       "              style=\"display:none;\">\n",
       "        \n",
       "  <svg xmlns=\"http://www.w3.org/2000/svg\" height=\"24px\"viewBox=\"0 0 24 24\"\n",
       "       width=\"24px\">\n",
       "    <path d=\"M0 0h24v24H0V0z\" fill=\"none\"/>\n",
       "    <path d=\"M18.56 5.44l.94 2.06.94-2.06 2.06-.94-2.06-.94-.94-2.06-.94 2.06-2.06.94zm-11 1L8.5 8.5l.94-2.06 2.06-.94-2.06-.94L8.5 2.5l-.94 2.06-2.06.94zm10 10l.94 2.06.94-2.06 2.06-.94-2.06-.94-.94-2.06-.94 2.06-2.06.94z\"/><path d=\"M17.41 7.96l-1.37-1.37c-.4-.4-.92-.59-1.43-.59-.52 0-1.04.2-1.43.59L10.3 9.45l-7.72 7.72c-.78.78-.78 2.05 0 2.83L4 21.41c.39.39.9.59 1.41.59.51 0 1.02-.2 1.41-.59l7.78-7.78 2.81-2.81c.8-.78.8-2.07 0-2.86zM5.41 20L4 18.59l7.72-7.72 1.47 1.35L5.41 20z\"/>\n",
       "  </svg>\n",
       "      </button>\n",
       "      \n",
       "  <style>\n",
       "    .colab-df-container {\n",
       "      display:flex;\n",
       "      flex-wrap:wrap;\n",
       "      gap: 12px;\n",
       "    }\n",
       "\n",
       "    .colab-df-convert {\n",
       "      background-color: #E8F0FE;\n",
       "      border: none;\n",
       "      border-radius: 50%;\n",
       "      cursor: pointer;\n",
       "      display: none;\n",
       "      fill: #1967D2;\n",
       "      height: 32px;\n",
       "      padding: 0 0 0 0;\n",
       "      width: 32px;\n",
       "    }\n",
       "\n",
       "    .colab-df-convert:hover {\n",
       "      background-color: #E2EBFA;\n",
       "      box-shadow: 0px 1px 2px rgba(60, 64, 67, 0.3), 0px 1px 3px 1px rgba(60, 64, 67, 0.15);\n",
       "      fill: #174EA6;\n",
       "    }\n",
       "\n",
       "    [theme=dark] .colab-df-convert {\n",
       "      background-color: #3B4455;\n",
       "      fill: #D2E3FC;\n",
       "    }\n",
       "\n",
       "    [theme=dark] .colab-df-convert:hover {\n",
       "      background-color: #434B5C;\n",
       "      box-shadow: 0px 1px 3px 1px rgba(0, 0, 0, 0.15);\n",
       "      filter: drop-shadow(0px 1px 2px rgba(0, 0, 0, 0.3));\n",
       "      fill: #FFFFFF;\n",
       "    }\n",
       "  </style>\n",
       "\n",
       "      <script>\n",
       "        const buttonEl =\n",
       "          document.querySelector('#df-bb2d1214-10ec-43ce-b99e-50e34bf460fc button.colab-df-convert');\n",
       "        buttonEl.style.display =\n",
       "          google.colab.kernel.accessAllowed ? 'block' : 'none';\n",
       "\n",
       "        async function convertToInteractive(key) {\n",
       "          const element = document.querySelector('#df-bb2d1214-10ec-43ce-b99e-50e34bf460fc');\n",
       "          const dataTable =\n",
       "            await google.colab.kernel.invokeFunction('convertToInteractive',\n",
       "                                                     [key], {});\n",
       "          if (!dataTable) return;\n",
       "\n",
       "          const docLinkHtml = 'Like what you see? Visit the ' +\n",
       "            '<a target=\"_blank\" href=https://colab.research.google.com/notebooks/data_table.ipynb>data table notebook</a>'\n",
       "            + ' to learn more about interactive tables.';\n",
       "          element.innerHTML = '';\n",
       "          dataTable['output_type'] = 'display_data';\n",
       "          await google.colab.output.renderOutput(dataTable, element);\n",
       "          const docLink = document.createElement('div');\n",
       "          docLink.innerHTML = docLinkHtml;\n",
       "          element.appendChild(docLink);\n",
       "        }\n",
       "      </script>\n",
       "    </div>\n",
       "  </div>\n",
       "  "
      ],
      "text/plain": [
       "     weekday  created_date  total_paid\n",
       "1     Monday             0  193.758555\n",
       "5    Tuesday             1  196.204607\n",
       "6  Wednesday             2  194.891267\n",
       "4   Thursday             3  214.736626\n",
       "0     Friday             4  188.739876\n",
       "2   Saturday             5  185.179943\n",
       "3     Sunday             6  184.300017"
      ]
     },
     "execution_count": 48,
     "metadata": {},
     "output_type": "execute_result"
    }
   ],
   "source": [
    "orders_qu['weekday'] = orders_qu[\"created_date\"].dt.day_name()\n",
    "orders_qu.groupby([orders_qu['weekday'],orders_qu[\"created_date\"].dt.weekday])[\"total_paid\"].mean().reset_index().sort_values('created_date')"
   ]
  },
  {
   "cell_type": "code",
   "execution_count": 44,
   "metadata": {
    "colab": {
     "base_uri": "https://localhost:8080/",
     "height": 269
    },
    "executionInfo": {
     "elapsed": 1758,
     "status": "ok",
     "timestamp": 1670319965130,
     "user": {
      "displayName": "Hana Lacic",
      "userId": "03901848044717845615"
     },
     "user_tz": -60
    },
    "id": "Cr4ytff40_BK",
    "outputId": "0a718ce4-e32f-4da2-e73e-13e4241c1bb3"
   },
   "outputs": [
    {
     "data": {
      "text/html": [
       "\n",
       "  <div id=\"df-5cf10370-7f43-4fcb-8fff-0c383e8bb50e\">\n",
       "    <div class=\"colab-df-container\">\n",
       "      <div>\n",
       "<style scoped>\n",
       "    .dataframe tbody tr th:only-of-type {\n",
       "        vertical-align: middle;\n",
       "    }\n",
       "\n",
       "    .dataframe tbody tr th {\n",
       "        vertical-align: top;\n",
       "    }\n",
       "\n",
       "    .dataframe thead th {\n",
       "        text-align: right;\n",
       "    }\n",
       "</style>\n",
       "<table border=\"1\" class=\"dataframe\">\n",
       "  <thead>\n",
       "    <tr style=\"text-align: right;\">\n",
       "      <th></th>\n",
       "      <th>total_paid</th>\n",
       "    </tr>\n",
       "  </thead>\n",
       "  <tbody>\n",
       "    <tr>\n",
       "      <th>0</th>\n",
       "      <td>193.758555</td>\n",
       "    </tr>\n",
       "    <tr>\n",
       "      <th>1</th>\n",
       "      <td>196.204607</td>\n",
       "    </tr>\n",
       "    <tr>\n",
       "      <th>2</th>\n",
       "      <td>194.891267</td>\n",
       "    </tr>\n",
       "    <tr>\n",
       "      <th>3</th>\n",
       "      <td>214.736626</td>\n",
       "    </tr>\n",
       "    <tr>\n",
       "      <th>4</th>\n",
       "      <td>188.739876</td>\n",
       "    </tr>\n",
       "    <tr>\n",
       "      <th>5</th>\n",
       "      <td>185.179943</td>\n",
       "    </tr>\n",
       "    <tr>\n",
       "      <th>6</th>\n",
       "      <td>184.300017</td>\n",
       "    </tr>\n",
       "  </tbody>\n",
       "</table>\n",
       "</div>\n",
       "      <button class=\"colab-df-convert\" onclick=\"convertToInteractive('df-5cf10370-7f43-4fcb-8fff-0c383e8bb50e')\"\n",
       "              title=\"Convert this dataframe to an interactive table.\"\n",
       "              style=\"display:none;\">\n",
       "        \n",
       "  <svg xmlns=\"http://www.w3.org/2000/svg\" height=\"24px\"viewBox=\"0 0 24 24\"\n",
       "       width=\"24px\">\n",
       "    <path d=\"M0 0h24v24H0V0z\" fill=\"none\"/>\n",
       "    <path d=\"M18.56 5.44l.94 2.06.94-2.06 2.06-.94-2.06-.94-.94-2.06-.94 2.06-2.06.94zm-11 1L8.5 8.5l.94-2.06 2.06-.94-2.06-.94L8.5 2.5l-.94 2.06-2.06.94zm10 10l.94 2.06.94-2.06 2.06-.94-2.06-.94-.94-2.06-.94 2.06-2.06.94z\"/><path d=\"M17.41 7.96l-1.37-1.37c-.4-.4-.92-.59-1.43-.59-.52 0-1.04.2-1.43.59L10.3 9.45l-7.72 7.72c-.78.78-.78 2.05 0 2.83L4 21.41c.39.39.9.59 1.41.59.51 0 1.02-.2 1.41-.59l7.78-7.78 2.81-2.81c.8-.78.8-2.07 0-2.86zM5.41 20L4 18.59l7.72-7.72 1.47 1.35L5.41 20z\"/>\n",
       "  </svg>\n",
       "      </button>\n",
       "      \n",
       "  <style>\n",
       "    .colab-df-container {\n",
       "      display:flex;\n",
       "      flex-wrap:wrap;\n",
       "      gap: 12px;\n",
       "    }\n",
       "\n",
       "    .colab-df-convert {\n",
       "      background-color: #E8F0FE;\n",
       "      border: none;\n",
       "      border-radius: 50%;\n",
       "      cursor: pointer;\n",
       "      display: none;\n",
       "      fill: #1967D2;\n",
       "      height: 32px;\n",
       "      padding: 0 0 0 0;\n",
       "      width: 32px;\n",
       "    }\n",
       "\n",
       "    .colab-df-convert:hover {\n",
       "      background-color: #E2EBFA;\n",
       "      box-shadow: 0px 1px 2px rgba(60, 64, 67, 0.3), 0px 1px 3px 1px rgba(60, 64, 67, 0.15);\n",
       "      fill: #174EA6;\n",
       "    }\n",
       "\n",
       "    [theme=dark] .colab-df-convert {\n",
       "      background-color: #3B4455;\n",
       "      fill: #D2E3FC;\n",
       "    }\n",
       "\n",
       "    [theme=dark] .colab-df-convert:hover {\n",
       "      background-color: #434B5C;\n",
       "      box-shadow: 0px 1px 3px 1px rgba(0, 0, 0, 0.15);\n",
       "      filter: drop-shadow(0px 1px 2px rgba(0, 0, 0, 0.3));\n",
       "      fill: #FFFFFF;\n",
       "    }\n",
       "  </style>\n",
       "\n",
       "      <script>\n",
       "        const buttonEl =\n",
       "          document.querySelector('#df-5cf10370-7f43-4fcb-8fff-0c383e8bb50e button.colab-df-convert');\n",
       "        buttonEl.style.display =\n",
       "          google.colab.kernel.accessAllowed ? 'block' : 'none';\n",
       "\n",
       "        async function convertToInteractive(key) {\n",
       "          const element = document.querySelector('#df-5cf10370-7f43-4fcb-8fff-0c383e8bb50e');\n",
       "          const dataTable =\n",
       "            await google.colab.kernel.invokeFunction('convertToInteractive',\n",
       "                                                     [key], {});\n",
       "          if (!dataTable) return;\n",
       "\n",
       "          const docLinkHtml = 'Like what you see? Visit the ' +\n",
       "            '<a target=\"_blank\" href=https://colab.research.google.com/notebooks/data_table.ipynb>data table notebook</a>'\n",
       "            + ' to learn more about interactive tables.';\n",
       "          element.innerHTML = '';\n",
       "          dataTable['output_type'] = 'display_data';\n",
       "          await google.colab.output.renderOutput(dataTable, element);\n",
       "          const docLink = document.createElement('div');\n",
       "          docLink.innerHTML = docLinkHtml;\n",
       "          element.appendChild(docLink);\n",
       "        }\n",
       "      </script>\n",
       "    </div>\n",
       "  </div>\n",
       "  "
      ],
      "text/plain": [
       "   total_paid\n",
       "0  193.758555\n",
       "1  196.204607\n",
       "2  194.891267\n",
       "3  214.736626\n",
       "4  188.739876\n",
       "5  185.179943\n",
       "6  184.300017"
      ]
     },
     "execution_count": 44,
     "metadata": {},
     "output_type": "execute_result"
    }
   ],
   "source": [
    "orders_qu.groupby([orders_qu[\"created_date\"].dt.weekday],as_index=False)[\"total_paid\"].mean()"
   ]
  },
  {
   "cell_type": "code",
   "execution_count": 45,
   "metadata": {
    "colab": {
     "base_uri": "https://localhost:8080/",
     "height": 269
    },
    "executionInfo": {
     "elapsed": 11,
     "status": "ok",
     "timestamp": 1670319975625,
     "user": {
      "displayName": "Hana Lacic",
      "userId": "03901848044717845615"
     },
     "user_tz": -60
    },
    "id": "O4EhhpKefu8Y",
    "outputId": "3a7d8fe2-aa67-4b69-ae2c-6918aa42fc9c"
   },
   "outputs": [
    {
     "data": {
      "text/html": [
       "\n",
       "  <div id=\"df-637d1c54-739e-4895-a526-d83d48f6a0c5\">\n",
       "    <div class=\"colab-df-container\">\n",
       "      <div>\n",
       "<style scoped>\n",
       "    .dataframe tbody tr th:only-of-type {\n",
       "        vertical-align: middle;\n",
       "    }\n",
       "\n",
       "    .dataframe tbody tr th {\n",
       "        vertical-align: top;\n",
       "    }\n",
       "\n",
       "    .dataframe thead th {\n",
       "        text-align: right;\n",
       "    }\n",
       "</style>\n",
       "<table border=\"1\" class=\"dataframe\">\n",
       "  <thead>\n",
       "    <tr style=\"text-align: right;\">\n",
       "      <th></th>\n",
       "      <th>total_paid</th>\n",
       "      <th>weekday</th>\n",
       "    </tr>\n",
       "  </thead>\n",
       "  <tbody>\n",
       "    <tr>\n",
       "      <th>0</th>\n",
       "      <td>193.758555</td>\n",
       "      <td>0</td>\n",
       "    </tr>\n",
       "    <tr>\n",
       "      <th>1</th>\n",
       "      <td>196.204607</td>\n",
       "      <td>1</td>\n",
       "    </tr>\n",
       "    <tr>\n",
       "      <th>2</th>\n",
       "      <td>194.891267</td>\n",
       "      <td>2</td>\n",
       "    </tr>\n",
       "    <tr>\n",
       "      <th>3</th>\n",
       "      <td>214.736626</td>\n",
       "      <td>3</td>\n",
       "    </tr>\n",
       "    <tr>\n",
       "      <th>4</th>\n",
       "      <td>188.739876</td>\n",
       "      <td>4</td>\n",
       "    </tr>\n",
       "    <tr>\n",
       "      <th>5</th>\n",
       "      <td>185.179943</td>\n",
       "      <td>5</td>\n",
       "    </tr>\n",
       "    <tr>\n",
       "      <th>6</th>\n",
       "      <td>184.300017</td>\n",
       "      <td>6</td>\n",
       "    </tr>\n",
       "  </tbody>\n",
       "</table>\n",
       "</div>\n",
       "      <button class=\"colab-df-convert\" onclick=\"convertToInteractive('df-637d1c54-739e-4895-a526-d83d48f6a0c5')\"\n",
       "              title=\"Convert this dataframe to an interactive table.\"\n",
       "              style=\"display:none;\">\n",
       "        \n",
       "  <svg xmlns=\"http://www.w3.org/2000/svg\" height=\"24px\"viewBox=\"0 0 24 24\"\n",
       "       width=\"24px\">\n",
       "    <path d=\"M0 0h24v24H0V0z\" fill=\"none\"/>\n",
       "    <path d=\"M18.56 5.44l.94 2.06.94-2.06 2.06-.94-2.06-.94-.94-2.06-.94 2.06-2.06.94zm-11 1L8.5 8.5l.94-2.06 2.06-.94-2.06-.94L8.5 2.5l-.94 2.06-2.06.94zm10 10l.94 2.06.94-2.06 2.06-.94-2.06-.94-.94-2.06-.94 2.06-2.06.94z\"/><path d=\"M17.41 7.96l-1.37-1.37c-.4-.4-.92-.59-1.43-.59-.52 0-1.04.2-1.43.59L10.3 9.45l-7.72 7.72c-.78.78-.78 2.05 0 2.83L4 21.41c.39.39.9.59 1.41.59.51 0 1.02-.2 1.41-.59l7.78-7.78 2.81-2.81c.8-.78.8-2.07 0-2.86zM5.41 20L4 18.59l7.72-7.72 1.47 1.35L5.41 20z\"/>\n",
       "  </svg>\n",
       "      </button>\n",
       "      \n",
       "  <style>\n",
       "    .colab-df-container {\n",
       "      display:flex;\n",
       "      flex-wrap:wrap;\n",
       "      gap: 12px;\n",
       "    }\n",
       "\n",
       "    .colab-df-convert {\n",
       "      background-color: #E8F0FE;\n",
       "      border: none;\n",
       "      border-radius: 50%;\n",
       "      cursor: pointer;\n",
       "      display: none;\n",
       "      fill: #1967D2;\n",
       "      height: 32px;\n",
       "      padding: 0 0 0 0;\n",
       "      width: 32px;\n",
       "    }\n",
       "\n",
       "    .colab-df-convert:hover {\n",
       "      background-color: #E2EBFA;\n",
       "      box-shadow: 0px 1px 2px rgba(60, 64, 67, 0.3), 0px 1px 3px 1px rgba(60, 64, 67, 0.15);\n",
       "      fill: #174EA6;\n",
       "    }\n",
       "\n",
       "    [theme=dark] .colab-df-convert {\n",
       "      background-color: #3B4455;\n",
       "      fill: #D2E3FC;\n",
       "    }\n",
       "\n",
       "    [theme=dark] .colab-df-convert:hover {\n",
       "      background-color: #434B5C;\n",
       "      box-shadow: 0px 1px 3px 1px rgba(0, 0, 0, 0.15);\n",
       "      filter: drop-shadow(0px 1px 2px rgba(0, 0, 0, 0.3));\n",
       "      fill: #FFFFFF;\n",
       "    }\n",
       "  </style>\n",
       "\n",
       "      <script>\n",
       "        const buttonEl =\n",
       "          document.querySelector('#df-637d1c54-739e-4895-a526-d83d48f6a0c5 button.colab-df-convert');\n",
       "        buttonEl.style.display =\n",
       "          google.colab.kernel.accessAllowed ? 'block' : 'none';\n",
       "\n",
       "        async function convertToInteractive(key) {\n",
       "          const element = document.querySelector('#df-637d1c54-739e-4895-a526-d83d48f6a0c5');\n",
       "          const dataTable =\n",
       "            await google.colab.kernel.invokeFunction('convertToInteractive',\n",
       "                                                     [key], {});\n",
       "          if (!dataTable) return;\n",
       "\n",
       "          const docLinkHtml = 'Like what you see? Visit the ' +\n",
       "            '<a target=\"_blank\" href=https://colab.research.google.com/notebooks/data_table.ipynb>data table notebook</a>'\n",
       "            + ' to learn more about interactive tables.';\n",
       "          element.innerHTML = '';\n",
       "          dataTable['output_type'] = 'display_data';\n",
       "          await google.colab.output.renderOutput(dataTable, element);\n",
       "          const docLink = document.createElement('div');\n",
       "          docLink.innerHTML = docLinkHtml;\n",
       "          element.appendChild(docLink);\n",
       "        }\n",
       "      </script>\n",
       "    </div>\n",
       "  </div>\n",
       "  "
      ],
      "text/plain": [
       "   total_paid  weekday\n",
       "0  193.758555        0\n",
       "1  196.204607        1\n",
       "2  194.891267        2\n",
       "3  214.736626        3\n",
       "4  188.739876        4\n",
       "5  185.179943        5\n",
       "6  184.300017        6"
      ]
     },
     "execution_count": 45,
     "metadata": {},
     "output_type": "execute_result"
    }
   ],
   "source": [
    "weekday_tp = orders_qu.groupby([orders_qu[\"created_date\"].dt.weekday],as_index=False)[\"total_paid\"].mean()\n",
    "weekday_tp['weekday'] = weekday_tp.index\n",
    "weekday_tp"
   ]
  },
  {
   "cell_type": "code",
   "execution_count": 46,
   "metadata": {
    "colab": {
     "base_uri": "https://localhost:8080/",
     "height": 386
    },
    "executionInfo": {
     "elapsed": 2176,
     "status": "ok",
     "timestamp": 1670320025144,
     "user": {
      "displayName": "Hana Lacic",
      "userId": "03901848044717845615"
     },
     "user_tz": -60
    },
    "id": "kauJJChu1FOy",
    "outputId": "915ed4a8-b7a0-4d30-f19d-16c78eda53d7"
   },
   "outputs": [
    {
     "data": {
      "text/plain": [
       "<seaborn.axisgrid.FacetGrid at 0x7f5021ffcdf0>"
      ]
     },
     "execution_count": 46,
     "metadata": {},
     "output_type": "execute_result"
    },
    {
     "data": {
      "image/png": "[encoded data removed]",
      "text/plain": [
       "<Figure size 360x360 with 1 Axes>"
      ]
     },
     "metadata": {
      "needs_background": "light"
     },
     "output_type": "display_data"
    }
   ],
   "source": [
    "sns.relplot(\n",
    "    data=weekday_tp, x=\"weekday\", y=\"total_paid\", kind=\"line\")"
   ]
  },
  {
   "cell_type": "markdown",
   "metadata": {
    "id": "MqVV9djCeZwE"
   },
   "source": [
    "## Challenge 4:\n",
    "Make a bar plot for the top 10 products sold in January 2017 & the top 10 products sold in January 2018."
   ]
  },
  {
   "cell_type": "code",
   "execution_count": 54,
   "metadata": {
    "colab": {
     "base_uri": "https://localhost:8080/",
     "height": 424
    },
    "executionInfo": {
     "elapsed": 370,
     "status": "ok",
     "timestamp": 1670320394687,
     "user": {
      "displayName": "Hana Lacic",
      "userId": "03901848044717845615"
     },
     "user_tz": -60
    },
    "id": "bQxeBrAE2npp",
    "outputId": "dbb20119-c80f-4193-9e41-be49d3da1372"
   },
   "outputs": [
    {
     "data": {
      "text/html": [
       "\n",
       "  <div id=\"df-1114cfb8-90e0-4954-a31c-acaf51c5f99f\">\n",
       "    <div class=\"colab-df-container\">\n",
       "      <div>\n",
       "<style scoped>\n",
       "    .dataframe tbody tr th:only-of-type {\n",
       "        vertical-align: middle;\n",
       "    }\n",
       "\n",
       "    .dataframe tbody tr th {\n",
       "        vertical-align: top;\n",
       "    }\n",
       "\n",
       "    .dataframe thead th {\n",
       "        text-align: right;\n",
       "    }\n",
       "</style>\n",
       "<table border=\"1\" class=\"dataframe\">\n",
       "  <thead>\n",
       "    <tr style=\"text-align: right;\">\n",
       "      <th></th>\n",
       "      <th>id</th>\n",
       "      <th>id_order</th>\n",
       "      <th>product_id</th>\n",
       "      <th>product_quantity</th>\n",
       "      <th>sku</th>\n",
       "      <th>unit_price</th>\n",
       "      <th>date</th>\n",
       "      <th>short</th>\n",
       "    </tr>\n",
       "  </thead>\n",
       "  <tbody>\n",
       "    <tr>\n",
       "      <th>0</th>\n",
       "      <td>1119116</td>\n",
       "      <td>299545</td>\n",
       "      <td>0</td>\n",
       "      <td>1</td>\n",
       "      <td>OWC0100</td>\n",
       "      <td>47.49</td>\n",
       "      <td>2017-01-01 01:46:16</td>\n",
       "      <td>OWC</td>\n",
       "    </tr>\n",
       "    <tr>\n",
       "      <th>1</th>\n",
       "      <td>1119119</td>\n",
       "      <td>299546</td>\n",
       "      <td>0</td>\n",
       "      <td>1</td>\n",
       "      <td>IOT0014</td>\n",
       "      <td>18.99</td>\n",
       "      <td>2017-01-01 01:50:34</td>\n",
       "      <td>IOT</td>\n",
       "    </tr>\n",
       "    <tr>\n",
       "      <th>2</th>\n",
       "      <td>1119120</td>\n",
       "      <td>295347</td>\n",
       "      <td>0</td>\n",
       "      <td>1</td>\n",
       "      <td>APP0700</td>\n",
       "      <td>72.19</td>\n",
       "      <td>2017-01-01 01:54:11</td>\n",
       "      <td>APP</td>\n",
       "    </tr>\n",
       "    <tr>\n",
       "      <th>3</th>\n",
       "      <td>1119134</td>\n",
       "      <td>299556</td>\n",
       "      <td>0</td>\n",
       "      <td>1</td>\n",
       "      <td>CRU0039-A</td>\n",
       "      <td>60.90</td>\n",
       "      <td>2017-01-01 02:20:14</td>\n",
       "      <td>CRU</td>\n",
       "    </tr>\n",
       "    <tr>\n",
       "      <th>4</th>\n",
       "      <td>1119145</td>\n",
       "      <td>299561</td>\n",
       "      <td>0</td>\n",
       "      <td>1</td>\n",
       "      <td>PEB0015</td>\n",
       "      <td>142.49</td>\n",
       "      <td>2017-01-01 02:38:50</td>\n",
       "      <td>PEB</td>\n",
       "    </tr>\n",
       "    <tr>\n",
       "      <th>...</th>\n",
       "      <td>...</td>\n",
       "      <td>...</td>\n",
       "      <td>...</td>\n",
       "      <td>...</td>\n",
       "      <td>...</td>\n",
       "      <td>...</td>\n",
       "      <td>...</td>\n",
       "      <td>...</td>\n",
       "    </tr>\n",
       "    <tr>\n",
       "      <th>53226</th>\n",
       "      <td>1649447</td>\n",
       "      <td>527035</td>\n",
       "      <td>0</td>\n",
       "      <td>1</td>\n",
       "      <td>APP0698</td>\n",
       "      <td>9.99</td>\n",
       "      <td>2018-03-14 11:42:41</td>\n",
       "      <td>APP</td>\n",
       "    </tr>\n",
       "    <tr>\n",
       "      <th>53227</th>\n",
       "      <td>1649512</td>\n",
       "      <td>527070</td>\n",
       "      <td>0</td>\n",
       "      <td>2</td>\n",
       "      <td>APP0698</td>\n",
       "      <td>9.99</td>\n",
       "      <td>2018-03-14 11:49:01</td>\n",
       "      <td>APP</td>\n",
       "    </tr>\n",
       "    <tr>\n",
       "      <th>53228</th>\n",
       "      <td>1649522</td>\n",
       "      <td>527074</td>\n",
       "      <td>0</td>\n",
       "      <td>2</td>\n",
       "      <td>APP0698</td>\n",
       "      <td>9.99</td>\n",
       "      <td>2018-03-14 11:49:36</td>\n",
       "      <td>APP</td>\n",
       "    </tr>\n",
       "    <tr>\n",
       "      <th>53229</th>\n",
       "      <td>1649565</td>\n",
       "      <td>527096</td>\n",
       "      <td>0</td>\n",
       "      <td>3</td>\n",
       "      <td>APP0698</td>\n",
       "      <td>9.99</td>\n",
       "      <td>2018-03-14 11:54:35</td>\n",
       "      <td>APP</td>\n",
       "    </tr>\n",
       "    <tr>\n",
       "      <th>53230</th>\n",
       "      <td>1649593</td>\n",
       "      <td>527112</td>\n",
       "      <td>0</td>\n",
       "      <td>1</td>\n",
       "      <td>APP0698</td>\n",
       "      <td>9.99</td>\n",
       "      <td>2018-03-14 11:58:13</td>\n",
       "      <td>APP</td>\n",
       "    </tr>\n",
       "  </tbody>\n",
       "</table>\n",
       "<p>53231 rows × 8 columns</p>\n",
       "</div>\n",
       "      <button class=\"colab-df-convert\" onclick=\"convertToInteractive('df-1114cfb8-90e0-4954-a31c-acaf51c5f99f')\"\n",
       "              title=\"Convert this dataframe to an interactive table.\"\n",
       "              style=\"display:none;\">\n",
       "        \n",
       "  <svg xmlns=\"http://www.w3.org/2000/svg\" height=\"24px\"viewBox=\"0 0 24 24\"\n",
       "       width=\"24px\">\n",
       "    <path d=\"M0 0h24v24H0V0z\" fill=\"none\"/>\n",
       "    <path d=\"M18.56 5.44l.94 2.06.94-2.06 2.06-.94-2.06-.94-.94-2.06-.94 2.06-2.06.94zm-11 1L8.5 8.5l.94-2.06 2.06-.94-2.06-.94L8.5 2.5l-.94 2.06-2.06.94zm10 10l.94 2.06.94-2.06 2.06-.94-2.06-.94-.94-2.06-.94 2.06-2.06.94z\"/><path d=\"M17.41 7.96l-1.37-1.37c-.4-.4-.92-.59-1.43-.59-.52 0-1.04.2-1.43.59L10.3 9.45l-7.72 7.72c-.78.78-.78 2.05 0 2.83L4 21.41c.39.39.9.59 1.41.59.51 0 1.02-.2 1.41-.59l7.78-7.78 2.81-2.81c.8-.78.8-2.07 0-2.86zM5.41 20L4 18.59l7.72-7.72 1.47 1.35L5.41 20z\"/>\n",
       "  </svg>\n",
       "      </button>\n",
       "      \n",
       "  <style>\n",
       "    .colab-df-container {\n",
       "      display:flex;\n",
       "      flex-wrap:wrap;\n",
       "      gap: 12px;\n",
       "    }\n",
       "\n",
       "    .colab-df-convert {\n",
       "      background-color: #E8F0FE;\n",
       "      border: none;\n",
       "      border-radius: 50%;\n",
       "      cursor: pointer;\n",
       "      display: none;\n",
       "      fill: #1967D2;\n",
       "      height: 32px;\n",
       "      padding: 0 0 0 0;\n",
       "      width: 32px;\n",
       "    }\n",
       "\n",
       "    .colab-df-convert:hover {\n",
       "      background-color: #E2EBFA;\n",
       "      box-shadow: 0px 1px 2px rgba(60, 64, 67, 0.3), 0px 1px 3px 1px rgba(60, 64, 67, 0.15);\n",
       "      fill: #174EA6;\n",
       "    }\n",
       "\n",
       "    [theme=dark] .colab-df-convert {\n",
       "      background-color: #3B4455;\n",
       "      fill: #D2E3FC;\n",
       "    }\n",
       "\n",
       "    [theme=dark] .colab-df-convert:hover {\n",
       "      background-color: #434B5C;\n",
       "      box-shadow: 0px 1px 3px 1px rgba(0, 0, 0, 0.15);\n",
       "      filter: drop-shadow(0px 1px 2px rgba(0, 0, 0, 0.3));\n",
       "      fill: #FFFFFF;\n",
       "    }\n",
       "  </style>\n",
       "\n",
       "      <script>\n",
       "        const buttonEl =\n",
       "          document.querySelector('#df-1114cfb8-90e0-4954-a31c-acaf51c5f99f button.colab-df-convert');\n",
       "        buttonEl.style.display =\n",
       "          google.colab.kernel.accessAllowed ? 'block' : 'none';\n",
       "\n",
       "        async function convertToInteractive(key) {\n",
       "          const element = document.querySelector('#df-1114cfb8-90e0-4954-a31c-acaf51c5f99f');\n",
       "          const dataTable =\n",
       "            await google.colab.kernel.invokeFunction('convertToInteractive',\n",
       "                                                     [key], {});\n",
       "          if (!dataTable) return;\n",
       "\n",
       "          const docLinkHtml = 'Like what you see? Visit the ' +\n",
       "            '<a target=\"_blank\" href=https://colab.research.google.com/notebooks/data_table.ipynb>data table notebook</a>'\n",
       "            + ' to learn more about interactive tables.';\n",
       "          element.innerHTML = '';\n",
       "          dataTable['output_type'] = 'display_data';\n",
       "          await google.colab.output.renderOutput(dataTable, element);\n",
       "          const docLink = document.createElement('div');\n",
       "          docLink.innerHTML = docLinkHtml;\n",
       "          element.appendChild(docLink);\n",
       "        }\n",
       "      </script>\n",
       "    </div>\n",
       "  </div>\n",
       "  "
      ],
      "text/plain": [
       "            id  id_order  product_id  product_quantity        sku  unit_price  \\\n",
       "0      1119116    299545           0                 1    OWC0100       47.49   \n",
       "1      1119119    299546           0                 1    IOT0014       18.99   \n",
       "2      1119120    295347           0                 1    APP0700       72.19   \n",
       "3      1119134    299556           0                 1  CRU0039-A       60.90   \n",
       "4      1119145    299561           0                 1    PEB0015      142.49   \n",
       "...        ...       ...         ...               ...        ...         ...   \n",
       "53226  1649447    527035           0                 1    APP0698        9.99   \n",
       "53227  1649512    527070           0                 2    APP0698        9.99   \n",
       "53228  1649522    527074           0                 2    APP0698        9.99   \n",
       "53229  1649565    527096           0                 3    APP0698        9.99   \n",
       "53230  1649593    527112           0                 1    APP0698        9.99   \n",
       "\n",
       "                      date short  \n",
       "0      2017-01-01 01:46:16   OWC  \n",
       "1      2017-01-01 01:50:34   IOT  \n",
       "2      2017-01-01 01:54:11   APP  \n",
       "3      2017-01-01 02:20:14   CRU  \n",
       "4      2017-01-01 02:38:50   PEB  \n",
       "...                    ...   ...  \n",
       "53226  2018-03-14 11:42:41   APP  \n",
       "53227  2018-03-14 11:49:01   APP  \n",
       "53228  2018-03-14 11:49:36   APP  \n",
       "53229  2018-03-14 11:54:35   APP  \n",
       "53230  2018-03-14 11:58:13   APP  \n",
       "\n",
       "[53231 rows x 8 columns]"
      ]
     },
     "execution_count": 54,
     "metadata": {},
     "output_type": "execute_result"
    }
   ],
   "source": [
    "ol_df"
   ]
  },
  {
   "cell_type": "code",
   "execution_count": 55,
   "metadata": {
    "colab": {
     "base_uri": "https://localhost:8080/"
    },
    "executionInfo": {
     "elapsed": 13,
     "status": "ok",
     "timestamp": 1670320450240,
     "user": {
      "displayName": "Hana Lacic",
      "userId": "03901848044717845615"
     },
     "user_tz": -60
    },
    "id": "k7CspXlp2ceS",
    "outputId": "77424b22-5109-4b88-ce42-4ada1225c52c"
   },
   "outputs": [
    {
     "data": {
      "text/plain": [
       "0        2017-01\n",
       "1        2017-01\n",
       "2        2017-01\n",
       "3        2017-01\n",
       "4        2017-01\n",
       "          ...   \n",
       "53226    2018-03\n",
       "53227    2018-03\n",
       "53228    2018-03\n",
       "53229    2018-03\n",
       "53230    2018-03\n",
       "Name: date, Length: 53231, dtype: period[M]"
      ]
     },
     "execution_count": 55,
     "metadata": {},
     "output_type": "execute_result"
    }
   ],
   "source": [
    "pd.to_datetime(orders_lines['date'], errors='coerce').dt.to_period('M')"
   ]
  },
  {
   "cell_type": "code",
   "execution_count": 52,
   "metadata": {
    "executionInfo": {
     "elapsed": 1308,
     "status": "ok",
     "timestamp": 1670320366268,
     "user": {
      "displayName": "Hana Lacic",
      "userId": "03901848044717845615"
     },
     "user_tz": -60
    },
    "id": "fgumTTWQ4WAI"
   },
   "outputs": [],
   "source": [
    "products_sold = products_cl.copy()\n",
    "\t\t\t\n",
    "orders_lines =ol_df.merge(products_sold, how=\"inner\", on=\"sku\")\n",
    "\n"
   ]
  },
  {
   "cell_type": "code",
   "execution_count": 56,
   "metadata": {
    "executionInfo": {
     "elapsed": 376,
     "status": "ok",
     "timestamp": 1670320467784,
     "user": {
      "displayName": "Hana Lacic",
      "userId": "03901848044717845615"
     },
     "user_tz": -60
    },
    "id": "XgZv8N_t2gxW"
   },
   "outputs": [],
   "source": [
    "orders_lines['month_year']=pd.to_datetime(orders_lines['date'], errors='coerce').dt.to_period('M')"
   ]
  },
  {
   "cell_type": "code",
   "execution_count": 74,
   "metadata": {
    "executionInfo": {
     "elapsed": 3,
     "status": "ok",
     "timestamp": 1670321094071,
     "user": {
      "displayName": "Hana Lacic",
      "userId": "03901848044717845615"
     },
     "user_tz": -60
    },
    "id": "ATkp2DQs5L9S"
   },
   "outputs": [],
   "source": [
    "orders_lines['year']= pd.to_datetime(orders_lines['date'], errors='coerce').dt.year"
   ]
  },
  {
   "cell_type": "code",
   "execution_count": 75,
   "metadata": {
    "colab": {
     "base_uri": "https://localhost:8080/",
     "height": 367
    },
    "executionInfo": {
     "elapsed": 14,
     "status": "ok",
     "timestamp": 1670321098974,
     "user": {
      "displayName": "Hana Lacic",
      "userId": "03901848044717845615"
     },
     "user_tz": -60
    },
    "id": "2SfGnT0028dz",
    "outputId": "bc8dd773-6a92-465e-afa9-78d474a47523"
   },
   "outputs": [
    {
     "data": {
      "text/html": [
       "\n",
       "  <div id=\"df-412a06f8-1e45-4927-ab43-47d029d7b4c2\">\n",
       "    <div class=\"colab-df-container\">\n",
       "      <div>\n",
       "<style scoped>\n",
       "    .dataframe tbody tr th:only-of-type {\n",
       "        vertical-align: middle;\n",
       "    }\n",
       "\n",
       "    .dataframe tbody tr th {\n",
       "        vertical-align: top;\n",
       "    }\n",
       "\n",
       "    .dataframe thead th {\n",
       "        text-align: right;\n",
       "    }\n",
       "</style>\n",
       "<table border=\"1\" class=\"dataframe\">\n",
       "  <thead>\n",
       "    <tr style=\"text-align: right;\">\n",
       "      <th></th>\n",
       "      <th>id</th>\n",
       "      <th>id_order</th>\n",
       "      <th>product_id</th>\n",
       "      <th>product_quantity</th>\n",
       "      <th>sku</th>\n",
       "      <th>unit_price</th>\n",
       "      <th>date</th>\n",
       "      <th>short</th>\n",
       "      <th>name</th>\n",
       "      <th>desc</th>\n",
       "      <th>price</th>\n",
       "      <th>in_stock</th>\n",
       "      <th>type</th>\n",
       "      <th>month_year</th>\n",
       "      <th>year</th>\n",
       "    </tr>\n",
       "  </thead>\n",
       "  <tbody>\n",
       "    <tr>\n",
       "      <th>51836</th>\n",
       "      <td>1534745</td>\n",
       "      <td>480687</td>\n",
       "      <td>0</td>\n",
       "      <td>1</td>\n",
       "      <td>TWS0124</td>\n",
       "      <td>115.99</td>\n",
       "      <td>2018-01-03 10:53:01</td>\n",
       "      <td>TWS</td>\n",
       "      <td>Twelve South HiRise based load Duet</td>\n",
       "      <td>Stand with Lightning connector and charger for...</td>\n",
       "      <td>129.99</td>\n",
       "      <td>1</td>\n",
       "      <td>13615399</td>\n",
       "      <td>2018-01</td>\n",
       "      <td>2018</td>\n",
       "    </tr>\n",
       "    <tr>\n",
       "      <th>43494</th>\n",
       "      <td>1578517</td>\n",
       "      <td>497701</td>\n",
       "      <td>0</td>\n",
       "      <td>1</td>\n",
       "      <td>MAT0008</td>\n",
       "      <td>124.00</td>\n",
       "      <td>2018-01-24 14:24:33</td>\n",
       "      <td>MAT</td>\n",
       "      <td>Backlit Keyboard Matias Bluetooth numerical Al...</td>\n",
       "      <td>Backlit Wireless Keyboard for iPad iPhone Alum...</td>\n",
       "      <td>169.99</td>\n",
       "      <td>0</td>\n",
       "      <td>5401</td>\n",
       "      <td>2018-01</td>\n",
       "      <td>2018</td>\n",
       "    </tr>\n",
       "  </tbody>\n",
       "</table>\n",
       "</div>\n",
       "      <button class=\"colab-df-convert\" onclick=\"convertToInteractive('df-412a06f8-1e45-4927-ab43-47d029d7b4c2')\"\n",
       "              title=\"Convert this dataframe to an interactive table.\"\n",
       "              style=\"display:none;\">\n",
       "        \n",
       "  <svg xmlns=\"http://www.w3.org/2000/svg\" height=\"24px\"viewBox=\"0 0 24 24\"\n",
       "       width=\"24px\">\n",
       "    <path d=\"M0 0h24v24H0V0z\" fill=\"none\"/>\n",
       "    <path d=\"M18.56 5.44l.94 2.06.94-2.06 2.06-.94-2.06-.94-.94-2.06-.94 2.06-2.06.94zm-11 1L8.5 8.5l.94-2.06 2.06-.94-2.06-.94L8.5 2.5l-.94 2.06-2.06.94zm10 10l.94 2.06.94-2.06 2.06-.94-2.06-.94-.94-2.06-.94 2.06-2.06.94z\"/><path d=\"M17.41 7.96l-1.37-1.37c-.4-.4-.92-.59-1.43-.59-.52 0-1.04.2-1.43.59L10.3 9.45l-7.72 7.72c-.78.78-.78 2.05 0 2.83L4 21.41c.39.39.9.59 1.41.59.51 0 1.02-.2 1.41-.59l7.78-7.78 2.81-2.81c.8-.78.8-2.07 0-2.86zM5.41 20L4 18.59l7.72-7.72 1.47 1.35L5.41 20z\"/>\n",
       "  </svg>\n",
       "      </button>\n",
       "      \n",
       "  <style>\n",
       "    .colab-df-container {\n",
       "      display:flex;\n",
       "      flex-wrap:wrap;\n",
       "      gap: 12px;\n",
       "    }\n",
       "\n",
       "    .colab-df-convert {\n",
       "      background-color: #E8F0FE;\n",
       "      border: none;\n",
       "      border-radius: 50%;\n",
       "      cursor: pointer;\n",
       "      display: none;\n",
       "      fill: #1967D2;\n",
       "      height: 32px;\n",
       "      padding: 0 0 0 0;\n",
       "      width: 32px;\n",
       "    }\n",
       "\n",
       "    .colab-df-convert:hover {\n",
       "      background-color: #E2EBFA;\n",
       "      box-shadow: 0px 1px 2px rgba(60, 64, 67, 0.3), 0px 1px 3px 1px rgba(60, 64, 67, 0.15);\n",
       "      fill: #174EA6;\n",
       "    }\n",
       "\n",
       "    [theme=dark] .colab-df-convert {\n",
       "      background-color: #3B4455;\n",
       "      fill: #D2E3FC;\n",
       "    }\n",
       "\n",
       "    [theme=dark] .colab-df-convert:hover {\n",
       "      background-color: #434B5C;\n",
       "      box-shadow: 0px 1px 3px 1px rgba(0, 0, 0, 0.15);\n",
       "      filter: drop-shadow(0px 1px 2px rgba(0, 0, 0, 0.3));\n",
       "      fill: #FFFFFF;\n",
       "    }\n",
       "  </style>\n",
       "\n",
       "      <script>\n",
       "        const buttonEl =\n",
       "          document.querySelector('#df-412a06f8-1e45-4927-ab43-47d029d7b4c2 button.colab-df-convert');\n",
       "        buttonEl.style.display =\n",
       "          google.colab.kernel.accessAllowed ? 'block' : 'none';\n",
       "\n",
       "        async function convertToInteractive(key) {\n",
       "          const element = document.querySelector('#df-412a06f8-1e45-4927-ab43-47d029d7b4c2');\n",
       "          const dataTable =\n",
       "            await google.colab.kernel.invokeFunction('convertToInteractive',\n",
       "                                                     [key], {});\n",
       "          if (!dataTable) return;\n",
       "\n",
       "          const docLinkHtml = 'Like what you see? Visit the ' +\n",
       "            '<a target=\"_blank\" href=https://colab.research.google.com/notebooks/data_table.ipynb>data table notebook</a>'\n",
       "            + ' to learn more about interactive tables.';\n",
       "          element.innerHTML = '';\n",
       "          dataTable['output_type'] = 'display_data';\n",
       "          await google.colab.output.renderOutput(dataTable, element);\n",
       "          const docLink = document.createElement('div');\n",
       "          docLink.innerHTML = docLinkHtml;\n",
       "          element.appendChild(docLink);\n",
       "        }\n",
       "      </script>\n",
       "    </div>\n",
       "  </div>\n",
       "  "
      ],
      "text/plain": [
       "            id  id_order  product_id  product_quantity      sku  unit_price  \\\n",
       "51836  1534745    480687           0                 1  TWS0124      115.99   \n",
       "43494  1578517    497701           0                 1  MAT0008      124.00   \n",
       "\n",
       "                      date short  \\\n",
       "51836  2018-01-03 10:53:01   TWS   \n",
       "43494  2018-01-24 14:24:33   MAT   \n",
       "\n",
       "                                                    name  \\\n",
       "51836                Twelve South HiRise based load Duet   \n",
       "43494  Backlit Keyboard Matias Bluetooth numerical Al...   \n",
       "\n",
       "                                                    desc   price  in_stock  \\\n",
       "51836  Stand with Lightning connector and charger for...  129.99         1   \n",
       "43494  Backlit Wireless Keyboard for iPad iPhone Alum...  169.99         0   \n",
       "\n",
       "           type month_year  year  \n",
       "51836  13615399    2018-01  2018  \n",
       "43494      5401    2018-01  2018  "
      ]
     },
     "execution_count": 75,
     "metadata": {},
     "output_type": "execute_result"
    }
   ],
   "source": [
    "orders_lines1 = orders_lines.loc[(orders_lines['month_year'] =='2017-01')|(orders_lines['month_year'] =='2018-01')]\n",
    "orders_lines1.sample(2)"
   ]
  },
  {
   "cell_type": "code",
   "execution_count": 76,
   "metadata": {
    "executionInfo": {
     "elapsed": 1470,
     "status": "ok",
     "timestamp": 1670321113531,
     "user": {
      "displayName": "Hana Lacic",
      "userId": "03901848044717845615"
     },
     "user_tz": -60
    },
    "id": "0dSoIBtE3Va9"
   },
   "outputs": [],
   "source": [
    "orders_linesnew = orders_lines1.groupby([\"sku\",\"month_year\"]).agg(price_sold=('price','sum')).nlargest(10,\"price_sold\").sort_values(by=[\"month_year\"]).reset_index()"
   ]
  },
  {
   "cell_type": "code",
   "execution_count": 79,
   "metadata": {
    "colab": {
     "base_uri": "https://localhost:8080/",
     "height": 363
    },
    "executionInfo": {
     "elapsed": 13,
     "status": "ok",
     "timestamp": 1670321271101,
     "user": {
      "displayName": "Hana Lacic",
      "userId": "03901848044717845615"
     },
     "user_tz": -60
    },
    "id": "AXtiIkVn34S4",
    "outputId": "926af5b9-1162-4e28-a005-de39b03eaf74"
   },
   "outputs": [
    {
     "data": {
      "text/html": [
       "\n",
       "  <div id=\"df-b237f811-2e23-4cfc-8f3b-e5097a3d3330\">\n",
       "    <div class=\"colab-df-container\">\n",
       "      <div>\n",
       "<style scoped>\n",
       "    .dataframe tbody tr th:only-of-type {\n",
       "        vertical-align: middle;\n",
       "    }\n",
       "\n",
       "    .dataframe tbody tr th {\n",
       "        vertical-align: top;\n",
       "    }\n",
       "\n",
       "    .dataframe thead th {\n",
       "        text-align: right;\n",
       "    }\n",
       "</style>\n",
       "<table border=\"1\" class=\"dataframe\">\n",
       "  <thead>\n",
       "    <tr style=\"text-align: right;\">\n",
       "      <th></th>\n",
       "      <th>sku</th>\n",
       "      <th>month_year</th>\n",
       "      <th>year</th>\n",
       "      <th>price_sold</th>\n",
       "    </tr>\n",
       "  </thead>\n",
       "  <tbody>\n",
       "    <tr>\n",
       "      <th>0</th>\n",
       "      <td>LGE0044</td>\n",
       "      <td>2017-01</td>\n",
       "      <td>2017</td>\n",
       "      <td>20366.00</td>\n",
       "    </tr>\n",
       "    <tr>\n",
       "      <th>1</th>\n",
       "      <td>WAC0090</td>\n",
       "      <td>2017-01</td>\n",
       "      <td>2017</td>\n",
       "      <td>12599.86</td>\n",
       "    </tr>\n",
       "    <tr>\n",
       "      <th>2</th>\n",
       "      <td>APP1489</td>\n",
       "      <td>2018-01</td>\n",
       "      <td>2018</td>\n",
       "      <td>18147.00</td>\n",
       "    </tr>\n",
       "    <tr>\n",
       "      <th>3</th>\n",
       "      <td>APP2485</td>\n",
       "      <td>2018-01</td>\n",
       "      <td>2018</td>\n",
       "      <td>16542.00</td>\n",
       "    </tr>\n",
       "    <tr>\n",
       "      <th>4</th>\n",
       "      <td>ZAG0032</td>\n",
       "      <td>2018-01</td>\n",
       "      <td>2018</td>\n",
       "      <td>16498.35</td>\n",
       "    </tr>\n",
       "    <tr>\n",
       "      <th>5</th>\n",
       "      <td>APP2483</td>\n",
       "      <td>2018-01</td>\n",
       "      <td>2018</td>\n",
       "      <td>13785.00</td>\n",
       "    </tr>\n",
       "    <tr>\n",
       "      <th>6</th>\n",
       "      <td>APP2477</td>\n",
       "      <td>2018-01</td>\n",
       "      <td>2018</td>\n",
       "      <td>12944.00</td>\n",
       "    </tr>\n",
       "    <tr>\n",
       "      <th>7</th>\n",
       "      <td>APP2479</td>\n",
       "      <td>2018-01</td>\n",
       "      <td>2018</td>\n",
       "      <td>12135.00</td>\n",
       "    </tr>\n",
       "    <tr>\n",
       "      <th>8</th>\n",
       "      <td>APP2478</td>\n",
       "      <td>2018-01</td>\n",
       "      <td>2018</td>\n",
       "      <td>10517.00</td>\n",
       "    </tr>\n",
       "    <tr>\n",
       "      <th>9</th>\n",
       "      <td>APP2072</td>\n",
       "      <td>2018-01</td>\n",
       "      <td>2018</td>\n",
       "      <td>9950.31</td>\n",
       "    </tr>\n",
       "  </tbody>\n",
       "</table>\n",
       "</div>\n",
       "      <button class=\"colab-df-convert\" onclick=\"convertToInteractive('df-b237f811-2e23-4cfc-8f3b-e5097a3d3330')\"\n",
       "              title=\"Convert this dataframe to an interactive table.\"\n",
       "              style=\"display:none;\">\n",
       "        \n",
       "  <svg xmlns=\"http://www.w3.org/2000/svg\" height=\"24px\"viewBox=\"0 0 24 24\"\n",
       "       width=\"24px\">\n",
       "    <path d=\"M0 0h24v24H0V0z\" fill=\"none\"/>\n",
       "    <path d=\"M18.56 5.44l.94 2.06.94-2.06 2.06-.94-2.06-.94-.94-2.06-.94 2.06-2.06.94zm-11 1L8.5 8.5l.94-2.06 2.06-.94-2.06-.94L8.5 2.5l-.94 2.06-2.06.94zm10 10l.94 2.06.94-2.06 2.06-.94-2.06-.94-.94-2.06-.94 2.06-2.06.94z\"/><path d=\"M17.41 7.96l-1.37-1.37c-.4-.4-.92-.59-1.43-.59-.52 0-1.04.2-1.43.59L10.3 9.45l-7.72 7.72c-.78.78-.78 2.05 0 2.83L4 21.41c.39.39.9.59 1.41.59.51 0 1.02-.2 1.41-.59l7.78-7.78 2.81-2.81c.8-.78.8-2.07 0-2.86zM5.41 20L4 18.59l7.72-7.72 1.47 1.35L5.41 20z\"/>\n",
       "  </svg>\n",
       "      </button>\n",
       "      \n",
       "  <style>\n",
       "    .colab-df-container {\n",
       "      display:flex;\n",
       "      flex-wrap:wrap;\n",
       "      gap: 12px;\n",
       "    }\n",
       "\n",
       "    .colab-df-convert {\n",
       "      background-color: #E8F0FE;\n",
       "      border: none;\n",
       "      border-radius: 50%;\n",
       "      cursor: pointer;\n",
       "      display: none;\n",
       "      fill: #1967D2;\n",
       "      height: 32px;\n",
       "      padding: 0 0 0 0;\n",
       "      width: 32px;\n",
       "    }\n",
       "\n",
       "    .colab-df-convert:hover {\n",
       "      background-color: #E2EBFA;\n",
       "      box-shadow: 0px 1px 2px rgba(60, 64, 67, 0.3), 0px 1px 3px 1px rgba(60, 64, 67, 0.15);\n",
       "      fill: #174EA6;\n",
       "    }\n",
       "\n",
       "    [theme=dark] .colab-df-convert {\n",
       "      background-color: #3B4455;\n",
       "      fill: #D2E3FC;\n",
       "    }\n",
       "\n",
       "    [theme=dark] .colab-df-convert:hover {\n",
       "      background-color: #434B5C;\n",
       "      box-shadow: 0px 1px 3px 1px rgba(0, 0, 0, 0.15);\n",
       "      filter: drop-shadow(0px 1px 2px rgba(0, 0, 0, 0.3));\n",
       "      fill: #FFFFFF;\n",
       "    }\n",
       "  </style>\n",
       "\n",
       "      <script>\n",
       "        const buttonEl =\n",
       "          document.querySelector('#df-b237f811-2e23-4cfc-8f3b-e5097a3d3330 button.colab-df-convert');\n",
       "        buttonEl.style.display =\n",
       "          google.colab.kernel.accessAllowed ? 'block' : 'none';\n",
       "\n",
       "        async function convertToInteractive(key) {\n",
       "          const element = document.querySelector('#df-b237f811-2e23-4cfc-8f3b-e5097a3d3330');\n",
       "          const dataTable =\n",
       "            await google.colab.kernel.invokeFunction('convertToInteractive',\n",
       "                                                     [key], {});\n",
       "          if (!dataTable) return;\n",
       "\n",
       "          const docLinkHtml = 'Like what you see? Visit the ' +\n",
       "            '<a target=\"_blank\" href=https://colab.research.google.com/notebooks/data_table.ipynb>data table notebook</a>'\n",
       "            + ' to learn more about interactive tables.';\n",
       "          element.innerHTML = '';\n",
       "          dataTable['output_type'] = 'display_data';\n",
       "          await google.colab.output.renderOutput(dataTable, element);\n",
       "          const docLink = document.createElement('div');\n",
       "          docLink.innerHTML = docLinkHtml;\n",
       "          element.appendChild(docLink);\n",
       "        }\n",
       "      </script>\n",
       "    </div>\n",
       "  </div>\n",
       "  "
      ],
      "text/plain": [
       "       sku month_year  year  price_sold\n",
       "0  LGE0044    2017-01  2017    20366.00\n",
       "1  WAC0090    2017-01  2017    12599.86\n",
       "2  APP1489    2018-01  2018    18147.00\n",
       "3  APP2485    2018-01  2018    16542.00\n",
       "4  ZAG0032    2018-01  2018    16498.35\n",
       "5  APP2483    2018-01  2018    13785.00\n",
       "6  APP2477    2018-01  2018    12944.00\n",
       "7  APP2479    2018-01  2018    12135.00\n",
       "8  APP2478    2018-01  2018    10517.00\n",
       "9  APP2072    2018-01  2018     9950.31"
      ]
     },
     "execution_count": 79,
     "metadata": {},
     "output_type": "execute_result"
    }
   ],
   "source": [
    "orders_linesnew"
   ]
  },
  {
   "cell_type": "code",
   "execution_count": 71,
   "metadata": {
    "colab": {
     "base_uri": "https://localhost:8080/",
     "height": 297
    },
    "executionInfo": {
     "elapsed": 2051,
     "status": "ok",
     "timestamp": 1670320863679,
     "user": {
      "displayName": "Hana Lacic",
      "userId": "03901848044717845615"
     },
     "user_tz": -60
    },
    "id": "kNk_ukkl3s53",
    "outputId": "5b63f911-36b2-4a16-abb1-e4ff2643ba9a"
   },
   "outputs": [
    {
     "data": {
      "text/plain": [
       "<matplotlib.axes._subplots.AxesSubplot at 0x7f5024609370>"
      ]
     },
     "execution_count": 71,
     "metadata": {},
     "output_type": "execute_result"
    },
    {
     "data": {
      "image/png": "[encoded data removed]",
      "text/plain": [
       "<Figure size 432x288 with 1 Axes>"
      ]
     },
     "metadata": {
      "needs_background": "light"
     },
     "output_type": "display_data"
    }
   ],
   "source": [
    "sns.barplot(data=orders_linesnew,y='sku',x='price_sold',hue='month_year')"
   ]
  },
  {
   "cell_type": "code",
   "execution_count": 80,
   "metadata": {
    "executionInfo": {
     "elapsed": 369,
     "status": "ok",
     "timestamp": 1670321334869,
     "user": {
      "displayName": "Hana Lacic",
      "userId": "03901848044717845615"
     },
     "user_tz": -60
    },
    "id": "VePFe61z51A4"
   },
   "outputs": [],
   "source": [
    "ol_cp = orderlines_qu\n",
    "ol_cp[\"date\"] = pd.to_datetime(ol_cp['date'])"
   ]
  },
  {
   "cell_type": "code",
   "execution_count": 81,
   "metadata": {
    "colab": {
     "base_uri": "https://localhost:8080/",
     "height": 424
    },
    "executionInfo": {
     "elapsed": 1211,
     "status": "ok",
     "timestamp": 1670321379857,
     "user": {
      "displayName": "Hana Lacic",
      "userId": "03901848044717845615"
     },
     "user_tz": -60
    },
    "id": "4MphVO2t6O9U",
    "outputId": "41b0a35b-6b11-4752-b0ee-7cdb5df2116a"
   },
   "outputs": [
    {
     "data": {
      "text/html": [
       "\n",
       "  <div id=\"df-8a5174bc-5177-4e5b-8ca9-0f83d4bbb8fb\">\n",
       "    <div class=\"colab-df-container\">\n",
       "      <div>\n",
       "<style scoped>\n",
       "    .dataframe tbody tr th:only-of-type {\n",
       "        vertical-align: middle;\n",
       "    }\n",
       "\n",
       "    .dataframe tbody tr th {\n",
       "        vertical-align: top;\n",
       "    }\n",
       "\n",
       "    .dataframe thead th {\n",
       "        text-align: right;\n",
       "    }\n",
       "</style>\n",
       "<table border=\"1\" class=\"dataframe\">\n",
       "  <thead>\n",
       "    <tr style=\"text-align: right;\">\n",
       "      <th></th>\n",
       "      <th>id</th>\n",
       "      <th>id_order</th>\n",
       "      <th>product_id</th>\n",
       "      <th>product_quantity</th>\n",
       "      <th>sku</th>\n",
       "      <th>unit_price</th>\n",
       "      <th>date</th>\n",
       "    </tr>\n",
       "  </thead>\n",
       "  <tbody>\n",
       "    <tr>\n",
       "      <th>0</th>\n",
       "      <td>1119116</td>\n",
       "      <td>299545</td>\n",
       "      <td>0</td>\n",
       "      <td>1</td>\n",
       "      <td>OWC0100</td>\n",
       "      <td>47.49</td>\n",
       "      <td>2017-01-01 01:46:16</td>\n",
       "    </tr>\n",
       "    <tr>\n",
       "      <th>1</th>\n",
       "      <td>1119119</td>\n",
       "      <td>299546</td>\n",
       "      <td>0</td>\n",
       "      <td>1</td>\n",
       "      <td>IOT0014</td>\n",
       "      <td>18.99</td>\n",
       "      <td>2017-01-01 01:50:34</td>\n",
       "    </tr>\n",
       "    <tr>\n",
       "      <th>2</th>\n",
       "      <td>1119120</td>\n",
       "      <td>295347</td>\n",
       "      <td>0</td>\n",
       "      <td>1</td>\n",
       "      <td>APP0700</td>\n",
       "      <td>72.19</td>\n",
       "      <td>2017-01-01 01:54:11</td>\n",
       "    </tr>\n",
       "    <tr>\n",
       "      <th>3</th>\n",
       "      <td>1119134</td>\n",
       "      <td>299556</td>\n",
       "      <td>0</td>\n",
       "      <td>1</td>\n",
       "      <td>CRU0039-A</td>\n",
       "      <td>60.90</td>\n",
       "      <td>2017-01-01 02:20:14</td>\n",
       "    </tr>\n",
       "    <tr>\n",
       "      <th>4</th>\n",
       "      <td>1119145</td>\n",
       "      <td>299561</td>\n",
       "      <td>0</td>\n",
       "      <td>1</td>\n",
       "      <td>PEB0015</td>\n",
       "      <td>142.49</td>\n",
       "      <td>2017-01-01 02:38:50</td>\n",
       "    </tr>\n",
       "    <tr>\n",
       "      <th>...</th>\n",
       "      <td>...</td>\n",
       "      <td>...</td>\n",
       "      <td>...</td>\n",
       "      <td>...</td>\n",
       "      <td>...</td>\n",
       "      <td>...</td>\n",
       "      <td>...</td>\n",
       "    </tr>\n",
       "    <tr>\n",
       "      <th>47864</th>\n",
       "      <td>1593947</td>\n",
       "      <td>503440</td>\n",
       "      <td>0</td>\n",
       "      <td>1</td>\n",
       "      <td>ZAG0034</td>\n",
       "      <td>8.99</td>\n",
       "      <td>2018-01-31 23:55:51</td>\n",
       "    </tr>\n",
       "    <tr>\n",
       "      <th>47865</th>\n",
       "      <td>1593948</td>\n",
       "      <td>503441</td>\n",
       "      <td>0</td>\n",
       "      <td>1</td>\n",
       "      <td>WDT0318</td>\n",
       "      <td>249.99</td>\n",
       "      <td>2018-01-31 23:55:54</td>\n",
       "    </tr>\n",
       "    <tr>\n",
       "      <th>47866</th>\n",
       "      <td>1593956</td>\n",
       "      <td>503440</td>\n",
       "      <td>0</td>\n",
       "      <td>1</td>\n",
       "      <td>JMO0066</td>\n",
       "      <td>9.99</td>\n",
       "      <td>2018-01-31 23:57:00</td>\n",
       "    </tr>\n",
       "    <tr>\n",
       "      <th>47867</th>\n",
       "      <td>1593958</td>\n",
       "      <td>503440</td>\n",
       "      <td>0</td>\n",
       "      <td>1</td>\n",
       "      <td>MOX0019</td>\n",
       "      <td>3.71</td>\n",
       "      <td>2018-01-31 23:57:20</td>\n",
       "    </tr>\n",
       "    <tr>\n",
       "      <th>47868</th>\n",
       "      <td>1593965</td>\n",
       "      <td>503440</td>\n",
       "      <td>0</td>\n",
       "      <td>1</td>\n",
       "      <td>SAT0034</td>\n",
       "      <td>26.99</td>\n",
       "      <td>2018-01-31 23:58:27</td>\n",
       "    </tr>\n",
       "  </tbody>\n",
       "</table>\n",
       "<p>11913 rows × 7 columns</p>\n",
       "</div>\n",
       "      <button class=\"colab-df-convert\" onclick=\"convertToInteractive('df-8a5174bc-5177-4e5b-8ca9-0f83d4bbb8fb')\"\n",
       "              title=\"Convert this dataframe to an interactive table.\"\n",
       "              style=\"display:none;\">\n",
       "        \n",
       "  <svg xmlns=\"http://www.w3.org/2000/svg\" height=\"24px\"viewBox=\"0 0 24 24\"\n",
       "       width=\"24px\">\n",
       "    <path d=\"M0 0h24v24H0V0z\" fill=\"none\"/>\n",
       "    <path d=\"M18.56 5.44l.94 2.06.94-2.06 2.06-.94-2.06-.94-.94-2.06-.94 2.06-2.06.94zm-11 1L8.5 8.5l.94-2.06 2.06-.94-2.06-.94L8.5 2.5l-.94 2.06-2.06.94zm10 10l.94 2.06.94-2.06 2.06-.94-2.06-.94-.94-2.06-.94 2.06-2.06.94z\"/><path d=\"M17.41 7.96l-1.37-1.37c-.4-.4-.92-.59-1.43-.59-.52 0-1.04.2-1.43.59L10.3 9.45l-7.72 7.72c-.78.78-.78 2.05 0 2.83L4 21.41c.39.39.9.59 1.41.59.51 0 1.02-.2 1.41-.59l7.78-7.78 2.81-2.81c.8-.78.8-2.07 0-2.86zM5.41 20L4 18.59l7.72-7.72 1.47 1.35L5.41 20z\"/>\n",
       "  </svg>\n",
       "      </button>\n",
       "      \n",
       "  <style>\n",
       "    .colab-df-container {\n",
       "      display:flex;\n",
       "      flex-wrap:wrap;\n",
       "      gap: 12px;\n",
       "    }\n",
       "\n",
       "    .colab-df-convert {\n",
       "      background-color: #E8F0FE;\n",
       "      border: none;\n",
       "      border-radius: 50%;\n",
       "      cursor: pointer;\n",
       "      display: none;\n",
       "      fill: #1967D2;\n",
       "      height: 32px;\n",
       "      padding: 0 0 0 0;\n",
       "      width: 32px;\n",
       "    }\n",
       "\n",
       "    .colab-df-convert:hover {\n",
       "      background-color: #E2EBFA;\n",
       "      box-shadow: 0px 1px 2px rgba(60, 64, 67, 0.3), 0px 1px 3px 1px rgba(60, 64, 67, 0.15);\n",
       "      fill: #174EA6;\n",
       "    }\n",
       "\n",
       "    [theme=dark] .colab-df-convert {\n",
       "      background-color: #3B4455;\n",
       "      fill: #D2E3FC;\n",
       "    }\n",
       "\n",
       "    [theme=dark] .colab-df-convert:hover {\n",
       "      background-color: #434B5C;\n",
       "      box-shadow: 0px 1px 3px 1px rgba(0, 0, 0, 0.15);\n",
       "      filter: drop-shadow(0px 1px 2px rgba(0, 0, 0, 0.3));\n",
       "      fill: #FFFFFF;\n",
       "    }\n",
       "  </style>\n",
       "\n",
       "      <script>\n",
       "        const buttonEl =\n",
       "          document.querySelector('#df-8a5174bc-5177-4e5b-8ca9-0f83d4bbb8fb button.colab-df-convert');\n",
       "        buttonEl.style.display =\n",
       "          google.colab.kernel.accessAllowed ? 'block' : 'none';\n",
       "\n",
       "        async function convertToInteractive(key) {\n",
       "          const element = document.querySelector('#df-8a5174bc-5177-4e5b-8ca9-0f83d4bbb8fb');\n",
       "          const dataTable =\n",
       "            await google.colab.kernel.invokeFunction('convertToInteractive',\n",
       "                                                     [key], {});\n",
       "          if (!dataTable) return;\n",
       "\n",
       "          const docLinkHtml = 'Like what you see? Visit the ' +\n",
       "            '<a target=\"_blank\" href=https://colab.research.google.com/notebooks/data_table.ipynb>data table notebook</a>'\n",
       "            + ' to learn more about interactive tables.';\n",
       "          element.innerHTML = '';\n",
       "          dataTable['output_type'] = 'display_data';\n",
       "          await google.colab.output.renderOutput(dataTable, element);\n",
       "          const docLink = document.createElement('div');\n",
       "          docLink.innerHTML = docLinkHtml;\n",
       "          element.appendChild(docLink);\n",
       "        }\n",
       "      </script>\n",
       "    </div>\n",
       "  </div>\n",
       "  "
      ],
      "text/plain": [
       "            id  id_order  product_id  product_quantity        sku  unit_price  \\\n",
       "0      1119116    299545           0                 1    OWC0100       47.49   \n",
       "1      1119119    299546           0                 1    IOT0014       18.99   \n",
       "2      1119120    295347           0                 1    APP0700       72.19   \n",
       "3      1119134    299556           0                 1  CRU0039-A       60.90   \n",
       "4      1119145    299561           0                 1    PEB0015      142.49   \n",
       "...        ...       ...         ...               ...        ...         ...   \n",
       "47864  1593947    503440           0                 1    ZAG0034        8.99   \n",
       "47865  1593948    503441           0                 1    WDT0318      249.99   \n",
       "47866  1593956    503440           0                 1    JMO0066        9.99   \n",
       "47867  1593958    503440           0                 1    MOX0019        3.71   \n",
       "47868  1593965    503440           0                 1    SAT0034       26.99   \n",
       "\n",
       "                     date  \n",
       "0     2017-01-01 01:46:16  \n",
       "1     2017-01-01 01:50:34  \n",
       "2     2017-01-01 01:54:11  \n",
       "3     2017-01-01 02:20:14  \n",
       "4     2017-01-01 02:38:50  \n",
       "...                   ...  \n",
       "47864 2018-01-31 23:55:51  \n",
       "47865 2018-01-31 23:55:54  \n",
       "47866 2018-01-31 23:57:00  \n",
       "47867 2018-01-31 23:57:20  \n",
       "47868 2018-01-31 23:58:27  \n",
       "\n",
       "[11913 rows x 7 columns]"
      ]
     },
     "execution_count": 81,
     "metadata": {},
     "output_type": "execute_result"
    }
   ],
   "source": [
    "jan = ol_cp.loc[ol_cp['date'].dt.month == 1, :].copy()\n",
    "jan"
   ]
  },
  {
   "cell_type": "code",
   "execution_count": 82,
   "metadata": {
    "executionInfo": {
     "elapsed": 341,
     "status": "ok",
     "timestamp": 1670321418538,
     "user": {
      "displayName": "Hana Lacic",
      "userId": "03901848044717845615"
     },
     "user_tz": -60
    },
    "id": "4AaQBa926bPq"
   },
   "outputs": [],
   "source": [
    "jan['year'] = jan['date'].dt.year"
   ]
  },
  {
   "cell_type": "code",
   "execution_count": 86,
   "metadata": {
    "colab": {
     "base_uri": "https://localhost:8080/",
     "height": 676
    },
    "executionInfo": {
     "elapsed": 16,
     "status": "ok",
     "timestamp": 1670321604866,
     "user": {
      "displayName": "Hana Lacic",
      "userId": "03901848044717845615"
     },
     "user_tz": -60
    },
    "id": "34_8ffEk6k0R",
    "outputId": "047d3cb4-7949-43e0-d51d-8beaa05a63ff"
   },
   "outputs": [
    {
     "data": {
      "text/html": [
       "\n",
       "  <div id=\"df-710dcb47-d945-421d-8994-21088abb8c75\">\n",
       "    <div class=\"colab-df-container\">\n",
       "      <div>\n",
       "<style scoped>\n",
       "    .dataframe tbody tr th:only-of-type {\n",
       "        vertical-align: middle;\n",
       "    }\n",
       "\n",
       "    .dataframe tbody tr th {\n",
       "        vertical-align: top;\n",
       "    }\n",
       "\n",
       "    .dataframe thead th {\n",
       "        text-align: right;\n",
       "    }\n",
       "</style>\n",
       "<table border=\"1\" class=\"dataframe\">\n",
       "  <thead>\n",
       "    <tr style=\"text-align: right;\">\n",
       "      <th></th>\n",
       "      <th>year</th>\n",
       "      <th>sku</th>\n",
       "      <th>product_quantity</th>\n",
       "    </tr>\n",
       "  </thead>\n",
       "  <tbody>\n",
       "    <tr>\n",
       "      <th>3536</th>\n",
       "      <td>2018</td>\n",
       "      <td>ZAG0032</td>\n",
       "      <td>176</td>\n",
       "    </tr>\n",
       "    <tr>\n",
       "      <th>1858</th>\n",
       "      <td>2018</td>\n",
       "      <td>APP1190</td>\n",
       "      <td>112</td>\n",
       "    </tr>\n",
       "    <tr>\n",
       "      <th>2612</th>\n",
       "      <td>2018</td>\n",
       "      <td>MAT0010</td>\n",
       "      <td>103</td>\n",
       "    </tr>\n",
       "    <tr>\n",
       "      <th>3464</th>\n",
       "      <td>2018</td>\n",
       "      <td>WDT0183</td>\n",
       "      <td>89</td>\n",
       "    </tr>\n",
       "    <tr>\n",
       "      <th>2075</th>\n",
       "      <td>2018</td>\n",
       "      <td>BEL0270</td>\n",
       "      <td>61</td>\n",
       "    </tr>\n",
       "    <tr>\n",
       "      <th>1821</th>\n",
       "      <td>2018</td>\n",
       "      <td>APP0698</td>\n",
       "      <td>58</td>\n",
       "    </tr>\n",
       "    <tr>\n",
       "      <th>3254</th>\n",
       "      <td>2018</td>\n",
       "      <td>STA0016</td>\n",
       "      <td>56</td>\n",
       "    </tr>\n",
       "    <tr>\n",
       "      <th>3079</th>\n",
       "      <td>2018</td>\n",
       "      <td>SAM0074</td>\n",
       "      <td>50</td>\n",
       "    </tr>\n",
       "    <tr>\n",
       "      <th>2110</th>\n",
       "      <td>2018</td>\n",
       "      <td>BEL0371</td>\n",
       "      <td>49</td>\n",
       "    </tr>\n",
       "    <tr>\n",
       "      <th>2480</th>\n",
       "      <td>2018</td>\n",
       "      <td>KOO0007</td>\n",
       "      <td>42</td>\n",
       "    </tr>\n",
       "    <tr>\n",
       "      <th>55</th>\n",
       "      <td>2017</td>\n",
       "      <td>APP0698</td>\n",
       "      <td>208</td>\n",
       "    </tr>\n",
       "    <tr>\n",
       "      <th>207</th>\n",
       "      <td>2017</td>\n",
       "      <td>BEL0198</td>\n",
       "      <td>138</td>\n",
       "    </tr>\n",
       "    <tr>\n",
       "      <th>560</th>\n",
       "      <td>2017</td>\n",
       "      <td>JAW0048</td>\n",
       "      <td>117</td>\n",
       "    </tr>\n",
       "    <tr>\n",
       "      <th>66</th>\n",
       "      <td>2017</td>\n",
       "      <td>APP0927</td>\n",
       "      <td>113</td>\n",
       "    </tr>\n",
       "    <tr>\n",
       "      <th>99</th>\n",
       "      <td>2017</td>\n",
       "      <td>APP1190</td>\n",
       "      <td>81</td>\n",
       "    </tr>\n",
       "    <tr>\n",
       "      <th>559</th>\n",
       "      <td>2017</td>\n",
       "      <td>JAW0040</td>\n",
       "      <td>62</td>\n",
       "    </tr>\n",
       "    <tr>\n",
       "      <th>702</th>\n",
       "      <td>2017</td>\n",
       "      <td>LEX0026</td>\n",
       "      <td>59</td>\n",
       "    </tr>\n",
       "    <tr>\n",
       "      <th>614</th>\n",
       "      <td>2017</td>\n",
       "      <td>KIN0072</td>\n",
       "      <td>53</td>\n",
       "    </tr>\n",
       "    <tr>\n",
       "      <th>1605</th>\n",
       "      <td>2017</td>\n",
       "      <td>WAC0171</td>\n",
       "      <td>51</td>\n",
       "    </tr>\n",
       "    <tr>\n",
       "      <th>487</th>\n",
       "      <td>2017</td>\n",
       "      <td>IFX0022</td>\n",
       "      <td>50</td>\n",
       "    </tr>\n",
       "  </tbody>\n",
       "</table>\n",
       "</div>\n",
       "      <button class=\"colab-df-convert\" onclick=\"convertToInteractive('df-710dcb47-d945-421d-8994-21088abb8c75')\"\n",
       "              title=\"Convert this dataframe to an interactive table.\"\n",
       "              style=\"display:none;\">\n",
       "        \n",
       "  <svg xmlns=\"http://www.w3.org/2000/svg\" height=\"24px\"viewBox=\"0 0 24 24\"\n",
       "       width=\"24px\">\n",
       "    <path d=\"M0 0h24v24H0V0z\" fill=\"none\"/>\n",
       "    <path d=\"M18.56 5.44l.94 2.06.94-2.06 2.06-.94-2.06-.94-.94-2.06-.94 2.06-2.06.94zm-11 1L8.5 8.5l.94-2.06 2.06-.94-2.06-.94L8.5 2.5l-.94 2.06-2.06.94zm10 10l.94 2.06.94-2.06 2.06-.94-2.06-.94-.94-2.06-.94 2.06-2.06.94z\"/><path d=\"M17.41 7.96l-1.37-1.37c-.4-.4-.92-.59-1.43-.59-.52 0-1.04.2-1.43.59L10.3 9.45l-7.72 7.72c-.78.78-.78 2.05 0 2.83L4 21.41c.39.39.9.59 1.41.59.51 0 1.02-.2 1.41-.59l7.78-7.78 2.81-2.81c.8-.78.8-2.07 0-2.86zM5.41 20L4 18.59l7.72-7.72 1.47 1.35L5.41 20z\"/>\n",
       "  </svg>\n",
       "      </button>\n",
       "      \n",
       "  <style>\n",
       "    .colab-df-container {\n",
       "      display:flex;\n",
       "      flex-wrap:wrap;\n",
       "      gap: 12px;\n",
       "    }\n",
       "\n",
       "    .colab-df-convert {\n",
       "      background-color: #E8F0FE;\n",
       "      border: none;\n",
       "      border-radius: 50%;\n",
       "      cursor: pointer;\n",
       "      display: none;\n",
       "      fill: #1967D2;\n",
       "      height: 32px;\n",
       "      padding: 0 0 0 0;\n",
       "      width: 32px;\n",
       "    }\n",
       "\n",
       "    .colab-df-convert:hover {\n",
       "      background-color: #E2EBFA;\n",
       "      box-shadow: 0px 1px 2px rgba(60, 64, 67, 0.3), 0px 1px 3px 1px rgba(60, 64, 67, 0.15);\n",
       "      fill: #174EA6;\n",
       "    }\n",
       "\n",
       "    [theme=dark] .colab-df-convert {\n",
       "      background-color: #3B4455;\n",
       "      fill: #D2E3FC;\n",
       "    }\n",
       "\n",
       "    [theme=dark] .colab-df-convert:hover {\n",
       "      background-color: #434B5C;\n",
       "      box-shadow: 0px 1px 3px 1px rgba(0, 0, 0, 0.15);\n",
       "      filter: drop-shadow(0px 1px 2px rgba(0, 0, 0, 0.3));\n",
       "      fill: #FFFFFF;\n",
       "    }\n",
       "  </style>\n",
       "\n",
       "      <script>\n",
       "        const buttonEl =\n",
       "          document.querySelector('#df-710dcb47-d945-421d-8994-21088abb8c75 button.colab-df-convert');\n",
       "        buttonEl.style.display =\n",
       "          google.colab.kernel.accessAllowed ? 'block' : 'none';\n",
       "\n",
       "        async function convertToInteractive(key) {\n",
       "          const element = document.querySelector('#df-710dcb47-d945-421d-8994-21088abb8c75');\n",
       "          const dataTable =\n",
       "            await google.colab.kernel.invokeFunction('convertToInteractive',\n",
       "                                                     [key], {});\n",
       "          if (!dataTable) return;\n",
       "\n",
       "          const docLinkHtml = 'Like what you see? Visit the ' +\n",
       "            '<a target=\"_blank\" href=https://colab.research.google.com/notebooks/data_table.ipynb>data table notebook</a>'\n",
       "            + ' to learn more about interactive tables.';\n",
       "          element.innerHTML = '';\n",
       "          dataTable['output_type'] = 'display_data';\n",
       "          await google.colab.output.renderOutput(dataTable, element);\n",
       "          const docLink = document.createElement('div');\n",
       "          docLink.innerHTML = docLinkHtml;\n",
       "          element.appendChild(docLink);\n",
       "        }\n",
       "      </script>\n",
       "    </div>\n",
       "  </div>\n",
       "  "
      ],
      "text/plain": [
       "      year      sku  product_quantity\n",
       "3536  2018  ZAG0032               176\n",
       "1858  2018  APP1190               112\n",
       "2612  2018  MAT0010               103\n",
       "3464  2018  WDT0183                89\n",
       "2075  2018  BEL0270                61\n",
       "1821  2018  APP0698                58\n",
       "3254  2018  STA0016                56\n",
       "3079  2018  SAM0074                50\n",
       "2110  2018  BEL0371                49\n",
       "2480  2018  KOO0007                42\n",
       "55    2017  APP0698               208\n",
       "207   2017  BEL0198               138\n",
       "560   2017  JAW0048               117\n",
       "66    2017  APP0927               113\n",
       "99    2017  APP1190                81\n",
       "559   2017  JAW0040                62\n",
       "702   2017  LEX0026                59\n",
       "614   2017  KIN0072                53\n",
       "1605  2017  WAC0171                51\n",
       "487   2017  IFX0022                50"
      ]
     },
     "execution_count": 86,
     "metadata": {},
     "output_type": "execute_result"
    }
   ],
   "source": [
    "top_10 = (\n",
    "          jan.groupby(['year','sku'],as_index=False)['product_quantity'].sum()\n",
    "          .sort_values(by=[\"year\",\"product_quantity\"],ascending=False)\n",
    "          .groupby('year').head(10)\n",
    ")\n",
    "top_10"
   ]
  },
  {
   "cell_type": "code",
   "execution_count": 93,
   "metadata": {
    "colab": {
     "base_uri": "https://localhost:8080/",
     "height": 386
    },
    "executionInfo": {
     "elapsed": 2066,
     "status": "ok",
     "timestamp": 1670321804347,
     "user": {
      "displayName": "Hana Lacic",
      "userId": "03901848044717845615"
     },
     "user_tz": -60
    },
    "id": "Y4ir95VU7TAp",
    "outputId": "e694c324-5ae1-4498-a0e3-a4fab00fd2a5"
   },
   "outputs": [
    {
     "data": {
      "text/plain": [
       "<seaborn.axisgrid.FacetGrid at 0x7f501fa70f70>"
      ]
     },
     "execution_count": 93,
     "metadata": {},
     "output_type": "execute_result"
    },
    {
     "data": {
      "image/png": "[encoded data removed]",
      "text/plain": [
       "<Figure size 421.375x360 with 1 Axes>"
      ]
     },
     "metadata": {
      "needs_background": "light"
     },
     "output_type": "display_data"
    }
   ],
   "source": [
    "sns.catplot(data = top_10, kind='bar',y='sku',x='product_quantity',hue='year')"
   ]
  },
  {
   "cell_type": "markdown",
   "metadata": {
    "id": "-rlbURo3clZm"
   },
   "source": [
    "## Bonus challenge:\n",
    "This challenge is an extra. We will not go through the solution in class. It's here for those of you who finish early or are inquisitive."
   ]
  },
  {
   "cell_type": "markdown",
   "metadata": {
    "id": "TQt5cwH5awyF"
   },
   "source": [
    "Find the top 10 brands that have generated the most revenue in the snapshot we have. Show the daily revenue generated by each of these brands on a line plot, use a seperate line for each brand."
   ]
  },
  {
   "cell_type": "code",
   "execution_count": null,
   "metadata": {
    "id": "b6a6f52IjH_j"
   },
   "outputs": [],
   "source": [
    "# your code here"
   ]
  }
 ],
 "metadata": {
  "colab": {
   "collapsed_sections": [
    "oenhsFifzR24",
    "MYPo6_g64yAr",
    "vU0O1EuR9T23",
    "g2o7x9H-83yF",
    "efC89bO385rd",
    "b-y-eVR6P8PA",
    "1zmpwpK5P-AA",
    "J5-NnAFujC_R",
    "RtWp603_jPN3",
    "RP5CwG1Qjg3X",
    "SaYnv8sIjwja"
   ],
   "provenance": [
    {
     "file_id": "1sJOAGTIFhWYl24lBT9hCz67ZqkRM2rxt",
     "timestamp": 1670228229687
    }
   ]
  },
  "kernelspec": {
   "display_name": "Python 3 (ipykernel)",
   "language": "python",
   "name": "python3"
  },
  "language_info": {
   "codemirror_mode": {
    "name": "ipython",
    "version": 3
   },
   "file_extension": ".py",
   "mimetype": "text/x-python",
   "name": "python",
   "nbconvert_exporter": "python",
   "pygments_lexer": "ipython3",
   "version": "3.9.12"
  }
 },
 "nbformat": 4,
 "nbformat_minor": 4
}
