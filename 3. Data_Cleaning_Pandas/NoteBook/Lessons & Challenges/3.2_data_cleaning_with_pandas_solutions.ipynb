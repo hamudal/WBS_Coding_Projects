{
 "cells": [
  {
   "cell_type": "markdown",
   "metadata": {
    "id": "kYo4UvcCvkUs"
   },
   "source": [
    "# Data Cleaning with Pandas\n",
    "\n",
    "In this notebook we'll go through a few basic data cleaning steps that should be performed on all new datasets where necessary.\n",
    "\n",
    "We'll go through the process with both the `orders` and `orderlines` datasets. You can then practice these skills by cleaning the `products` dataset yourself"
   ]
  },
  {
   "cell_type": "code",
   "execution_count": null,
   "metadata": {
    "id": "FgRIdUs1vcZ8"
   },
   "outputs": [],
   "source": [
    "import pandas as pd"
   ]
  },
  {
   "cell_type": "code",
   "execution_count": null,
   "metadata": {
    "id": "_87JoNgVviOG"
   },
   "outputs": [],
   "source": [
    "# orders.csv\n",
    "url = \"https://drive.google.com/file/d/1Vu0q91qZw6lqhIqbjoXYvYAQTmVHh6uZ/view?usp=sharing\" \n",
    "path = \"https://drive.google.com/uc?export=download&id=\"+url.split(\"/\")[-2]\n",
    "orders = pd.read_csv(path)\n",
    "\n",
    "# orderlines.csv\n",
    "url = \"https://drive.google.com/file/d/1FYhN_2AzTBFuWcfHaRuKcuCE6CWXsWtG/view?usp=sharing\" \n",
    "path = \"https://drive.google.com/uc?export=download&id=\"+url.split(\"/\")[-2]\n",
    "orderlines = pd.read_csv(path)"
   ]
  },
  {
   "cell_type": "markdown",
   "metadata": {
    "id": "fVLitYX1yhc6"
   },
   "source": [
    "One of the best ways to begin data cleaning is by exploring using `.info()`. This will tell us:\n",
    "* The shape of the DataFrame\n",
    "* The names of the columns\n",
    "* If there are any missing values\n",
    "* The datatypes of the columns\n",
    "\n",
    "By exploring the missing values and correcting any incorrect datatypes, we often come across inconsistencies in our data.\n",
    "\n",
    "Beyond this, we should also have a **check for any duplicate rows**. \n",
    "\n",
    "Let's first deal with the duplicates, as it's nice and easy, then we'll explore what `.info()` has to tell us."
   ]
  },
  {
   "cell_type": "markdown",
   "metadata": {
    "id": "036ciQ6rwBJm"
   },
   "source": [
    "## 1.&nbsp; Duplicates\n",
    "We can check for duplicates using the pandas [.duplicated()](https://pandas.pydata.org/docs/reference/api/pandas.DataFrame.duplicated.html) method. \n",
    "\n",
    "We can then delete these rows, if we wish, using [.drop_duplicates()](https://pandas.pydata.org/docs/reference/api/pandas.DataFrame.drop_duplicates.html)"
   ]
  },
  {
   "cell_type": "code",
   "execution_count": null,
   "metadata": {
    "colab": {
     "base_uri": "https://localhost:8080/"
    },
    "executionInfo": {
     "elapsed": 12,
     "status": "ok",
     "timestamp": 1661367286599,
     "user": {
      "displayName": "Guillem Perdigo",
      "userId": "04677264432036902014"
     },
     "user_tz": -120
    },
    "id": "6dVkoUu7wC-b",
    "outputId": "9a9d8faf-3cd9-45e9-8fa6-6215561968bb"
   },
   "outputs": [
    {
     "data": {
      "text/plain": [
       "0"
      ]
     },
     "execution_count": 40,
     "metadata": {},
     "output_type": "execute_result"
    }
   ],
   "source": [
    "# orders\n",
    "orders.duplicated().sum()"
   ]
  },
  {
   "cell_type": "code",
   "execution_count": null,
   "metadata": {
    "colab": {
     "base_uri": "https://localhost:8080/"
    },
    "executionInfo": {
     "elapsed": 405,
     "status": "ok",
     "timestamp": 1661367286999,
     "user": {
      "displayName": "Guillem Perdigo",
      "userId": "04677264432036902014"
     },
     "user_tz": -120
    },
    "id": "iaeAQB_3whli",
    "outputId": "4d6ef007-3ef1-4486-9a27-4b9413a4a69d"
   },
   "outputs": [
    {
     "data": {
      "text/plain": [
       "0"
      ]
     },
     "execution_count": 41,
     "metadata": {},
     "output_type": "execute_result"
    }
   ],
   "source": [
    "# orderlines\n",
    "orderlines.duplicated().sum()"
   ]
  },
  {
   "cell_type": "markdown",
   "metadata": {
    "id": "3LbnJquF0vRe"
   },
   "source": [
    "We have no duplicate rows in either DataFrame. Easy, there is no problem to solve. Normally though, if there were some duplicates, we'd drop the extra rows."
   ]
  },
  {
   "cell_type": "markdown",
   "metadata": {
    "id": "9lX7YbHlzoEO"
   },
   "source": [
    "# 2.&nbsp; `.info()`"
   ]
  },
  {
   "cell_type": "code",
   "execution_count": null,
   "metadata": {
    "colab": {
     "base_uri": "https://localhost:8080/"
    },
    "executionInfo": {
     "elapsed": 4,
     "status": "ok",
     "timestamp": 1661367286999,
     "user": {
      "displayName": "Guillem Perdigo",
      "userId": "04677264432036902014"
     },
     "user_tz": -120
    },
    "id": "_AAsMOTS2L9r",
    "outputId": "6a2931a4-0a1c-4c17-cebd-0338e7c58b34"
   },
   "outputs": [
    {
     "name": "stdout",
     "output_type": "stream",
     "text": [
      "<class 'pandas.core.frame.DataFrame'>\n",
      "RangeIndex: 226909 entries, 0 to 226908\n",
      "Data columns (total 4 columns):\n",
      " #   Column        Non-Null Count   Dtype  \n",
      "---  ------        --------------   -----  \n",
      " 0   order_id      226909 non-null  int64  \n",
      " 1   created_date  226909 non-null  object \n",
      " 2   total_paid    226904 non-null  float64\n",
      " 3   state         226909 non-null  object \n",
      "dtypes: float64(1), int64(1), object(2)\n",
      "memory usage: 6.9+ MB\n"
     ]
    }
   ],
   "source": [
    "orders.info()"
   ]
  },
  {
   "cell_type": "markdown",
   "metadata": {
    "id": "Txm3Bv952UCb"
   },
   "source": [
    "* `total_paid` has 5 missing values\n",
    "* `created_date` should become datetime datatype"
   ]
  },
  {
   "cell_type": "code",
   "execution_count": null,
   "metadata": {
    "colab": {
     "base_uri": "https://localhost:8080/"
    },
    "executionInfo": {
     "elapsed": 2,
     "status": "ok",
     "timestamp": 1661367286999,
     "user": {
      "displayName": "Guillem Perdigo",
      "userId": "04677264432036902014"
     },
     "user_tz": -120
    },
    "id": "kvDA-z032Rm2",
    "outputId": "e9217e8e-fed0-4be5-af78-6896a74f1d10"
   },
   "outputs": [
    {
     "name": "stdout",
     "output_type": "stream",
     "text": [
      "<class 'pandas.core.frame.DataFrame'>\n",
      "RangeIndex: 293983 entries, 0 to 293982\n",
      "Data columns (total 7 columns):\n",
      " #   Column            Non-Null Count   Dtype \n",
      "---  ------            --------------   ----- \n",
      " 0   id                293983 non-null  int64 \n",
      " 1   id_order          293983 non-null  int64 \n",
      " 2   product_id        293983 non-null  int64 \n",
      " 3   product_quantity  293983 non-null  int64 \n",
      " 4   sku               293983 non-null  object\n",
      " 5   unit_price        293983 non-null  object\n",
      " 6   date              293983 non-null  object\n",
      "dtypes: int64(4), object(3)\n",
      "memory usage: 15.7+ MB\n"
     ]
    }
   ],
   "source": [
    "orderlines.info()"
   ]
  },
  {
   "cell_type": "markdown",
   "metadata": {
    "id": "iLSpYm1G2sPD"
   },
   "source": [
    "* `date` should be a datetime datatype\n",
    "* `unit_price` should be a float datatype"
   ]
  },
  {
   "cell_type": "markdown",
   "metadata": {
    "id": "MlwJt5c-wiQh"
   },
   "source": [
    "## 3.&nbsp; Missing values"
   ]
  },
  {
   "cell_type": "markdown",
   "metadata": {
    "id": "63eKHGzJwkuT"
   },
   "source": [
    "### 3.1.&nbsp; Orders\n",
    "* `total_paid` has 5 missing values"
   ]
  },
  {
   "cell_type": "code",
   "execution_count": null,
   "metadata": {
    "colab": {
     "base_uri": "https://localhost:8080/"
    },
    "executionInfo": {
     "elapsed": 12,
     "status": "ok",
     "timestamp": 1661367287329,
     "user": {
      "displayName": "Guillem Perdigo",
      "userId": "04677264432036902014"
     },
     "user_tz": -120
    },
    "id": "Yh81k3ppwl37",
    "outputId": "180f0e40-e703-4ace-aa81-92fee07eddfb"
   },
   "outputs": [
    {
     "name": "stdout",
     "output_type": "stream",
     "text": [
      "5 missing values represents 0.0022% of the rows in our DataFrame\n"
     ]
    }
   ],
   "source": [
    "print(f\"5 missing values represents {((orders.total_paid.isna().sum() / orders.shape[0])*100).round(5)}% of the rows in our DataFrame\")"
   ]
  },
  {
   "cell_type": "markdown",
   "metadata": {
    "id": "eMW6J-4v_iVM"
   },
   "source": [
    "As there is such a tiny amount of missing values, we will simply delete these rows, as we have enough data without them."
   ]
  },
  {
   "cell_type": "code",
   "execution_count": null,
   "metadata": {
    "id": "ohcl2Pb2B_Ch"
   },
   "outputs": [],
   "source": [
    "orders = orders.loc[~orders.total_paid.isna(), :]"
   ]
  },
  {
   "cell_type": "markdown",
   "metadata": {
    "id": "AIWAR4xI_3jv"
   },
   "source": [
    "Should you have a significant number of missing values in the future, you have a choice: \n",
    "+ you can impute the values\n",
    "+ you can take the values from other DataFrames, if they are present there\n",
    "+ you can delete the values\n",
    "+ or any number of other creative solutions\n",
    "\n",
    "Please, always consider how much time you have on your project, and what impact your method of choice will have on your final assesment."
   ]
  },
  {
   "cell_type": "markdown",
   "metadata": {
    "id": "nziIE3hbwmNa"
   },
   "source": [
    "### 3.2.&nbsp; Orderlines\n",
    "There are no missing values in `orderlines`"
   ]
  },
  {
   "cell_type": "markdown",
   "metadata": {
    "id": "_feog1aCwosJ"
   },
   "source": [
    "## 4.&nbsp; Datatypes"
   ]
  },
  {
   "cell_type": "markdown",
   "metadata": {
    "id": "wCJyQYkOwrBE"
   },
   "source": [
    "### 4.1.&nbsp; Orders\n",
    "* `created_date` should become datetime datatype"
   ]
  },
  {
   "cell_type": "code",
   "execution_count": null,
   "metadata": {
    "colab": {
     "base_uri": "https://localhost:8080/"
    },
    "executionInfo": {
     "elapsed": 11,
     "status": "ok",
     "timestamp": 1661367287330,
     "user": {
      "displayName": "Guillem Perdigo",
      "userId": "04677264432036902014"
     },
     "user_tz": -120
    },
    "id": "cF9roGlewr8j",
    "outputId": "1b103db7-20b7-4f90-e487-6a71fd8b9335"
   },
   "outputs": [
    {
     "name": "stderr",
     "output_type": "stream",
     "text": [
      "/usr/local/lib/python3.7/dist-packages/ipykernel_launcher.py:1: SettingWithCopyWarning: \n",
      "A value is trying to be set on a copy of a slice from a DataFrame.\n",
      "Try using .loc[row_indexer,col_indexer] = value instead\n",
      "\n",
      "See the caveats in the documentation: https://pandas.pydata.org/pandas-docs/stable/user_guide/indexing.html#returning-a-view-versus-a-copy\n",
      "  \"\"\"Entry point for launching an IPython kernel.\n"
     ]
    }
   ],
   "source": [
    "orders[\"created_date\"] = pd.to_datetime(orders[\"created_date\"])"
   ]
  },
  {
   "cell_type": "markdown",
   "metadata": {
    "id": "osvynBTNwsin"
   },
   "source": [
    "### 4.1.&nbsp; Orderlines\n",
    "* `date` should be a datetime datatype\n",
    "* `unit_price` should be a float datatype"
   ]
  },
  {
   "cell_type": "markdown",
   "metadata": {
    "id": "PJcuKn8K06Yd"
   },
   "source": [
    "#### 4.1.1.&nbsp; `date`"
   ]
  },
  {
   "cell_type": "code",
   "execution_count": null,
   "metadata": {
    "id": "FnXgRKERwtvS"
   },
   "outputs": [],
   "source": [
    "orderlines[\"date\"] = pd.to_datetime(orderlines[\"date\"])"
   ]
  },
  {
   "cell_type": "markdown",
   "metadata": {
    "id": "F7i78NDY0-oF"
   },
   "source": [
    "#### 4.1.2.&nbsp;`unit_price`"
   ]
  },
  {
   "cell_type": "code",
   "execution_count": null,
   "metadata": {
    "colab": {
     "base_uri": "https://localhost:8080/",
     "height": 302
    },
    "executionInfo": {
     "elapsed": 8,
     "status": "error",
     "timestamp": 1661367287331,
     "user": {
      "displayName": "Guillem Perdigo",
      "userId": "04677264432036902014"
     },
     "user_tz": -120
    },
    "id": "iOFBNmuRDuGU",
    "outputId": "bc98a07d-6ce6-4835-80e9-3d645d0ceaab"
   },
   "outputs": [
    {
     "ename": "ValueError",
     "evalue": "ignored",
     "output_type": "error",
     "traceback": [
      "\u001b[0;31m---------------------------------------------------------------------------\u001b[0m",
      "\u001b[0;31mValueError\u001b[0m                                Traceback (most recent call last)",
      "\u001b[0;32m/usr/local/lib/python3.7/dist-packages/pandas/_libs/lib.pyx\u001b[0m in \u001b[0;36mpandas._libs.lib.maybe_convert_numeric\u001b[0;34m()\u001b[0m\n",
      "\u001b[0;31mValueError\u001b[0m: Unable to parse string \"1.137.99\"",
      "\nDuring handling of the above exception, another exception occurred:\n",
      "\u001b[0;31mValueError\u001b[0m                                Traceback (most recent call last)",
      "\u001b[0;32m<ipython-input-48-bd6d9c9e4363>\u001b[0m in \u001b[0;36m<module>\u001b[0;34m\u001b[0m\n\u001b[0;32m----> 1\u001b[0;31m \u001b[0morderlines\u001b[0m\u001b[0;34m[\u001b[0m\u001b[0;34m'unit_price'\u001b[0m\u001b[0;34m]\u001b[0m \u001b[0;34m=\u001b[0m \u001b[0mpd\u001b[0m\u001b[0;34m.\u001b[0m\u001b[0mto_numeric\u001b[0m\u001b[0;34m(\u001b[0m\u001b[0morderlines\u001b[0m\u001b[0;34m[\u001b[0m\u001b[0;34m'unit_price'\u001b[0m\u001b[0;34m]\u001b[0m\u001b[0;34m)\u001b[0m\u001b[0;34m\u001b[0m\u001b[0;34m\u001b[0m\u001b[0m\n\u001b[0m",
      "\u001b[0;32m/usr/local/lib/python3.7/dist-packages/pandas/core/tools/numeric.py\u001b[0m in \u001b[0;36mto_numeric\u001b[0;34m(arg, errors, downcast)\u001b[0m\n\u001b[1;32m    182\u001b[0m         \u001b[0;32mtry\u001b[0m\u001b[0;34m:\u001b[0m\u001b[0;34m\u001b[0m\u001b[0;34m\u001b[0m\u001b[0m\n\u001b[1;32m    183\u001b[0m             values, _ = lib.maybe_convert_numeric(\n\u001b[0;32m--> 184\u001b[0;31m                 \u001b[0mvalues\u001b[0m\u001b[0;34m,\u001b[0m \u001b[0mset\u001b[0m\u001b[0;34m(\u001b[0m\u001b[0;34m)\u001b[0m\u001b[0;34m,\u001b[0m \u001b[0mcoerce_numeric\u001b[0m\u001b[0;34m=\u001b[0m\u001b[0mcoerce_numeric\u001b[0m\u001b[0;34m\u001b[0m\u001b[0;34m\u001b[0m\u001b[0m\n\u001b[0m\u001b[1;32m    185\u001b[0m             )\n\u001b[1;32m    186\u001b[0m         \u001b[0;32mexcept\u001b[0m \u001b[0;34m(\u001b[0m\u001b[0mValueError\u001b[0m\u001b[0;34m,\u001b[0m \u001b[0mTypeError\u001b[0m\u001b[0;34m)\u001b[0m\u001b[0;34m:\u001b[0m\u001b[0;34m\u001b[0m\u001b[0;34m\u001b[0m\u001b[0m\n",
      "\u001b[0;32m/usr/local/lib/python3.7/dist-packages/pandas/_libs/lib.pyx\u001b[0m in \u001b[0;36mpandas._libs.lib.maybe_convert_numeric\u001b[0;34m()\u001b[0m\n",
      "\u001b[0;31mValueError\u001b[0m: Unable to parse string \"1.137.99\" at position 6"
     ]
    }
   ],
   "source": [
    "orderlines[\"unit_price\"] = pd.to_numeric(orderlines[\"unit_price\"])"
   ]
  },
  {
   "cell_type": "markdown",
   "metadata": {
    "id": "xEqhP5RFSmRi"
   },
   "source": [
    "As you can see when we try to convert `unit_price` to a numerical datatype, we receive a `ValueError` telling us that pandas doesn't understand the number `1.137.99`. This is probably because numbers cannot have 2 decimal points. Let's see if there are any other numbers like this."
   ]
  },
  {
   "cell_type": "code",
   "execution_count": null,
   "metadata": {
    "colab": {
     "base_uri": "https://localhost:8080/"
    },
    "executionInfo": {
     "elapsed": 423,
     "status": "ok",
     "timestamp": 1661367293617,
     "user": {
      "displayName": "Guillem Perdigo",
      "userId": "04677264432036902014"
     },
     "user_tz": -120
    },
    "id": "ONy-oCt0SkrR",
    "outputId": "d7b031d3-c39f-4348-f7bc-1d626632473f"
   },
   "outputs": [
    {
     "data": {
      "text/plain": [
       "False    257814\n",
       "True      36169\n",
       "Name: unit_price, dtype: int64"
      ]
     },
     "execution_count": 49,
     "metadata": {},
     "output_type": "execute_result"
    }
   ],
   "source": [
    "orderlines.unit_price.str.contains(\"\\d+\\.\\d+\\.\\d+\").value_counts()"
   ]
  },
  {
   "cell_type": "markdown",
   "metadata": {
    "id": "HSUPvFJU6Jv-"
   },
   "source": [
    "Looks like over 36000 rows in `orderlines` are affected by this problem. Let's work out how much that is as a percentage of our total data."
   ]
  },
  {
   "cell_type": "code",
   "execution_count": null,
   "metadata": {
    "colab": {
     "base_uri": "https://localhost:8080/"
    },
    "executionInfo": {
     "elapsed": 1,
     "status": "ok",
     "timestamp": 1661367294094,
     "user": {
      "displayName": "Guillem Perdigo",
      "userId": "04677264432036902014"
     },
     "user_tz": -120
    },
    "id": "r75Rm1EgVjpi",
    "outputId": "8c78e5a9-0f3e-4b49-d3e0-e79e32941446"
   },
   "outputs": [
    {
     "name": "stdout",
     "output_type": "stream",
     "text": [
      "The 2 dot problem represents 12.3% of the rows in our DataFrame\n"
     ]
    }
   ],
   "source": [
    "two_dot_percentage = ((orderlines.unit_price.str.contains(\"\\d+\\.\\d+\\.\\d+\").value_counts()[1] / orderlines.shape[0])*100).round(2)\n",
    "print(f\"The 2 dot problem represents {two_dot_percentage}% of the rows in our DataFrame\")"
   ]
  },
  {
   "cell_type": "markdown",
   "metadata": {
    "id": "5Kp9_4pqeu5J"
   },
   "source": [
    "This is a bit of a tricky decision as 12.3% is a significant amount of our data... and we might even end up losing a larger portion of our data than this too. For the moment we will delete the rows as we only have 2 weeks for this project and I'd like some quick, accurate results to show. If we have time at the end, we can come back and investigate this problem further, maybe there's a solution?\n",
    "\n",
    "Each row of `orderlines` represents a product in an order. For example, if order number 175 contained 3 seperate products, then order 175 would have 3 rows in `orderlines`, one row for each of the products. If 2 of those products have 'normal' prices (14.99, 15.85) and 1 has a price with 2 decimal points (1.137.99), we need to remove the whole order and not just the affected row. If we only remove the row with 2 decimal places then any later analysis about products and prices could be misleading.\n",
    "\n",
    "We therefore need to find the order numbers associated with the rows that have 2 decimal points, and then remove all the associated rows."
   ]
  },
  {
   "cell_type": "code",
   "execution_count": null,
   "metadata": {
    "id": "wQnSe-n1WCqv"
   },
   "outputs": [],
   "source": [
    "two_dot_order_ids_list = orderlines.loc[orderlines.unit_price.str.contains(\"\\d+\\.\\d+\\.\\d+\"), \"id_order\"]\n",
    "orderlines = orderlines.loc[~orderlines.id_order.isin(two_dot_order_ids_list)]"
   ]
  },
  {
   "cell_type": "code",
   "execution_count": null,
   "metadata": {
    "colab": {
     "base_uri": "https://localhost:8080/"
    },
    "executionInfo": {
     "elapsed": 4,
     "status": "ok",
     "timestamp": 1661367294342,
     "user": {
      "displayName": "Guillem Perdigo",
      "userId": "04677264432036902014"
     },
     "user_tz": -120
    },
    "id": "k-GLzXuV0Ioj",
    "outputId": "80b0f951-0789-422e-a355-69974339e3bc"
   },
   "outputs": [
    {
     "data": {
      "text/plain": [
       "216250"
      ]
     },
     "execution_count": 52,
     "metadata": {},
     "output_type": "execute_result"
    }
   ],
   "source": [
    "orderlines.shape[0]"
   ]
  },
  {
   "cell_type": "markdown",
   "metadata": {
    "id": "2pd5t4110iz3"
   },
   "source": [
    "We still have 216250 rows in orderlines to work with. This should be more than enough for our evaluation.\n",
    "\n",
    "Now that all of the 2 decimal point prices have been removed, let's try again to convert the column `unit_price` to the correct datatype."
   ]
  },
  {
   "cell_type": "code",
   "execution_count": null,
   "metadata": {
    "colab": {
     "base_uri": "https://localhost:8080/"
    },
    "executionInfo": {
     "elapsed": 3,
     "status": "ok",
     "timestamp": 1661367294342,
     "user": {
      "displayName": "Guillem Perdigo",
      "userId": "04677264432036902014"
     },
     "user_tz": -120
    },
    "id": "Q4eDTAPs1HMZ",
    "outputId": "b6742c1c-bede-43a4-ab62-a74ee374d280"
   },
   "outputs": [
    {
     "name": "stderr",
     "output_type": "stream",
     "text": [
      "/usr/local/lib/python3.7/dist-packages/ipykernel_launcher.py:1: SettingWithCopyWarning: \n",
      "A value is trying to be set on a copy of a slice from a DataFrame.\n",
      "Try using .loc[row_indexer,col_indexer] = value instead\n",
      "\n",
      "See the caveats in the documentation: https://pandas.pydata.org/pandas-docs/stable/user_guide/indexing.html#returning-a-view-versus-a-copy\n",
      "  \"\"\"Entry point for launching an IPython kernel.\n"
     ]
    }
   ],
   "source": [
    "orderlines[\"unit_price\"] = pd.to_numeric(orderlines[\"unit_price\"])"
   ]
  },
  {
   "cell_type": "markdown",
   "metadata": {
    "id": "sBudIQLm6oJQ"
   },
   "source": [
    "It worked perfectly"
   ]
  },
  {
   "cell_type": "markdown",
   "metadata": {
    "id": "1zGAzgIX8_-D"
   },
   "source": [
    "# Challenge: Clean the `products` DataFrame\n",
    "Now it's your turn. Use the lessons you learnt above and clean the products DataFrame. You don't have to copy exactly what we did. Think about the consequences of your actions, sometimes it is ok to delete rows, other times you may wish to come up with more creative solutions."
   ]
  },
  {
   "cell_type": "code",
   "execution_count": null,
   "metadata": {
    "colab": {
     "base_uri": "https://localhost:8080/",
     "height": 200
    },
    "executionInfo": {
     "elapsed": 7,
     "status": "error",
     "timestamp": 1667302455223,
     "user": {
      "displayName": "Ali El-Kassas",
      "userId": "06360344786488895807"
     },
     "user_tz": -240
    },
    "id": "LtYqdFsa9KTS",
    "outputId": "fcab7bfe-e39c-42c3-fcfb-06c07776fd57"
   },
   "outputs": [
    {
     "ename": "NameError",
     "evalue": "ignored",
     "output_type": "error",
     "traceback": [
      "\u001b[0;31m---------------------------------------------------------------------------\u001b[0m",
      "\u001b[0;31mNameError\u001b[0m                                 Traceback (most recent call last)",
      "\u001b[0;32m<ipython-input-1-152c7864a3bc>\u001b[0m in \u001b[0;36m<module>\u001b[0;34m\u001b[0m\n\u001b[1;32m      2\u001b[0m \u001b[0murl\u001b[0m \u001b[0;34m=\u001b[0m \u001b[0;34m\"https://drive.google.com/file/d/1afxwDXfl-7cQ_qLwyDitfcCx3u7WMvkU/view?usp=sharing\"\u001b[0m\u001b[0;34m\u001b[0m\u001b[0;34m\u001b[0m\u001b[0m\n\u001b[1;32m      3\u001b[0m \u001b[0mpath\u001b[0m \u001b[0;34m=\u001b[0m \u001b[0;34m\"https://drive.google.com/uc?export=download&id=\"\u001b[0m\u001b[0;34m+\u001b[0m\u001b[0murl\u001b[0m\u001b[0;34m.\u001b[0m\u001b[0msplit\u001b[0m\u001b[0;34m(\u001b[0m\u001b[0;34m\"/\"\u001b[0m\u001b[0;34m)\u001b[0m\u001b[0;34m[\u001b[0m\u001b[0;34m-\u001b[0m\u001b[0;36m2\u001b[0m\u001b[0;34m]\u001b[0m\u001b[0;34m\u001b[0m\u001b[0;34m\u001b[0m\u001b[0m\n\u001b[0;32m----> 4\u001b[0;31m \u001b[0mproducts\u001b[0m \u001b[0;34m=\u001b[0m \u001b[0mpd\u001b[0m\u001b[0;34m.\u001b[0m\u001b[0mread_csv\u001b[0m\u001b[0;34m(\u001b[0m\u001b[0mpath\u001b[0m\u001b[0;34m)\u001b[0m\u001b[0;34m\u001b[0m\u001b[0;34m\u001b[0m\u001b[0m\n\u001b[0m",
      "\u001b[0;31mNameError\u001b[0m: name 'pd' is not defined"
     ]
    }
   ],
   "source": [
    "# products.csv\n",
    "url = \"https://drive.google.com/file/d/1afxwDXfl-7cQ_qLwyDitfcCx3u7WMvkU/view?usp=sharing\" \n",
    "path = \"https://drive.google.com/uc?export=download&id=\"+url.split(\"/\")[-2]\n",
    "products = pd.read_csv(path)"
   ]
  },
  {
   "cell_type": "code",
   "execution_count": null,
   "metadata": {
    "id": "UW3zYoni9Vcy"
   },
   "outputs": [],
   "source": [
    "products.head()"
   ]
  },
  {
   "cell_type": "markdown",
   "metadata": {
    "id": "eJJELJjD9l3W"
   },
   "source": [
    "We'll go through the steps above in order\n",
    "* Duplicates\n",
    "* Missing values\n",
    "* Datatypes\n",
    "\n",
    "But I think we can all see straight away from `products.head()` above that some of the prices in `promo_price` look wrong. Let's make sure we deal with this later."
   ]
  },
  {
   "cell_type": "markdown",
   "metadata": {
    "id": "DyTfC-WY-IWe"
   },
   "source": [
    "## Duplicates"
   ]
  },
  {
   "cell_type": "code",
   "execution_count": null,
   "metadata": {
    "colab": {
     "base_uri": "https://localhost:8080/"
    },
    "executionInfo": {
     "elapsed": 10,
     "status": "ok",
     "timestamp": 1661367295682,
     "user": {
      "displayName": "Guillem Perdigo",
      "userId": "04677264432036902014"
     },
     "user_tz": -120
    },
    "id": "7WzmgCuz9X1x",
    "outputId": "f0775aec-ce4e-42d4-a298-380d79044b09"
   },
   "outputs": [
    {
     "data": {
      "text/plain": [
       "8746"
      ]
     },
     "execution_count": 56,
     "metadata": {},
     "output_type": "execute_result"
    }
   ],
   "source": [
    "products.duplicated().sum()"
   ]
  },
  {
   "cell_type": "markdown",
   "metadata": {
    "id": "goe2v94N-Oyk"
   },
   "source": [
    "Wow, that's a lot of duplicates. Let's get rid of them."
   ]
  },
  {
   "cell_type": "code",
   "execution_count": null,
   "metadata": {
    "id": "aP-EeieW-N5i"
   },
   "outputs": [],
   "source": [
    "products.drop_duplicates(inplace=True)"
   ]
  },
  {
   "cell_type": "markdown",
   "metadata": {
    "id": "kAgpknOR-zAg"
   },
   "source": [
    "## `.info()`"
   ]
  },
  {
   "cell_type": "code",
   "execution_count": null,
   "metadata": {
    "colab": {
     "base_uri": "https://localhost:8080/"
    },
    "executionInfo": {
     "elapsed": 9,
     "status": "ok",
     "timestamp": 1661367295682,
     "user": {
      "displayName": "Guillem Perdigo",
      "userId": "04677264432036902014"
     },
     "user_tz": -120
    },
    "id": "MXZXRvUa_GTW",
    "outputId": "409b5f6e-1556-43ef-8d3d-2a230ca2a8f3"
   },
   "outputs": [
    {
     "name": "stdout",
     "output_type": "stream",
     "text": [
      "<class 'pandas.core.frame.DataFrame'>\n",
      "Int64Index: 10580 entries, 0 to 19325\n",
      "Data columns (total 7 columns):\n",
      " #   Column       Non-Null Count  Dtype \n",
      "---  ------       --------------  ----- \n",
      " 0   sku          10580 non-null  object\n",
      " 1   name         10580 non-null  object\n",
      " 2   desc         10573 non-null  object\n",
      " 3   price        10534 non-null  object\n",
      " 4   promo_price  10580 non-null  object\n",
      " 5   in_stock     10580 non-null  int64 \n",
      " 6   type         10530 non-null  object\n",
      "dtypes: int64(1), object(6)\n",
      "memory usage: 661.2+ KB\n"
     ]
    }
   ],
   "source": [
    "products.info()"
   ]
  },
  {
   "cell_type": "markdown",
   "metadata": {
    "id": "XTGqkqtm--ln"
   },
   "source": [
    "### Missing values\n",
    "We can see from `.info()` above that we have missing values in `desc` and `price`"
   ]
  },
  {
   "cell_type": "markdown",
   "metadata": {
    "id": "LnW3DuWh_ZFr"
   },
   "source": [
    "#### `desc`"
   ]
  },
  {
   "cell_type": "code",
   "execution_count": null,
   "metadata": {
    "colab": {
     "base_uri": "https://localhost:8080/"
    },
    "executionInfo": {
     "elapsed": 9,
     "status": "ok",
     "timestamp": 1661367295683,
     "user": {
      "displayName": "Guillem Perdigo",
      "userId": "04677264432036902014"
     },
     "user_tz": -120
    },
    "id": "Sj7Ws3VcEQfQ",
    "outputId": "aaf8bce0-f823-4165-bb69-47d8b165f9b9"
   },
   "outputs": [
    {
     "data": {
      "text/plain": [
       "7"
      ]
     },
     "execution_count": 59,
     "metadata": {},
     "output_type": "execute_result"
    }
   ],
   "source": [
    "products.desc.isna().sum()"
   ]
  },
  {
   "cell_type": "markdown",
   "metadata": {
    "id": "tiRskHsWlrqC"
   },
   "source": [
    "7 is a very small number to have missing, let's have a closer look"
   ]
  },
  {
   "cell_type": "code",
   "execution_count": null,
   "metadata": {
    "colab": {
     "base_uri": "https://localhost:8080/",
     "height": 269
    },
    "executionInfo": {
     "elapsed": 8,
     "status": "ok",
     "timestamp": 1661367295683,
     "user": {
      "displayName": "Guillem Perdigo",
      "userId": "04677264432036902014"
     },
     "user_tz": -120
    },
    "id": "eK9_QN6H-klR",
    "outputId": "adb3a593-5f5d-4bdc-fcdf-67c5260f6039"
   },
   "outputs": [
    {
     "data": {
      "text/html": [
       "\n",
       "  <div id=\"df-b89efd25-daf2-4920-8885-9cddb8a54966\">\n",
       "    <div class=\"colab-df-container\">\n",
       "      <div>\n",
       "<style scoped>\n",
       "    .dataframe tbody tr th:only-of-type {\n",
       "        vertical-align: middle;\n",
       "    }\n",
       "\n",
       "    .dataframe tbody tr th {\n",
       "        vertical-align: top;\n",
       "    }\n",
       "\n",
       "    .dataframe thead th {\n",
       "        text-align: right;\n",
       "    }\n",
       "</style>\n",
       "<table border=\"1\" class=\"dataframe\">\n",
       "  <thead>\n",
       "    <tr style=\"text-align: right;\">\n",
       "      <th></th>\n",
       "      <th>sku</th>\n",
       "      <th>name</th>\n",
       "      <th>desc</th>\n",
       "      <th>price</th>\n",
       "      <th>promo_price</th>\n",
       "      <th>in_stock</th>\n",
       "      <th>type</th>\n",
       "    </tr>\n",
       "  </thead>\n",
       "  <tbody>\n",
       "    <tr>\n",
       "      <th>16126</th>\n",
       "      <td>WDT0211-A</td>\n",
       "      <td>Open - Purple 2TB WD 35 \"PC Security Mac hard ...</td>\n",
       "      <td>NaN</td>\n",
       "      <td>107</td>\n",
       "      <td>814.659</td>\n",
       "      <td>0</td>\n",
       "      <td>1298</td>\n",
       "    </tr>\n",
       "    <tr>\n",
       "      <th>16128</th>\n",
       "      <td>APP1622-A</td>\n",
       "      <td>Open - Apple Smart Keyboard Pro Keyboard Folio...</td>\n",
       "      <td>NaN</td>\n",
       "      <td>1.568.206</td>\n",
       "      <td>1.568.206</td>\n",
       "      <td>0</td>\n",
       "      <td>1298</td>\n",
       "    </tr>\n",
       "    <tr>\n",
       "      <th>17843</th>\n",
       "      <td>PAC2334</td>\n",
       "      <td>Synology DS718 + NAS Server | 10GB RAM</td>\n",
       "      <td>NaN</td>\n",
       "      <td>566.35</td>\n",
       "      <td>5.659.896</td>\n",
       "      <td>0</td>\n",
       "      <td>12175397</td>\n",
       "    </tr>\n",
       "    <tr>\n",
       "      <th>18152</th>\n",
       "      <td>KAN0034-A</td>\n",
       "      <td>Open - Kanex USB-C Gigabit Ethernet Adapter Ma...</td>\n",
       "      <td>NaN</td>\n",
       "      <td>29.99</td>\n",
       "      <td>237.925</td>\n",
       "      <td>0</td>\n",
       "      <td>1298</td>\n",
       "    </tr>\n",
       "    <tr>\n",
       "      <th>18490</th>\n",
       "      <td>HTE0025</td>\n",
       "      <td>Hyper Pearl 1600mAh battery Mini USB Mirror an...</td>\n",
       "      <td>NaN</td>\n",
       "      <td>24.99</td>\n",
       "      <td>22.99</td>\n",
       "      <td>1</td>\n",
       "      <td>1515</td>\n",
       "    </tr>\n",
       "    <tr>\n",
       "      <th>18612</th>\n",
       "      <td>OTT0200</td>\n",
       "      <td>OtterBox External Battery Power Pack 20000 mAHr</td>\n",
       "      <td>NaN</td>\n",
       "      <td>79.99</td>\n",
       "      <td>56.99</td>\n",
       "      <td>1</td>\n",
       "      <td>1515</td>\n",
       "    </tr>\n",
       "    <tr>\n",
       "      <th>18690</th>\n",
       "      <td>HOW0001-A</td>\n",
       "      <td>Open - Honeywell thermostat Lyric zonificador ...</td>\n",
       "      <td>NaN</td>\n",
       "      <td>199.99</td>\n",
       "      <td>1.441.174</td>\n",
       "      <td>0</td>\n",
       "      <td>11905404</td>\n",
       "    </tr>\n",
       "  </tbody>\n",
       "</table>\n",
       "</div>\n",
       "      <button class=\"colab-df-convert\" onclick=\"convertToInteractive('df-b89efd25-daf2-4920-8885-9cddb8a54966')\"\n",
       "              title=\"Convert this dataframe to an interactive table.\"\n",
       "              style=\"display:none;\">\n",
       "        \n",
       "  <svg xmlns=\"http://www.w3.org/2000/svg\" height=\"24px\"viewBox=\"0 0 24 24\"\n",
       "       width=\"24px\">\n",
       "    <path d=\"M0 0h24v24H0V0z\" fill=\"none\"/>\n",
       "    <path d=\"M18.56 5.44l.94 2.06.94-2.06 2.06-.94-2.06-.94-.94-2.06-.94 2.06-2.06.94zm-11 1L8.5 8.5l.94-2.06 2.06-.94-2.06-.94L8.5 2.5l-.94 2.06-2.06.94zm10 10l.94 2.06.94-2.06 2.06-.94-2.06-.94-.94-2.06-.94 2.06-2.06.94z\"/><path d=\"M17.41 7.96l-1.37-1.37c-.4-.4-.92-.59-1.43-.59-.52 0-1.04.2-1.43.59L10.3 9.45l-7.72 7.72c-.78.78-.78 2.05 0 2.83L4 21.41c.39.39.9.59 1.41.59.51 0 1.02-.2 1.41-.59l7.78-7.78 2.81-2.81c.8-.78.8-2.07 0-2.86zM5.41 20L4 18.59l7.72-7.72 1.47 1.35L5.41 20z\"/>\n",
       "  </svg>\n",
       "      </button>\n",
       "      \n",
       "  <style>\n",
       "    .colab-df-container {\n",
       "      display:flex;\n",
       "      flex-wrap:wrap;\n",
       "      gap: 12px;\n",
       "    }\n",
       "\n",
       "    .colab-df-convert {\n",
       "      background-color: #E8F0FE;\n",
       "      border: none;\n",
       "      border-radius: 50%;\n",
       "      cursor: pointer;\n",
       "      display: none;\n",
       "      fill: #1967D2;\n",
       "      height: 32px;\n",
       "      padding: 0 0 0 0;\n",
       "      width: 32px;\n",
       "    }\n",
       "\n",
       "    .colab-df-convert:hover {\n",
       "      background-color: #E2EBFA;\n",
       "      box-shadow: 0px 1px 2px rgba(60, 64, 67, 0.3), 0px 1px 3px 1px rgba(60, 64, 67, 0.15);\n",
       "      fill: #174EA6;\n",
       "    }\n",
       "\n",
       "    [theme=dark] .colab-df-convert {\n",
       "      background-color: #3B4455;\n",
       "      fill: #D2E3FC;\n",
       "    }\n",
       "\n",
       "    [theme=dark] .colab-df-convert:hover {\n",
       "      background-color: #434B5C;\n",
       "      box-shadow: 0px 1px 3px 1px rgba(0, 0, 0, 0.15);\n",
       "      filter: drop-shadow(0px 1px 2px rgba(0, 0, 0, 0.3));\n",
       "      fill: #FFFFFF;\n",
       "    }\n",
       "  </style>\n",
       "\n",
       "      <script>\n",
       "        const buttonEl =\n",
       "          document.querySelector('#df-b89efd25-daf2-4920-8885-9cddb8a54966 button.colab-df-convert');\n",
       "        buttonEl.style.display =\n",
       "          google.colab.kernel.accessAllowed ? 'block' : 'none';\n",
       "\n",
       "        async function convertToInteractive(key) {\n",
       "          const element = document.querySelector('#df-b89efd25-daf2-4920-8885-9cddb8a54966');\n",
       "          const dataTable =\n",
       "            await google.colab.kernel.invokeFunction('convertToInteractive',\n",
       "                                                     [key], {});\n",
       "          if (!dataTable) return;\n",
       "\n",
       "          const docLinkHtml = 'Like what you see? Visit the ' +\n",
       "            '<a target=\"_blank\" href=https://colab.research.google.com/notebooks/data_table.ipynb>data table notebook</a>'\n",
       "            + ' to learn more about interactive tables.';\n",
       "          element.innerHTML = '';\n",
       "          dataTable['output_type'] = 'display_data';\n",
       "          await google.colab.output.renderOutput(dataTable, element);\n",
       "          const docLink = document.createElement('div');\n",
       "          docLink.innerHTML = docLinkHtml;\n",
       "          element.appendChild(docLink);\n",
       "        }\n",
       "      </script>\n",
       "    </div>\n",
       "  </div>\n",
       "  "
      ],
      "text/plain": [
       "             sku                                               name desc  \\\n",
       "16126  WDT0211-A  Open - Purple 2TB WD 35 \"PC Security Mac hard ...  NaN   \n",
       "16128  APP1622-A  Open - Apple Smart Keyboard Pro Keyboard Folio...  NaN   \n",
       "17843    PAC2334             Synology DS718 + NAS Server | 10GB RAM  NaN   \n",
       "18152  KAN0034-A  Open - Kanex USB-C Gigabit Ethernet Adapter Ma...  NaN   \n",
       "18490    HTE0025  Hyper Pearl 1600mAh battery Mini USB Mirror an...  NaN   \n",
       "18612    OTT0200    OtterBox External Battery Power Pack 20000 mAHr  NaN   \n",
       "18690  HOW0001-A  Open - Honeywell thermostat Lyric zonificador ...  NaN   \n",
       "\n",
       "           price promo_price  in_stock      type  \n",
       "16126        107     814.659         0      1298  \n",
       "16128  1.568.206   1.568.206         0      1298  \n",
       "17843     566.35   5.659.896         0  12175397  \n",
       "18152      29.99     237.925         0      1298  \n",
       "18490      24.99       22.99         1      1515  \n",
       "18612      79.99       56.99         1      1515  \n",
       "18690     199.99   1.441.174         0  11905404  "
      ]
     },
     "execution_count": 60,
     "metadata": {},
     "output_type": "execute_result"
    }
   ],
   "source": [
    "products.loc[products.desc.isna(), :]"
   ]
  },
  {
   "cell_type": "markdown",
   "metadata": {
    "id": "PlFfSOI5_zTB"
   },
   "source": [
    "We have 2 choices here:\n",
    "* We can quickly and easily remove these rows. \n",
    "* Or, alternatively, the products names here are quite descriptive, so I'm tempted to just copy them to the description column, so that there is a description if we later want utilise this column. I wouldn't recommend this if this DataFrame was the source of truth for our website. But this is not the case here, and we're not faking any information (guessing a price or so), so I'm happy with this option"
   ]
  },
  {
   "cell_type": "code",
   "execution_count": null,
   "metadata": {
    "id": "ZhRJjkx4BTJe"
   },
   "outputs": [],
   "source": [
    "products.loc[products.desc.isna(), \"desc\"] = products.loc[products.desc.isna(), \"name\"]"
   ]
  },
  {
   "cell_type": "markdown",
   "metadata": {
    "id": "yb37eyvIBuep"
   },
   "source": [
    "Did you also notice above that we have the dreaded two decimal point problem in both the `price` and `promo_price` columns? We can also see prices with 3 decimal places, prices should have 2 decimal places: this gives us more cause for concern"
   ]
  },
  {
   "cell_type": "markdown",
   "metadata": {
    "id": "DX9u7jeE_c95"
   },
   "source": [
    "#### `price`"
   ]
  },
  {
   "cell_type": "code",
   "execution_count": null,
   "metadata": {
    "colab": {
     "base_uri": "https://localhost:8080/"
    },
    "executionInfo": {
     "elapsed": 7,
     "status": "ok",
     "timestamp": 1661367295683,
     "user": {
      "displayName": "Guillem Perdigo",
      "userId": "04677264432036902014"
     },
     "user_tz": -120
    },
    "id": "E3izDYam_gN8",
    "outputId": "85569fb4-c9cd-4874-eee3-956e51693d96"
   },
   "outputs": [
    {
     "data": {
      "text/plain": [
       "46"
      ]
     },
     "execution_count": 62,
     "metadata": {},
     "output_type": "execute_result"
    }
   ],
   "source": [
    "products.price.isna().sum()"
   ]
  },
  {
   "cell_type": "code",
   "execution_count": null,
   "metadata": {
    "colab": {
     "base_uri": "https://localhost:8080/"
    },
    "executionInfo": {
     "elapsed": 7,
     "status": "ok",
     "timestamp": 1661367295683,
     "user": {
      "displayName": "Guillem Perdigo",
      "userId": "04677264432036902014"
     },
     "user_tz": -120
    },
    "id": "LRknumaMk9gn",
    "outputId": "2c621a72-7dc4-47ca-bcac-dd8148f404d7"
   },
   "outputs": [
    {
     "name": "stdout",
     "output_type": "stream",
     "text": [
      "The missing values in price are 0.43% of all rows in the DataFrame\n"
     ]
    }
   ],
   "source": [
    "print(f\"The missing values in price are {((products.price.isna().sum() / products.shape[0]) * 100).round(2)}% of all rows in the DataFrame\")"
   ]
  },
  {
   "cell_type": "markdown",
   "metadata": {
    "id": "WVAC9q6Zldyu"
   },
   "source": [
    "Let's simply delete these rows to ensure that we can trust the numbers in our final DataFrame. Afterall, the price is very important when investigating discounts."
   ]
  },
  {
   "cell_type": "code",
   "execution_count": null,
   "metadata": {
    "id": "_LrT0QGlkKi-"
   },
   "outputs": [],
   "source": [
    "products = products.loc[~products.price.isna(), :]"
   ]
  },
  {
   "cell_type": "markdown",
   "metadata": {
    "id": "4x6xeGDu_B0N"
   },
   "source": [
    "### Data types\n",
    "\n",
    "We saw from looking at the output of `.info()` that both `price` and `promo_price` have been stored as objects and not as a numerical datatypes. We also saw while solving other problems that both columns have some prices with 3 decimal places and others with 2 decimal points - the latter will prevent us from converting the datatype to numerical, so first we must investigate and solve these problems."
   ]
  },
  {
   "cell_type": "markdown",
   "metadata": {
    "id": "u0CsTv1WnMie"
   },
   "source": [
    "#### `price`"
   ]
  },
  {
   "cell_type": "markdown",
   "metadata": {
    "id": "2mIc7YWdva5I"
   },
   "source": [
    "First, let's see how many values are affected by the 2 problems mentioned above."
   ]
  },
  {
   "cell_type": "code",
   "execution_count": null,
   "metadata": {
    "colab": {
     "base_uri": "https://localhost:8080/"
    },
    "executionInfo": {
     "elapsed": 6,
     "status": "ok",
     "timestamp": 1661367295683,
     "user": {
      "displayName": "Guillem Perdigo",
      "userId": "04677264432036902014"
     },
     "user_tz": -120
    },
    "id": "bShFL27Nq3Da",
    "outputId": "817118ac-341a-4b7a-d414-cc6582a71bff"
   },
   "outputs": [
    {
     "data": {
      "text/plain": [
       "542"
      ]
     },
     "execution_count": 65,
     "metadata": {},
     "output_type": "execute_result"
    }
   ],
   "source": [
    "price_problems_number = products.loc[(products.price.astype(str).str.contains(\"\\d+\\.\\d+\\.\\d+\"))|(products.price.astype(str).str.contains(\"\\d+\\.\\d{3,}\")), :].shape[0]\n",
    "price_problems_number"
   ]
  },
  {
   "cell_type": "code",
   "execution_count": null,
   "metadata": {
    "colab": {
     "base_uri": "https://localhost:8080/"
    },
    "executionInfo": {
     "elapsed": 6,
     "status": "ok",
     "timestamp": 1661367295683,
     "user": {
      "displayName": "Guillem Perdigo",
      "userId": "04677264432036902014"
     },
     "user_tz": -120
    },
    "id": "R-HG2ur6eOiP",
    "outputId": "e1e6a273-0c8a-4659-9722-8c572055ee1b"
   },
   "outputs": [
    {
     "name": "stdout",
     "output_type": "stream",
     "text": [
      "The column price has in total 542 wrong values. This is 5.15% of the rows of the DataFrame\n"
     ]
    }
   ],
   "source": [
    "print(f\"The column price has in total {price_problems_number} wrong values. This is {round(((price_problems_number / products.shape[0]) * 100), 2)}% of the rows of the DataFrame\")"
   ]
  },
  {
   "cell_type": "markdown",
   "metadata": {
    "id": "p9QV50j3orpP"
   },
   "source": [
    "5.15% is a reasonable amount of our data. However, the price column will be important to understanding discounts, so I'd like it to be very trustworthy as we are basing business decisions on it. Therefore, we'll delete these rows"
   ]
  },
  {
   "cell_type": "code",
   "execution_count": null,
   "metadata": {
    "id": "3xkK12Mspand"
   },
   "outputs": [],
   "source": [
    "products = products.loc[(~products.price.astype(str).str.contains(\"\\d+\\.\\d+\\.\\d+\"))&(~products.price.astype(str).str.contains(\"\\d+\\.\\d{3,}\")), :]"
   ]
  },
  {
   "cell_type": "markdown",
   "metadata": {
    "id": "Y_3K0v8wvMP1"
   },
   "source": [
    "To complete our task, let's convert the column to a numeric datatype"
   ]
  },
  {
   "cell_type": "code",
   "execution_count": null,
   "metadata": {
    "colab": {
     "base_uri": "https://localhost:8080/"
    },
    "executionInfo": {
     "elapsed": 284,
     "status": "ok",
     "timestamp": 1661367295962,
     "user": {
      "displayName": "Guillem Perdigo",
      "userId": "04677264432036902014"
     },
     "user_tz": -120
    },
    "id": "3evkDaafvFUq",
    "outputId": "0d1a6cd3-6559-4700-d30b-d42337e5fb10"
   },
   "outputs": [
    {
     "name": "stderr",
     "output_type": "stream",
     "text": [
      "/usr/local/lib/python3.7/dist-packages/ipykernel_launcher.py:1: SettingWithCopyWarning: \n",
      "A value is trying to be set on a copy of a slice from a DataFrame.\n",
      "Try using .loc[row_indexer,col_indexer] = value instead\n",
      "\n",
      "See the caveats in the documentation: https://pandas.pydata.org/pandas-docs/stable/user_guide/indexing.html#returning-a-view-versus-a-copy\n",
      "  \"\"\"Entry point for launching an IPython kernel.\n"
     ]
    }
   ],
   "source": [
    "products[\"price\"] = pd.to_numeric(products[\"price\"])"
   ]
  },
  {
   "cell_type": "markdown",
   "metadata": {
    "id": "9GcbI2upeG3M"
   },
   "source": [
    "#### `promo_price`"
   ]
  },
  {
   "cell_type": "markdown",
   "metadata": {
    "id": "NQq3M2zGvzS5"
   },
   "source": [
    "Again, let's begin by seeing how many values are affected by the 2 problems"
   ]
  },
  {
   "cell_type": "code",
   "execution_count": null,
   "metadata": {
    "colab": {
     "base_uri": "https://localhost:8080/"
    },
    "executionInfo": {
     "elapsed": 5,
     "status": "ok",
     "timestamp": 1661367295963,
     "user": {
      "displayName": "Guillem Perdigo",
      "userId": "04677264432036902014"
     },
     "user_tz": -120
    },
    "id": "vI4ueHibtK1P",
    "outputId": "df1d5810-6f89-456d-f279-2a865e18d743"
   },
   "outputs": [
    {
     "data": {
      "text/plain": [
       "9232"
      ]
     },
     "execution_count": 69,
     "metadata": {},
     "output_type": "execute_result"
    }
   ],
   "source": [
    "promo_problems_number = products.loc[(products.promo_price.astype(str).str.contains(\"\\d+\\.\\d+\\.\\d+\"))|(products.promo_price.astype(str).str.contains(\"\\d+\\.\\d{3,}\")), :].shape[0]\n",
    "promo_problems_number"
   ]
  },
  {
   "cell_type": "code",
   "execution_count": null,
   "metadata": {
    "colab": {
     "base_uri": "https://localhost:8080/"
    },
    "executionInfo": {
     "elapsed": 5,
     "status": "ok",
     "timestamp": 1661367295963,
     "user": {
      "displayName": "Guillem Perdigo",
      "userId": "04677264432036902014"
     },
     "user_tz": -120
    },
    "id": "Jxpd8nVptKxs",
    "outputId": "559fb38a-4e16-491e-e713-1d66e4d99e4e"
   },
   "outputs": [
    {
     "name": "stdout",
     "output_type": "stream",
     "text": [
      "The column promo_price has in total 9232 wrong values. This is 92.39% of the rows of the DataFrame\n"
     ]
    }
   ],
   "source": [
    "print(f\"The column promo_price has in total {promo_problems_number} wrong values. This is {round(((promo_problems_number / products.shape[0]) * 100), 2)}% of the rows of the DataFrame\")"
   ]
  },
  {
   "cell_type": "markdown",
   "metadata": {
    "id": "dnEM5lBruU0U"
   },
   "source": [
    "WOW!!! That's a lot of wrong data. Let's have a quick investigate to check that's correct. We'll make a DataFrame by copy-pasting the code we used above and then look at a large sample to check that all the numbers in the `promo_price` column really have either 2 decimal points or 3 decimal places."
   ]
  },
  {
   "cell_type": "code",
   "execution_count": null,
   "metadata": {
    "colab": {
     "base_uri": "https://localhost:8080/",
     "height": 1000
    },
    "executionInfo": {
     "elapsed": 4,
     "status": "ok",
     "timestamp": 1661367295963,
     "user": {
      "displayName": "Guillem Perdigo",
      "userId": "04677264432036902014"
     },
     "user_tz": -120
    },
    "id": "6S88DpsRtaM0",
    "outputId": "94308220-f430-41a7-9eff-a8fdb22a7d29"
   },
   "outputs": [
    {
     "data": {
      "text/html": [
       "\n",
       "  <div id=\"df-4cb43873-583e-4f0c-a38a-b9f1e86ad913\">\n",
       "    <div class=\"colab-df-container\">\n",
       "      <div>\n",
       "<style scoped>\n",
       "    .dataframe tbody tr th:only-of-type {\n",
       "        vertical-align: middle;\n",
       "    }\n",
       "\n",
       "    .dataframe tbody tr th {\n",
       "        vertical-align: top;\n",
       "    }\n",
       "\n",
       "    .dataframe thead th {\n",
       "        text-align: right;\n",
       "    }\n",
       "</style>\n",
       "<table border=\"1\" class=\"dataframe\">\n",
       "  <thead>\n",
       "    <tr style=\"text-align: right;\">\n",
       "      <th></th>\n",
       "      <th>sku</th>\n",
       "      <th>name</th>\n",
       "      <th>desc</th>\n",
       "      <th>price</th>\n",
       "      <th>promo_price</th>\n",
       "      <th>in_stock</th>\n",
       "      <th>type</th>\n",
       "    </tr>\n",
       "  </thead>\n",
       "  <tbody>\n",
       "    <tr>\n",
       "      <th>18600</th>\n",
       "      <td>BEL0341</td>\n",
       "      <td>Belkin Cat6 Ethernet Networking Cable 5 meters</td>\n",
       "      <td>Belkin Ethernet Cable Unit Class May 6 meters ...</td>\n",
       "      <td>19.99</td>\n",
       "      <td>179.903</td>\n",
       "      <td>0</td>\n",
       "      <td>1325</td>\n",
       "    </tr>\n",
       "    <tr>\n",
       "      <th>18474</th>\n",
       "      <td>APP2705</td>\n",
       "      <td>Apple iMac Pro 27 \"10-core Intel Xeon 3GHz W |...</td>\n",
       "      <td>Pro iMac 27 inch screen Retina 5K and Intel Xe...</td>\n",
       "      <td>9339.00</td>\n",
       "      <td>8.779.005</td>\n",
       "      <td>0</td>\n",
       "      <td>118692158</td>\n",
       "    </tr>\n",
       "    <tr>\n",
       "      <th>2443</th>\n",
       "      <td>WDT0232</td>\n",
       "      <td>Western Digital 3TB 35 \"SATA 6 Gb / s Re</td>\n",
       "      <td>hard 3TB 35 inches SATA 6 Gb / s drive.</td>\n",
       "      <td>269.99</td>\n",
       "      <td>2.669.865</td>\n",
       "      <td>0</td>\n",
       "      <td>12655397</td>\n",
       "    </tr>\n",
       "    <tr>\n",
       "      <th>1317</th>\n",
       "      <td>PAC0517</td>\n",
       "      <td>Synology DS115j Pack + 3TB Seagate IronWolf</td>\n",
       "      <td>Synology DS115j NAS Server Pack + 3TB Seagate ...</td>\n",
       "      <td>231.98</td>\n",
       "      <td>1.875.851</td>\n",
       "      <td>0</td>\n",
       "      <td>12175397</td>\n",
       "    </tr>\n",
       "    <tr>\n",
       "      <th>1833</th>\n",
       "      <td>OTR0119</td>\n",
       "      <td>Pinpo extensible arm selfie + self-timer</td>\n",
       "      <td>Extensible arm for selfies and self-timer for ...</td>\n",
       "      <td>14.99</td>\n",
       "      <td>129.906</td>\n",
       "      <td>0</td>\n",
       "      <td>11905404</td>\n",
       "    </tr>\n",
       "    <tr>\n",
       "      <th>11447</th>\n",
       "      <td>CRU0039-A</td>\n",
       "      <td>(Open) Crucial 240GB SSD 7mm BX200</td>\n",
       "      <td>SSD hard drive and high-speed performance with...</td>\n",
       "      <td>76.99</td>\n",
       "      <td>707.001</td>\n",
       "      <td>0</td>\n",
       "      <td>1298</td>\n",
       "    </tr>\n",
       "    <tr>\n",
       "      <th>12163</th>\n",
       "      <td>TUC0097</td>\n",
       "      <td>Tucano Work Out 2 shoulder MacBook Pro / Air 1...</td>\n",
       "      <td>Ergonomic shoulder lightly with multibolsillos</td>\n",
       "      <td>49.99</td>\n",
       "      <td>38.691</td>\n",
       "      <td>0</td>\n",
       "      <td>10230</td>\n",
       "    </tr>\n",
       "    <tr>\n",
       "      <th>11838</th>\n",
       "      <td>STI0010</td>\n",
       "      <td>Stil Mind Chivalry Case iPhone 6 / 6S Plata</td>\n",
       "      <td>Stilmind silver protective cover for iPhone 6 ...</td>\n",
       "      <td>99.99</td>\n",
       "      <td>469.904</td>\n",
       "      <td>1</td>\n",
       "      <td>11865403</td>\n",
       "    </tr>\n",
       "    <tr>\n",
       "      <th>15671</th>\n",
       "      <td>BEL0232-A</td>\n",
       "      <td>Open - Belkin MIXIT Spiral cable jack to jack ...</td>\n",
       "      <td>Coiled Cable for iPhone iPad and iPod</td>\n",
       "      <td>14.99</td>\n",
       "      <td>7.709</td>\n",
       "      <td>0</td>\n",
       "      <td>1298</td>\n",
       "    </tr>\n",
       "    <tr>\n",
       "      <th>16662</th>\n",
       "      <td>APP2140</td>\n",
       "      <td>Apple iPad Pro 12.9 \"Wi-Fi + Cellular 512GB Gold</td>\n",
       "      <td>Pro New iPad Wi-Fi + Cellular 512GB</td>\n",
       "      <td>1449.00</td>\n",
       "      <td>14.070.013</td>\n",
       "      <td>0</td>\n",
       "      <td>51861714</td>\n",
       "    </tr>\n",
       "    <tr>\n",
       "      <th>12172</th>\n",
       "      <td>APP1545</td>\n",
       "      <td>Apple iPad Silicone Case Cover Pink Light Mini 4</td>\n",
       "      <td>Protective cover ultrafine silicone cases mini 4</td>\n",
       "      <td>69.00</td>\n",
       "      <td>569.995</td>\n",
       "      <td>0</td>\n",
       "      <td>12635403</td>\n",
       "    </tr>\n",
       "    <tr>\n",
       "      <th>294</th>\n",
       "      <td>DLK0011</td>\n",
       "      <td>D-Link DUB-1340 Hub 4 x SuperSpeed ​​USB 3.0 M...</td>\n",
       "      <td>Dlink USB Hub Mac and PC 4 port.</td>\n",
       "      <td>64.00</td>\n",
       "      <td>469.891</td>\n",
       "      <td>0</td>\n",
       "      <td>12995397</td>\n",
       "    </tr>\n",
       "    <tr>\n",
       "      <th>16689</th>\n",
       "      <td>APP2413</td>\n",
       "      <td>Apple Macbook 12 \"Core i7 14GHz | 16GB | 256GB...</td>\n",
       "      <td>New MacBook Retina Display 12-inch Core i7 16G...</td>\n",
       "      <td>2039.00</td>\n",
       "      <td>19.170.042</td>\n",
       "      <td>0</td>\n",
       "      <td>5,39E+11</td>\n",
       "    </tr>\n",
       "    <tr>\n",
       "      <th>18834</th>\n",
       "      <td>LOG0234-A</td>\n",
       "      <td>Open - Logitech Ultimate Ears Boom 2 Black / Y...</td>\n",
       "      <td>Refurbished Bluetooth Portable Speaker for iPh...</td>\n",
       "      <td>209.00</td>\n",
       "      <td>926.835</td>\n",
       "      <td>0</td>\n",
       "      <td>5398</td>\n",
       "    </tr>\n",
       "    <tr>\n",
       "      <th>17808</th>\n",
       "      <td>PAC2207</td>\n",
       "      <td>Synology DS718 + NAS Server | 6GB RAM | 6TB (2...</td>\n",
       "      <td>Scalable NAS server with transcoding 4K: 4-cor...</td>\n",
       "      <td>779.98</td>\n",
       "      <td>7.251.784</td>\n",
       "      <td>0</td>\n",
       "      <td>12175397</td>\n",
       "    </tr>\n",
       "    <tr>\n",
       "      <th>12523</th>\n",
       "      <td>MAC0135</td>\n",
       "      <td>PC Macally iPhone case Case SE / 5s / 5 Black</td>\n",
       "      <td>Protective Case for iPhone SE / 5s / 5</td>\n",
       "      <td>9.95</td>\n",
       "      <td>69.902</td>\n",
       "      <td>0</td>\n",
       "      <td>11865403</td>\n",
       "    </tr>\n",
       "    <tr>\n",
       "      <th>17784</th>\n",
       "      <td>PAC2411</td>\n",
       "      <td>DS418play Synology NAS Server | 16GB RAM</td>\n",
       "      <td>4-bay NAS server to accommodate 4K Ultra HD files</td>\n",
       "      <td>692.71</td>\n",
       "      <td>6.819.899</td>\n",
       "      <td>0</td>\n",
       "      <td>12175397</td>\n",
       "    </tr>\n",
       "    <tr>\n",
       "      <th>17587</th>\n",
       "      <td>APP2507</td>\n",
       "      <td>Nike + GPS Apple Watch Case 42mm Aluminum Silv...</td>\n",
       "      <td>Apple Watch 42mm Nike + series 3 with GPS alti...</td>\n",
       "      <td>399.00</td>\n",
       "      <td>3.909.994</td>\n",
       "      <td>1</td>\n",
       "      <td>24895185</td>\n",
       "    </tr>\n",
       "    <tr>\n",
       "      <th>14831</th>\n",
       "      <td>LAC0176-A</td>\n",
       "      <td>Open - LaCie Porsche Design Mobile 4TB USB-C a...</td>\n",
       "      <td>External Hard Drive 4TB USB refitted-C and USB...</td>\n",
       "      <td>199.99</td>\n",
       "      <td>127.465</td>\n",
       "      <td>0</td>\n",
       "      <td>11935397</td>\n",
       "    </tr>\n",
       "    <tr>\n",
       "      <th>11875</th>\n",
       "      <td>NTE0004-A</td>\n",
       "      <td>(Open) NewerTech iPhone Kit tools</td>\n",
       "      <td>Kit 7 tools for iPhone 4 / 4S / 5 / 5S / 6/6 P...</td>\n",
       "      <td>12.99</td>\n",
       "      <td>83.793</td>\n",
       "      <td>0</td>\n",
       "      <td>1298</td>\n",
       "    </tr>\n",
       "    <tr>\n",
       "      <th>2754</th>\n",
       "      <td>PHI0056</td>\n",
       "      <td>Philips Hue Go Portable Light White</td>\n",
       "      <td>Portable light with natural dynamic effects an...</td>\n",
       "      <td>79.95</td>\n",
       "      <td>789.888</td>\n",
       "      <td>1</td>\n",
       "      <td>11905404</td>\n",
       "    </tr>\n",
       "    <tr>\n",
       "      <th>19004</th>\n",
       "      <td>NTE0011-A</td>\n",
       "      <td>Open - NewerTech NuPower Battery MacBook 13 \"w...</td>\n",
       "      <td>MacBook battery 133 inches (White Model) open box</td>\n",
       "      <td>119.99</td>\n",
       "      <td>709.187</td>\n",
       "      <td>0</td>\n",
       "      <td>10142</td>\n",
       "    </tr>\n",
       "    <tr>\n",
       "      <th>18447</th>\n",
       "      <td>APP2678</td>\n",
       "      <td>Apple iMac Pro 27 \"10-core Intel Xeon 3GHz W |...</td>\n",
       "      <td>Pro iMac 27 inch screen Retina 5K and Intel Xe...</td>\n",
       "      <td>8379.00</td>\n",
       "      <td>7.876.005</td>\n",
       "      <td>0</td>\n",
       "      <td>118692158</td>\n",
       "    </tr>\n",
       "    <tr>\n",
       "      <th>12699</th>\n",
       "      <td>OTT0144</td>\n",
       "      <td>OtterBox Defender iPhone Case SE / 5s / 5 Black</td>\n",
       "      <td>An ultra-resistant protective layers 3 iPhone ...</td>\n",
       "      <td>49.99</td>\n",
       "      <td>299.899</td>\n",
       "      <td>0</td>\n",
       "      <td>11865403</td>\n",
       "    </tr>\n",
       "    <tr>\n",
       "      <th>697</th>\n",
       "      <td>APP0624</td>\n",
       "      <td>Apple Mac Pro six cores 35GHz | 16GB RAM | 256...</td>\n",
       "      <td>New Mac Pro with 16 GB of RAM 6 Core 2 GPU and...</td>\n",
       "      <td>4649.00</td>\n",
       "      <td>42.665.846</td>\n",
       "      <td>0</td>\n",
       "      <td>1282</td>\n",
       "    </tr>\n",
       "    <tr>\n",
       "      <th>12331</th>\n",
       "      <td>APP1569</td>\n",
       "      <td>Apple Leather Case iPhone Case Midnight Blue</td>\n",
       "      <td>And microfiber leather case for iPhone Premium SE</td>\n",
       "      <td>45.00</td>\n",
       "      <td>420.003</td>\n",
       "      <td>1</td>\n",
       "      <td>11865403</td>\n",
       "    </tr>\n",
       "    <tr>\n",
       "      <th>872</th>\n",
       "      <td>PAR0013</td>\n",
       "      <td>Parrot Flower Power Wireless Sensor Brown Plants</td>\n",
       "      <td>Wi-Fi sensor for remote control and plant care.</td>\n",
       "      <td>59.95</td>\n",
       "      <td>398.889</td>\n",
       "      <td>0</td>\n",
       "      <td>11905404</td>\n",
       "    </tr>\n",
       "    <tr>\n",
       "      <th>17338</th>\n",
       "      <td>APP2466</td>\n",
       "      <td>The 1st Gen. 42mm Apple Watch Stainless Steel ...</td>\n",
       "      <td>Apple Watch the 1st gene. touch screen monitor...</td>\n",
       "      <td>1269.00</td>\n",
       "      <td>4.990.004</td>\n",
       "      <td>0</td>\n",
       "      <td>24895185</td>\n",
       "    </tr>\n",
       "    <tr>\n",
       "      <th>1785</th>\n",
       "      <td>KUA0019</td>\n",
       "      <td>Support Kukaclip car + Funda iPhone 6 / 6S Black</td>\n",
       "      <td>Magnetic car holder with 360 degrees rotating ...</td>\n",
       "      <td>24.99</td>\n",
       "      <td>149.895</td>\n",
       "      <td>0</td>\n",
       "      <td>11865403</td>\n",
       "    </tr>\n",
       "    <tr>\n",
       "      <th>18228</th>\n",
       "      <td>SNA0068</td>\n",
       "      <td>Sena UltraSlim Case Heritage iPhone 8/7 / 6 / ...</td>\n",
       "      <td>thin leather case handmade Sena UltraSlim Case...</td>\n",
       "      <td>39.95</td>\n",
       "      <td>329.894</td>\n",
       "      <td>1</td>\n",
       "      <td>11865403</td>\n",
       "    </tr>\n",
       "    <tr>\n",
       "      <th>1914</th>\n",
       "      <td>OWC0137</td>\n",
       "      <td>OWC Mercury PCI Express SSD 120GB Accelsior_E2...</td>\n",
       "      <td>PCI Express Card SSD 120GB (2x64GB) for Mac Pro.</td>\n",
       "      <td>279.00</td>\n",
       "      <td>2.065.845</td>\n",
       "      <td>0</td>\n",
       "      <td>12215397</td>\n",
       "    </tr>\n",
       "    <tr>\n",
       "      <th>12164</th>\n",
       "      <td>APP1527</td>\n",
       "      <td>Apple iPad Silicone Case Pro 97 \"Charcoal Gray</td>\n",
       "      <td>Silicone light cover and soft touch for iPad P...</td>\n",
       "      <td>79.00</td>\n",
       "      <td>749.994</td>\n",
       "      <td>0</td>\n",
       "      <td>12635403</td>\n",
       "    </tr>\n",
       "    <tr>\n",
       "      <th>19010</th>\n",
       "      <td>APP2260-A</td>\n",
       "      <td>Open - Apple Macbook Pro 13 \"Core i5 3.1GHz To...</td>\n",
       "      <td>MacBook Pro 13-inch Touch Bar refitted with 31...</td>\n",
       "      <td>2489.00</td>\n",
       "      <td>22.064.723</td>\n",
       "      <td>0</td>\n",
       "      <td>1,02E+12</td>\n",
       "    </tr>\n",
       "    <tr>\n",
       "      <th>16696</th>\n",
       "      <td>APP2420</td>\n",
       "      <td>Apple Macbook 12 \"1.2GHz Core m3 | 16GB | 256G...</td>\n",
       "      <td>New MacBook Retina display 12-inch Core m3 12G...</td>\n",
       "      <td>1739.00</td>\n",
       "      <td>1.635.004</td>\n",
       "      <td>0</td>\n",
       "      <td>5,39E+11</td>\n",
       "    </tr>\n",
       "    <tr>\n",
       "      <th>15497</th>\n",
       "      <td>REP0169</td>\n",
       "      <td>iPhone 4s rear camera repair</td>\n",
       "      <td>Installation service includes parts and labor ...</td>\n",
       "      <td>49.99</td>\n",
       "      <td>499.899</td>\n",
       "      <td>0</td>\n",
       "      <td>1,44E+11</td>\n",
       "    </tr>\n",
       "    <tr>\n",
       "      <th>12964</th>\n",
       "      <td>TRA0017-A</td>\n",
       "      <td>Open - Transcend JetDrive SSD 720 240GB Macboo...</td>\n",
       "      <td>SSD Hard Drive 240GB + Tools Macbook Pro Retin...</td>\n",
       "      <td>245.00</td>\n",
       "      <td>2.175.846</td>\n",
       "      <td>0</td>\n",
       "      <td>12655397</td>\n",
       "    </tr>\n",
       "    <tr>\n",
       "      <th>8344</th>\n",
       "      <td>PAC0932</td>\n",
       "      <td>Apple iMac 27 \"Core i5 3.2GHz Retina 5K | 16GB...</td>\n",
       "      <td>IMac desktop computer 27 inch 5K Retina 16GB 2...</td>\n",
       "      <td>2609.00</td>\n",
       "      <td>23.469.898</td>\n",
       "      <td>0</td>\n",
       "      <td>1282</td>\n",
       "    </tr>\n",
       "    <tr>\n",
       "      <th>17510</th>\n",
       "      <td>ALL0017</td>\n",
       "      <td>Allocacoc PowerCube Original Regleta White / Red</td>\n",
       "      <td>Wall socket cube-shaped 5 to 250V electrical o...</td>\n",
       "      <td>12.95</td>\n",
       "      <td>109.904</td>\n",
       "      <td>1</td>\n",
       "      <td>5395</td>\n",
       "    </tr>\n",
       "    <tr>\n",
       "      <th>1140</th>\n",
       "      <td>OWC0116</td>\n",
       "      <td>OWC Multi-Mount Adapter Kit 2.5 \"/3.5\" /5.25 \"...</td>\n",
       "      <td>Adapter SSD drive or 2.5 to 3.5 and from 3.5 t...</td>\n",
       "      <td>35.99</td>\n",
       "      <td>349.896</td>\n",
       "      <td>0</td>\n",
       "      <td>12755395</td>\n",
       "    </tr>\n",
       "    <tr>\n",
       "      <th>18241</th>\n",
       "      <td>AP20381</td>\n",
       "      <td>Like new - Apple iPad Mini 4 Wi-Fi + Cellular ...</td>\n",
       "      <td>Refurbished Apple iPad mini Wi-Fi + 4 Cellular...</td>\n",
       "      <td>642.81</td>\n",
       "      <td>522.812</td>\n",
       "      <td>0</td>\n",
       "      <td>13621714</td>\n",
       "    </tr>\n",
       "    <tr>\n",
       "      <th>19157</th>\n",
       "      <td>SAT0056-A</td>\n",
       "      <td>Open - Satechi USB 3.0 Hub 10/3 charging ports...</td>\n",
       "      <td>USB 3.0 Hub Refurbished 10-port 7 for data tra...</td>\n",
       "      <td>59.99</td>\n",
       "      <td>374.752</td>\n",
       "      <td>0</td>\n",
       "      <td>12585395</td>\n",
       "    </tr>\n",
       "    <tr>\n",
       "      <th>12496</th>\n",
       "      <td>SAN0083-A</td>\n",
       "      <td>(Open) iXpand SanDisk Flash Drive 64GB USB 2.0...</td>\n",
       "      <td>USB 2.0 Pen Drive and Lightning 64Gb iPad and ...</td>\n",
       "      <td>110.00</td>\n",
       "      <td>605.582</td>\n",
       "      <td>0</td>\n",
       "      <td>1298</td>\n",
       "    </tr>\n",
       "    <tr>\n",
       "      <th>15455</th>\n",
       "      <td>PAC2187</td>\n",
       "      <td>Pack Qnap TS-453b mini 4G NAS server 16TB (4x4...</td>\n",
       "      <td>NAS with HDMI 4K (3840x2160) output 4-core pro...</td>\n",
       "      <td>1195.09</td>\n",
       "      <td>9.753.677</td>\n",
       "      <td>0</td>\n",
       "      <td>12175397</td>\n",
       "    </tr>\n",
       "    <tr>\n",
       "      <th>2382</th>\n",
       "      <td>PIE0046</td>\n",
       "      <td>Piece Front Camera Sensor Proximity and Micro ...</td>\n",
       "      <td>Replacement front camera and Micro Proximity S...</td>\n",
       "      <td>19.99</td>\n",
       "      <td>199.892</td>\n",
       "      <td>0</td>\n",
       "      <td>21485407</td>\n",
       "    </tr>\n",
       "    <tr>\n",
       "      <th>14100</th>\n",
       "      <td>APP1885</td>\n",
       "      <td>Apple MacBook Pro 15 \"Core i7 Touch Bar 29GHz ...</td>\n",
       "      <td>New MacBook Pro 15-inch Core i7 Touch Bar 29Gh...</td>\n",
       "      <td>3319.00</td>\n",
       "      <td>31.595.847</td>\n",
       "      <td>0</td>\n",
       "      <td>2158</td>\n",
       "    </tr>\n",
       "    <tr>\n",
       "      <th>17202</th>\n",
       "      <td>WDT0383</td>\n",
       "      <td>WD My Passport Wireless Wifi 25 PRO 4TB USB 3....</td>\n",
       "      <td>4TB external hard drive with built-in WiFi SD ...</td>\n",
       "      <td>269.99</td>\n",
       "      <td>2.417.943</td>\n",
       "      <td>0</td>\n",
       "      <td>11935397</td>\n",
       "    </tr>\n",
       "    <tr>\n",
       "      <th>15201</th>\n",
       "      <td>SYN0121-A</td>\n",
       "      <td>Open - Synology NAS server DS216play Mac and P...</td>\n",
       "      <td>NAS server Mac and PC with open packaging 2 ba...</td>\n",
       "      <td>260.99</td>\n",
       "      <td>2.589.993</td>\n",
       "      <td>0</td>\n",
       "      <td>12175397</td>\n",
       "    </tr>\n",
       "    <tr>\n",
       "      <th>1052</th>\n",
       "      <td>BOO0079</td>\n",
       "      <td>Booq Taipan Spacesuit Neoprene Sleeve MacBook ...</td>\n",
       "      <td>Neoprene sleeve for MacBook Air and MacBook Pr...</td>\n",
       "      <td>39.99</td>\n",
       "      <td>379.892</td>\n",
       "      <td>1</td>\n",
       "      <td>13835403</td>\n",
       "    </tr>\n",
       "    <tr>\n",
       "      <th>13415</th>\n",
       "      <td>APP1694</td>\n",
       "      <td>Apple iPhone Leather Case Cover 7 Brown Candy ...</td>\n",
       "      <td>ultrathin leather case and microfiber premium ...</td>\n",
       "      <td>59.00</td>\n",
       "      <td>490.002</td>\n",
       "      <td>0</td>\n",
       "      <td>11865403</td>\n",
       "    </tr>\n",
       "    <tr>\n",
       "      <th>11216</th>\n",
       "      <td>QNA0156</td>\n",
       "      <td>QNAP TS-653A | 4GB RAM Mac and PC Server NAS</td>\n",
       "      <td>NAS server 4 bays and 4 GB RAM for small busin...</td>\n",
       "      <td>845.79</td>\n",
       "      <td>8.449.902</td>\n",
       "      <td>0</td>\n",
       "      <td>12175397</td>\n",
       "    </tr>\n",
       "  </tbody>\n",
       "</table>\n",
       "</div>\n",
       "      <button class=\"colab-df-convert\" onclick=\"convertToInteractive('df-4cb43873-583e-4f0c-a38a-b9f1e86ad913')\"\n",
       "              title=\"Convert this dataframe to an interactive table.\"\n",
       "              style=\"display:none;\">\n",
       "        \n",
       "  <svg xmlns=\"http://www.w3.org/2000/svg\" height=\"24px\"viewBox=\"0 0 24 24\"\n",
       "       width=\"24px\">\n",
       "    <path d=\"M0 0h24v24H0V0z\" fill=\"none\"/>\n",
       "    <path d=\"M18.56 5.44l.94 2.06.94-2.06 2.06-.94-2.06-.94-.94-2.06-.94 2.06-2.06.94zm-11 1L8.5 8.5l.94-2.06 2.06-.94-2.06-.94L8.5 2.5l-.94 2.06-2.06.94zm10 10l.94 2.06.94-2.06 2.06-.94-2.06-.94-.94-2.06-.94 2.06-2.06.94z\"/><path d=\"M17.41 7.96l-1.37-1.37c-.4-.4-.92-.59-1.43-.59-.52 0-1.04.2-1.43.59L10.3 9.45l-7.72 7.72c-.78.78-.78 2.05 0 2.83L4 21.41c.39.39.9.59 1.41.59.51 0 1.02-.2 1.41-.59l7.78-7.78 2.81-2.81c.8-.78.8-2.07 0-2.86zM5.41 20L4 18.59l7.72-7.72 1.47 1.35L5.41 20z\"/>\n",
       "  </svg>\n",
       "      </button>\n",
       "      \n",
       "  <style>\n",
       "    .colab-df-container {\n",
       "      display:flex;\n",
       "      flex-wrap:wrap;\n",
       "      gap: 12px;\n",
       "    }\n",
       "\n",
       "    .colab-df-convert {\n",
       "      background-color: #E8F0FE;\n",
       "      border: none;\n",
       "      border-radius: 50%;\n",
       "      cursor: pointer;\n",
       "      display: none;\n",
       "      fill: #1967D2;\n",
       "      height: 32px;\n",
       "      padding: 0 0 0 0;\n",
       "      width: 32px;\n",
       "    }\n",
       "\n",
       "    .colab-df-convert:hover {\n",
       "      background-color: #E2EBFA;\n",
       "      box-shadow: 0px 1px 2px rgba(60, 64, 67, 0.3), 0px 1px 3px 1px rgba(60, 64, 67, 0.15);\n",
       "      fill: #174EA6;\n",
       "    }\n",
       "\n",
       "    [theme=dark] .colab-df-convert {\n",
       "      background-color: #3B4455;\n",
       "      fill: #D2E3FC;\n",
       "    }\n",
       "\n",
       "    [theme=dark] .colab-df-convert:hover {\n",
       "      background-color: #434B5C;\n",
       "      box-shadow: 0px 1px 3px 1px rgba(0, 0, 0, 0.15);\n",
       "      filter: drop-shadow(0px 1px 2px rgba(0, 0, 0, 0.3));\n",
       "      fill: #FFFFFF;\n",
       "    }\n",
       "  </style>\n",
       "\n",
       "      <script>\n",
       "        const buttonEl =\n",
       "          document.querySelector('#df-4cb43873-583e-4f0c-a38a-b9f1e86ad913 button.colab-df-convert');\n",
       "        buttonEl.style.display =\n",
       "          google.colab.kernel.accessAllowed ? 'block' : 'none';\n",
       "\n",
       "        async function convertToInteractive(key) {\n",
       "          const element = document.querySelector('#df-4cb43873-583e-4f0c-a38a-b9f1e86ad913');\n",
       "          const dataTable =\n",
       "            await google.colab.kernel.invokeFunction('convertToInteractive',\n",
       "                                                     [key], {});\n",
       "          if (!dataTable) return;\n",
       "\n",
       "          const docLinkHtml = 'Like what you see? Visit the ' +\n",
       "            '<a target=\"_blank\" href=https://colab.research.google.com/notebooks/data_table.ipynb>data table notebook</a>'\n",
       "            + ' to learn more about interactive tables.';\n",
       "          element.innerHTML = '';\n",
       "          dataTable['output_type'] = 'display_data';\n",
       "          await google.colab.output.renderOutput(dataTable, element);\n",
       "          const docLink = document.createElement('div');\n",
       "          docLink.innerHTML = docLinkHtml;\n",
       "          element.appendChild(docLink);\n",
       "        }\n",
       "      </script>\n",
       "    </div>\n",
       "  </div>\n",
       "  "
      ],
      "text/plain": [
       "             sku                                               name  \\\n",
       "18600    BEL0341     Belkin Cat6 Ethernet Networking Cable 5 meters   \n",
       "18474    APP2705  Apple iMac Pro 27 \"10-core Intel Xeon 3GHz W |...   \n",
       "2443     WDT0232           Western Digital 3TB 35 \"SATA 6 Gb / s Re   \n",
       "1317     PAC0517        Synology DS115j Pack + 3TB Seagate IronWolf   \n",
       "1833     OTR0119           Pinpo extensible arm selfie + self-timer   \n",
       "11447  CRU0039-A                 (Open) Crucial 240GB SSD 7mm BX200   \n",
       "12163    TUC0097  Tucano Work Out 2 shoulder MacBook Pro / Air 1...   \n",
       "11838    STI0010        Stil Mind Chivalry Case iPhone 6 / 6S Plata   \n",
       "15671  BEL0232-A  Open - Belkin MIXIT Spiral cable jack to jack ...   \n",
       "16662    APP2140   Apple iPad Pro 12.9 \"Wi-Fi + Cellular 512GB Gold   \n",
       "12172    APP1545   Apple iPad Silicone Case Cover Pink Light Mini 4   \n",
       "294      DLK0011  D-Link DUB-1340 Hub 4 x SuperSpeed ​​USB 3.0 M...   \n",
       "16689    APP2413  Apple Macbook 12 \"Core i7 14GHz | 16GB | 256GB...   \n",
       "18834  LOG0234-A  Open - Logitech Ultimate Ears Boom 2 Black / Y...   \n",
       "17808    PAC2207  Synology DS718 + NAS Server | 6GB RAM | 6TB (2...   \n",
       "12523    MAC0135      PC Macally iPhone case Case SE / 5s / 5 Black   \n",
       "17784    PAC2411           DS418play Synology NAS Server | 16GB RAM   \n",
       "17587    APP2507  Nike + GPS Apple Watch Case 42mm Aluminum Silv...   \n",
       "14831  LAC0176-A  Open - LaCie Porsche Design Mobile 4TB USB-C a...   \n",
       "11875  NTE0004-A                  (Open) NewerTech iPhone Kit tools   \n",
       "2754     PHI0056                Philips Hue Go Portable Light White   \n",
       "19004  NTE0011-A  Open - NewerTech NuPower Battery MacBook 13 \"w...   \n",
       "18447    APP2678  Apple iMac Pro 27 \"10-core Intel Xeon 3GHz W |...   \n",
       "12699    OTT0144    OtterBox Defender iPhone Case SE / 5s / 5 Black   \n",
       "697      APP0624  Apple Mac Pro six cores 35GHz | 16GB RAM | 256...   \n",
       "12331    APP1569       Apple Leather Case iPhone Case Midnight Blue   \n",
       "872      PAR0013   Parrot Flower Power Wireless Sensor Brown Plants   \n",
       "17338    APP2466  The 1st Gen. 42mm Apple Watch Stainless Steel ...   \n",
       "1785     KUA0019   Support Kukaclip car + Funda iPhone 6 / 6S Black   \n",
       "18228    SNA0068  Sena UltraSlim Case Heritage iPhone 8/7 / 6 / ...   \n",
       "1914     OWC0137  OWC Mercury PCI Express SSD 120GB Accelsior_E2...   \n",
       "12164    APP1527     Apple iPad Silicone Case Pro 97 \"Charcoal Gray   \n",
       "19010  APP2260-A  Open - Apple Macbook Pro 13 \"Core i5 3.1GHz To...   \n",
       "16696    APP2420  Apple Macbook 12 \"1.2GHz Core m3 | 16GB | 256G...   \n",
       "15497    REP0169                       iPhone 4s rear camera repair   \n",
       "12964  TRA0017-A  Open - Transcend JetDrive SSD 720 240GB Macboo...   \n",
       "8344     PAC0932  Apple iMac 27 \"Core i5 3.2GHz Retina 5K | 16GB...   \n",
       "17510    ALL0017   Allocacoc PowerCube Original Regleta White / Red   \n",
       "1140     OWC0116  OWC Multi-Mount Adapter Kit 2.5 \"/3.5\" /5.25 \"...   \n",
       "18241    AP20381  Like new - Apple iPad Mini 4 Wi-Fi + Cellular ...   \n",
       "19157  SAT0056-A  Open - Satechi USB 3.0 Hub 10/3 charging ports...   \n",
       "12496  SAN0083-A  (Open) iXpand SanDisk Flash Drive 64GB USB 2.0...   \n",
       "15455    PAC2187  Pack Qnap TS-453b mini 4G NAS server 16TB (4x4...   \n",
       "2382     PIE0046  Piece Front Camera Sensor Proximity and Micro ...   \n",
       "14100    APP1885  Apple MacBook Pro 15 \"Core i7 Touch Bar 29GHz ...   \n",
       "17202    WDT0383  WD My Passport Wireless Wifi 25 PRO 4TB USB 3....   \n",
       "15201  SYN0121-A  Open - Synology NAS server DS216play Mac and P...   \n",
       "1052     BOO0079  Booq Taipan Spacesuit Neoprene Sleeve MacBook ...   \n",
       "13415    APP1694  Apple iPhone Leather Case Cover 7 Brown Candy ...   \n",
       "11216    QNA0156       QNAP TS-653A | 4GB RAM Mac and PC Server NAS   \n",
       "\n",
       "                                                    desc    price promo_price  \\\n",
       "18600  Belkin Ethernet Cable Unit Class May 6 meters ...    19.99     179.903   \n",
       "18474  Pro iMac 27 inch screen Retina 5K and Intel Xe...  9339.00   8.779.005   \n",
       "2443             hard 3TB 35 inches SATA 6 Gb / s drive.   269.99   2.669.865   \n",
       "1317   Synology DS115j NAS Server Pack + 3TB Seagate ...   231.98   1.875.851   \n",
       "1833   Extensible arm for selfies and self-timer for ...    14.99     129.906   \n",
       "11447  SSD hard drive and high-speed performance with...    76.99     707.001   \n",
       "12163     Ergonomic shoulder lightly with multibolsillos    49.99      38.691   \n",
       "11838  Stilmind silver protective cover for iPhone 6 ...    99.99     469.904   \n",
       "15671              Coiled Cable for iPhone iPad and iPod    14.99       7.709   \n",
       "16662                Pro New iPad Wi-Fi + Cellular 512GB  1449.00  14.070.013   \n",
       "12172   Protective cover ultrafine silicone cases mini 4    69.00     569.995   \n",
       "294                     Dlink USB Hub Mac and PC 4 port.    64.00     469.891   \n",
       "16689  New MacBook Retina Display 12-inch Core i7 16G...  2039.00  19.170.042   \n",
       "18834  Refurbished Bluetooth Portable Speaker for iPh...   209.00     926.835   \n",
       "17808  Scalable NAS server with transcoding 4K: 4-cor...   779.98   7.251.784   \n",
       "12523             Protective Case for iPhone SE / 5s / 5     9.95      69.902   \n",
       "17784  4-bay NAS server to accommodate 4K Ultra HD files   692.71   6.819.899   \n",
       "17587  Apple Watch 42mm Nike + series 3 with GPS alti...   399.00   3.909.994   \n",
       "14831  External Hard Drive 4TB USB refitted-C and USB...   199.99     127.465   \n",
       "11875  Kit 7 tools for iPhone 4 / 4S / 5 / 5S / 6/6 P...    12.99      83.793   \n",
       "2754   Portable light with natural dynamic effects an...    79.95     789.888   \n",
       "19004  MacBook battery 133 inches (White Model) open box   119.99     709.187   \n",
       "18447  Pro iMac 27 inch screen Retina 5K and Intel Xe...  8379.00   7.876.005   \n",
       "12699  An ultra-resistant protective layers 3 iPhone ...    49.99     299.899   \n",
       "697    New Mac Pro with 16 GB of RAM 6 Core 2 GPU and...  4649.00  42.665.846   \n",
       "12331  And microfiber leather case for iPhone Premium SE    45.00     420.003   \n",
       "872      Wi-Fi sensor for remote control and plant care.    59.95     398.889   \n",
       "17338  Apple Watch the 1st gene. touch screen monitor...  1269.00   4.990.004   \n",
       "1785   Magnetic car holder with 360 degrees rotating ...    24.99     149.895   \n",
       "18228  thin leather case handmade Sena UltraSlim Case...    39.95     329.894   \n",
       "1914    PCI Express Card SSD 120GB (2x64GB) for Mac Pro.   279.00   2.065.845   \n",
       "12164  Silicone light cover and soft touch for iPad P...    79.00     749.994   \n",
       "19010  MacBook Pro 13-inch Touch Bar refitted with 31...  2489.00  22.064.723   \n",
       "16696  New MacBook Retina display 12-inch Core m3 12G...  1739.00   1.635.004   \n",
       "15497  Installation service includes parts and labor ...    49.99     499.899   \n",
       "12964  SSD Hard Drive 240GB + Tools Macbook Pro Retin...   245.00   2.175.846   \n",
       "8344   IMac desktop computer 27 inch 5K Retina 16GB 2...  2609.00  23.469.898   \n",
       "17510  Wall socket cube-shaped 5 to 250V electrical o...    12.95     109.904   \n",
       "1140   Adapter SSD drive or 2.5 to 3.5 and from 3.5 t...    35.99     349.896   \n",
       "18241  Refurbished Apple iPad mini Wi-Fi + 4 Cellular...   642.81     522.812   \n",
       "19157  USB 3.0 Hub Refurbished 10-port 7 for data tra...    59.99     374.752   \n",
       "12496  USB 2.0 Pen Drive and Lightning 64Gb iPad and ...   110.00     605.582   \n",
       "15455  NAS with HDMI 4K (3840x2160) output 4-core pro...  1195.09   9.753.677   \n",
       "2382   Replacement front camera and Micro Proximity S...    19.99     199.892   \n",
       "14100  New MacBook Pro 15-inch Core i7 Touch Bar 29Gh...  3319.00  31.595.847   \n",
       "17202  4TB external hard drive with built-in WiFi SD ...   269.99   2.417.943   \n",
       "15201  NAS server Mac and PC with open packaging 2 ba...   260.99   2.589.993   \n",
       "1052   Neoprene sleeve for MacBook Air and MacBook Pr...    39.99     379.892   \n",
       "13415  ultrathin leather case and microfiber premium ...    59.00     490.002   \n",
       "11216  NAS server 4 bays and 4 GB RAM for small busin...   845.79   8.449.902   \n",
       "\n",
       "       in_stock       type  \n",
       "18600         0       1325  \n",
       "18474         0  118692158  \n",
       "2443          0   12655397  \n",
       "1317          0   12175397  \n",
       "1833          0   11905404  \n",
       "11447         0       1298  \n",
       "12163         0      10230  \n",
       "11838         1   11865403  \n",
       "15671         0       1298  \n",
       "16662         0   51861714  \n",
       "12172         0   12635403  \n",
       "294           0   12995397  \n",
       "16689         0   5,39E+11  \n",
       "18834         0       5398  \n",
       "17808         0   12175397  \n",
       "12523         0   11865403  \n",
       "17784         0   12175397  \n",
       "17587         1   24895185  \n",
       "14831         0   11935397  \n",
       "11875         0       1298  \n",
       "2754          1   11905404  \n",
       "19004         0      10142  \n",
       "18447         0  118692158  \n",
       "12699         0   11865403  \n",
       "697           0       1282  \n",
       "12331         1   11865403  \n",
       "872           0   11905404  \n",
       "17338         0   24895185  \n",
       "1785          0   11865403  \n",
       "18228         1   11865403  \n",
       "1914          0   12215397  \n",
       "12164         0   12635403  \n",
       "19010         0   1,02E+12  \n",
       "16696         0   5,39E+11  \n",
       "15497         0   1,44E+11  \n",
       "12964         0   12655397  \n",
       "8344          0       1282  \n",
       "17510         1       5395  \n",
       "1140          0   12755395  \n",
       "18241         0   13621714  \n",
       "19157         0   12585395  \n",
       "12496         0       1298  \n",
       "15455         0   12175397  \n",
       "2382          0   21485407  \n",
       "14100         0       2158  \n",
       "17202         0   11935397  \n",
       "15201         0   12175397  \n",
       "1052          1   13835403  \n",
       "13415         0   11865403  \n",
       "11216         0   12175397  "
      ]
     },
     "execution_count": 71,
     "metadata": {},
     "output_type": "execute_result"
    }
   ],
   "source": [
    "promo_price_df = products.loc[(products.promo_price.astype(str).str.contains(\"\\d+\\.\\d+\\.\\d+\"))|(products.promo_price.astype(str).str.contains(\"\\d+\\.\\d{3,}\")), :]\n",
    "promo_price_df.sample(50)"
   ]
  },
  {
   "cell_type": "markdown",
   "metadata": {
    "id": "0Hfgo84xu_VS"
   },
   "source": [
    "So we were correct, over 90% of the data in this column is corrupt. There's no point deleting all of these rows, then we would barely have a products table. Instead, as it's only this column that appears to be very untrustworthy, we will delete the column."
   ]
  },
  {
   "cell_type": "code",
   "execution_count": null,
   "metadata": {
    "id": "OalyJ-8atij8"
   },
   "outputs": [],
   "source": [
    "products_cl = products.drop(columns=[\"promo_price\"])"
   ]
  },
  {
   "cell_type": "markdown",
   "metadata": {
    "id": "vyyISxnQ1YVG"
   },
   "source": [
    "Obviously, there's now no need to convert `promo_price` to a numerical datatype\n",
    "\n",
    "Don't forget to download/save your new DataFrames. Also, give them an obvious name, so that you know they are the cleaned version and not the original DataFrame."
   ]
  },
  {
   "cell_type": "code",
   "execution_count": null,
   "metadata": {
    "colab": {
     "base_uri": "https://localhost:8080/",
     "height": 17
    },
    "executionInfo": {
     "elapsed": 2602,
     "status": "ok",
     "timestamp": 1661367298562,
     "user": {
      "displayName": "Guillem Perdigo",
      "userId": "04677264432036902014"
     },
     "user_tz": -120
    },
    "id": "6M4Jxfz-8G2b",
    "outputId": "20ccaa86-8e07-455a-fba4-dfc14badf2c5"
   },
   "outputs": [
    {
     "data": {
      "application/javascript": [
       "\n",
       "    async function download(id, filename, size) {\n",
       "      if (!google.colab.kernel.accessAllowed) {\n",
       "        return;\n",
       "      }\n",
       "      const div = document.createElement('div');\n",
       "      const label = document.createElement('label');\n",
       "      label.textContent = `Downloading \"${filename}\": `;\n",
       "      div.appendChild(label);\n",
       "      const progress = document.createElement('progress');\n",
       "      progress.max = size;\n",
       "      div.appendChild(progress);\n",
       "      document.body.appendChild(div);\n",
       "\n",
       "      const buffers = [];\n",
       "      let downloaded = 0;\n",
       "\n",
       "      const channel = await google.colab.kernel.comms.open(id);\n",
       "      // Send a message to notify the kernel that we're ready.\n",
       "      channel.send({})\n",
       "\n",
       "      for await (const message of channel.messages) {\n",
       "        // Send a message to notify the kernel that we're ready.\n",
       "        channel.send({})\n",
       "        if (message.buffers) {\n",
       "          for (const buffer of message.buffers) {\n",
       "            buffers.push(buffer);\n",
       "            downloaded += buffer.byteLength;\n",
       "            progress.value = downloaded;\n",
       "          }\n",
       "        }\n",
       "      }\n",
       "      const blob = new Blob(buffers, {type: 'application/binary'});\n",
       "      const a = document.createElement('a');\n",
       "      a.href = window.URL.createObjectURL(blob);\n",
       "      a.download = filename;\n",
       "      div.appendChild(a);\n",
       "      a.click();\n",
       "      div.remove();\n",
       "    }\n",
       "  "
      ],
      "text/plain": [
       "<IPython.core.display.Javascript object>"
      ]
     },
     "metadata": {},
     "output_type": "display_data"
    },
    {
     "data": {
      "application/javascript": [
       "download(\"download_5d42c127-2955-411d-ba20-a78b646067d9\", \"orders_cl.csv\", 10596743)"
      ],
      "text/plain": [
       "<IPython.core.display.Javascript object>"
      ]
     },
     "metadata": {},
     "output_type": "display_data"
    },
    {
     "data": {
      "application/javascript": [
       "\n",
       "    async function download(id, filename, size) {\n",
       "      if (!google.colab.kernel.accessAllowed) {\n",
       "        return;\n",
       "      }\n",
       "      const div = document.createElement('div');\n",
       "      const label = document.createElement('label');\n",
       "      label.textContent = `Downloading \"${filename}\": `;\n",
       "      div.appendChild(label);\n",
       "      const progress = document.createElement('progress');\n",
       "      progress.max = size;\n",
       "      div.appendChild(progress);\n",
       "      document.body.appendChild(div);\n",
       "\n",
       "      const buffers = [];\n",
       "      let downloaded = 0;\n",
       "\n",
       "      const channel = await google.colab.kernel.comms.open(id);\n",
       "      // Send a message to notify the kernel that we're ready.\n",
       "      channel.send({})\n",
       "\n",
       "      for await (const message of channel.messages) {\n",
       "        // Send a message to notify the kernel that we're ready.\n",
       "        channel.send({})\n",
       "        if (message.buffers) {\n",
       "          for (const buffer of message.buffers) {\n",
       "            buffers.push(buffer);\n",
       "            downloaded += buffer.byteLength;\n",
       "            progress.value = downloaded;\n",
       "          }\n",
       "        }\n",
       "      }\n",
       "      const blob = new Blob(buffers, {type: 'application/binary'});\n",
       "      const a = document.createElement('a');\n",
       "      a.href = window.URL.createObjectURL(blob);\n",
       "      a.download = filename;\n",
       "      div.appendChild(a);\n",
       "      a.click();\n",
       "      div.remove();\n",
       "    }\n",
       "  "
      ],
      "text/plain": [
       "<IPython.core.display.Javascript object>"
      ]
     },
     "metadata": {},
     "output_type": "display_data"
    },
    {
     "data": {
      "application/javascript": [
       "download(\"download_2b4797ed-d6a0-4aa9-8bcc-799b21dc23d4\", \"orderlines_cl.csv\", 11513408)"
      ],
      "text/plain": [
       "<IPython.core.display.Javascript object>"
      ]
     },
     "metadata": {},
     "output_type": "display_data"
    },
    {
     "data": {
      "application/javascript": [
       "\n",
       "    async function download(id, filename, size) {\n",
       "      if (!google.colab.kernel.accessAllowed) {\n",
       "        return;\n",
       "      }\n",
       "      const div = document.createElement('div');\n",
       "      const label = document.createElement('label');\n",
       "      label.textContent = `Downloading \"${filename}\": `;\n",
       "      div.appendChild(label);\n",
       "      const progress = document.createElement('progress');\n",
       "      progress.max = size;\n",
       "      div.appendChild(progress);\n",
       "      document.body.appendChild(div);\n",
       "\n",
       "      const buffers = [];\n",
       "      let downloaded = 0;\n",
       "\n",
       "      const channel = await google.colab.kernel.comms.open(id);\n",
       "      // Send a message to notify the kernel that we're ready.\n",
       "      channel.send({})\n",
       "\n",
       "      for await (const message of channel.messages) {\n",
       "        // Send a message to notify the kernel that we're ready.\n",
       "        channel.send({})\n",
       "        if (message.buffers) {\n",
       "          for (const buffer of message.buffers) {\n",
       "            buffers.push(buffer);\n",
       "            downloaded += buffer.byteLength;\n",
       "            progress.value = downloaded;\n",
       "          }\n",
       "        }\n",
       "      }\n",
       "      const blob = new Blob(buffers, {type: 'application/binary'});\n",
       "      const a = document.createElement('a');\n",
       "      a.href = window.URL.createObjectURL(blob);\n",
       "      a.download = filename;\n",
       "      div.appendChild(a);\n",
       "      a.click();\n",
       "      div.remove();\n",
       "    }\n",
       "  "
      ],
      "text/plain": [
       "<IPython.core.display.Javascript object>"
      ]
     },
     "metadata": {},
     "output_type": "display_data"
    },
    {
     "data": {
      "application/javascript": [
       "download(\"download_b3d01a00-f1aa-465c-87c0-46a1e62a3517\", \"products_cl.csv\", 1416132)"
      ],
      "text/plain": [
       "<IPython.core.display.Javascript object>"
      ]
     },
     "metadata": {},
     "output_type": "display_data"
    }
   ],
   "source": [
    "from google.colab import files\n",
    "\n",
    "orders.to_csv(\"orders_cl.csv\", index=False)\n",
    "files.download(\"orders_cl.csv\")\n",
    "\n",
    "orderlines.to_csv(\"orderlines_cl.csv\", index=False)\n",
    "files.download(\"orderlines_cl.csv\")\n",
    "\n",
    "products_cl.to_csv(\"products_cl.csv\", index=False)\n",
    "files.download(\"products_cl.csv\")"
   ]
  }
 ],
 "metadata": {
  "colab": {
   "collapsed_sections": [
    "u0CsTv1WnMie",
    "9GcbI2upeG3M"
   ],
   "provenance": [
    {
     "file_id": "1mD_LzinGOgqg1l3qeXKzaU7-oKUv6Bvi",
     "timestamp": 1669912613284
    }
   ]
  },
  "kernelspec": {
   "display_name": "Python 3 (ipykernel)",
   "language": "python",
   "name": "python3"
  },
  "language_info": {
   "codemirror_mode": {
    "name": "ipython",
    "version": 3
   },
   "file_extension": ".py",
   "mimetype": "text/x-python",
   "name": "python",
   "nbconvert_exporter": "python",
   "pygments_lexer": "ipython3",
   "version": "3.9.12"
  }
 },
 "nbformat": 4,
 "nbformat_minor": 4
}
