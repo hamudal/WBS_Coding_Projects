{
 "cells": [
  {
   "cell_type": "code",
   "execution_count": 1,
   "id": "6261909e-f79a-4bbe-b3ca-09dc5db36607",
   "metadata": {},
   "outputs": [],
   "source": [
    "import pandas as pd\n",
    "import matplotlib.pyplot as plt\n",
    "import seaborn as sns\n",
    "from sklearn.metrics.pairwise import euclidean_distances"
   ]
  },
  {
   "cell_type": "code",
   "execution_count": null,
   "id": "a3529ad6-dd28-4f08-b186-cc8d084b3ff1",
   "metadata": {},
   "outputs": [],
   "source": [
    "# df_music = pd.read_csv(\"df_audio_features_10.csv\",\n",
    "#                                 index_col=[\"song_name\", \"artist\"])\n",
    "# df_music\n",
    "\n",
    "df_audio_features = pd.read_csv(\"df_audio_features_10.csv\",\n",
    "                                index_col=[\"song_name\", \"artist\"])\n",
    "\n",
    "df_audio_features"
   ]
  },
  {
   "cell_type": "code",
   "execution_count": null,
   "id": "b2566c16-a603-4994-a1a4-21a67c43734c",
   "metadata": {},
   "outputs": [],
   "source": [
    "# 0. read the csv data into a Pandas DataFrame\n",
    "# import pandas as pd\n",
    "# df_audio_features = pd.read_csv(\"df_audio_features.csv\",\n",
    "#                                 index_col=[\"song_name\", \"artist\"])\n",
    " \n",
    "# 1. import the transformer\n",
    "from sklearn.preprocessing import MinMaxScaler\n",
    " \n",
    "# 2. initialize the transformer (optionally, set parameters)\n",
    "my_min_max = MinMaxScaler(feature_range=(0,1))\n",
    " \n",
    "# 3. fit the transformer to the data\n",
    "my_min_max.fit(df_audio_features)\n",
    " \n",
    "# 4. use the transformer to transform the data\n",
    "scaled_audio_features = my_min_max.transform(df_audio_features)\n",
    " \n",
    "# 5. reconvert the transformed data back to a DataFrame\n",
    "pd.DataFrame(scaled_audio_features,\n",
    "             index=df_audio_features.index,\n",
    "             columns=df_audio_features.columns)"
   ]
  },
  {
   "cell_type": "code",
   "execution_count": null,
   "id": "a2da50c1-e05c-4f4a-966a-b45321a3f617",
   "metadata": {},
   "outputs": [],
   "source": []
  },
  {
   "cell_type": "code",
   "execution_count": null,
   "id": "ca3e9e95-f75f-4a12-9faf-7ea0b2cd47d8",
   "metadata": {},
   "outputs": [],
   "source": [
    "df_music.shape\n"
   ]
  },
  {
   "cell_type": "code",
   "execution_count": null,
   "id": "e688e5d6-c901-4b40-a60f-fc4123f93fe3",
   "metadata": {},
   "outputs": [],
   "source": []
  },
  {
   "cell_type": "code",
   "execution_count": null,
   "id": "f52ebbce-7f85-4160-a5a0-8b172abaea7e",
   "metadata": {},
   "outputs": [],
   "source": []
  },
  {
   "cell_type": "code",
   "execution_count": null,
   "id": "96401951-066c-4cfa-a815-6e60238c6c9d",
   "metadata": {},
   "outputs": [],
   "source": [
    "df_music.iloc[0:1, 0:1] "
   ]
  },
  {
   "cell_type": "code",
   "execution_count": null,
   "id": "5fd6c3ab-42d7-4151-b3c8-dd7e76dbee06",
   "metadata": {},
   "outputs": [],
   "source": [
    "df_music_song_name_artist = df_music.iloc[0:, 0:2]"
   ]
  },
  {
   "cell_type": "code",
   "execution_count": null,
   "id": "2d591781-f86a-446f-ac4c-ef41ca5ef128",
   "metadata": {},
   "outputs": [],
   "source": [
    "df_music_song_name_artist\n"
   ]
  },
  {
   "cell_type": "code",
   "execution_count": null,
   "id": "8233b33a-e10d-4301-90ed-dfb8b80202d0",
   "metadata": {},
   "outputs": [],
   "source": [
    " df_music_parameters = df_music.iloc[0:, 2:15]\n",
    "df_music_parameters"
   ]
  },
  {
   "cell_type": "code",
   "execution_count": null,
   "id": "926098b6-dd1f-434f-af35-47b4a74528ed",
   "metadata": {},
   "outputs": [],
   "source": [
    "music_solution = pd.DataFrame(euclidean_distances(df_music_parameters)\n",
    "                             )\n",
    "music_solution"
   ]
  },
  {
   "cell_type": "code",
   "execution_count": null,
   "id": "71e654af-c64d-4328-a4b8-24f425a971b1",
   "metadata": {},
   "outputs": [],
   "source": [
    "music_solution"
   ]
  },
  {
   "cell_type": "code",
   "execution_count": null,
   "id": "a6a55013-c2b4-406c-b4df-66fc6b3e2b84",
   "metadata": {},
   "outputs": [],
   "source": [
    "df_music_song_name_artist.merge(music_solution, on= on)"
   ]
  },
  {
   "cell_type": "code",
   "execution_count": null,
   "id": "b879f4ce-4a00-4629-b1e2-ad26fd75e08f",
   "metadata": {},
   "outputs": [],
   "source": []
  },
  {
   "cell_type": "code",
   "execution_count": null,
   "id": "bb544ee7-6578-4edb-b605-db6ac40415f2",
   "metadata": {},
   "outputs": [],
   "source": []
  }
 ],
 "metadata": {
  "kernelspec": {
   "display_name": "Python 3 (ipykernel)",
   "language": "python",
   "name": "python3"
  },
  "language_info": {
   "codemirror_mode": {
    "name": "ipython",
    "version": 3
   },
   "file_extension": ".py",
   "mimetype": "text/x-python",
   "name": "python",
   "nbconvert_exporter": "python",
   "pygments_lexer": "ipython3",
   "version": "3.9.12"
  }
 },
 "nbformat": 4,
 "nbformat_minor": 5
}
