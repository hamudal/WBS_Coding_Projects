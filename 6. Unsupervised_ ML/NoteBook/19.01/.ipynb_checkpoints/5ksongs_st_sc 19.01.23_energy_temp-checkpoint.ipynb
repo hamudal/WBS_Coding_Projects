{
 "cells": [
  {
   "cell_type": "code",
   "execution_count": 1,
   "id": "2cef37e3-b027-4f02-9ab0-3c44209990ed",
   "metadata": {},
   "outputs": [
    {
     "ename": "SyntaxError",
     "evalue": "invalid syntax (2942061232.py, line 2)",
     "output_type": "error",
     "traceback": [
      "\u001b[1;36m  Input \u001b[1;32mIn [1]\u001b[1;36m\u001b[0m\n\u001b[1;33m    import pandas as pdpip install scikit-learn --upgrade\u001b[0m\n\u001b[1;37m                           ^\u001b[0m\n\u001b[1;31mSyntaxError\u001b[0m\u001b[1;31m:\u001b[0m invalid syntax\n"
     ]
    }
   ],
   "source": [
    "# We want pandas and our scaler:\n",
    "import pandas as pdpip install scikit-learn --upgrade\n",
    "import matplotlib.pyplot as plt\n",
    "import seaborn as sns\n",
    "from sklearn.cluster import KMeans\n",
    "from sklearn.metrics import silhouette_scoreb\n",
    "from sklearn.preprocessing import StandardScaler\n",
    "\n",
    "# We keep .csv files in same path as our project so we easy navigate to them:\n",
    "\n",
    "df_5k = pd.read_csv(r'df_audio_features_5000.csv',skipinitialspace=True)\n"
   ]
  },
  {
   "cell_type": "code",
   "execution_count": null,
   "id": "2bdfc73d-4cd3-4b4c-8d4e-c914fe90d895",
   "metadata": {},
   "outputs": [],
   "source": [
    "# pip install scikit-learn --upgrade"
   ]
  },
  {
   "cell_type": "code",
   "execution_count": null,
   "id": "cf598d1b-2a37-4640-a085-38643a1bb094",
   "metadata": {},
   "outputs": [],
   "source": [
    "df_5k"
   ]
  },
  {
   "cell_type": "code",
   "execution_count": null,
   "id": "c8664c7e-b2ab-420b-b230-49300789fd7f",
   "metadata": {},
   "outputs": [],
   "source": []
  },
  {
   "cell_type": "code",
   "execution_count": null,
   "id": "8b1a30dc-8ef9-41a0-beb7-e55d12dad68e",
   "metadata": {},
   "outputs": [],
   "source": []
  }
 ],
 "metadata": {
  "kernelspec": {
   "display_name": "Python 3 (ipykernel)",
   "language": "python",
   "name": "python3"
  },
  "language_info": {
   "codemirror_mode": {
    "name": "ipython",
    "version": 3
   },
   "file_extension": ".py",
   "mimetype": "text/x-python",
   "name": "python",
   "nbconvert_exporter": "python",
   "pygments_lexer": "ipython3",
   "version": "3.9.12"
  }
 },
 "nbformat": 4,
 "nbformat_minor": 5
}
