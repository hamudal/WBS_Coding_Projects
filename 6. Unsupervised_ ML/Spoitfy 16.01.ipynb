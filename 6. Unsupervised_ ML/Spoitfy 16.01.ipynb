{
 "cells": [
  {
   "cell_type": "code",
   "execution_count": 62,
   "id": "fd20a6e1-8936-4f13-9b17-682f13682aeb",
   "metadata": {},
   "outputs": [
    {
     "ename": "ValueError",
     "evalue": "could not convert string to float: 'My Band'",
     "output_type": "error",
     "traceback": [
      "\u001b[1;31m---------------------------------------------------------------------------\u001b[0m",
      "\u001b[1;31mValueError\u001b[0m                                Traceback (most recent call last)",
      "Input \u001b[1;32mIn [62]\u001b[0m, in \u001b[0;36m<cell line: 6>\u001b[1;34m()\u001b[0m\n\u001b[0;32m      3\u001b[0m \u001b[38;5;28;01mimport\u001b[39;00m \u001b[38;5;21;01mseaborn\u001b[39;00m \u001b[38;5;28;01mas\u001b[39;00m \u001b[38;5;21;01msns\u001b[39;00m\n\u001b[0;32m      4\u001b[0m \u001b[38;5;28;01mfrom\u001b[39;00m \u001b[38;5;21;01msklearn\u001b[39;00m\u001b[38;5;21;01m.\u001b[39;00m\u001b[38;5;21;01mmetrics\u001b[39;00m \u001b[38;5;28;01mimport\u001b[39;00m pairwise_distances\n\u001b[1;32m----> 6\u001b[0m pd\u001b[38;5;241m.\u001b[39mDataFrame(\u001b[43mpairwise_distances\u001b[49m\u001b[43m(\u001b[49m\u001b[43mdf_music\u001b[49m\u001b[43m)\u001b[49m, index\u001b[38;5;241m=\u001b[39mdf_music\u001b[38;5;241m.\u001b[39mindex, columns\u001b[38;5;241m=\u001b[39mdf_music\u001b[38;5;241m.\u001b[39mindex)\n",
      "File \u001b[1;32mZ:\\Progs\\Anaconda\\lib\\site-packages\\sklearn\\metrics\\pairwise.py:1889\u001b[0m, in \u001b[0;36mpairwise_distances\u001b[1;34m(X, Y, metric, n_jobs, force_all_finite, **kwds)\u001b[0m\n\u001b[0;32m   1886\u001b[0m         \u001b[38;5;28;01mreturn\u001b[39;00m distance\u001b[38;5;241m.\u001b[39msquareform(distance\u001b[38;5;241m.\u001b[39mpdist(X, metric\u001b[38;5;241m=\u001b[39mmetric, \u001b[38;5;241m*\u001b[39m\u001b[38;5;241m*\u001b[39mkwds))\n\u001b[0;32m   1887\u001b[0m     func \u001b[38;5;241m=\u001b[39m partial(distance\u001b[38;5;241m.\u001b[39mcdist, metric\u001b[38;5;241m=\u001b[39mmetric, \u001b[38;5;241m*\u001b[39m\u001b[38;5;241m*\u001b[39mkwds)\n\u001b[1;32m-> 1889\u001b[0m \u001b[38;5;28;01mreturn\u001b[39;00m _parallel_pairwise(X, Y, func, n_jobs, \u001b[38;5;241m*\u001b[39m\u001b[38;5;241m*\u001b[39mkwds)\n",
      "File \u001b[1;32mZ:\\Progs\\Anaconda\\lib\\site-packages\\sklearn\\metrics\\pairwise.py:1430\u001b[0m, in \u001b[0;36m_parallel_pairwise\u001b[1;34m(X, Y, func, n_jobs, **kwds)\u001b[0m\n\u001b[0;32m   1427\u001b[0m X, Y, dtype \u001b[38;5;241m=\u001b[39m _return_float_dtype(X, Y)\n\u001b[0;32m   1429\u001b[0m \u001b[38;5;28;01mif\u001b[39;00m effective_n_jobs(n_jobs) \u001b[38;5;241m==\u001b[39m \u001b[38;5;241m1\u001b[39m:\n\u001b[1;32m-> 1430\u001b[0m     \u001b[38;5;28;01mreturn\u001b[39;00m func(X, Y, \u001b[38;5;241m*\u001b[39m\u001b[38;5;241m*\u001b[39mkwds)\n\u001b[0;32m   1432\u001b[0m \u001b[38;5;66;03m# enforce a threading backend to prevent data communication overhead\u001b[39;00m\n\u001b[0;32m   1433\u001b[0m fd \u001b[38;5;241m=\u001b[39m delayed(_dist_wrapper)\n",
      "File \u001b[1;32mZ:\\Progs\\Anaconda\\lib\\site-packages\\sklearn\\metrics\\pairwise.py:302\u001b[0m, in \u001b[0;36meuclidean_distances\u001b[1;34m(X, Y, Y_norm_squared, squared, X_norm_squared)\u001b[0m\n\u001b[0;32m    226\u001b[0m \u001b[38;5;28;01mdef\u001b[39;00m \u001b[38;5;21meuclidean_distances\u001b[39m(\n\u001b[0;32m    227\u001b[0m     X, Y\u001b[38;5;241m=\u001b[39m\u001b[38;5;28;01mNone\u001b[39;00m, \u001b[38;5;241m*\u001b[39m, Y_norm_squared\u001b[38;5;241m=\u001b[39m\u001b[38;5;28;01mNone\u001b[39;00m, squared\u001b[38;5;241m=\u001b[39m\u001b[38;5;28;01mFalse\u001b[39;00m, X_norm_squared\u001b[38;5;241m=\u001b[39m\u001b[38;5;28;01mNone\u001b[39;00m\n\u001b[0;32m    228\u001b[0m ):\n\u001b[0;32m    229\u001b[0m     \u001b[38;5;124;03m\"\"\"\u001b[39;00m\n\u001b[0;32m    230\u001b[0m \u001b[38;5;124;03m    Compute the distance matrix between each pair from a vector array X and Y.\u001b[39;00m\n\u001b[0;32m    231\u001b[0m \n\u001b[1;32m   (...)\u001b[0m\n\u001b[0;32m    300\u001b[0m \u001b[38;5;124;03m           [1.41421356]])\u001b[39;00m\n\u001b[0;32m    301\u001b[0m \u001b[38;5;124;03m    \"\"\"\u001b[39;00m\n\u001b[1;32m--> 302\u001b[0m     X, Y \u001b[38;5;241m=\u001b[39m \u001b[43mcheck_pairwise_arrays\u001b[49m\u001b[43m(\u001b[49m\u001b[43mX\u001b[49m\u001b[43m,\u001b[49m\u001b[43m \u001b[49m\u001b[43mY\u001b[49m\u001b[43m)\u001b[49m\n\u001b[0;32m    304\u001b[0m     \u001b[38;5;28;01mif\u001b[39;00m X_norm_squared \u001b[38;5;129;01mis\u001b[39;00m \u001b[38;5;129;01mnot\u001b[39;00m \u001b[38;5;28;01mNone\u001b[39;00m:\n\u001b[0;32m    305\u001b[0m         X_norm_squared \u001b[38;5;241m=\u001b[39m check_array(X_norm_squared, ensure_2d\u001b[38;5;241m=\u001b[39m\u001b[38;5;28;01mFalse\u001b[39;00m)\n",
      "File \u001b[1;32mZ:\\Progs\\Anaconda\\lib\\site-packages\\sklearn\\metrics\\pairwise.py:156\u001b[0m, in \u001b[0;36mcheck_pairwise_arrays\u001b[1;34m(X, Y, precomputed, dtype, accept_sparse, force_all_finite, copy)\u001b[0m\n\u001b[0;32m    147\u001b[0m     X \u001b[38;5;241m=\u001b[39m Y \u001b[38;5;241m=\u001b[39m check_array(\n\u001b[0;32m    148\u001b[0m         X,\n\u001b[0;32m    149\u001b[0m         accept_sparse\u001b[38;5;241m=\u001b[39maccept_sparse,\n\u001b[1;32m   (...)\u001b[0m\n\u001b[0;32m    153\u001b[0m         estimator\u001b[38;5;241m=\u001b[39mestimator,\n\u001b[0;32m    154\u001b[0m     )\n\u001b[0;32m    155\u001b[0m \u001b[38;5;28;01melse\u001b[39;00m:\n\u001b[1;32m--> 156\u001b[0m     X \u001b[38;5;241m=\u001b[39m \u001b[43mcheck_array\u001b[49m\u001b[43m(\u001b[49m\n\u001b[0;32m    157\u001b[0m \u001b[43m        \u001b[49m\u001b[43mX\u001b[49m\u001b[43m,\u001b[49m\n\u001b[0;32m    158\u001b[0m \u001b[43m        \u001b[49m\u001b[43maccept_sparse\u001b[49m\u001b[38;5;241;43m=\u001b[39;49m\u001b[43maccept_sparse\u001b[49m\u001b[43m,\u001b[49m\n\u001b[0;32m    159\u001b[0m \u001b[43m        \u001b[49m\u001b[43mdtype\u001b[49m\u001b[38;5;241;43m=\u001b[39;49m\u001b[43mdtype\u001b[49m\u001b[43m,\u001b[49m\n\u001b[0;32m    160\u001b[0m \u001b[43m        \u001b[49m\u001b[43mcopy\u001b[49m\u001b[38;5;241;43m=\u001b[39;49m\u001b[43mcopy\u001b[49m\u001b[43m,\u001b[49m\n\u001b[0;32m    161\u001b[0m \u001b[43m        \u001b[49m\u001b[43mforce_all_finite\u001b[49m\u001b[38;5;241;43m=\u001b[39;49m\u001b[43mforce_all_finite\u001b[49m\u001b[43m,\u001b[49m\n\u001b[0;32m    162\u001b[0m \u001b[43m        \u001b[49m\u001b[43mestimator\u001b[49m\u001b[38;5;241;43m=\u001b[39;49m\u001b[43mestimator\u001b[49m\u001b[43m,\u001b[49m\n\u001b[0;32m    163\u001b[0m \u001b[43m    \u001b[49m\u001b[43m)\u001b[49m\n\u001b[0;32m    164\u001b[0m     Y \u001b[38;5;241m=\u001b[39m check_array(\n\u001b[0;32m    165\u001b[0m         Y,\n\u001b[0;32m    166\u001b[0m         accept_sparse\u001b[38;5;241m=\u001b[39maccept_sparse,\n\u001b[1;32m   (...)\u001b[0m\n\u001b[0;32m    170\u001b[0m         estimator\u001b[38;5;241m=\u001b[39mestimator,\n\u001b[0;32m    171\u001b[0m     )\n\u001b[0;32m    173\u001b[0m \u001b[38;5;28;01mif\u001b[39;00m precomputed:\n",
      "File \u001b[1;32mZ:\\Progs\\Anaconda\\lib\\site-packages\\sklearn\\utils\\validation.py:746\u001b[0m, in \u001b[0;36mcheck_array\u001b[1;34m(array, accept_sparse, accept_large_sparse, dtype, order, copy, force_all_finite, ensure_2d, allow_nd, ensure_min_samples, ensure_min_features, estimator)\u001b[0m\n\u001b[0;32m    744\u001b[0m         array \u001b[38;5;241m=\u001b[39m array\u001b[38;5;241m.\u001b[39mastype(dtype, casting\u001b[38;5;241m=\u001b[39m\u001b[38;5;124m\"\u001b[39m\u001b[38;5;124munsafe\u001b[39m\u001b[38;5;124m\"\u001b[39m, copy\u001b[38;5;241m=\u001b[39m\u001b[38;5;28;01mFalse\u001b[39;00m)\n\u001b[0;32m    745\u001b[0m     \u001b[38;5;28;01melse\u001b[39;00m:\n\u001b[1;32m--> 746\u001b[0m         array \u001b[38;5;241m=\u001b[39m \u001b[43mnp\u001b[49m\u001b[38;5;241;43m.\u001b[39;49m\u001b[43masarray\u001b[49m\u001b[43m(\u001b[49m\u001b[43marray\u001b[49m\u001b[43m,\u001b[49m\u001b[43m \u001b[49m\u001b[43morder\u001b[49m\u001b[38;5;241;43m=\u001b[39;49m\u001b[43morder\u001b[49m\u001b[43m,\u001b[49m\u001b[43m \u001b[49m\u001b[43mdtype\u001b[49m\u001b[38;5;241;43m=\u001b[39;49m\u001b[43mdtype\u001b[49m\u001b[43m)\u001b[49m\n\u001b[0;32m    747\u001b[0m \u001b[38;5;28;01mexcept\u001b[39;00m ComplexWarning \u001b[38;5;28;01mas\u001b[39;00m complex_warning:\n\u001b[0;32m    748\u001b[0m     \u001b[38;5;28;01mraise\u001b[39;00m \u001b[38;5;167;01mValueError\u001b[39;00m(\n\u001b[0;32m    749\u001b[0m         \u001b[38;5;124m\"\u001b[39m\u001b[38;5;124mComplex data not supported\u001b[39m\u001b[38;5;130;01m\\n\u001b[39;00m\u001b[38;5;132;01m{}\u001b[39;00m\u001b[38;5;130;01m\\n\u001b[39;00m\u001b[38;5;124m\"\u001b[39m\u001b[38;5;241m.\u001b[39mformat(array)\n\u001b[0;32m    750\u001b[0m     ) \u001b[38;5;28;01mfrom\u001b[39;00m \u001b[38;5;21;01mcomplex_warning\u001b[39;00m\n",
      "\u001b[1;31mValueError\u001b[0m: could not convert string to float: 'My Band'"
     ]
    }
   ],
   "source": [
    "import pandas as pd\n",
    "import matplotlib.pyplot as plt\n",
    "import seaborn as sns\n",
    "from sklearn.metrics import pairwise_distances\n",
    "\n",
    "pd.DataFrame(pairwise_distances(df_music), index=df_music.index, columns=df_music.index)"
   ]
  },
  {
   "cell_type": "code",
   "execution_count": 53,
   "id": "f523f076-c03f-46fb-92c5-f64453978e87",
   "metadata": {},
   "outputs": [],
   "source": [
    "df_music = pd.read_csv(\"df_audio_features_10.csv\")\n"
   ]
  },
  {
   "cell_type": "code",
   "execution_count": 54,
   "id": "cad59d1a-6748-4104-b051-636b49a95e7e",
   "metadata": {},
   "outputs": [
    {
     "data": {
      "text/html": [
       "<div>\n",
       "<style scoped>\n",
       "    .dataframe tbody tr th:only-of-type {\n",
       "        vertical-align: middle;\n",
       "    }\n",
       "\n",
       "    .dataframe tbody tr th {\n",
       "        vertical-align: top;\n",
       "    }\n",
       "\n",
       "    .dataframe thead th {\n",
       "        text-align: right;\n",
       "    }\n",
       "</style>\n",
       "<table border=\"1\" class=\"dataframe\">\n",
       "  <thead>\n",
       "    <tr style=\"text-align: right;\">\n",
       "      <th></th>\n",
       "      <th>song_name</th>\n",
       "      <th>artist</th>\n",
       "      <th>danceability</th>\n",
       "      <th>energy</th>\n",
       "      <th>key</th>\n",
       "      <th>loudness</th>\n",
       "      <th>mode</th>\n",
       "      <th>speechiness</th>\n",
       "      <th>acousticness</th>\n",
       "      <th>instrumentalness</th>\n",
       "      <th>liveness</th>\n",
       "      <th>valence</th>\n",
       "      <th>tempo</th>\n",
       "      <th>duration_ms</th>\n",
       "      <th>time_signature</th>\n",
       "      <th>id</th>\n",
       "      <th>html</th>\n",
       "    </tr>\n",
       "  </thead>\n",
       "  <tbody>\n",
       "    <tr>\n",
       "      <th>0</th>\n",
       "      <td>My Band</td>\n",
       "      <td>D12</td>\n",
       "      <td>0.851</td>\n",
       "      <td>0.84900</td>\n",
       "      <td>1</td>\n",
       "      <td>-3.383</td>\n",
       "      <td>0</td>\n",
       "      <td>0.0828</td>\n",
       "      <td>0.49700</td>\n",
       "      <td>0.000002</td>\n",
       "      <td>0.1160</td>\n",
       "      <td>0.8440</td>\n",
       "      <td>120.014</td>\n",
       "      <td>298773</td>\n",
       "      <td>4</td>\n",
       "      <td>4XHQyvbrBsQaaBUW1VvmsL</td>\n",
       "      <td>https://open.spotify.com/track/4XHQyvbrBsQaaBU...</td>\n",
       "    </tr>\n",
       "    <tr>\n",
       "      <th>1</th>\n",
       "      <td>The Real Slim Shady</td>\n",
       "      <td>Eminem</td>\n",
       "      <td>0.949</td>\n",
       "      <td>0.66100</td>\n",
       "      <td>5</td>\n",
       "      <td>-4.244</td>\n",
       "      <td>0</td>\n",
       "      <td>0.0572</td>\n",
       "      <td>0.03020</td>\n",
       "      <td>0.000000</td>\n",
       "      <td>0.0454</td>\n",
       "      <td>0.7600</td>\n",
       "      <td>104.504</td>\n",
       "      <td>284200</td>\n",
       "      <td>4</td>\n",
       "      <td>3yfqSUWxFvZELEM4PmlwIR</td>\n",
       "      <td>https://open.spotify.com/track/3yfqSUWxFvZELEM...</td>\n",
       "    </tr>\n",
       "    <tr>\n",
       "      <th>2</th>\n",
       "      <td>Águas De Março</td>\n",
       "      <td>Antônio Carlos Jobim</td>\n",
       "      <td>0.642</td>\n",
       "      <td>0.33900</td>\n",
       "      <td>3</td>\n",
       "      <td>-15.503</td>\n",
       "      <td>1</td>\n",
       "      <td>0.1400</td>\n",
       "      <td>0.85400</td>\n",
       "      <td>0.000000</td>\n",
       "      <td>0.1050</td>\n",
       "      <td>0.4910</td>\n",
       "      <td>143.418</td>\n",
       "      <td>212400</td>\n",
       "      <td>4</td>\n",
       "      <td>1y7OxO5i6sfrHXAmUM77YG</td>\n",
       "      <td>https://open.spotify.com/track/1y7OxO5i6sfrHXA...</td>\n",
       "    </tr>\n",
       "    <tr>\n",
       "      <th>3</th>\n",
       "      <td>The Girl From Ipanema</td>\n",
       "      <td>Stan Getz</td>\n",
       "      <td>0.641</td>\n",
       "      <td>0.14000</td>\n",
       "      <td>8</td>\n",
       "      <td>-16.790</td>\n",
       "      <td>1</td>\n",
       "      <td>0.0390</td>\n",
       "      <td>0.86700</td>\n",
       "      <td>0.001660</td>\n",
       "      <td>0.1050</td>\n",
       "      <td>0.3880</td>\n",
       "      <td>129.318</td>\n",
       "      <td>317987</td>\n",
       "      <td>4</td>\n",
       "      <td>3898C4AbdbptwYet6547e5</td>\n",
       "      <td>https://open.spotify.com/track/3898C4AbdbptwYe...</td>\n",
       "    </tr>\n",
       "    <tr>\n",
       "      <th>4</th>\n",
       "      <td>Paint It, Black</td>\n",
       "      <td>The Rolling Stones</td>\n",
       "      <td>0.464</td>\n",
       "      <td>0.79500</td>\n",
       "      <td>1</td>\n",
       "      <td>-9.267</td>\n",
       "      <td>1</td>\n",
       "      <td>0.0926</td>\n",
       "      <td>0.04930</td>\n",
       "      <td>0.002440</td>\n",
       "      <td>0.3990</td>\n",
       "      <td>0.6120</td>\n",
       "      <td>158.691</td>\n",
       "      <td>202267</td>\n",
       "      <td>4</td>\n",
       "      <td>63T7DJ1AFDD6Bn8VzG6JE8</td>\n",
       "      <td>https://open.spotify.com/track/63T7DJ1AFDD6Bn8...</td>\n",
       "    </tr>\n",
       "    <tr>\n",
       "      <th>5</th>\n",
       "      <td>Sultans Of Swing</td>\n",
       "      <td>Dire Straits</td>\n",
       "      <td>0.733</td>\n",
       "      <td>0.79400</td>\n",
       "      <td>5</td>\n",
       "      <td>-10.023</td>\n",
       "      <td>1</td>\n",
       "      <td>0.0307</td>\n",
       "      <td>0.06140</td>\n",
       "      <td>0.036700</td>\n",
       "      <td>0.3300</td>\n",
       "      <td>0.9310</td>\n",
       "      <td>148.174</td>\n",
       "      <td>348624</td>\n",
       "      <td>4</td>\n",
       "      <td>6cr6UDpkjEaMQ80OjWqEBQ</td>\n",
       "      <td>https://open.spotify.com/track/6cr6UDpkjEaMQ80...</td>\n",
       "    </tr>\n",
       "    <tr>\n",
       "      <th>6</th>\n",
       "      <td>Space Raiders - Charlotte de Witte Remix</td>\n",
       "      <td>Eats Everything</td>\n",
       "      <td>0.749</td>\n",
       "      <td>0.73100</td>\n",
       "      <td>4</td>\n",
       "      <td>-10.865</td>\n",
       "      <td>1</td>\n",
       "      <td>0.1080</td>\n",
       "      <td>0.00314</td>\n",
       "      <td>0.867000</td>\n",
       "      <td>0.1110</td>\n",
       "      <td>0.0598</td>\n",
       "      <td>131.997</td>\n",
       "      <td>438720</td>\n",
       "      <td>4</td>\n",
       "      <td>4F8OK7mNa51mKqgHqWQiYm</td>\n",
       "      <td>https://open.spotify.com/track/4F8OK7mNa51mKqg...</td>\n",
       "    </tr>\n",
       "    <tr>\n",
       "      <th>7</th>\n",
       "      <td>In Silence</td>\n",
       "      <td>Amelie Lens</td>\n",
       "      <td>0.736</td>\n",
       "      <td>0.84500</td>\n",
       "      <td>1</td>\n",
       "      <td>-12.017</td>\n",
       "      <td>1</td>\n",
       "      <td>0.0377</td>\n",
       "      <td>0.00548</td>\n",
       "      <td>0.901000</td>\n",
       "      <td>0.1110</td>\n",
       "      <td>0.1980</td>\n",
       "      <td>128.009</td>\n",
       "      <td>393740</td>\n",
       "      <td>4</td>\n",
       "      <td>2vfSCFvMbpf4hwxt22Wx7b</td>\n",
       "      <td>https://open.spotify.com/track/2vfSCFvMbpf4hwx...</td>\n",
       "    </tr>\n",
       "    <tr>\n",
       "      <th>8</th>\n",
       "      <td>Wiegenlied, Op. 49, No. 4 (Arr. for Cello and ...</td>\n",
       "      <td>Johannes Brahms</td>\n",
       "      <td>0.184</td>\n",
       "      <td>0.00833</td>\n",
       "      <td>3</td>\n",
       "      <td>-33.503</td>\n",
       "      <td>1</td>\n",
       "      <td>0.0519</td>\n",
       "      <td>0.98900</td>\n",
       "      <td>0.596000</td>\n",
       "      <td>0.1040</td>\n",
       "      <td>0.2110</td>\n",
       "      <td>61.541</td>\n",
       "      <td>109800</td>\n",
       "      <td>3</td>\n",
       "      <td>59cPOVxrn3Yjwydl1pullI</td>\n",
       "      <td>https://open.spotify.com/track/59cPOVxrn3Yjwyd...</td>\n",
       "    </tr>\n",
       "    <tr>\n",
       "      <th>9</th>\n",
       "      <td>Nocturne en mi bémol majeur opus 9 n°2: Ballad...</td>\n",
       "      <td>Frédéric Chopin</td>\n",
       "      <td>0.387</td>\n",
       "      <td>0.04510</td>\n",
       "      <td>3</td>\n",
       "      <td>-24.698</td>\n",
       "      <td>1</td>\n",
       "      <td>0.0364</td>\n",
       "      <td>0.99000</td>\n",
       "      <td>0.913000</td>\n",
       "      <td>0.1120</td>\n",
       "      <td>0.0710</td>\n",
       "      <td>61.494</td>\n",
       "      <td>268427</td>\n",
       "      <td>4</td>\n",
       "      <td>7n92QzQomRCLlciO14X0kd</td>\n",
       "      <td>https://open.spotify.com/track/7n92QzQomRCLlci...</td>\n",
       "    </tr>\n",
       "  </tbody>\n",
       "</table>\n",
       "</div>"
      ],
      "text/plain": [
       "                                           song_name                artist  \\\n",
       "0                                            My Band                   D12   \n",
       "1                                The Real Slim Shady                Eminem   \n",
       "2                                     Águas De Março  Antônio Carlos Jobim   \n",
       "3                              The Girl From Ipanema             Stan Getz   \n",
       "4                                    Paint It, Black    The Rolling Stones   \n",
       "5                                   Sultans Of Swing          Dire Straits   \n",
       "6           Space Raiders - Charlotte de Witte Remix       Eats Everything   \n",
       "7                                         In Silence           Amelie Lens   \n",
       "8  Wiegenlied, Op. 49, No. 4 (Arr. for Cello and ...       Johannes Brahms   \n",
       "9  Nocturne en mi bémol majeur opus 9 n°2: Ballad...       Frédéric Chopin   \n",
       "\n",
       "   danceability   energy  key  loudness  mode  speechiness  acousticness  \\\n",
       "0         0.851  0.84900    1    -3.383     0       0.0828       0.49700   \n",
       "1         0.949  0.66100    5    -4.244     0       0.0572       0.03020   \n",
       "2         0.642  0.33900    3   -15.503     1       0.1400       0.85400   \n",
       "3         0.641  0.14000    8   -16.790     1       0.0390       0.86700   \n",
       "4         0.464  0.79500    1    -9.267     1       0.0926       0.04930   \n",
       "5         0.733  0.79400    5   -10.023     1       0.0307       0.06140   \n",
       "6         0.749  0.73100    4   -10.865     1       0.1080       0.00314   \n",
       "7         0.736  0.84500    1   -12.017     1       0.0377       0.00548   \n",
       "8         0.184  0.00833    3   -33.503     1       0.0519       0.98900   \n",
       "9         0.387  0.04510    3   -24.698     1       0.0364       0.99000   \n",
       "\n",
       "   instrumentalness  liveness  valence    tempo  duration_ms  time_signature  \\\n",
       "0          0.000002    0.1160   0.8440  120.014       298773               4   \n",
       "1          0.000000    0.0454   0.7600  104.504       284200               4   \n",
       "2          0.000000    0.1050   0.4910  143.418       212400               4   \n",
       "3          0.001660    0.1050   0.3880  129.318       317987               4   \n",
       "4          0.002440    0.3990   0.6120  158.691       202267               4   \n",
       "5          0.036700    0.3300   0.9310  148.174       348624               4   \n",
       "6          0.867000    0.1110   0.0598  131.997       438720               4   \n",
       "7          0.901000    0.1110   0.1980  128.009       393740               4   \n",
       "8          0.596000    0.1040   0.2110   61.541       109800               3   \n",
       "9          0.913000    0.1120   0.0710   61.494       268427               4   \n",
       "\n",
       "                       id                                               html  \n",
       "0  4XHQyvbrBsQaaBUW1VvmsL  https://open.spotify.com/track/4XHQyvbrBsQaaBU...  \n",
       "1  3yfqSUWxFvZELEM4PmlwIR  https://open.spotify.com/track/3yfqSUWxFvZELEM...  \n",
       "2  1y7OxO5i6sfrHXAmUM77YG  https://open.spotify.com/track/1y7OxO5i6sfrHXA...  \n",
       "3  3898C4AbdbptwYet6547e5  https://open.spotify.com/track/3898C4AbdbptwYe...  \n",
       "4  63T7DJ1AFDD6Bn8VzG6JE8  https://open.spotify.com/track/63T7DJ1AFDD6Bn8...  \n",
       "5  6cr6UDpkjEaMQ80OjWqEBQ  https://open.spotify.com/track/6cr6UDpkjEaMQ80...  \n",
       "6  4F8OK7mNa51mKqgHqWQiYm  https://open.spotify.com/track/4F8OK7mNa51mKqg...  \n",
       "7  2vfSCFvMbpf4hwxt22Wx7b  https://open.spotify.com/track/2vfSCFvMbpf4hwx...  \n",
       "8  59cPOVxrn3Yjwydl1pullI  https://open.spotify.com/track/59cPOVxrn3Yjwyd...  \n",
       "9  7n92QzQomRCLlciO14X0kd  https://open.spotify.com/track/7n92QzQomRCLlci...  "
      ]
     },
     "execution_count": 54,
     "metadata": {},
     "output_type": "execute_result"
    }
   ],
   "source": [
    "df_music"
   ]
  },
  {
   "cell_type": "code",
   "execution_count": 55,
   "id": "e609e2fb-2561-4321-a44d-a7d9126865e8",
   "metadata": {
    "tags": []
   },
   "outputs": [
    {
     "data": {
      "text/plain": [
       "(10, 17)"
      ]
     },
     "execution_count": 55,
     "metadata": {},
     "output_type": "execute_result"
    }
   ],
   "source": [
    "df_music.shape\n"
   ]
  },
  {
   "cell_type": "code",
   "execution_count": 56,
   "id": "26d33f9f-be24-4a61-9fa2-808d7eed9944",
   "metadata": {},
   "outputs": [
    {
     "name": "stdout",
     "output_type": "stream",
     "text": [
      "<class 'pandas.core.frame.DataFrame'>\n",
      "RangeIndex: 10 entries, 0 to 9\n",
      "Data columns (total 17 columns):\n",
      " #   Column            Non-Null Count  Dtype  \n",
      "---  ------            --------------  -----  \n",
      " 0   song_name         10 non-null     object \n",
      " 1   artist            10 non-null     object \n",
      " 2   danceability      10 non-null     float64\n",
      " 3   energy            10 non-null     float64\n",
      " 4   key               10 non-null     int64  \n",
      " 5   loudness          10 non-null     float64\n",
      " 6   mode              10 non-null     int64  \n",
      " 7   speechiness       10 non-null     float64\n",
      " 8   acousticness      10 non-null     float64\n",
      " 9   instrumentalness  10 non-null     float64\n",
      " 10  liveness          10 non-null     float64\n",
      " 11  valence           10 non-null     float64\n",
      " 12  tempo             10 non-null     float64\n",
      " 13  duration_ms       10 non-null     int64  \n",
      " 14  time_signature    10 non-null     int64  \n",
      " 15  id                10 non-null     object \n",
      " 16  html              10 non-null     object \n",
      "dtypes: float64(9), int64(4), object(4)\n",
      "memory usage: 1.5+ KB\n"
     ]
    }
   ],
   "source": [
    "df_music.info()\n"
   ]
  },
  {
   "cell_type": "code",
   "execution_count": 57,
   "id": "4cf203ad-0d0f-4ca5-ba54-d6841c64ecad",
   "metadata": {},
   "outputs": [
    {
     "data": {
      "text/html": [
       "<div>\n",
       "<style scoped>\n",
       "    .dataframe tbody tr th:only-of-type {\n",
       "        vertical-align: middle;\n",
       "    }\n",
       "\n",
       "    .dataframe tbody tr th {\n",
       "        vertical-align: top;\n",
       "    }\n",
       "\n",
       "    .dataframe thead th {\n",
       "        text-align: right;\n",
       "    }\n",
       "</style>\n",
       "<table border=\"1\" class=\"dataframe\">\n",
       "  <thead>\n",
       "    <tr style=\"text-align: right;\">\n",
       "      <th></th>\n",
       "      <th>song_name</th>\n",
       "      <th>artist</th>\n",
       "      <th>danceability</th>\n",
       "      <th>energy</th>\n",
       "      <th>key</th>\n",
       "      <th>loudness</th>\n",
       "    </tr>\n",
       "  </thead>\n",
       "  <tbody>\n",
       "    <tr>\n",
       "      <th>0</th>\n",
       "      <td>My Band</td>\n",
       "      <td>D12</td>\n",
       "      <td>0.851</td>\n",
       "      <td>0.849</td>\n",
       "      <td>1</td>\n",
       "      <td>-3.383</td>\n",
       "    </tr>\n",
       "    <tr>\n",
       "      <th>1</th>\n",
       "      <td>The Real Slim Shady</td>\n",
       "      <td>Eminem</td>\n",
       "      <td>0.949</td>\n",
       "      <td>0.661</td>\n",
       "      <td>5</td>\n",
       "      <td>-4.244</td>\n",
       "    </tr>\n",
       "  </tbody>\n",
       "</table>\n",
       "</div>"
      ],
      "text/plain": [
       "             song_name  artist  danceability  energy  key  loudness\n",
       "0              My Band     D12         0.851   0.849    1    -3.383\n",
       "1  The Real Slim Shady  Eminem         0.949   0.661    5    -4.244"
      ]
     },
     "execution_count": 57,
     "metadata": {},
     "output_type": "execute_result"
    }
   ],
   "source": [
    "sample = df_music.iloc[0:2, 0:6]\n",
    "sample"
   ]
  },
  {
   "cell_type": "markdown",
   "id": "77d2552b-349a-4ab4-8bdd-ad6875337580",
   "metadata": {},
   "source": [
    "df_music = df_music[[\"danceability\", \"energy\", \"loudness\", \"speechiness\", \"acousticness\", \"instrumentalness\", \"liveness\", \"valence\", \"tempo\", \"duration_ms\"]]"
   ]
  },
  {
   "cell_type": "markdown",
   "id": "088d7160-093f-49e5-ba46-9beb9e4246be",
   "metadata": {},
   "source": [
    "For Loop"
   ]
  },
  {
   "cell_type": "code",
   "execution_count": 58,
   "id": "3e98052c-5813-4cf4-af1d-0a48b417b2f3",
   "metadata": {},
   "outputs": [],
   "source": [
    "all_music=[]\n",
    "\n",
    "for music_a in df_music.index:\n",
    "    \n",
    "    music_a_scores = [df_music.loc[music_a, df_music.columns[i]] for i in range(len(df_music.columns))]"
   ]
  },
  {
   "cell_type": "code",
   "execution_count": 59,
   "id": "2c94862a-44bc-4e1c-9c27-2767faa5f026",
   "metadata": {},
   "outputs": [],
   "source": [
    "music_a_distances = []"
   ]
  },
  {
   "cell_type": "code",
   "execution_count": 60,
   "id": "f52b1cd3-c70a-43ed-9686-85d9bf6bc8bb",
   "metadata": {},
   "outputs": [],
   "source": [
    "for music_b in df_music.index:\n",
    "    music_b_scores = [df_music.loc[music_b, df_music.columns[i]] for i in range(len(df_music.columns))]"
   ]
  },
  {
   "cell_type": "code",
   "execution_count": 61,
   "id": "50c34004-7c7a-4663-b934-b2e08691a36f",
   "metadata": {},
   "outputs": [
    {
     "ename": "TypeError",
     "evalue": "unsupported operand type(s) for -: 'str' and 'str'",
     "output_type": "error",
     "traceback": [
      "\u001b[1;31m---------------------------------------------------------------------------\u001b[0m",
      "\u001b[1;31mTypeError\u001b[0m                                 Traceback (most recent call last)",
      "Input \u001b[1;32mIn [61]\u001b[0m, in \u001b[0;36m<cell line: 1>\u001b[1;34m()\u001b[0m\n\u001b[1;32m----> 1\u001b[0m squares \u001b[38;5;241m=\u001b[39m [(music_a_scores[i] \u001b[38;5;241m-\u001b[39m music_b_scores[i])\u001b[38;5;241m*\u001b[39m\u001b[38;5;241m*\u001b[39m\u001b[38;5;241m2\u001b[39m \u001b[38;5;28;01mfor\u001b[39;00m i \u001b[38;5;129;01min\u001b[39;00m \u001b[38;5;28mrange\u001b[39m(\u001b[38;5;28mlen\u001b[39m(df_music\u001b[38;5;241m.\u001b[39mcolumns))]\n",
      "Input \u001b[1;32mIn [61]\u001b[0m, in \u001b[0;36m<listcomp>\u001b[1;34m(.0)\u001b[0m\n\u001b[1;32m----> 1\u001b[0m squares \u001b[38;5;241m=\u001b[39m [(\u001b[43mmusic_a_scores\u001b[49m\u001b[43m[\u001b[49m\u001b[43mi\u001b[49m\u001b[43m]\u001b[49m\u001b[43m \u001b[49m\u001b[38;5;241;43m-\u001b[39;49m\u001b[43m \u001b[49m\u001b[43mmusic_b_scores\u001b[49m\u001b[43m[\u001b[49m\u001b[43mi\u001b[49m\u001b[43m]\u001b[49m)\u001b[38;5;241m*\u001b[39m\u001b[38;5;241m*\u001b[39m\u001b[38;5;241m2\u001b[39m \u001b[38;5;28;01mfor\u001b[39;00m i \u001b[38;5;129;01min\u001b[39;00m \u001b[38;5;28mrange\u001b[39m(\u001b[38;5;28mlen\u001b[39m(df_music\u001b[38;5;241m.\u001b[39mcolumns))]\n",
      "\u001b[1;31mTypeError\u001b[0m: unsupported operand type(s) for -: 'str' and 'str'"
     ]
    }
   ],
   "source": [
    "squares = [(music_a_scores[i] - music_b_scores[i])**2 for i in range(len(df_music.columns))]"
   ]
  },
  {
   "cell_type": "code",
   "execution_count": null,
   "id": "49897c3b-0f99-4ba7-ac3f-60ba7815cf14",
   "metadata": {},
   "outputs": [],
   "source": [
    "e_dist = sum(squares)**0.5"
   ]
  },
  {
   "cell_type": "code",
   "execution_count": null,
   "id": "62be186c-2835-436c-bc85-81ea2e2bd24d",
   "metadata": {},
   "outputs": [],
   "source": [
    "music_a_distances.append(e_dist)"
   ]
  },
  {
   "cell_type": "code",
   "execution_count": null,
   "id": "27d83949-dbb8-4d7d-bf5f-5ff8b39ea28b",
   "metadata": {},
   "outputs": [],
   "source": [
    "all_music.append(music_a_distances)"
   ]
  },
  {
   "cell_type": "code",
   "execution_count": null,
   "id": "3ad7d383-0af8-4edc-b28b-194b6897975f",
   "metadata": {},
   "outputs": [],
   "source": [
    "euclidean_df = pd.DataFrame(all_distances, index=df.index, columns=df.index)"
   ]
  },
  {
   "cell_type": "code",
   "execution_count": null,
   "id": "a03fb775-462a-41fd-9379-f6e83ee9ebc3",
   "metadata": {},
   "outputs": [],
   "source": [
    "euclidean_df"
   ]
  }
 ],
 "metadata": {
  "kernelspec": {
   "display_name": "Python 3 (ipykernel)",
   "language": "python",
   "name": "python3"
  },
  "language_info": {
   "codemirror_mode": {
    "name": "ipython",
    "version": 3
   },
   "file_extension": ".py",
   "mimetype": "text/x-python",
   "name": "python",
   "nbconvert_exporter": "python",
   "pygments_lexer": "ipython3",
   "version": "3.9.12"
  }
 },
 "nbformat": 4,
 "nbformat_minor": 5
}
